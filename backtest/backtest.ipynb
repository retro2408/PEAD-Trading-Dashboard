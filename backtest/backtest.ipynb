{
 "cells": [
  {
   "cell_type": "code",
   "execution_count": 5,
   "metadata": {},
   "outputs": [
    {
     "name": "stdout",
     "output_type": "stream",
     "text": [
      "Collecting backtrader\n",
      "  Downloading backtrader-1.9.78.123-py2.py3-none-any.whl.metadata (6.8 kB)\n",
      "Downloading backtrader-1.9.78.123-py2.py3-none-any.whl (419 kB)\n",
      "\u001b[2K   \u001b[90m━━━━━━━━━━━━━━━━━━━━━━━━━━━━━━━━━━━━━━━━\u001b[0m \u001b[32m419.5/419.5 kB\u001b[0m \u001b[31m3.0 MB/s\u001b[0m eta \u001b[36m0:00:00\u001b[0ma \u001b[36m0:00:01\u001b[0m\n",
      "\u001b[?25hInstalling collected packages: backtrader\n",
      "Successfully installed backtrader-1.9.78.123\n",
      "Note: you may need to restart the kernel to use updated packages.\n"
     ]
    }
   ],
   "source": [
    "pip install backtrader"
   ]
  },
  {
   "cell_type": "code",
   "execution_count": 10,
   "metadata": {},
   "outputs": [],
   "source": [
    "import backtrader as bt \n",
    "import yfinance as yf \n",
    "import pandas as pd \n",
    "import numpy as np "
   ]
  },
  {
   "cell_type": "code",
   "execution_count": 11,
   "metadata": {},
   "outputs": [],
   "source": [
    "stocks = ['NVDA', 'GOOGL', 'GS' , 'GME', 'MSFT']\n",
    "selected = 'GME'"
   ]
  },
  {
   "cell_type": "code",
   "execution_count": 12,
   "metadata": {},
   "outputs": [
    {
     "name": "stdout",
     "output_type": "stream",
     "text": [
      "                           EPS Estimate  Reported EPS  Surprise(%)\n",
      "Earnings Date                                                     \n",
      "2025-03-25 00:00:00+00:00           NaN           NaN          NaN\n",
      "2024-12-10 00:00:00+00:00         -0.06          0.06       194.49\n",
      "2024-09-10 00:00:00+00:00         -0.08          0.01       111.76\n",
      "2024-06-07 00:00:00+00:00         -0.09         -0.12       -33.33\n",
      "2024-03-26 00:00:00+00:00          0.30          0.22       -25.42\n",
      "2023-12-06 00:00:00+00:00         -0.09           NaN       100.00\n",
      "2023-09-06 00:00:00+00:00         -0.14         -0.03        78.77\n",
      "2023-06-07 00:00:00+00:00         -0.12         -0.14       -16.67\n",
      "2023-03-21 00:00:00+00:00         -0.13          0.16       220.30\n",
      "2022-12-07 00:00:00+00:00         -0.28         -0.31       -12.05\n",
      "2022-09-07 00:00:00+00:00         -0.38         -0.35         7.28\n",
      "2022-06-01 00:00:00+00:00         -0.36         -0.52       -43.45\n",
      "2022-03-17 00:00:00+00:00          0.21         -0.46      -322.08\n",
      "2021-12-08 00:00:00+00:00         -0.13         -0.35      -168.61\n",
      "2021-09-08 00:00:00+00:00         -0.17         -0.19       -14.29\n",
      "2021-06-09 00:00:00+00:00         -0.21         -0.11        46.11\n",
      "2021-03-23 00:00:00+00:00          0.34          0.34        -1.10\n",
      "2020-12-08 00:00:00+00:00         -0.21         -0.13        37.55\n",
      "2020-09-09 00:00:00+00:00         -0.28         -0.35       -23.39\n",
      "2020-06-09 00:00:00+00:00         -0.32         -0.40       -27.20\n",
      "2020-03-26 00:00:00+00:00          0.20          0.32        61.39\n",
      "2019-12-10 00:00:00+00:00          0.03         -0.12      -557.09\n",
      "2019-09-10 00:00:00+00:00         -0.05         -0.08       -51.43\n",
      "2019-06-04 00:00:00+00:00         -0.01          0.02       350.00\n",
      "2019-04-02 00:00:00+00:00          0.39          0.40         1.47\n",
      "2018-11-29 00:00:00+00:00          0.14          0.17        18.10\n",
      "2018-09-06 00:00:00+00:00          0.02          0.01       -35.13\n",
      "2018-05-31 00:00:00+00:00          0.09          0.10         1.60\n",
      "2018-03-28 00:00:00+00:00          0.49          0.51         2.54\n",
      "2017-11-21 00:00:00+00:00          0.11          0.11         1.28\n",
      "2017-08-24 00:00:00+00:00          0.04          0.04        -5.85\n",
      "2017-05-25 00:00:00+00:00          0.13          0.16        23.67\n",
      "2017-03-23 00:00:00+00:00          0.57          0.60         3.97\n",
      "2016-11-22 00:00:00+00:00          0.12          0.12         4.21\n",
      "2016-08-25 00:00:00+00:00          0.07          0.07         1.15\n",
      "2016-05-26 00:00:00+00:00          0.15          0.17         6.75\n",
      "2016-03-24 00:00:00+00:00          0.56          0.60         6.48\n",
      "2015-11-23 00:00:00+00:00          0.15          0.14        -7.66\n",
      "2015-08-27 00:00:00+00:00          0.06          0.08        26.72\n",
      "2015-05-28 00:00:00+00:00          0.15          0.17        15.96\n",
      "2015-03-26 00:00:00+00:00          0.54          0.54        -0.69\n",
      "2014-11-20 00:00:00+00:00          0.15          0.14        -6.77\n",
      "2014-08-21 00:00:00+00:00          0.05          0.06        19.77\n",
      "2014-05-22 00:00:00+00:00          0.14          0.15         3.43\n",
      "2014-03-27 00:00:00+00:00          0.48          0.48        -1.14\n",
      "2013-11-21 00:00:00+00:00          0.14          0.14         2.60\n",
      "2013-08-22 00:00:00+00:00          0.01          0.02       111.27\n",
      "2013-05-23 00:00:00+00:00          0.10          0.12        14.85\n",
      "2013-03-28 00:00:00+00:00          0.52          0.54         3.45\n",
      "2012-11-15 00:00:00+00:00          0.08          0.10        17.46\n",
      "2012-08-16 00:00:00+00:00          0.04          0.04         7.87\n",
      "2012-05-17 00:00:00+00:00          0.13          0.14         0.49\n",
      "2012-03-22 00:00:00+00:00          0.43          0.43         0.26\n",
      "2011-11-17 00:00:00+00:00          0.10          0.10        -0.30\n",
      "2011-08-18 00:00:00+00:00          0.05          0.06         4.76\n",
      "2011-05-19 00:00:00+00:00          0.14          0.14         3.19\n",
      "2011-03-24 00:00:00+00:00          0.39          0.39         0.34\n",
      "2010-11-18 00:00:00+00:00          0.09          0.10         3.72\n",
      "2010-08-19 00:00:00+00:00          0.07          0.07        -3.29\n",
      "2010-05-20 00:00:00+00:00          0.12          0.12         1.49\n"
     ]
    }
   ],
   "source": [
    "import yfinance as yf\n",
    "import pandas as pd\n",
    "\n",
    "stock_earnings_data = {}\n",
    "for stock in stocks:\n",
    "    obj = yf.Ticker(stock)\n",
    "    earnings_data = obj.get_earnings_dates(64)\n",
    "    \n",
    "    # Check if earnings_data is not None before processing\n",
    "    if earnings_data is not None:\n",
    "        # Convert index from America/New_York (UTC-5) to UTC\n",
    "        earnings_data.index = earnings_data.index.tz_convert('UTC')\n",
    "        \n",
    "        # Keep only past earnings dates\n",
    "        today = pd.Timestamp.now(tz='UTC').normalize()\n",
    "        earnings_data = earnings_data[earnings_data.index <= today]\n",
    "        \n",
    "        stock_earnings_data[stock] = earnings_data\n",
    "    else:\n",
    "        print(f\"No earnings data available for {stock}\")\n",
    "\n",
    "# Check if selected stock has data before accessing\n",
    "if selected in stock_earnings_data:\n",
    "    print(stock_earnings_data[selected])\n",
    "else:\n",
    "    print(f\"No earnings data available for {selected}\")"
   ]
  },
  {
   "cell_type": "code",
   "execution_count": 13,
   "metadata": {},
   "outputs": [
    {
     "name": "stdout",
     "output_type": "stream",
     "text": [
      "                            Open   High    Low  Close  Volume\n",
      "date                                                         \n",
      "2010-05-20 16:00:00-04:00   5.17   5.17   5.16   5.16  831200\n",
      "2010-05-20 16:05:00-04:00   5.16   5.16   5.16   5.16    2000\n",
      "2010-05-20 16:10:00-04:00   5.14   5.14   5.14   5.14    4000\n",
      "2010-05-20 16:15:00-04:00   5.14   5.14   5.14   5.14    1200\n",
      "2010-05-20 16:20:00-04:00   5.14   5.14   5.14   5.14       0\n",
      "...                          ...    ...    ...    ...     ...\n",
      "2024-12-10 18:05:00-05:00  27.91  28.09  27.71  27.85   31986\n",
      "2024-12-10 18:10:00-05:00  27.89  28.09  27.61  27.74   81445\n",
      "2024-12-10 18:15:00-05:00  27.74  27.85  27.60  27.62   27836\n",
      "2024-12-10 18:20:00-05:00  27.63  27.82  27.62  27.78   15939\n",
      "2024-12-10 18:25:00-05:00  27.70  27.80  27.69  27.80   11644\n",
      "\n",
      "[2478 rows x 5 columns]\n"
     ]
    }
   ],
   "source": [
    "earliest_entries = {} \n",
    "stocks_price_data = {stock : None for stock in stocks}\n",
    "import warnings\n",
    "warnings.filterwarnings(\"ignore\")\n",
    "for stock in stocks : \n",
    "      stock_df = pd.read_csv(f'{stock}_Earnings_Data(5M).csv')\n",
    "      stock_df['date'] = pd.to_datetime(stock_df['date'],format='%Y%m%d %H:%M:%S %Z', errors='coerce')\n",
    "      stock_df = stock_df.loc[:, ~stock_df.columns.str.contains('^Unnamed')]\n",
    "      stock_df.dropna(subset=['date'], inplace=True)\n",
    "      earliest_date = stock_df['date'].min()\n",
    "      stock_df.set_index('date', inplace=True)\n",
    "      stock_df = stock_df.sort_index()\n",
    "      stock_df = stock_df.drop(columns=['ReqId','ticker'])\n",
    "      earliest_entries[stock] = earliest_date\n",
    "      stocks_price_data[stock] = stock_df\n",
    "print(stocks_price_data['GME'])"
   ]
  },
  {
   "cell_type": "code",
   "execution_count": 14,
   "metadata": {},
   "outputs": [
    {
     "name": "stdout",
     "output_type": "stream",
     "text": [
      "59\n"
     ]
    }
   ],
   "source": [
    "# Convert index to Date only (removing time)\n",
    "stocks_price_data['GME']['DateOnly'] = stocks_price_data['GME'].index.date\n",
    "stock_earnings_data['GME']['DateOnly'] = stock_earnings_data['GME'].index.date\n",
    "\n",
    "# Merge on the new DateOnly column\n",
    "merged_df = stocks_price_data['GME'].merge(stock_earnings_data['GME']['DateOnly'], on='DateOnly', how='inner')\n",
    "merged_df.set_index('DateOnly',inplace=True)\n",
    "merged_df = merged_df.sort_index()\n",
    "print(len(merged_df.index.unique()))\n",
    "\n",
    "# Drop the helper column if needed\n",
    "# merged_df.drop(columns=['DateOnly'], inplace=True)\n",
    "\n",
    "\n",
    "\n"
   ]
  },
  {
   "cell_type": "code",
   "execution_count": 15,
   "metadata": {},
   "outputs": [
    {
     "name": "stdout",
     "output_type": "stream",
     "text": [
      "59\n",
      "38\n",
      "60\n",
      "59\n",
      "60\n"
     ]
    }
   ],
   "source": [
    "year_months_with_prices = {}\n",
    "\n",
    "for stock, df in stocks_price_data.items():\n",
    "    # Extract year and month where both 16:05 and 17:05 exist\n",
    "    df['YearMonth'] = df.index.to_period('M')  # Convert to Year-Month format\n",
    "    grouped = df.groupby('YearMonth').filter(lambda x: \n",
    "        '16:05' in x.index.strftime('%H:%M').values and '17:05' in x.index.strftime('%H:%M').values)\n",
    "\n",
    "    # Store unique Year-Months where both timestamps exist\n",
    "    year_months_with_prices[stock] = grouped['YearMonth'].unique().tolist()\n",
    "\n",
    "# Display the available Year-Months for each stock\n",
    "for val in year_months_with_prices.values() : \n",
    "    print(len(val))\n"
   ]
  },
  {
   "cell_type": "code",
   "execution_count": null,
   "metadata": {},
   "outputs": [],
   "source": [
    "#Looking at the lenghts of the dataframes after filtering for our required timestamps and comparing them to the initial lengths and expected lengths\n",
    "#We come to the conclusion that the data is inadequate, so we go ahead and revise our data collection code \n",
    "#"
   ]
  },
  {
   "cell_type": "code",
   "execution_count": null,
   "metadata": {},
   "outputs": [],
   "source": [
    "# we will construct the backtest one by one for each stock since we have different function/regresssion definitions for each stock "
   ]
  },
  {
   "cell_type": "code",
   "execution_count": 16,
   "metadata": {},
   "outputs": [
    {
     "name": "stdout",
     "output_type": "stream",
     "text": [
      "                            Open   High    Low  Close  Volume    DateOnly  \\\n",
      "date                                                                        \n",
      "2010-05-20 16:05:00-04:00   5.16   5.16   5.16   5.16    2000  2010-05-20   \n",
      "2010-05-20 16:10:00-04:00   5.14   5.14   5.14   5.14    4000  2010-05-20   \n",
      "2010-05-20 16:15:00-04:00   5.14   5.14   5.14   5.14    1200  2010-05-20   \n",
      "2010-05-20 16:20:00-04:00   5.14   5.14   5.14   5.14       0  2010-05-20   \n",
      "2010-05-20 16:25:00-04:00   5.14   5.14   5.14   5.14       0  2010-05-20   \n",
      "...                          ...    ...    ...    ...     ...         ...   \n",
      "2024-12-10 18:05:00-05:00  27.91  28.09  27.71  27.85   31986  2024-12-10   \n",
      "2024-12-10 18:10:00-05:00  27.89  28.09  27.61  27.74   81445  2024-12-10   \n",
      "2024-12-10 18:15:00-05:00  27.74  27.85  27.60  27.62   27836  2024-12-10   \n",
      "2024-12-10 18:20:00-05:00  27.63  27.82  27.62  27.78   15939  2024-12-10   \n",
      "2024-12-10 18:25:00-05:00  27.70  27.80  27.69  27.80   11644  2024-12-10   \n",
      "\n",
      "                          YearMonth  \n",
      "date                                 \n",
      "2010-05-20 16:05:00-04:00   2010-05  \n",
      "2010-05-20 16:10:00-04:00   2010-05  \n",
      "2010-05-20 16:15:00-04:00   2010-05  \n",
      "2010-05-20 16:20:00-04:00   2010-05  \n",
      "2010-05-20 16:25:00-04:00   2010-05  \n",
      "...                             ...  \n",
      "2024-12-10 18:05:00-05:00   2024-12  \n",
      "2024-12-10 18:10:00-05:00   2024-12  \n",
      "2024-12-10 18:15:00-05:00   2024-12  \n",
      "2024-12-10 18:20:00-05:00   2024-12  \n",
      "2024-12-10 18:25:00-05:00   2024-12  \n",
      "\n",
      "[1975 rows x 7 columns]\n"
     ]
    }
   ],
   "source": [
    "#how do we start? we start by taking data from 16:05 to 18:05 wherever possible \n",
    "filtered_data = {stock : None for stock in stocks} \n",
    "for stock,df in stocks_price_data.items() : \n",
    "      df['hour'] = df.index.hour\n",
    "      df['minute'] = df.index.minute\n",
    "      filtered_df = df[(df['hour'] >= 16) & (df['hour'] <= 18) & ((df['hour'] != 16) | (df['minute'] >= 5))]\n",
    "      filtered_df.drop(columns=['hour', 'minute'], inplace=True)\n",
    "      filtered_data[stock] = filtered_df\n",
    "\n",
    "print(filtered_data[selected])\n",
    " \n"
   ]
  },
  {
   "cell_type": "code",
   "execution_count": 17,
   "metadata": {},
   "outputs": [
    {
     "name": "stdout",
     "output_type": "stream",
     "text": [
      "{Timestamp('2015-05-28 00:00:00+0000', tz='UTC'), Timestamp('2011-03-24 00:00:00+0000', tz='UTC'), Timestamp('2012-03-22 00:00:00+0000', tz='UTC'), Timestamp('2023-03-21 00:00:00+0000', tz='UTC'), Timestamp('2015-03-26 00:00:00+0000', tz='UTC'), Timestamp('2018-05-31 00:00:00+0000', tz='UTC'), Timestamp('2024-12-10 00:00:00+0000', tz='UTC'), Timestamp('2023-12-06 00:00:00+0000', tz='UTC'), Timestamp('2019-04-02 00:00:00+0000', tz='UTC'), Timestamp('2024-09-10 00:00:00+0000', tz='UTC'), Timestamp('2016-05-26 00:00:00+0000', tz='UTC'), Timestamp('2023-06-07 00:00:00+0000', tz='UTC'), Timestamp('2021-09-08 00:00:00+0000', tz='UTC'), Timestamp('2010-11-18 00:00:00+0000', tz='UTC'), Timestamp('2013-08-22 00:00:00+0000', tz='UTC'), Timestamp('2013-11-21 00:00:00+0000', tz='UTC'), Timestamp('2017-11-21 00:00:00+0000', tz='UTC'), Timestamp('2010-05-20 00:00:00+0000', tz='UTC'), Timestamp('2016-08-25 00:00:00+0000', tz='UTC'), Timestamp('2013-05-23 00:00:00+0000', tz='UTC'), Timestamp('2019-09-10 00:00:00+0000', tz='UTC'), Timestamp('2018-11-29 00:00:00+0000', tz='UTC'), Timestamp('2022-12-07 00:00:00+0000', tz='UTC'), Timestamp('2014-11-20 00:00:00+0000', tz='UTC'), Timestamp('2024-06-07 00:00:00+0000', tz='UTC'), Timestamp('2012-05-17 00:00:00+0000', tz='UTC'), Timestamp('2011-08-18 00:00:00+0000', tz='UTC'), Timestamp('2014-08-21 00:00:00+0000', tz='UTC'), Timestamp('2020-12-08 00:00:00+0000', tz='UTC'), Timestamp('2025-03-25 00:00:00+0000', tz='UTC'), Timestamp('2017-08-24 00:00:00+0000', tz='UTC'), Timestamp('2015-08-27 00:00:00+0000', tz='UTC'), Timestamp('2018-03-28 00:00:00+0000', tz='UTC'), Timestamp('2015-11-23 00:00:00+0000', tz='UTC'), Timestamp('2014-03-27 00:00:00+0000', tz='UTC'), Timestamp('2023-09-06 00:00:00+0000', tz='UTC'), Timestamp('2016-11-22 00:00:00+0000', tz='UTC'), Timestamp('2020-09-09 00:00:00+0000', tz='UTC'), Timestamp('2022-06-01 00:00:00+0000', tz='UTC'), Timestamp('2021-12-08 00:00:00+0000', tz='UTC'), Timestamp('2016-03-24 00:00:00+0000', tz='UTC'), Timestamp('2013-03-28 00:00:00+0000', tz='UTC'), Timestamp('2010-08-19 00:00:00+0000', tz='UTC'), Timestamp('2021-03-23 00:00:00+0000', tz='UTC'), Timestamp('2021-06-09 00:00:00+0000', tz='UTC'), Timestamp('2011-05-19 00:00:00+0000', tz='UTC'), Timestamp('2024-03-26 00:00:00+0000', tz='UTC'), Timestamp('2018-09-06 00:00:00+0000', tz='UTC'), Timestamp('2014-05-22 00:00:00+0000', tz='UTC'), Timestamp('2019-06-04 00:00:00+0000', tz='UTC'), Timestamp('2017-05-25 00:00:00+0000', tz='UTC'), Timestamp('2022-09-07 00:00:00+0000', tz='UTC'), Timestamp('2012-08-16 00:00:00+0000', tz='UTC'), Timestamp('2020-06-09 00:00:00+0000', tz='UTC'), Timestamp('2017-03-23 00:00:00+0000', tz='UTC'), Timestamp('2011-11-17 00:00:00+0000', tz='UTC'), Timestamp('2020-03-26 00:00:00+0000', tz='UTC'), Timestamp('2019-12-10 00:00:00+0000', tz='UTC'), Timestamp('2022-03-17 00:00:00+0000', tz='UTC'), Timestamp('2012-11-15 00:00:00+0000', tz='UTC')}\n"
     ]
    }
   ],
   "source": [
    "price_dates = filtered_data[selected].index.normalize().unique()\n",
    "# Extract unique earnings release dates\n",
    "earnings_dates = stock_earnings_data[selected].index.normalize().unique()\n",
    "\n",
    "# Find missing earnings dates (dates in earnings but not in price data)\n",
    "missing_earnings_dates = set(earnings_dates) - set(price_dates)\n",
    "print(missing_earnings_dates)\n"
   ]
  },
  {
   "cell_type": "code",
   "execution_count": 19,
   "metadata": {},
   "outputs": [],
   "source": [
    "# import seaborn as sns\n",
    "# import numpy as np\n",
    "\n",
    "# # Convert index to datetime for grouping\n",
    "# filtered_data[selected]['hour'] = filtered_data['MSFT'].index.hour\n",
    "# filtered_data[selected]['day'] = filtered_data['MSFT'].index.date\n",
    "\n",
    "# # Pivot Data for Heatmap\n",
    "# heatmap_data = filtered_data[selected].pivot_table(index='hour', columns='day', values='Close', aggfunc=np.count_nonzero)\n",
    "\n",
    "# # Plot Heatmap\n",
    "# plt.figure(figsize=(14, 6))\n",
    "# sns.heatmap(heatmap_data, cmap=\"coolwarm\", cbar=True, linewidths=0.5)\n",
    "\n",
    "# plt.title(f\"{selected} Data Availability Heatmap\", fontsize=14)\n",
    "# plt.xlabel(\"Day\", fontsize=12)\n",
    "# plt.ylabel(\"Hour\", fontsize=12)\n",
    "\n",
    "# plt.show()\n"
   ]
  },
  {
   "cell_type": "code",
   "execution_count": 26,
   "metadata": {},
   "outputs": [
    {
     "name": "stdout",
     "output_type": "stream",
     "text": [
      "Sharpe Ratio: None\n",
      "AutoOrderedDict({'total': AutoOrderedDict({'total': 0})})\n"
     ]
    }
   ],
   "source": [
    "%matplotlib inline\n",
    "import backtrader as bt\n",
    "import backtrader.analyzers as btanalyzers\n",
    "import datetime\n",
    "import pandas as pd\n",
    "import matplotlib.pyplot as plt\n",
    "\n",
    "\n",
    "\n",
    "price_df = filtered_data[selected] \n",
    "earnings_df = stock_earnings_data[selected]\n",
    "\n",
    "# Ensure price_df and earnings_df have no timezone\n",
    "price_df.index = price_df.index.tz_localize(None)\n",
    "earnings_df.index = earnings_df.index.tz_localize(None)\n",
    "\n",
    "\n",
    "class EarningsTradingStrategy(bt.Strategy):\n",
    "    params = (\n",
    "        ('take_profit', 0.015),   # 1.5% Take Profit\n",
    "        ('stop_loss', 0.015),      # 10% Stop Loss (adjust as needed)\n",
    "        ('holding_period', 24),   # 2 hours in 5-min bars\n",
    "        ('max_trade_value', 1000), # $1,000 max per trade\n",
    "        ('regression_file', 'regression_predictions.csv'),\n",
    "        ('date_threshold_days', 35),\n",
    "        ('stock', None)\n",
    "        \n",
    "    )\n",
    "\n",
    "    def __init__(self):\n",
    "        self.order = None\n",
    "        self.entry_price = None\n",
    "        self.bar_count = 0\n",
    "        self.trade_outcomes = []\n",
    "        self._closed_by_tp = False\n",
    "        self._closed_by_sl = False\n",
    "        self.is_long = None  # Track position type: True=Long, False=Short\n",
    "        self.portfolio_value = [] \n",
    "\n",
    "        # Use the symbol passed in parameters rather than extracting from data feed.\n",
    "        self.symbol = self.p.stock\n",
    "\n",
    "        # Load regression predictions from CSV, parsing 'Earnings_Date' as datetime.\n",
    "        self.reg_preds = pd.read_csv(self.p.regression_file, parse_dates=['Earnings_Date'])\n",
    "        # Filter predictions for this symbol.\n",
    "        self.reg_preds = self.reg_preds[self.reg_preds['Symbol'] == self.symbol].copy()\n",
    "        # Set Earnings_Date as index.\n",
    "        self.reg_preds.set_index('Earnings_Date', inplace=True)\n",
    "        # Pre-calculate the date threshold.\n",
    "        self.date_threshold = pd.Timedelta(days=self.p.date_threshold_days)\n",
    "\n",
    "    def notify_trade(self, trade):\n",
    "        if trade.isclosed:\n",
    "            outcome = 'timeout'\n",
    "            if self._closed_by_tp:\n",
    "                outcome = 'tp'\n",
    "            elif self._closed_by_sl:\n",
    "                outcome = 'sl'\n",
    "            self.trade_outcomes.append((outcome, 'long' if self.is_long else 'short'))\n",
    "            print(f\"Trade closed by {outcome} ({'Long' if self.is_long else 'Short'})\")\n",
    "\n",
    "    def next(self):\n",
    "        current_time = self.datas[0].datetime.time()\n",
    "        current_date = pd.Timestamp(self.data.datetime.date(0)).normalize()\n",
    "        \n",
    "        # --- Fuzzy matching for regression prediction earnings date ---\n",
    "        matched_row = None\n",
    "        norm_preds = self.reg_preds.index.normalize()\n",
    "        if current_date in norm_preds:\n",
    "            matched_row = self.reg_preds.loc[current_date]\n",
    "            if isinstance(matched_row, pd.DataFrame):\n",
    "                matched_row = matched_row.iloc[0]\n",
    "        else:\n",
    "            if not norm_preds.empty:\n",
    "                deltas = np.abs(norm_preds - current_date)\n",
    "                min_delta = deltas.min()\n",
    "                if min_delta <= self.date_threshold:\n",
    "                    matched_row = self.reg_preds.iloc[deltas.argmin()]\n",
    "        \n",
    "        if matched_row is not None:\n",
    "            predicted_eps = matched_row['Predicted_EPS']\n",
    "        else:\n",
    "            predicted_eps = None\n",
    "\n",
    "        if datetime.time(16, 0) <= current_time <= datetime.time(16, 10) and not self.order:\n",
    "            earnings = earnings_df.loc[earnings_df.index.date == current_date]\n",
    "            if not earnings.empty:  \n",
    "                # estimated_eps = earnings['EPS Estimate'].values[0]\n",
    "                # reported_eps = earnings['Reported EPS'].values[0]\n",
    "                # surprise = (reported_eps - estimated_eps) / estimated_eps\n",
    "                estimated_eps = earnings['EPS Estimate'].values[0]\n",
    "                reported_eps = earnings['Reported EPS'].values[0]\n",
    "                estimate_surprise = (reported_eps - estimated_eps) / estimated_eps if estimated_eps != 0 else 0\n",
    "                reg_surprise = (reported_eps - predicted_eps) / predicted_eps if predicted_eps != 0 else 0\n",
    "                surprise = 0.2 * reg_surprise + 0.8 * estimate_surprise\n",
    "\n",
    "\n",
    "                # Calculate position size based on $1,000 trade limit\n",
    "                current_price = self.data.close[0]\n",
    "                position_size = int(self.params.max_trade_value / current_price)  # Round to whole shares\n",
    "\n",
    "                print(f\"Date: {current_date}, Price: {current_price:.2f}, Position Size: {position_size}\")\n",
    "\n",
    "                if position_size <= 0:\n",
    "                    print(f\"Skipping trade on {current_date}: Position size is zero or negative.\")\n",
    "                    return\n",
    "\n",
    "                if surprise >= 0.1:  # Long entry\n",
    "                    self.order = self.buy(size=position_size)\n",
    "                    self.is_long = True\n",
    "                    print(f\"LONG ENTRY at {current_price:.2f} on {current_date}\")\n",
    "                elif surprise <= -0.1:  # Short entry\n",
    "                    self.order = self.sell(size=position_size)\n",
    "                    self.is_long = False\n",
    "                    print(f\"SHORT ENTRY at {current_price:.2f} on {current_date}\")\n",
    "                \n",
    "                if self.order:\n",
    "                    self.entry_price = current_price\n",
    "                    self.bar_count = 0\n",
    "\n",
    "        if self.order and self.order.status == bt.Order.Completed:\n",
    "            self.bar_count += 1\n",
    "            price = self.data.close[0]\n",
    "            \n",
    "            # Calculate price change based on position type\n",
    "            if self.is_long:\n",
    "                price_change = (price - self.entry_price) / self.entry_price\n",
    "                tp_condition = price_change >= self.params.take_profit\n",
    "                sl_condition = price_change <= -self.params.stop_loss\n",
    "            else:  # Short position\n",
    "                price_change = (self.entry_price - price) / self.entry_price\n",
    "                tp_condition = price_change >= self.params.take_profit\n",
    "                sl_condition = price_change <= -self.params.stop_loss\n",
    "\n",
    "            if tp_condition:\n",
    "                print(f\"Closing {'Long' if self.is_long else 'Short'} via Take Profit\")\n",
    "                self._closed_by_tp = True\n",
    "                self.close()\n",
    "                self.order = None\n",
    "            elif sl_condition:\n",
    "                print(f\"Closing {'Long' if self.is_long else 'Short'} via Stop Loss\")\n",
    "                self._closed_by_sl = True\n",
    "                self.close()\n",
    "                self.order = None\n",
    "            elif self.bar_count >= self.params.holding_period:\n",
    "                print(f\"Closing {'Long' if self.is_long else 'Short'} via Timeout\")\n",
    "                self.close()\n",
    "                self.order = None\n",
    "        self.portfolio_value.append(self.broker.getvalue())\n",
    "\n",
    "\n",
    "                \n",
    "cerebro = bt.Cerebro()\n",
    "data = bt.feeds.PandasData(dataname=price_df, datetime=None)\n",
    "cerebro.adddata(data)\n",
    "cerebro.addstrategy(EarningsTradingStrategy, stock=selected, regression_file='../regression_predictions.csv', date_threshold_days=35)\n",
    "\n",
    "cerebro.broker.setcash(10000.0)\n",
    "cerebro.broker.setcommission(commission=0.001)\n",
    "cerebro.addanalyzer(bt.analyzers.TimeReturn, _name='time_return', timeframe=bt.TimeFrame.Days)\n",
    "cerebro.addanalyzer(btanalyzers.SharpeRatio, _name='mysharpe', riskfreerate=0.03, timeframe=bt.TimeFrame.Days, annualize=True)\n",
    "# cerebro.addanalyzer(btanalyzers.SortinoRatio, _name='sortino', riskfreerate=0.0, timeframe=bt.TimeFrame.Days, annualize=True)\n",
    "cerebro.addanalyzer(btanalyzers.AnnualReturn, _name='annual_return')\n",
    "cerebro.addanalyzer(btanalyzers.DrawDown, _name='drawdown')\n",
    "cerebro.addanalyzer(bt.analyzers.TradeAnalyzer, _name='trade_analyzer')\n",
    "cerebro.addanalyzer(btanalyzers.Returns, _name='returns')\n",
    "cerebro.addanalyzer(btanalyzers.PyFolio, _name='pyfolio')  # For advanced metrics\n",
    "\n",
    "thestrats = cerebro.run()\n",
    "thestrat = thestrats[0]\n",
    "sharpe_ratio = thestrat.analyzers.mysharpe.get_analysis()\n",
    "trade_analysis = thestrat.analyzers.trade_analyzer.get_analysis()\n",
    "time_return = thestrat.analyzers.time_return.get_analysis()\n",
    "print(\"Sharpe Ratio:\", sharpe_ratio['sharperatio'])\n",
    "print(trade_analysis)"
   ]
  },
  {
   "cell_type": "code",
   "execution_count": 27,
   "metadata": {},
   "outputs": [
    {
     "name": "stdout",
     "output_type": "stream",
     "text": [
      "Sharpe Ratio for GME None\n"
     ]
    }
   ],
   "source": [
    "print(f\"Sharpe Ratio for {selected}\", sharpe_ratio['sharperatio'])"
   ]
  },
  {
   "cell_type": "code",
   "execution_count": null,
   "metadata": {},
   "outputs": [
    {
     "name": "stdout",
     "output_type": "stream",
     "text": [
      "Requirement already satisfied: kaleido in c:\\users\\athabit\\appdata\\local\\packages\\pythonsoftwarefoundation.python.3.11_qbz5n2kfra8p0\\localcache\\local-packages\\python311\\site-packages (0.2.1)Note: you may need to restart the kernel to use updated packages.\n",
      "\n"
     ]
    },
    {
     "name": "stderr",
     "output_type": "stream",
     "text": [
      "\n",
      "[notice] A new release of pip is available: 24.0 -> 25.0.1\n",
      "[notice] To update, run: C:\\Users\\athabit\\AppData\\Local\\Microsoft\\WindowsApps\\PythonSoftwareFoundation.Python.3.11_qbz5n2kfra8p0\\python.exe -m pip install --upgrade pip\n"
     ]
    }
   ],
   "source": [
    "pip install -U kaleido"
   ]
  },
  {
   "cell_type": "code",
   "execution_count": null,
   "metadata": {},
   "outputs": [],
   "source": [
    "# import pandas as pd\n",
    "# import plotly.express as px\n",
    "# import os\n",
    "# import datetime\n",
    "\n",
    "# # Create directory for saving results\n",
    "# def create_results_dir(base_path=None):\n",
    "#     \"\"\"\n",
    "#     Creates a directory for saving results based on current timestamp\n",
    "#     Returns the path to the created directory\n",
    "#     \"\"\"\n",
    "#     # If no base path provided, use the directory where the notebook is located\n",
    "#     if base_path is None:\n",
    "#         base_path = os.path.dirname(os.path.abspath('Backtest.ipynb'))\n",
    "    \n",
    "#     # Create a timestamp-based folder name\n",
    "#     timestamp = datetime.datetime.now().strftime(\"%Y%m%d_%H%M%S\")\n",
    "#     results_dir = os.path.join(base_path, f\"GME_backtest_results_{timestamp}\")\n",
    "    \n",
    "#     # Create the directory if it doesn't exist\n",
    "#     if not os.path.exists(results_dir):\n",
    "#         os.makedirs(results_dir)\n",
    "        \n",
    "#     return results_dir\n",
    "\n",
    "# # Function to flatten AutoOrderedDict\n",
    "# def flatten_dict(d, parent_key='', sep='.'):\n",
    "#     \"\"\"\n",
    "#     Recursively flattens a nested dictionary.\n",
    "#     \"\"\"\n",
    "#     items = []\n",
    "#     for k, v in d.items():\n",
    "#         new_key = f\"{parent_key}{sep}{k}\" if parent_key else k\n",
    "#         if isinstance(v, dict):\n",
    "#             items.extend(flatten_dict(v, new_key, sep=sep).items())\n",
    "#         else:\n",
    "#             items.append((new_key, v))\n",
    "#     return dict(items)\n",
    "\n",
    "# # Function to safely extract a metric value\n",
    "# def get_metric_value(trade_df, metric_key):\n",
    "#     \"\"\"\n",
    "#     Safely extracts a metric value from the DataFrame.\n",
    "#     Returns None if the metric is not found.\n",
    "#     \"\"\"\n",
    "#     matches = trade_df[trade_df['Metric'].str.contains(metric_key)]\n",
    "#     if not matches.empty:\n",
    "#         return matches['Value'].values[0]\n",
    "#     return None\n",
    "\n",
    "# # Create results directory\n",
    "# results_dir = create_results_dir()\n",
    "# print(f\"Results will be saved to: {results_dir}\")\n",
    "\n",
    "# # Flatten the trade_analysis object\n",
    "# flat_trade_analysis = flatten_dict(trade_analysis)\n",
    "\n",
    "# # Convert the flattened dictionary to a DataFrame\n",
    "# trade_df = pd.DataFrame(list(flat_trade_analysis.items()), columns=['Metric', 'Value'])\n",
    "\n",
    "# # Save the full analysis to CSV\n",
    "# trade_df.to_csv(os.path.join(results_dir, \"trade_analysis.csv\"), index=False)\n",
    "# print(f\"Trade analysis saved to CSV\")\n",
    "\n",
    "# # Print the DataFrame\n",
    "# print(trade_df)\n",
    "\n",
    "# # 1. Total Trades\n",
    "# total_trades = trade_df[trade_df['Metric'].str.contains('total.total')]['Value'].values[0]\n",
    "# won_trades = trade_df[trade_df['Metric'].str.contains('won.total')]['Value'].values[0]\n",
    "# lost_trades = trade_df[trade_df['Metric'].str.contains('lost.total')]['Value'].values[0]\n",
    "\n",
    "# # Create a DataFrame for trade outcomes\n",
    "# trade_outcomes_df = pd.DataFrame({\n",
    "#     'Outcome': ['Won', 'Lost'],\n",
    "#     'Count': [won_trades, lost_trades]\n",
    "# })\n",
    "\n",
    "# # Save trade outcomes to CSV\n",
    "# trade_outcomes_df.to_csv(os.path.join(results_dir, \"trade_outcomes.csv\"), index=False)\n",
    "\n",
    "# # Plot trade outcomes\n",
    "# fig = px.pie(trade_outcomes_df, values='Count', names='Outcome', title='Trade Outcomes')\n",
    "# fig.write_html(os.path.join(results_dir, \"trade_outcomes.html\"))\n",
    "# fig.write_image(os.path.join(results_dir, \"trade_outcomes.png\"))\n",
    "# fig.show()\n",
    "\n",
    "# # 2. PnL (Profit and Loss)\n",
    "# gross_pnl = trade_df[trade_df['Metric'].str.contains('pnl.gross.total')]['Value'].values[0]\n",
    "# net_pnl = trade_df[trade_df['Metric'].str.contains('pnl.net.total')]['Value'].values[0]\n",
    "\n",
    "# # Create a DataFrame for PnL\n",
    "# pnl_df = pd.DataFrame({\n",
    "#     'Type': ['Gross PnL', 'Net PnL'],\n",
    "#     'Value': [gross_pnl, net_pnl]\n",
    "# })\n",
    "\n",
    "# # Save PnL data to CSV\n",
    "# pnl_df.to_csv(os.path.join(results_dir, \"pnl_data.csv\"), index=False)\n",
    "\n",
    "# # Plot PnL\n",
    "# fig = px.bar(pnl_df, x='Type', y='Value', title='Gross vs Net PnL')\n",
    "# fig.write_html(os.path.join(results_dir, \"pnl_data.html\"))\n",
    "# fig.write_image(os.path.join(results_dir, \"pnl_data.png\"))\n",
    "# fig.show()\n",
    "\n",
    "# # 3. Streaks\n",
    "# won_streak_current = trade_df[trade_df['Metric'].str.contains('streak.won.current')]['Value'].values[0]\n",
    "# won_streak_longest = trade_df[trade_df['Metric'].str.contains('streak.won.longest')]['Value'].values[0]\n",
    "# lost_streak_current = trade_df[trade_df['Metric'].str.contains('streak.lost.current')]['Value'].values[0]\n",
    "# lost_streak_longest = trade_df[trade_df['Metric'].str.contains('streak.lost.longest')]['Value'].values[0]\n",
    "\n",
    "# # Create a DataFrame for streaks\n",
    "# streaks_df = pd.DataFrame({\n",
    "#     'Streak Type': ['Won (Current)', 'Won (Longest)', 'Lost (Current)', 'Lost (Longest)'],\n",
    "#     'Value': [won_streak_current, won_streak_longest, lost_streak_current, lost_streak_longest]\n",
    "# })\n",
    "\n",
    "# # Save streaks data to CSV\n",
    "# streaks_df.to_csv(os.path.join(results_dir, \"streaks_data.csv\"), index=False)\n",
    "\n",
    "# # Plot streaks\n",
    "# fig = px.bar(streaks_df, x='Streak Type', y='Value', title='Winning and Losing Streaks')\n",
    "# fig.write_html(os.path.join(results_dir, \"streaks_data.html\"))\n",
    "# fig.write_image(os.path.join(results_dir, \"streaks_data.png\"))\n",
    "# fig.show()\n",
    "\n",
    "# # 4. Trade Length\n",
    "# avg_trade_length = get_metric_value(trade_df, 'len.total.average')\n",
    "# max_trade_length = get_metric_value(trade_df, 'len.total.max')\n",
    "\n",
    "# # Create a DataFrame for trade length (only if metrics are available)\n",
    "# if avg_trade_length is not None and max_trade_length is not None:\n",
    "#     trade_length_df = pd.DataFrame({\n",
    "#         'Metric': ['Average Trade Length', 'Max Trade Length'],\n",
    "#         'Value': [avg_trade_length, max_trade_length]\n",
    "#     })\n",
    "\n",
    "#     # Save trade length data to CSV\n",
    "#     trade_length_df.to_csv(os.path.join(results_dir, \"trade_length_data.csv\"), index=False)\n",
    "\n",
    "#     # Plot trade length\n",
    "#     fig = px.bar(trade_length_df, x='Metric', y='Value', title='Trade Length')\n",
    "#     fig.write_html(os.path.join(results_dir, \"trade_length_data.html\"))\n",
    "#     fig.write_image(os.path.join(results_dir, \"trade_length_data.png\"))\n",
    "#     fig.show()\n",
    "# else:\n",
    "#     print(\"Trade length metrics not found in the analysis.\")\n",
    "\n",
    "# # Create a summary text file\n",
    "# with open(os.path.join(results_dir, \"summary.txt\"), \"w\") as f:\n",
    "#     f.write(f\"Backtest Results Summary\\n\")\n",
    "#     f.write(f\"======================\\n\\n\")\n",
    "#     f.write(f\"Generated on: {datetime.datetime.now().strftime('%Y-%m-%d %H:%M:%S')}\\n\\n\")\n",
    "#     f.write(f\"Total Trades: {total_trades}\\n\")\n",
    "#     f.write(f\"Won Trades: {won_trades} ({won_trades/total_trades*100:.2f}%)\\n\")\n",
    "#     f.write(f\"Lost Trades: {lost_trades} ({lost_trades/total_trades*100:.2f}%)\\n\\n\")\n",
    "#     f.write(f\"Gross PnL: {gross_pnl}\\n\")\n",
    "#     f.write(f\"Net PnL: {net_pnl}\\n\\n\")\n",
    "#     f.write(f\"Current Win Streak: {won_streak_current}\\n\")\n",
    "#     f.write(f\"Longest Win Streak: {won_streak_longest}\\n\")\n",
    "#     f.write(f\"Current Loss Streak: {lost_streak_current}\\n\")\n",
    "#     f.write(f\"Longest Loss Streak: {lost_streak_longest}\\n\")\n",
    "\n",
    "# print(f\"All results saved to {results_dir}\")"
   ]
  },
  {
   "cell_type": "code",
   "execution_count": null,
   "metadata": {},
   "outputs": [
    {
     "name": "stdout",
     "output_type": "stream",
     "text": [
      "Results will be saved to: c:\\Users\\athabit\\Desktop\\misc\\bhuv\\PEAD_Regression\\backtest\\output\\NVDA\\NVDA_backtest_results_20250321_185142\n",
      "Trade analysis saved to CSV\n",
      "                    Metric  Value\n",
      "0              total.total   39.0\n",
      "1               total.open    0.0\n",
      "2             total.closed   39.0\n",
      "3       streak.won.current    1.0\n",
      "4       streak.won.longest    4.0\n",
      "..                     ...    ...\n",
      "72       len.short.won.min    5.0\n",
      "73    len.short.lost.total    4.0\n",
      "74  len.short.lost.average    2.0\n",
      "75      len.short.lost.max    3.0\n",
      "76      len.short.lost.min    1.0\n",
      "\n",
      "[77 rows x 2 columns]\n",
      "Warning: Could not save image: \n",
      "Image export using the \"kaleido\" engine requires the kaleido package,\n",
      "which can be installed using pip:\n",
      "    $ pip install -U kaleido\n",
      "\n"
     ]
    },
    {
     "data": {
      "application/vnd.plotly.v1+json": {
       "config": {
        "plotlyServerURL": "https://plot.ly"
       },
       "data": [
        {
         "domain": {
          "x": [
           0,
           1
          ],
          "y": [
           0,
           1
          ]
         },
         "hovertemplate": "Outcome=%{label}<br>Count=%{value}<extra></extra>",
         "labels": [
          "Won",
          "Lost"
         ],
         "legendgroup": "",
         "name": "",
         "showlegend": true,
         "type": "pie",
         "values": {
          "bdata": "AAAAAAAAM0AAAAAAAAA0QA==",
          "dtype": "f8"
         }
        }
       ],
       "layout": {
        "legend": {
         "tracegroupgap": 0
        },
        "template": {
         "data": {
          "bar": [
           {
            "error_x": {
             "color": "#2a3f5f"
            },
            "error_y": {
             "color": "#2a3f5f"
            },
            "marker": {
             "line": {
              "color": "#E5ECF6",
              "width": 0.5
             },
             "pattern": {
              "fillmode": "overlay",
              "size": 10,
              "solidity": 0.2
             }
            },
            "type": "bar"
           }
          ],
          "barpolar": [
           {
            "marker": {
             "line": {
              "color": "#E5ECF6",
              "width": 0.5
             },
             "pattern": {
              "fillmode": "overlay",
              "size": 10,
              "solidity": 0.2
             }
            },
            "type": "barpolar"
           }
          ],
          "carpet": [
           {
            "aaxis": {
             "endlinecolor": "#2a3f5f",
             "gridcolor": "white",
             "linecolor": "white",
             "minorgridcolor": "white",
             "startlinecolor": "#2a3f5f"
            },
            "baxis": {
             "endlinecolor": "#2a3f5f",
             "gridcolor": "white",
             "linecolor": "white",
             "minorgridcolor": "white",
             "startlinecolor": "#2a3f5f"
            },
            "type": "carpet"
           }
          ],
          "choropleth": [
           {
            "colorbar": {
             "outlinewidth": 0,
             "ticks": ""
            },
            "type": "choropleth"
           }
          ],
          "contour": [
           {
            "colorbar": {
             "outlinewidth": 0,
             "ticks": ""
            },
            "colorscale": [
             [
              0,
              "#0d0887"
             ],
             [
              0.1111111111111111,
              "#46039f"
             ],
             [
              0.2222222222222222,
              "#7201a8"
             ],
             [
              0.3333333333333333,
              "#9c179e"
             ],
             [
              0.4444444444444444,
              "#bd3786"
             ],
             [
              0.5555555555555556,
              "#d8576b"
             ],
             [
              0.6666666666666666,
              "#ed7953"
             ],
             [
              0.7777777777777778,
              "#fb9f3a"
             ],
             [
              0.8888888888888888,
              "#fdca26"
             ],
             [
              1,
              "#f0f921"
             ]
            ],
            "type": "contour"
           }
          ],
          "contourcarpet": [
           {
            "colorbar": {
             "outlinewidth": 0,
             "ticks": ""
            },
            "type": "contourcarpet"
           }
          ],
          "heatmap": [
           {
            "colorbar": {
             "outlinewidth": 0,
             "ticks": ""
            },
            "colorscale": [
             [
              0,
              "#0d0887"
             ],
             [
              0.1111111111111111,
              "#46039f"
             ],
             [
              0.2222222222222222,
              "#7201a8"
             ],
             [
              0.3333333333333333,
              "#9c179e"
             ],
             [
              0.4444444444444444,
              "#bd3786"
             ],
             [
              0.5555555555555556,
              "#d8576b"
             ],
             [
              0.6666666666666666,
              "#ed7953"
             ],
             [
              0.7777777777777778,
              "#fb9f3a"
             ],
             [
              0.8888888888888888,
              "#fdca26"
             ],
             [
              1,
              "#f0f921"
             ]
            ],
            "type": "heatmap"
           }
          ],
          "histogram": [
           {
            "marker": {
             "pattern": {
              "fillmode": "overlay",
              "size": 10,
              "solidity": 0.2
             }
            },
            "type": "histogram"
           }
          ],
          "histogram2d": [
           {
            "colorbar": {
             "outlinewidth": 0,
             "ticks": ""
            },
            "colorscale": [
             [
              0,
              "#0d0887"
             ],
             [
              0.1111111111111111,
              "#46039f"
             ],
             [
              0.2222222222222222,
              "#7201a8"
             ],
             [
              0.3333333333333333,
              "#9c179e"
             ],
             [
              0.4444444444444444,
              "#bd3786"
             ],
             [
              0.5555555555555556,
              "#d8576b"
             ],
             [
              0.6666666666666666,
              "#ed7953"
             ],
             [
              0.7777777777777778,
              "#fb9f3a"
             ],
             [
              0.8888888888888888,
              "#fdca26"
             ],
             [
              1,
              "#f0f921"
             ]
            ],
            "type": "histogram2d"
           }
          ],
          "histogram2dcontour": [
           {
            "colorbar": {
             "outlinewidth": 0,
             "ticks": ""
            },
            "colorscale": [
             [
              0,
              "#0d0887"
             ],
             [
              0.1111111111111111,
              "#46039f"
             ],
             [
              0.2222222222222222,
              "#7201a8"
             ],
             [
              0.3333333333333333,
              "#9c179e"
             ],
             [
              0.4444444444444444,
              "#bd3786"
             ],
             [
              0.5555555555555556,
              "#d8576b"
             ],
             [
              0.6666666666666666,
              "#ed7953"
             ],
             [
              0.7777777777777778,
              "#fb9f3a"
             ],
             [
              0.8888888888888888,
              "#fdca26"
             ],
             [
              1,
              "#f0f921"
             ]
            ],
            "type": "histogram2dcontour"
           }
          ],
          "mesh3d": [
           {
            "colorbar": {
             "outlinewidth": 0,
             "ticks": ""
            },
            "type": "mesh3d"
           }
          ],
          "parcoords": [
           {
            "line": {
             "colorbar": {
              "outlinewidth": 0,
              "ticks": ""
             }
            },
            "type": "parcoords"
           }
          ],
          "pie": [
           {
            "automargin": true,
            "type": "pie"
           }
          ],
          "scatter": [
           {
            "fillpattern": {
             "fillmode": "overlay",
             "size": 10,
             "solidity": 0.2
            },
            "type": "scatter"
           }
          ],
          "scatter3d": [
           {
            "line": {
             "colorbar": {
              "outlinewidth": 0,
              "ticks": ""
             }
            },
            "marker": {
             "colorbar": {
              "outlinewidth": 0,
              "ticks": ""
             }
            },
            "type": "scatter3d"
           }
          ],
          "scattercarpet": [
           {
            "marker": {
             "colorbar": {
              "outlinewidth": 0,
              "ticks": ""
             }
            },
            "type": "scattercarpet"
           }
          ],
          "scattergeo": [
           {
            "marker": {
             "colorbar": {
              "outlinewidth": 0,
              "ticks": ""
             }
            },
            "type": "scattergeo"
           }
          ],
          "scattergl": [
           {
            "marker": {
             "colorbar": {
              "outlinewidth": 0,
              "ticks": ""
             }
            },
            "type": "scattergl"
           }
          ],
          "scattermap": [
           {
            "marker": {
             "colorbar": {
              "outlinewidth": 0,
              "ticks": ""
             }
            },
            "type": "scattermap"
           }
          ],
          "scattermapbox": [
           {
            "marker": {
             "colorbar": {
              "outlinewidth": 0,
              "ticks": ""
             }
            },
            "type": "scattermapbox"
           }
          ],
          "scatterpolar": [
           {
            "marker": {
             "colorbar": {
              "outlinewidth": 0,
              "ticks": ""
             }
            },
            "type": "scatterpolar"
           }
          ],
          "scatterpolargl": [
           {
            "marker": {
             "colorbar": {
              "outlinewidth": 0,
              "ticks": ""
             }
            },
            "type": "scatterpolargl"
           }
          ],
          "scatterternary": [
           {
            "marker": {
             "colorbar": {
              "outlinewidth": 0,
              "ticks": ""
             }
            },
            "type": "scatterternary"
           }
          ],
          "surface": [
           {
            "colorbar": {
             "outlinewidth": 0,
             "ticks": ""
            },
            "colorscale": [
             [
              0,
              "#0d0887"
             ],
             [
              0.1111111111111111,
              "#46039f"
             ],
             [
              0.2222222222222222,
              "#7201a8"
             ],
             [
              0.3333333333333333,
              "#9c179e"
             ],
             [
              0.4444444444444444,
              "#bd3786"
             ],
             [
              0.5555555555555556,
              "#d8576b"
             ],
             [
              0.6666666666666666,
              "#ed7953"
             ],
             [
              0.7777777777777778,
              "#fb9f3a"
             ],
             [
              0.8888888888888888,
              "#fdca26"
             ],
             [
              1,
              "#f0f921"
             ]
            ],
            "type": "surface"
           }
          ],
          "table": [
           {
            "cells": {
             "fill": {
              "color": "#EBF0F8"
             },
             "line": {
              "color": "white"
             }
            },
            "header": {
             "fill": {
              "color": "#C8D4E3"
             },
             "line": {
              "color": "white"
             }
            },
            "type": "table"
           }
          ]
         },
         "layout": {
          "annotationdefaults": {
           "arrowcolor": "#2a3f5f",
           "arrowhead": 0,
           "arrowwidth": 1
          },
          "autotypenumbers": "strict",
          "coloraxis": {
           "colorbar": {
            "outlinewidth": 0,
            "ticks": ""
           }
          },
          "colorscale": {
           "diverging": [
            [
             0,
             "#8e0152"
            ],
            [
             0.1,
             "#c51b7d"
            ],
            [
             0.2,
             "#de77ae"
            ],
            [
             0.3,
             "#f1b6da"
            ],
            [
             0.4,
             "#fde0ef"
            ],
            [
             0.5,
             "#f7f7f7"
            ],
            [
             0.6,
             "#e6f5d0"
            ],
            [
             0.7,
             "#b8e186"
            ],
            [
             0.8,
             "#7fbc41"
            ],
            [
             0.9,
             "#4d9221"
            ],
            [
             1,
             "#276419"
            ]
           ],
           "sequential": [
            [
             0,
             "#0d0887"
            ],
            [
             0.1111111111111111,
             "#46039f"
            ],
            [
             0.2222222222222222,
             "#7201a8"
            ],
            [
             0.3333333333333333,
             "#9c179e"
            ],
            [
             0.4444444444444444,
             "#bd3786"
            ],
            [
             0.5555555555555556,
             "#d8576b"
            ],
            [
             0.6666666666666666,
             "#ed7953"
            ],
            [
             0.7777777777777778,
             "#fb9f3a"
            ],
            [
             0.8888888888888888,
             "#fdca26"
            ],
            [
             1,
             "#f0f921"
            ]
           ],
           "sequentialminus": [
            [
             0,
             "#0d0887"
            ],
            [
             0.1111111111111111,
             "#46039f"
            ],
            [
             0.2222222222222222,
             "#7201a8"
            ],
            [
             0.3333333333333333,
             "#9c179e"
            ],
            [
             0.4444444444444444,
             "#bd3786"
            ],
            [
             0.5555555555555556,
             "#d8576b"
            ],
            [
             0.6666666666666666,
             "#ed7953"
            ],
            [
             0.7777777777777778,
             "#fb9f3a"
            ],
            [
             0.8888888888888888,
             "#fdca26"
            ],
            [
             1,
             "#f0f921"
            ]
           ]
          },
          "colorway": [
           "#636efa",
           "#EF553B",
           "#00cc96",
           "#ab63fa",
           "#FFA15A",
           "#19d3f3",
           "#FF6692",
           "#B6E880",
           "#FF97FF",
           "#FECB52"
          ],
          "font": {
           "color": "#2a3f5f"
          },
          "geo": {
           "bgcolor": "white",
           "lakecolor": "white",
           "landcolor": "#E5ECF6",
           "showlakes": true,
           "showland": true,
           "subunitcolor": "white"
          },
          "hoverlabel": {
           "align": "left"
          },
          "hovermode": "closest",
          "mapbox": {
           "style": "light"
          },
          "paper_bgcolor": "white",
          "plot_bgcolor": "#E5ECF6",
          "polar": {
           "angularaxis": {
            "gridcolor": "white",
            "linecolor": "white",
            "ticks": ""
           },
           "bgcolor": "#E5ECF6",
           "radialaxis": {
            "gridcolor": "white",
            "linecolor": "white",
            "ticks": ""
           }
          },
          "scene": {
           "xaxis": {
            "backgroundcolor": "#E5ECF6",
            "gridcolor": "white",
            "gridwidth": 2,
            "linecolor": "white",
            "showbackground": true,
            "ticks": "",
            "zerolinecolor": "white"
           },
           "yaxis": {
            "backgroundcolor": "#E5ECF6",
            "gridcolor": "white",
            "gridwidth": 2,
            "linecolor": "white",
            "showbackground": true,
            "ticks": "",
            "zerolinecolor": "white"
           },
           "zaxis": {
            "backgroundcolor": "#E5ECF6",
            "gridcolor": "white",
            "gridwidth": 2,
            "linecolor": "white",
            "showbackground": true,
            "ticks": "",
            "zerolinecolor": "white"
           }
          },
          "shapedefaults": {
           "line": {
            "color": "#2a3f5f"
           }
          },
          "ternary": {
           "aaxis": {
            "gridcolor": "white",
            "linecolor": "white",
            "ticks": ""
           },
           "baxis": {
            "gridcolor": "white",
            "linecolor": "white",
            "ticks": ""
           },
           "bgcolor": "#E5ECF6",
           "caxis": {
            "gridcolor": "white",
            "linecolor": "white",
            "ticks": ""
           }
          },
          "title": {
           "x": 0.05
          },
          "xaxis": {
           "automargin": true,
           "gridcolor": "white",
           "linecolor": "white",
           "ticks": "",
           "title": {
            "standoff": 15
           },
           "zerolinecolor": "white",
           "zerolinewidth": 2
          },
          "yaxis": {
           "automargin": true,
           "gridcolor": "white",
           "linecolor": "white",
           "ticks": "",
           "title": {
            "standoff": 15
           },
           "zerolinecolor": "white",
           "zerolinewidth": 2
          }
         }
        },
        "title": {
         "text": "Trade Outcomes"
        }
       }
      }
     },
     "metadata": {},
     "output_type": "display_data"
    },
    {
     "name": "stdout",
     "output_type": "stream",
     "text": [
      "Warning: Could not save image: \n",
      "Image export using the \"kaleido\" engine requires the kaleido package,\n",
      "which can be installed using pip:\n",
      "    $ pip install -U kaleido\n",
      "\n"
     ]
    },
    {
     "data": {
      "application/vnd.plotly.v1+json": {
       "config": {
        "plotlyServerURL": "https://plot.ly"
       },
       "data": [
        {
         "hovertemplate": "Type=%{x}<br>Value=%{y}<extra></extra>",
         "legendgroup": "",
         "marker": {
          "color": "#636efa",
          "pattern": {
           "shape": ""
          }
         },
         "name": "",
         "orientation": "v",
         "showlegend": false,
         "textposition": "auto",
         "type": "bar",
         "x": [
          "Gross PnL",
          "Net PnL"
         ],
         "xaxis": "x",
         "y": {
          "bdata": "BAAAAAA+g0B+U5EKI8uAQA==",
          "dtype": "f8"
         },
         "yaxis": "y"
        }
       ],
       "layout": {
        "barmode": "relative",
        "legend": {
         "tracegroupgap": 0
        },
        "template": {
         "data": {
          "bar": [
           {
            "error_x": {
             "color": "#2a3f5f"
            },
            "error_y": {
             "color": "#2a3f5f"
            },
            "marker": {
             "line": {
              "color": "#E5ECF6",
              "width": 0.5
             },
             "pattern": {
              "fillmode": "overlay",
              "size": 10,
              "solidity": 0.2
             }
            },
            "type": "bar"
           }
          ],
          "barpolar": [
           {
            "marker": {
             "line": {
              "color": "#E5ECF6",
              "width": 0.5
             },
             "pattern": {
              "fillmode": "overlay",
              "size": 10,
              "solidity": 0.2
             }
            },
            "type": "barpolar"
           }
          ],
          "carpet": [
           {
            "aaxis": {
             "endlinecolor": "#2a3f5f",
             "gridcolor": "white",
             "linecolor": "white",
             "minorgridcolor": "white",
             "startlinecolor": "#2a3f5f"
            },
            "baxis": {
             "endlinecolor": "#2a3f5f",
             "gridcolor": "white",
             "linecolor": "white",
             "minorgridcolor": "white",
             "startlinecolor": "#2a3f5f"
            },
            "type": "carpet"
           }
          ],
          "choropleth": [
           {
            "colorbar": {
             "outlinewidth": 0,
             "ticks": ""
            },
            "type": "choropleth"
           }
          ],
          "contour": [
           {
            "colorbar": {
             "outlinewidth": 0,
             "ticks": ""
            },
            "colorscale": [
             [
              0,
              "#0d0887"
             ],
             [
              0.1111111111111111,
              "#46039f"
             ],
             [
              0.2222222222222222,
              "#7201a8"
             ],
             [
              0.3333333333333333,
              "#9c179e"
             ],
             [
              0.4444444444444444,
              "#bd3786"
             ],
             [
              0.5555555555555556,
              "#d8576b"
             ],
             [
              0.6666666666666666,
              "#ed7953"
             ],
             [
              0.7777777777777778,
              "#fb9f3a"
             ],
             [
              0.8888888888888888,
              "#fdca26"
             ],
             [
              1,
              "#f0f921"
             ]
            ],
            "type": "contour"
           }
          ],
          "contourcarpet": [
           {
            "colorbar": {
             "outlinewidth": 0,
             "ticks": ""
            },
            "type": "contourcarpet"
           }
          ],
          "heatmap": [
           {
            "colorbar": {
             "outlinewidth": 0,
             "ticks": ""
            },
            "colorscale": [
             [
              0,
              "#0d0887"
             ],
             [
              0.1111111111111111,
              "#46039f"
             ],
             [
              0.2222222222222222,
              "#7201a8"
             ],
             [
              0.3333333333333333,
              "#9c179e"
             ],
             [
              0.4444444444444444,
              "#bd3786"
             ],
             [
              0.5555555555555556,
              "#d8576b"
             ],
             [
              0.6666666666666666,
              "#ed7953"
             ],
             [
              0.7777777777777778,
              "#fb9f3a"
             ],
             [
              0.8888888888888888,
              "#fdca26"
             ],
             [
              1,
              "#f0f921"
             ]
            ],
            "type": "heatmap"
           }
          ],
          "histogram": [
           {
            "marker": {
             "pattern": {
              "fillmode": "overlay",
              "size": 10,
              "solidity": 0.2
             }
            },
            "type": "histogram"
           }
          ],
          "histogram2d": [
           {
            "colorbar": {
             "outlinewidth": 0,
             "ticks": ""
            },
            "colorscale": [
             [
              0,
              "#0d0887"
             ],
             [
              0.1111111111111111,
              "#46039f"
             ],
             [
              0.2222222222222222,
              "#7201a8"
             ],
             [
              0.3333333333333333,
              "#9c179e"
             ],
             [
              0.4444444444444444,
              "#bd3786"
             ],
             [
              0.5555555555555556,
              "#d8576b"
             ],
             [
              0.6666666666666666,
              "#ed7953"
             ],
             [
              0.7777777777777778,
              "#fb9f3a"
             ],
             [
              0.8888888888888888,
              "#fdca26"
             ],
             [
              1,
              "#f0f921"
             ]
            ],
            "type": "histogram2d"
           }
          ],
          "histogram2dcontour": [
           {
            "colorbar": {
             "outlinewidth": 0,
             "ticks": ""
            },
            "colorscale": [
             [
              0,
              "#0d0887"
             ],
             [
              0.1111111111111111,
              "#46039f"
             ],
             [
              0.2222222222222222,
              "#7201a8"
             ],
             [
              0.3333333333333333,
              "#9c179e"
             ],
             [
              0.4444444444444444,
              "#bd3786"
             ],
             [
              0.5555555555555556,
              "#d8576b"
             ],
             [
              0.6666666666666666,
              "#ed7953"
             ],
             [
              0.7777777777777778,
              "#fb9f3a"
             ],
             [
              0.8888888888888888,
              "#fdca26"
             ],
             [
              1,
              "#f0f921"
             ]
            ],
            "type": "histogram2dcontour"
           }
          ],
          "mesh3d": [
           {
            "colorbar": {
             "outlinewidth": 0,
             "ticks": ""
            },
            "type": "mesh3d"
           }
          ],
          "parcoords": [
           {
            "line": {
             "colorbar": {
              "outlinewidth": 0,
              "ticks": ""
             }
            },
            "type": "parcoords"
           }
          ],
          "pie": [
           {
            "automargin": true,
            "type": "pie"
           }
          ],
          "scatter": [
           {
            "fillpattern": {
             "fillmode": "overlay",
             "size": 10,
             "solidity": 0.2
            },
            "type": "scatter"
           }
          ],
          "scatter3d": [
           {
            "line": {
             "colorbar": {
              "outlinewidth": 0,
              "ticks": ""
             }
            },
            "marker": {
             "colorbar": {
              "outlinewidth": 0,
              "ticks": ""
             }
            },
            "type": "scatter3d"
           }
          ],
          "scattercarpet": [
           {
            "marker": {
             "colorbar": {
              "outlinewidth": 0,
              "ticks": ""
             }
            },
            "type": "scattercarpet"
           }
          ],
          "scattergeo": [
           {
            "marker": {
             "colorbar": {
              "outlinewidth": 0,
              "ticks": ""
             }
            },
            "type": "scattergeo"
           }
          ],
          "scattergl": [
           {
            "marker": {
             "colorbar": {
              "outlinewidth": 0,
              "ticks": ""
             }
            },
            "type": "scattergl"
           }
          ],
          "scattermap": [
           {
            "marker": {
             "colorbar": {
              "outlinewidth": 0,
              "ticks": ""
             }
            },
            "type": "scattermap"
           }
          ],
          "scattermapbox": [
           {
            "marker": {
             "colorbar": {
              "outlinewidth": 0,
              "ticks": ""
             }
            },
            "type": "scattermapbox"
           }
          ],
          "scatterpolar": [
           {
            "marker": {
             "colorbar": {
              "outlinewidth": 0,
              "ticks": ""
             }
            },
            "type": "scatterpolar"
           }
          ],
          "scatterpolargl": [
           {
            "marker": {
             "colorbar": {
              "outlinewidth": 0,
              "ticks": ""
             }
            },
            "type": "scatterpolargl"
           }
          ],
          "scatterternary": [
           {
            "marker": {
             "colorbar": {
              "outlinewidth": 0,
              "ticks": ""
             }
            },
            "type": "scatterternary"
           }
          ],
          "surface": [
           {
            "colorbar": {
             "outlinewidth": 0,
             "ticks": ""
            },
            "colorscale": [
             [
              0,
              "#0d0887"
             ],
             [
              0.1111111111111111,
              "#46039f"
             ],
             [
              0.2222222222222222,
              "#7201a8"
             ],
             [
              0.3333333333333333,
              "#9c179e"
             ],
             [
              0.4444444444444444,
              "#bd3786"
             ],
             [
              0.5555555555555556,
              "#d8576b"
             ],
             [
              0.6666666666666666,
              "#ed7953"
             ],
             [
              0.7777777777777778,
              "#fb9f3a"
             ],
             [
              0.8888888888888888,
              "#fdca26"
             ],
             [
              1,
              "#f0f921"
             ]
            ],
            "type": "surface"
           }
          ],
          "table": [
           {
            "cells": {
             "fill": {
              "color": "#EBF0F8"
             },
             "line": {
              "color": "white"
             }
            },
            "header": {
             "fill": {
              "color": "#C8D4E3"
             },
             "line": {
              "color": "white"
             }
            },
            "type": "table"
           }
          ]
         },
         "layout": {
          "annotationdefaults": {
           "arrowcolor": "#2a3f5f",
           "arrowhead": 0,
           "arrowwidth": 1
          },
          "autotypenumbers": "strict",
          "coloraxis": {
           "colorbar": {
            "outlinewidth": 0,
            "ticks": ""
           }
          },
          "colorscale": {
           "diverging": [
            [
             0,
             "#8e0152"
            ],
            [
             0.1,
             "#c51b7d"
            ],
            [
             0.2,
             "#de77ae"
            ],
            [
             0.3,
             "#f1b6da"
            ],
            [
             0.4,
             "#fde0ef"
            ],
            [
             0.5,
             "#f7f7f7"
            ],
            [
             0.6,
             "#e6f5d0"
            ],
            [
             0.7,
             "#b8e186"
            ],
            [
             0.8,
             "#7fbc41"
            ],
            [
             0.9,
             "#4d9221"
            ],
            [
             1,
             "#276419"
            ]
           ],
           "sequential": [
            [
             0,
             "#0d0887"
            ],
            [
             0.1111111111111111,
             "#46039f"
            ],
            [
             0.2222222222222222,
             "#7201a8"
            ],
            [
             0.3333333333333333,
             "#9c179e"
            ],
            [
             0.4444444444444444,
             "#bd3786"
            ],
            [
             0.5555555555555556,
             "#d8576b"
            ],
            [
             0.6666666666666666,
             "#ed7953"
            ],
            [
             0.7777777777777778,
             "#fb9f3a"
            ],
            [
             0.8888888888888888,
             "#fdca26"
            ],
            [
             1,
             "#f0f921"
            ]
           ],
           "sequentialminus": [
            [
             0,
             "#0d0887"
            ],
            [
             0.1111111111111111,
             "#46039f"
            ],
            [
             0.2222222222222222,
             "#7201a8"
            ],
            [
             0.3333333333333333,
             "#9c179e"
            ],
            [
             0.4444444444444444,
             "#bd3786"
            ],
            [
             0.5555555555555556,
             "#d8576b"
            ],
            [
             0.6666666666666666,
             "#ed7953"
            ],
            [
             0.7777777777777778,
             "#fb9f3a"
            ],
            [
             0.8888888888888888,
             "#fdca26"
            ],
            [
             1,
             "#f0f921"
            ]
           ]
          },
          "colorway": [
           "#636efa",
           "#EF553B",
           "#00cc96",
           "#ab63fa",
           "#FFA15A",
           "#19d3f3",
           "#FF6692",
           "#B6E880",
           "#FF97FF",
           "#FECB52"
          ],
          "font": {
           "color": "#2a3f5f"
          },
          "geo": {
           "bgcolor": "white",
           "lakecolor": "white",
           "landcolor": "#E5ECF6",
           "showlakes": true,
           "showland": true,
           "subunitcolor": "white"
          },
          "hoverlabel": {
           "align": "left"
          },
          "hovermode": "closest",
          "mapbox": {
           "style": "light"
          },
          "paper_bgcolor": "white",
          "plot_bgcolor": "#E5ECF6",
          "polar": {
           "angularaxis": {
            "gridcolor": "white",
            "linecolor": "white",
            "ticks": ""
           },
           "bgcolor": "#E5ECF6",
           "radialaxis": {
            "gridcolor": "white",
            "linecolor": "white",
            "ticks": ""
           }
          },
          "scene": {
           "xaxis": {
            "backgroundcolor": "#E5ECF6",
            "gridcolor": "white",
            "gridwidth": 2,
            "linecolor": "white",
            "showbackground": true,
            "ticks": "",
            "zerolinecolor": "white"
           },
           "yaxis": {
            "backgroundcolor": "#E5ECF6",
            "gridcolor": "white",
            "gridwidth": 2,
            "linecolor": "white",
            "showbackground": true,
            "ticks": "",
            "zerolinecolor": "white"
           },
           "zaxis": {
            "backgroundcolor": "#E5ECF6",
            "gridcolor": "white",
            "gridwidth": 2,
            "linecolor": "white",
            "showbackground": true,
            "ticks": "",
            "zerolinecolor": "white"
           }
          },
          "shapedefaults": {
           "line": {
            "color": "#2a3f5f"
           }
          },
          "ternary": {
           "aaxis": {
            "gridcolor": "white",
            "linecolor": "white",
            "ticks": ""
           },
           "baxis": {
            "gridcolor": "white",
            "linecolor": "white",
            "ticks": ""
           },
           "bgcolor": "#E5ECF6",
           "caxis": {
            "gridcolor": "white",
            "linecolor": "white",
            "ticks": ""
           }
          },
          "title": {
           "x": 0.05
          },
          "xaxis": {
           "automargin": true,
           "gridcolor": "white",
           "linecolor": "white",
           "ticks": "",
           "title": {
            "standoff": 15
           },
           "zerolinecolor": "white",
           "zerolinewidth": 2
          },
          "yaxis": {
           "automargin": true,
           "gridcolor": "white",
           "linecolor": "white",
           "ticks": "",
           "title": {
            "standoff": 15
           },
           "zerolinecolor": "white",
           "zerolinewidth": 2
          }
         }
        },
        "title": {
         "text": "Gross vs Net PnL"
        },
        "xaxis": {
         "anchor": "y",
         "domain": [
          0,
          1
         ],
         "title": {
          "text": "Type"
         }
        },
        "yaxis": {
         "anchor": "x",
         "domain": [
          0,
          1
         ],
         "title": {
          "text": "Value"
         }
        }
       }
      }
     },
     "metadata": {},
     "output_type": "display_data"
    },
    {
     "name": "stdout",
     "output_type": "stream",
     "text": [
      "Warning: Could not save image: \n",
      "Image export using the \"kaleido\" engine requires the kaleido package,\n",
      "which can be installed using pip:\n",
      "    $ pip install -U kaleido\n",
      "\n"
     ]
    },
    {
     "data": {
      "application/vnd.plotly.v1+json": {
       "config": {
        "plotlyServerURL": "https://plot.ly"
       },
       "data": [
        {
         "hovertemplate": "Streak Type=%{x}<br>Value=%{y}<extra></extra>",
         "legendgroup": "",
         "marker": {
          "color": "#636efa",
          "pattern": {
           "shape": ""
          }
         },
         "name": "",
         "orientation": "v",
         "showlegend": false,
         "textposition": "auto",
         "type": "bar",
         "x": [
          "Won (Current)",
          "Won (Longest)",
          "Lost (Current)",
          "Lost (Longest)"
         ],
         "xaxis": "x",
         "y": {
          "bdata": "AAAAAAAA8D8AAAAAAAAQQAAAAAAAAAAAAAAAAAAAHEA=",
          "dtype": "f8"
         },
         "yaxis": "y"
        }
       ],
       "layout": {
        "barmode": "relative",
        "legend": {
         "tracegroupgap": 0
        },
        "template": {
         "data": {
          "bar": [
           {
            "error_x": {
             "color": "#2a3f5f"
            },
            "error_y": {
             "color": "#2a3f5f"
            },
            "marker": {
             "line": {
              "color": "#E5ECF6",
              "width": 0.5
             },
             "pattern": {
              "fillmode": "overlay",
              "size": 10,
              "solidity": 0.2
             }
            },
            "type": "bar"
           }
          ],
          "barpolar": [
           {
            "marker": {
             "line": {
              "color": "#E5ECF6",
              "width": 0.5
             },
             "pattern": {
              "fillmode": "overlay",
              "size": 10,
              "solidity": 0.2
             }
            },
            "type": "barpolar"
           }
          ],
          "carpet": [
           {
            "aaxis": {
             "endlinecolor": "#2a3f5f",
             "gridcolor": "white",
             "linecolor": "white",
             "minorgridcolor": "white",
             "startlinecolor": "#2a3f5f"
            },
            "baxis": {
             "endlinecolor": "#2a3f5f",
             "gridcolor": "white",
             "linecolor": "white",
             "minorgridcolor": "white",
             "startlinecolor": "#2a3f5f"
            },
            "type": "carpet"
           }
          ],
          "choropleth": [
           {
            "colorbar": {
             "outlinewidth": 0,
             "ticks": ""
            },
            "type": "choropleth"
           }
          ],
          "contour": [
           {
            "colorbar": {
             "outlinewidth": 0,
             "ticks": ""
            },
            "colorscale": [
             [
              0,
              "#0d0887"
             ],
             [
              0.1111111111111111,
              "#46039f"
             ],
             [
              0.2222222222222222,
              "#7201a8"
             ],
             [
              0.3333333333333333,
              "#9c179e"
             ],
             [
              0.4444444444444444,
              "#bd3786"
             ],
             [
              0.5555555555555556,
              "#d8576b"
             ],
             [
              0.6666666666666666,
              "#ed7953"
             ],
             [
              0.7777777777777778,
              "#fb9f3a"
             ],
             [
              0.8888888888888888,
              "#fdca26"
             ],
             [
              1,
              "#f0f921"
             ]
            ],
            "type": "contour"
           }
          ],
          "contourcarpet": [
           {
            "colorbar": {
             "outlinewidth": 0,
             "ticks": ""
            },
            "type": "contourcarpet"
           }
          ],
          "heatmap": [
           {
            "colorbar": {
             "outlinewidth": 0,
             "ticks": ""
            },
            "colorscale": [
             [
              0,
              "#0d0887"
             ],
             [
              0.1111111111111111,
              "#46039f"
             ],
             [
              0.2222222222222222,
              "#7201a8"
             ],
             [
              0.3333333333333333,
              "#9c179e"
             ],
             [
              0.4444444444444444,
              "#bd3786"
             ],
             [
              0.5555555555555556,
              "#d8576b"
             ],
             [
              0.6666666666666666,
              "#ed7953"
             ],
             [
              0.7777777777777778,
              "#fb9f3a"
             ],
             [
              0.8888888888888888,
              "#fdca26"
             ],
             [
              1,
              "#f0f921"
             ]
            ],
            "type": "heatmap"
           }
          ],
          "histogram": [
           {
            "marker": {
             "pattern": {
              "fillmode": "overlay",
              "size": 10,
              "solidity": 0.2
             }
            },
            "type": "histogram"
           }
          ],
          "histogram2d": [
           {
            "colorbar": {
             "outlinewidth": 0,
             "ticks": ""
            },
            "colorscale": [
             [
              0,
              "#0d0887"
             ],
             [
              0.1111111111111111,
              "#46039f"
             ],
             [
              0.2222222222222222,
              "#7201a8"
             ],
             [
              0.3333333333333333,
              "#9c179e"
             ],
             [
              0.4444444444444444,
              "#bd3786"
             ],
             [
              0.5555555555555556,
              "#d8576b"
             ],
             [
              0.6666666666666666,
              "#ed7953"
             ],
             [
              0.7777777777777778,
              "#fb9f3a"
             ],
             [
              0.8888888888888888,
              "#fdca26"
             ],
             [
              1,
              "#f0f921"
             ]
            ],
            "type": "histogram2d"
           }
          ],
          "histogram2dcontour": [
           {
            "colorbar": {
             "outlinewidth": 0,
             "ticks": ""
            },
            "colorscale": [
             [
              0,
              "#0d0887"
             ],
             [
              0.1111111111111111,
              "#46039f"
             ],
             [
              0.2222222222222222,
              "#7201a8"
             ],
             [
              0.3333333333333333,
              "#9c179e"
             ],
             [
              0.4444444444444444,
              "#bd3786"
             ],
             [
              0.5555555555555556,
              "#d8576b"
             ],
             [
              0.6666666666666666,
              "#ed7953"
             ],
             [
              0.7777777777777778,
              "#fb9f3a"
             ],
             [
              0.8888888888888888,
              "#fdca26"
             ],
             [
              1,
              "#f0f921"
             ]
            ],
            "type": "histogram2dcontour"
           }
          ],
          "mesh3d": [
           {
            "colorbar": {
             "outlinewidth": 0,
             "ticks": ""
            },
            "type": "mesh3d"
           }
          ],
          "parcoords": [
           {
            "line": {
             "colorbar": {
              "outlinewidth": 0,
              "ticks": ""
             }
            },
            "type": "parcoords"
           }
          ],
          "pie": [
           {
            "automargin": true,
            "type": "pie"
           }
          ],
          "scatter": [
           {
            "fillpattern": {
             "fillmode": "overlay",
             "size": 10,
             "solidity": 0.2
            },
            "type": "scatter"
           }
          ],
          "scatter3d": [
           {
            "line": {
             "colorbar": {
              "outlinewidth": 0,
              "ticks": ""
             }
            },
            "marker": {
             "colorbar": {
              "outlinewidth": 0,
              "ticks": ""
             }
            },
            "type": "scatter3d"
           }
          ],
          "scattercarpet": [
           {
            "marker": {
             "colorbar": {
              "outlinewidth": 0,
              "ticks": ""
             }
            },
            "type": "scattercarpet"
           }
          ],
          "scattergeo": [
           {
            "marker": {
             "colorbar": {
              "outlinewidth": 0,
              "ticks": ""
             }
            },
            "type": "scattergeo"
           }
          ],
          "scattergl": [
           {
            "marker": {
             "colorbar": {
              "outlinewidth": 0,
              "ticks": ""
             }
            },
            "type": "scattergl"
           }
          ],
          "scattermap": [
           {
            "marker": {
             "colorbar": {
              "outlinewidth": 0,
              "ticks": ""
             }
            },
            "type": "scattermap"
           }
          ],
          "scattermapbox": [
           {
            "marker": {
             "colorbar": {
              "outlinewidth": 0,
              "ticks": ""
             }
            },
            "type": "scattermapbox"
           }
          ],
          "scatterpolar": [
           {
            "marker": {
             "colorbar": {
              "outlinewidth": 0,
              "ticks": ""
             }
            },
            "type": "scatterpolar"
           }
          ],
          "scatterpolargl": [
           {
            "marker": {
             "colorbar": {
              "outlinewidth": 0,
              "ticks": ""
             }
            },
            "type": "scatterpolargl"
           }
          ],
          "scatterternary": [
           {
            "marker": {
             "colorbar": {
              "outlinewidth": 0,
              "ticks": ""
             }
            },
            "type": "scatterternary"
           }
          ],
          "surface": [
           {
            "colorbar": {
             "outlinewidth": 0,
             "ticks": ""
            },
            "colorscale": [
             [
              0,
              "#0d0887"
             ],
             [
              0.1111111111111111,
              "#46039f"
             ],
             [
              0.2222222222222222,
              "#7201a8"
             ],
             [
              0.3333333333333333,
              "#9c179e"
             ],
             [
              0.4444444444444444,
              "#bd3786"
             ],
             [
              0.5555555555555556,
              "#d8576b"
             ],
             [
              0.6666666666666666,
              "#ed7953"
             ],
             [
              0.7777777777777778,
              "#fb9f3a"
             ],
             [
              0.8888888888888888,
              "#fdca26"
             ],
             [
              1,
              "#f0f921"
             ]
            ],
            "type": "surface"
           }
          ],
          "table": [
           {
            "cells": {
             "fill": {
              "color": "#EBF0F8"
             },
             "line": {
              "color": "white"
             }
            },
            "header": {
             "fill": {
              "color": "#C8D4E3"
             },
             "line": {
              "color": "white"
             }
            },
            "type": "table"
           }
          ]
         },
         "layout": {
          "annotationdefaults": {
           "arrowcolor": "#2a3f5f",
           "arrowhead": 0,
           "arrowwidth": 1
          },
          "autotypenumbers": "strict",
          "coloraxis": {
           "colorbar": {
            "outlinewidth": 0,
            "ticks": ""
           }
          },
          "colorscale": {
           "diverging": [
            [
             0,
             "#8e0152"
            ],
            [
             0.1,
             "#c51b7d"
            ],
            [
             0.2,
             "#de77ae"
            ],
            [
             0.3,
             "#f1b6da"
            ],
            [
             0.4,
             "#fde0ef"
            ],
            [
             0.5,
             "#f7f7f7"
            ],
            [
             0.6,
             "#e6f5d0"
            ],
            [
             0.7,
             "#b8e186"
            ],
            [
             0.8,
             "#7fbc41"
            ],
            [
             0.9,
             "#4d9221"
            ],
            [
             1,
             "#276419"
            ]
           ],
           "sequential": [
            [
             0,
             "#0d0887"
            ],
            [
             0.1111111111111111,
             "#46039f"
            ],
            [
             0.2222222222222222,
             "#7201a8"
            ],
            [
             0.3333333333333333,
             "#9c179e"
            ],
            [
             0.4444444444444444,
             "#bd3786"
            ],
            [
             0.5555555555555556,
             "#d8576b"
            ],
            [
             0.6666666666666666,
             "#ed7953"
            ],
            [
             0.7777777777777778,
             "#fb9f3a"
            ],
            [
             0.8888888888888888,
             "#fdca26"
            ],
            [
             1,
             "#f0f921"
            ]
           ],
           "sequentialminus": [
            [
             0,
             "#0d0887"
            ],
            [
             0.1111111111111111,
             "#46039f"
            ],
            [
             0.2222222222222222,
             "#7201a8"
            ],
            [
             0.3333333333333333,
             "#9c179e"
            ],
            [
             0.4444444444444444,
             "#bd3786"
            ],
            [
             0.5555555555555556,
             "#d8576b"
            ],
            [
             0.6666666666666666,
             "#ed7953"
            ],
            [
             0.7777777777777778,
             "#fb9f3a"
            ],
            [
             0.8888888888888888,
             "#fdca26"
            ],
            [
             1,
             "#f0f921"
            ]
           ]
          },
          "colorway": [
           "#636efa",
           "#EF553B",
           "#00cc96",
           "#ab63fa",
           "#FFA15A",
           "#19d3f3",
           "#FF6692",
           "#B6E880",
           "#FF97FF",
           "#FECB52"
          ],
          "font": {
           "color": "#2a3f5f"
          },
          "geo": {
           "bgcolor": "white",
           "lakecolor": "white",
           "landcolor": "#E5ECF6",
           "showlakes": true,
           "showland": true,
           "subunitcolor": "white"
          },
          "hoverlabel": {
           "align": "left"
          },
          "hovermode": "closest",
          "mapbox": {
           "style": "light"
          },
          "paper_bgcolor": "white",
          "plot_bgcolor": "#E5ECF6",
          "polar": {
           "angularaxis": {
            "gridcolor": "white",
            "linecolor": "white",
            "ticks": ""
           },
           "bgcolor": "#E5ECF6",
           "radialaxis": {
            "gridcolor": "white",
            "linecolor": "white",
            "ticks": ""
           }
          },
          "scene": {
           "xaxis": {
            "backgroundcolor": "#E5ECF6",
            "gridcolor": "white",
            "gridwidth": 2,
            "linecolor": "white",
            "showbackground": true,
            "ticks": "",
            "zerolinecolor": "white"
           },
           "yaxis": {
            "backgroundcolor": "#E5ECF6",
            "gridcolor": "white",
            "gridwidth": 2,
            "linecolor": "white",
            "showbackground": true,
            "ticks": "",
            "zerolinecolor": "white"
           },
           "zaxis": {
            "backgroundcolor": "#E5ECF6",
            "gridcolor": "white",
            "gridwidth": 2,
            "linecolor": "white",
            "showbackground": true,
            "ticks": "",
            "zerolinecolor": "white"
           }
          },
          "shapedefaults": {
           "line": {
            "color": "#2a3f5f"
           }
          },
          "ternary": {
           "aaxis": {
            "gridcolor": "white",
            "linecolor": "white",
            "ticks": ""
           },
           "baxis": {
            "gridcolor": "white",
            "linecolor": "white",
            "ticks": ""
           },
           "bgcolor": "#E5ECF6",
           "caxis": {
            "gridcolor": "white",
            "linecolor": "white",
            "ticks": ""
           }
          },
          "title": {
           "x": 0.05
          },
          "xaxis": {
           "automargin": true,
           "gridcolor": "white",
           "linecolor": "white",
           "ticks": "",
           "title": {
            "standoff": 15
           },
           "zerolinecolor": "white",
           "zerolinewidth": 2
          },
          "yaxis": {
           "automargin": true,
           "gridcolor": "white",
           "linecolor": "white",
           "ticks": "",
           "title": {
            "standoff": 15
           },
           "zerolinecolor": "white",
           "zerolinewidth": 2
          }
         }
        },
        "title": {
         "text": "Winning and Losing Streaks"
        },
        "xaxis": {
         "anchor": "y",
         "domain": [
          0,
          1
         ],
         "title": {
          "text": "Streak Type"
         }
        },
        "yaxis": {
         "anchor": "x",
         "domain": [
          0,
          1
         ],
         "title": {
          "text": "Value"
         }
        }
       }
      }
     },
     "metadata": {},
     "output_type": "display_data"
    },
    {
     "name": "stdout",
     "output_type": "stream",
     "text": [
      "Trade length metrics not found in the analysis.\n",
      "All results saved to c:\\Users\\athabit\\Desktop\\misc\\bhuv\\PEAD_Regression\\backtest\\output\\NVDA\\NVDA_backtest_results_20250321_185142\n"
     ]
    }
   ],
   "source": [
    "import pandas as pd\n",
    "import plotly.express as px\n",
    "import os\n",
    "import datetime\n",
    "import sys\n",
    "import subprocess\n",
    "\n",
    "# Create directory for saving results\n",
    "def create_results_dir(base_path=None):\n",
    "    \"\"\"\n",
    "    Creates a directory for saving results based on current timestamp\n",
    "    Returns the path to the created directory\n",
    "    \"\"\"\n",
    "    # If no base path provided, use the directory where the notebook is located\n",
    "    if base_path is None:\n",
    "        base_path = os.path.dirname(os.path.abspath('Backtest.ipynb'))\n",
    "\n",
    "    # create a output directory if not exists\n",
    "    base_path = os.path.join(base_path, 'output')\n",
    "    if not os.path.exists(base_path):\n",
    "        os.makedirs(base_path)\n",
    "\n",
    "    # create a selected stock directory if not exists\n",
    "    base_path = os.path.join(base_path, selected)\n",
    "    if not os.path.exists(base_path):\n",
    "        os.makedirs(base_path)\n",
    "    \n",
    "    # Create a timestamp-based folder name\n",
    "    timestamp = datetime.datetime.now().strftime(\"%Y%m%d_%H%M%S\")\n",
    "    results_dir = os.path.join(base_path, f\"{selected}_backtest_results_{timestamp}\")\n",
    "    \n",
    "    # Create the directory if it doesn't exist\n",
    "    if not os.path.exists(results_dir):\n",
    "        os.makedirs(results_dir)\n",
    "        \n",
    "    return results_dir\n",
    "\n",
    "# Function to flatten AutoOrderedDict\n",
    "def flatten_dict(d, parent_key='', sep='.'):\n",
    "    \"\"\"\n",
    "    Recursively flattens a nested dictionary.\n",
    "    \"\"\"\n",
    "    items = []\n",
    "    for k, v in d.items():\n",
    "        new_key = f\"{parent_key}{sep}{k}\" if parent_key else k\n",
    "        if isinstance(v, dict):\n",
    "            items.extend(flatten_dict(v, new_key, sep=sep).items())\n",
    "        else:\n",
    "            items.append((new_key, v))\n",
    "    return dict(items)\n",
    "\n",
    "# Function to safely extract a metric value\n",
    "def get_metric_value(trade_df, metric_key):\n",
    "    \"\"\"\n",
    "    Safely extracts a metric value from the DataFrame.\n",
    "    Returns None if the metric is not found.\n",
    "    \"\"\"\n",
    "    matches = trade_df[trade_df['Metric'].str.contains(metric_key)]\n",
    "    if not matches.empty:\n",
    "        return matches['Value'].values[0]\n",
    "    return None\n",
    "\n",
    "# Try to install kaleido if it's not already installed\n",
    "try:\n",
    "    import kaleido\n",
    "    has_kaleido = True\n",
    "except ImportError:\n",
    "    has_kaleido = False\n",
    "    print(\"Kaleido package not found. Attempting to install...\")\n",
    "    try:\n",
    "        subprocess.check_call([sys.executable, \"-m\", \"pip\", \"install\", \"kaleido\"])\n",
    "        has_kaleido = True\n",
    "        print(\"Kaleido installed successfully!\")\n",
    "    except Exception as e:\n",
    "        print(f\"Could not install kaleido: {e}\")\n",
    "        print(\"Will continue without image export capability\")\n",
    "\n",
    "# Create results directory\n",
    "results_dir = create_results_dir()\n",
    "print(f\"Results will be saved to: {results_dir}\")\n",
    "\n",
    "# Flatten the trade_analysis object\n",
    "flat_trade_analysis = flatten_dict(trade_analysis)\n",
    "\n",
    "# Convert the flattened dictionary to a DataFrame\n",
    "trade_df = pd.DataFrame(list(flat_trade_analysis.items()), columns=['Metric', 'Value'])\n",
    "\n",
    "# Save the full analysis to CSV\n",
    "trade_df.to_csv(os.path.join(results_dir, f\"{selected}_trade_analysis.csv\"), index=False)\n",
    "print(f\"Trade analysis saved to CSV\")\n",
    "\n",
    "# Print the DataFrame\n",
    "print(trade_df)\n",
    "\n",
    "# 1. Total Trades\n",
    "total_trades = trade_df[trade_df['Metric'].str.contains('total.total')]['Value'].values[0]\n",
    "won_trades = trade_df[trade_df['Metric'].str.contains('won.total')]['Value'].values[0]\n",
    "lost_trades = trade_df[trade_df['Metric'].str.contains('lost.total')]['Value'].values[0]\n",
    "\n",
    "# Create a DataFrame for trade outcomes\n",
    "trade_outcomes_df = pd.DataFrame({\n",
    "    'Outcome': ['Won', 'Lost'],\n",
    "    'Count': [won_trades, lost_trades]\n",
    "})\n",
    "\n",
    "# Save trade outcomes to CSV\n",
    "trade_outcomes_df.to_csv(os.path.join(results_dir, f\"{selected}_trade_outcomes.csv\"), index=False)\n",
    "\n",
    "# Plot trade outcomes\n",
    "fig = px.pie(trade_outcomes_df, values='Count', names='Outcome', title='Trade Outcomes')\n",
    "fig.write_html(os.path.join(results_dir, \"trade_outcomes.html\"))\n",
    "if has_kaleido:\n",
    "    try:\n",
    "        fig.write_image(os.path.join(results_dir, \"trade_outcomes.png\"))\n",
    "    except Exception as e:\n",
    "        print(f\"Warning: Could not save image: {e}\")\n",
    "fig.show()\n",
    "\n",
    "# 2. PnL (Profit and Loss)\n",
    "gross_pnl = trade_df[trade_df['Metric'].str.contains('pnl.gross.total')]['Value'].values[0]\n",
    "net_pnl = trade_df[trade_df['Metric'].str.contains('pnl.net.total')]['Value'].values[0]\n",
    "\n",
    "# Create a DataFrame for PnL\n",
    "pnl_df = pd.DataFrame({\n",
    "    'Type': ['Gross PnL', 'Net PnL'],\n",
    "    'Value': [gross_pnl, net_pnl]\n",
    "})\n",
    "\n",
    "# Save PnL data to CSV\n",
    "pnl_df.to_csv(os.path.join(results_dir, f\"{selected}_pnl_data.csv\"), index=False)\n",
    "\n",
    "# Plot PnL\n",
    "fig = px.bar(pnl_df, x='Type', y='Value', title='Gross vs Net PnL')\n",
    "fig.write_html(os.path.join(results_dir, f\"{selected}_pnl_data.html\"))\n",
    "if has_kaleido:\n",
    "    try:\n",
    "        fig.write_image(os.path.join(results_dir, f\"{selected}_pnl_data.png\"))\n",
    "    except Exception as e:\n",
    "        print(f\"Warning: Could not save image: {e}\")\n",
    "fig.show()\n",
    "\n",
    "# 3. Streaks\n",
    "won_streak_current = trade_df[trade_df['Metric'].str.contains('streak.won.current')]['Value'].values[0]\n",
    "won_streak_longest = trade_df[trade_df['Metric'].str.contains('streak.won.longest')]['Value'].values[0]\n",
    "lost_streak_current = trade_df[trade_df['Metric'].str.contains('streak.lost.current')]['Value'].values[0]\n",
    "lost_streak_longest = trade_df[trade_df['Metric'].str.contains('streak.lost.longest')]['Value'].values[0]\n",
    "\n",
    "# Create a DataFrame for streaks\n",
    "streaks_df = pd.DataFrame({\n",
    "    'Streak Type': ['Won (Current)', 'Won (Longest)', 'Lost (Current)', 'Lost (Longest)'],\n",
    "    'Value': [won_streak_current, won_streak_longest, lost_streak_current, lost_streak_longest]\n",
    "})\n",
    "\n",
    "# Save streaks data to CSV\n",
    "streaks_df.to_csv(os.path.join(results_dir, f\"{selected}_streaks_data.csv\"), index=False)\n",
    "\n",
    "# Plot streaks\n",
    "fig = px.bar(streaks_df, x='Streak Type', y='Value', title='Winning and Losing Streaks')\n",
    "fig.write_html(os.path.join(results_dir, f\"{selected}_streaks_data.html\"))\n",
    "if has_kaleido:\n",
    "    try:\n",
    "        fig.write_image(os.path.join(results_dir, f\"{selected}_streaks_data.png\"))\n",
    "    except Exception as e:\n",
    "        print(f\"Warning: Could not save image: {e}\")\n",
    "fig.show()\n",
    "\n",
    "# 4. Trade Length\n",
    "avg_trade_length = get_metric_value(trade_df, 'len.total.average')\n",
    "max_trade_length = get_metric_value(trade_df, 'len.total.max')\n",
    "\n",
    "# Create a DataFrame for trade length (only if metrics are available)\n",
    "if avg_trade_length is not None and max_trade_length is not None:\n",
    "    trade_length_df = pd.DataFrame({\n",
    "        'Metric': ['Average Trade Length', 'Max Trade Length'],\n",
    "        'Value': [avg_trade_length, max_trade_length]\n",
    "    })\n",
    "\n",
    "    # Save trade length data to CSV\n",
    "    trade_length_df.to_csv(os.path.join(results_dir, f\"{selected}_trade_length_data.csv\"), index=False)\n",
    "\n",
    "    # Plot trade length\n",
    "    fig = px.bar(trade_length_df, x='Metric', y='Value', title='Trade Length')\n",
    "    fig.write_html(os.path.join(results_dir, f\"{selected}_trade_length_data.html\"))\n",
    "    if has_kaleido:\n",
    "        try:\n",
    "            fig.write_image(os.path.join(results_dir, f\"{selected}_trade_length_data.png\"))\n",
    "        except Exception as e:\n",
    "            print(f\"Warning: Could not save image: {e}\")\n",
    "    fig.show()\n",
    "else:\n",
    "    print(\"Trade length metrics not found in the analysis.\")\n",
    "\n",
    "# Create a summary text file\n",
    "with open(os.path.join(results_dir, f\"{selected}_summary.txt\"), \"w\") as f:\n",
    "    f.write(f\"Backtest Results Summary\\n\")\n",
    "    f.write(f\"======================\\n\\n\")\n",
    "    f.write(f\"Generated on: {datetime.datetime.now().strftime('%Y-%m-%d %H:%M:%S')}\\n\\n\")\n",
    "    f.write(f\"Total Trades: {total_trades}\\n\")\n",
    "    f.write(f\"Won Trades: {won_trades} ({won_trades/total_trades*100:.2f}%)\\n\")\n",
    "    f.write(f\"Lost Trades: {lost_trades} ({lost_trades/total_trades*100:.2f}%)\\n\\n\")\n",
    "    f.write(f\"Gross PnL: {gross_pnl}\\n\")\n",
    "    f.write(f\"Net PnL: {net_pnl}\\n\\n\")\n",
    "    f.write(f\"Current Win Streak: {won_streak_current}\\n\")\n",
    "    f.write(f\"Longest Win Streak: {won_streak_longest}\\n\")\n",
    "    f.write(f\"Current Loss Streak: {lost_streak_current}\\n\")\n",
    "    f.write(f\"Longest Loss Streak: {lost_streak_longest}\\n\")\n",
    "\n",
    "print(f\"All results saved to {results_dir}\")"
   ]
  },
  {
   "cell_type": "code",
   "execution_count": null,
   "metadata": {},
   "outputs": [],
   "source": [
    "# import pandas as pd\n",
    "# import plotly.express as px\n",
    "\n",
    "# # Function to flatten AutoOrderedDict\n",
    "# def flatten_dict(d, parent_key='', sep='.'):\n",
    "#     \"\"\"\n",
    "#     Recursively flattens a nested dictionary.\n",
    "#     \"\"\"\n",
    "#     items = []\n",
    "#     for k, v in d.items():\n",
    "#         new_key = f\"{parent_key}{sep}{k}\" if parent_key else k\n",
    "#         if isinstance(v, dict):\n",
    "#             items.extend(flatten_dict(v, new_key, sep=sep).items())\n",
    "#         else:\n",
    "#             items.append((new_key, v))\n",
    "#     return dict(items)\n",
    "\n",
    "# # Flatten the trade_analysis object\n",
    "# flat_trade_analysis = flatten_dict(trade_analysis)\n",
    "\n",
    "# # Convert the flattened dictionary to a DataFrame\n",
    "# trade_df = pd.DataFrame(list(flat_trade_analysis.items()), columns=['Metric', 'Value'])\n",
    "\n",
    "# # Print the DataFrame\n",
    "# print(trade_df)\n",
    "\n",
    "# # Visualize key metrics\n",
    "# # 1. Total Trades\n",
    "# total_trades = trade_df[trade_df['Metric'].str.contains('total.total')]['Value'].values[0]\n",
    "# won_trades = trade_df[trade_df['Metric'].str.contains('won.total')]['Value'].values[0]\n",
    "# lost_trades = trade_df[trade_df['Metric'].str.contains('lost.total')]['Value'].values[0]\n",
    "\n",
    "# # Create a DataFrame for trade outcomes\n",
    "# trade_outcomes_df = pd.DataFrame({\n",
    "#     'Outcome': ['Won', 'Lost'],\n",
    "#     'Count': [won_trades, lost_trades]\n",
    "# })\n",
    "\n",
    "# # Plot trade outcomes\n",
    "# fig = px.pie(trade_outcomes_df, values='Count', names='Outcome', title='Trade Outcomes')\n",
    "# fig.show()\n",
    "\n",
    "# # 2. PnL (Profit and Loss)\n",
    "# gross_pnl = trade_df[trade_df['Metric'].str.contains('pnl.gross.total')]['Value'].values[0]\n",
    "# net_pnl = trade_df[trade_df['Metric'].str.contains('pnl.net.total')]['Value'].values[0]\n",
    "\n",
    "# # Create a DataFrame for PnL\n",
    "# pnl_df = pd.DataFrame({\n",
    "#     'Type': ['Gross PnL', 'Net PnL'],\n",
    "#     'Value': [gross_pnl, net_pnl]\n",
    "# })\n",
    "\n",
    "# # Plot PnL\n",
    "# fig = px.bar(pnl_df, x='Type', y='Value', title='Gross vs Net PnL')\n",
    "# fig.show()\n",
    "\n",
    "# # 3. Streaks\n",
    "# won_streak_current = trade_df[trade_df['Metric'].str.contains('streak.won.current')]['Value'].values[0]\n",
    "# won_streak_longest = trade_df[trade_df['Metric'].str.contains('streak.won.longest')]['Value'].values[0]\n",
    "# lost_streak_current = trade_df[trade_df['Metric'].str.contains('streak.lost.current')]['Value'].values[0]\n",
    "# lost_streak_longest = trade_df[trade_df['Metric'].str.contains('streak.lost.longest')]['Value'].values[0]\n",
    "\n",
    "# # Create a DataFrame for streaks\n",
    "# streaks_df = pd.DataFrame({\n",
    "#     'Streak Type': ['Won (Current)', 'Won (Longest)', 'Lost (Current)', 'Lost (Longest)'],\n",
    "#     'Value': [won_streak_current, won_streak_longest, lost_streak_current, lost_streak_longest]\n",
    "# })\n",
    "\n",
    "# # Plot streaks\n",
    "# fig = px.bar(streaks_df, x='Streak Type', y='Value', title='Winning and Losing Streaks')\n",
    "# fig.show()\n",
    "\n",
    "# # 4. Trade Length\n",
    "# # Function to safely extract a metric value\n",
    "# def get_metric_value(trade_df, metric_key):\n",
    "#     \"\"\"\n",
    "#     Safely extracts a metric value from the DataFrame.\n",
    "#     Returns None if the metric is not found.\n",
    "#     \"\"\"\n",
    "#     matches = trade_df[trade_df['Metric'].str.contains(metric_key)]\n",
    "#     if not matches.empty:\n",
    "#         return matches['Value'].values[0]\n",
    "#     return None\n",
    "\n",
    "# # 4. Trade Length\n",
    "# avg_trade_length = get_metric_value(trade_df, 'len.total.average')\n",
    "# max_trade_length = get_metric_value(trade_df, 'len.total.max')\n",
    "\n",
    "# # Create a DataFrame for trade length (only if metrics are available)\n",
    "# if avg_trade_length is not None and max_trade_length is not None:\n",
    "#     trade_length_df = pd.DataFrame({\n",
    "#         'Metric': ['Average Trade Length', 'Max Trade Length'],\n",
    "#         'Value': [avg_trade_length, max_trade_length]\n",
    "#     })\n",
    "\n",
    "#     # Plot trade length\n",
    "#     fig = px.bar(trade_length_df, x='Metric', y='Value', title='Trade Length')\n",
    "#     fig.show()\n",
    "# else:\n",
    "#     print(\"Trade length metrics not found in the analysis.\")"
   ]
  },
  {
   "cell_type": "code",
   "execution_count": null,
   "metadata": {},
   "outputs": [
    {
     "name": "stdout",
     "output_type": "stream",
     "text": [
      "Portfolio analysis results will be saved to: c:\\Users\\athabit\\Desktop\\misc\\bhuv\\PEAD_Regression\\backtest\\NVDA_portfolio_analysis_20250321_185142\n",
      "Annual Return: 0.70%\n",
      "Portfolio data saved to CSV\n",
      "Warning: Could not save image: \n",
      "Image export using the \"kaleido\" engine requires the kaleido package,\n",
      "which can be installed using pip:\n",
      "    $ pip install -U kaleido\n",
      "\n"
     ]
    },
    {
     "data": {
      "application/vnd.plotly.v1+json": {
       "config": {
        "plotlyServerURL": "https://plot.ly"
       },
       "data": [
        {
         "hovertemplate": "Date=%{x}<br>Portfolio Value=%{y}<extra></extra>",
         "legendgroup": "",
         "line": {
          "color": "#636efa",
          "dash": "solid"
         },
         "marker": {
          "symbol": "circle"
         },
         "mode": "lines",
         "name": "",
         "showlegend": false,
         "type": "scattergl",
         "x": [
          "2010-08-12T16:05:00.000000000",
          "2010-08-12T16:10:00.000000000",
          "2010-08-12T16:15:00.000000000",
          "2010-08-12T16:20:00.000000000",
          "2010-08-12T16:25:00.000000000",
          "2010-08-12T16:30:00.000000000",
          "2010-08-12T16:35:00.000000000",
          "2010-08-12T16:40:00.000000000",
          "2010-08-12T16:45:00.000000000",
          "2010-08-12T16:50:00.000000000",
          "2010-08-12T16:55:00.000000000",
          "2010-08-12T17:00:00.000000000",
          "2010-08-12T17:05:00.000000000",
          "2010-08-12T17:10:00.000000000",
          "2010-08-12T17:15:00.000000000",
          "2010-08-12T17:20:00.000000000",
          "2010-08-12T17:25:00.000000000",
          "2010-08-12T17:30:00.000000000",
          "2010-08-12T17:35:00.000000000",
          "2010-08-12T17:40:00.000000000",
          "2010-08-12T17:45:00.000000000",
          "2010-08-12T17:50:00.000000000",
          "2010-08-12T17:55:00.000000000",
          "2010-08-12T18:00:00.000000000",
          "2010-08-12T18:05:00.000000000",
          "2010-08-12T18:10:00.000000000",
          "2010-08-12T18:15:00.000000000",
          "2010-08-12T18:20:00.000000000",
          "2010-08-12T18:25:00.000000000",
          "2010-08-12T18:30:00.000000000",
          "2010-08-12T18:35:00.000000000",
          "2010-08-12T18:40:00.000000000",
          "2010-08-12T18:45:00.000000000",
          "2010-08-12T18:50:00.000000000",
          "2010-08-12T18:55:00.000000000",
          "2010-11-11T16:05:00.000000000",
          "2010-11-11T16:10:00.000000000",
          "2010-11-11T16:15:00.000000000",
          "2010-11-11T16:20:00.000000000",
          "2010-11-11T16:25:00.000000000",
          "2010-11-11T16:30:00.000000000",
          "2010-11-11T16:35:00.000000000",
          "2010-11-11T16:40:00.000000000",
          "2010-11-11T16:45:00.000000000",
          "2010-11-11T16:50:00.000000000",
          "2010-11-11T16:55:00.000000000",
          "2010-11-11T17:00:00.000000000",
          "2010-11-11T17:05:00.000000000",
          "2010-11-11T17:10:00.000000000",
          "2010-11-11T17:15:00.000000000",
          "2010-11-11T17:20:00.000000000",
          "2010-11-11T17:25:00.000000000",
          "2010-11-11T17:30:00.000000000",
          "2010-11-11T17:35:00.000000000",
          "2010-11-11T17:40:00.000000000",
          "2010-11-11T17:45:00.000000000",
          "2010-11-11T17:50:00.000000000",
          "2010-11-11T17:55:00.000000000",
          "2010-11-11T18:00:00.000000000",
          "2010-11-11T18:05:00.000000000",
          "2010-11-11T18:10:00.000000000",
          "2010-11-11T18:15:00.000000000",
          "2010-11-11T18:20:00.000000000",
          "2010-11-11T18:25:00.000000000",
          "2011-02-16T16:05:00.000000000",
          "2011-02-16T16:10:00.000000000",
          "2011-02-16T16:15:00.000000000",
          "2011-02-16T16:20:00.000000000",
          "2011-02-16T16:25:00.000000000",
          "2011-02-16T16:30:00.000000000",
          "2011-02-16T16:35:00.000000000",
          "2011-02-16T16:40:00.000000000",
          "2011-02-16T16:45:00.000000000",
          "2011-02-16T16:50:00.000000000",
          "2011-02-16T16:55:00.000000000",
          "2011-02-16T17:00:00.000000000",
          "2011-02-16T17:05:00.000000000",
          "2011-02-16T17:10:00.000000000",
          "2011-02-16T17:15:00.000000000",
          "2011-02-16T17:20:00.000000000",
          "2011-02-16T17:25:00.000000000",
          "2011-02-16T17:30:00.000000000",
          "2011-02-16T17:35:00.000000000",
          "2011-02-16T17:40:00.000000000",
          "2011-02-16T17:45:00.000000000",
          "2011-02-16T17:50:00.000000000",
          "2011-02-16T17:55:00.000000000",
          "2011-02-16T18:00:00.000000000",
          "2011-02-16T18:05:00.000000000",
          "2011-02-16T18:10:00.000000000",
          "2011-02-16T18:15:00.000000000",
          "2011-02-16T18:20:00.000000000",
          "2011-02-16T18:25:00.000000000",
          "2011-05-12T16:05:00.000000000",
          "2011-05-12T16:10:00.000000000",
          "2011-05-12T16:15:00.000000000",
          "2011-05-12T16:20:00.000000000",
          "2011-05-12T16:25:00.000000000",
          "2011-05-12T16:30:00.000000000",
          "2011-05-12T16:35:00.000000000",
          "2011-05-12T16:40:00.000000000",
          "2011-05-12T16:45:00.000000000",
          "2011-05-12T16:50:00.000000000",
          "2011-05-12T16:55:00.000000000",
          "2011-05-12T17:00:00.000000000",
          "2011-05-12T17:05:00.000000000",
          "2011-05-12T17:10:00.000000000",
          "2011-05-12T17:15:00.000000000",
          "2011-05-12T17:20:00.000000000",
          "2011-05-12T17:25:00.000000000",
          "2011-05-12T17:30:00.000000000",
          "2011-05-12T17:35:00.000000000",
          "2011-05-12T17:40:00.000000000",
          "2011-05-12T17:45:00.000000000",
          "2011-05-12T17:50:00.000000000",
          "2011-05-12T17:55:00.000000000",
          "2011-05-12T18:00:00.000000000",
          "2011-05-12T18:05:00.000000000",
          "2011-05-12T18:10:00.000000000",
          "2011-05-12T18:15:00.000000000",
          "2011-05-12T18:20:00.000000000",
          "2011-05-12T18:25:00.000000000",
          "2011-05-12T18:30:00.000000000",
          "2011-05-12T18:35:00.000000000",
          "2011-05-12T18:40:00.000000000",
          "2011-05-12T18:45:00.000000000",
          "2011-05-12T18:50:00.000000000",
          "2011-05-12T18:55:00.000000000",
          "2011-08-11T16:05:00.000000000",
          "2011-08-11T16:10:00.000000000",
          "2011-08-11T16:15:00.000000000",
          "2011-08-11T16:20:00.000000000",
          "2011-08-11T16:25:00.000000000",
          "2011-08-11T16:30:00.000000000",
          "2011-08-11T16:35:00.000000000",
          "2011-08-11T16:40:00.000000000",
          "2011-08-11T16:45:00.000000000",
          "2011-08-11T16:50:00.000000000",
          "2011-08-11T16:55:00.000000000",
          "2011-08-11T17:00:00.000000000",
          "2011-08-11T17:05:00.000000000",
          "2011-08-11T17:10:00.000000000",
          "2011-08-11T17:15:00.000000000",
          "2011-08-11T17:20:00.000000000",
          "2011-08-11T17:25:00.000000000",
          "2011-08-11T17:30:00.000000000",
          "2011-08-11T17:35:00.000000000",
          "2011-08-11T17:40:00.000000000",
          "2011-08-11T17:45:00.000000000",
          "2011-08-11T17:50:00.000000000",
          "2011-08-11T17:55:00.000000000",
          "2011-08-11T18:00:00.000000000",
          "2011-08-11T18:05:00.000000000",
          "2011-08-11T18:10:00.000000000",
          "2011-08-11T18:15:00.000000000",
          "2011-08-11T18:20:00.000000000",
          "2011-08-11T18:25:00.000000000",
          "2011-08-11T18:30:00.000000000",
          "2011-08-11T18:35:00.000000000",
          "2011-08-11T18:40:00.000000000",
          "2011-08-11T18:45:00.000000000",
          "2011-08-11T18:50:00.000000000",
          "2011-08-11T18:55:00.000000000",
          "2011-11-10T16:05:00.000000000",
          "2011-11-10T16:10:00.000000000",
          "2011-11-10T16:15:00.000000000",
          "2011-11-10T16:20:00.000000000",
          "2011-11-10T16:25:00.000000000",
          "2011-11-10T16:30:00.000000000",
          "2011-11-10T16:35:00.000000000",
          "2011-11-10T16:40:00.000000000",
          "2011-11-10T16:45:00.000000000",
          "2011-11-10T16:50:00.000000000",
          "2011-11-10T16:55:00.000000000",
          "2011-11-10T17:00:00.000000000",
          "2011-11-10T17:05:00.000000000",
          "2011-11-10T17:10:00.000000000",
          "2011-11-10T17:15:00.000000000",
          "2011-11-10T17:20:00.000000000",
          "2011-11-10T17:25:00.000000000",
          "2011-11-10T17:30:00.000000000",
          "2011-11-10T17:35:00.000000000",
          "2011-11-10T17:40:00.000000000",
          "2011-11-10T17:45:00.000000000",
          "2011-11-10T17:50:00.000000000",
          "2011-11-10T17:55:00.000000000",
          "2011-11-10T18:00:00.000000000",
          "2011-11-10T18:05:00.000000000",
          "2011-11-10T18:10:00.000000000",
          "2011-11-10T18:15:00.000000000",
          "2011-11-10T18:20:00.000000000",
          "2011-11-10T18:25:00.000000000",
          "2012-02-15T16:05:00.000000000",
          "2012-02-15T16:10:00.000000000",
          "2012-02-15T16:15:00.000000000",
          "2012-02-15T16:20:00.000000000",
          "2012-02-15T16:25:00.000000000",
          "2012-02-15T16:30:00.000000000",
          "2012-02-15T16:35:00.000000000",
          "2012-02-15T16:40:00.000000000",
          "2012-02-15T16:45:00.000000000",
          "2012-02-15T16:50:00.000000000",
          "2012-02-15T16:55:00.000000000",
          "2012-02-15T17:00:00.000000000",
          "2012-02-15T17:05:00.000000000",
          "2012-02-15T17:10:00.000000000",
          "2012-02-15T17:15:00.000000000",
          "2012-02-15T17:20:00.000000000",
          "2012-02-15T17:25:00.000000000",
          "2012-02-15T17:30:00.000000000",
          "2012-02-15T17:35:00.000000000",
          "2012-02-15T17:40:00.000000000",
          "2012-02-15T17:45:00.000000000",
          "2012-02-15T17:50:00.000000000",
          "2012-02-15T17:55:00.000000000",
          "2012-02-15T18:00:00.000000000",
          "2012-02-15T18:05:00.000000000",
          "2012-02-15T18:10:00.000000000",
          "2012-02-15T18:15:00.000000000",
          "2012-02-15T18:20:00.000000000",
          "2012-02-15T18:25:00.000000000",
          "2012-05-11T16:05:00.000000000",
          "2012-05-11T16:10:00.000000000",
          "2012-05-11T16:15:00.000000000",
          "2012-05-11T16:20:00.000000000",
          "2012-05-11T16:25:00.000000000",
          "2012-05-11T16:30:00.000000000",
          "2012-05-11T16:35:00.000000000",
          "2012-05-11T16:40:00.000000000",
          "2012-05-11T16:45:00.000000000",
          "2012-05-11T16:50:00.000000000",
          "2012-05-11T16:55:00.000000000",
          "2012-05-11T17:00:00.000000000",
          "2012-05-11T17:05:00.000000000",
          "2012-05-11T17:10:00.000000000",
          "2012-05-11T17:15:00.000000000",
          "2012-05-11T17:20:00.000000000",
          "2012-05-11T17:25:00.000000000",
          "2012-05-11T17:30:00.000000000",
          "2012-05-11T17:35:00.000000000",
          "2012-05-11T17:40:00.000000000",
          "2012-05-11T17:45:00.000000000",
          "2012-05-11T17:50:00.000000000",
          "2012-05-11T17:55:00.000000000",
          "2012-05-11T18:00:00.000000000",
          "2012-05-11T18:05:00.000000000",
          "2012-05-11T18:10:00.000000000",
          "2012-05-11T18:15:00.000000000",
          "2012-05-11T18:20:00.000000000",
          "2012-05-11T18:25:00.000000000",
          "2012-05-11T18:30:00.000000000",
          "2012-05-11T18:35:00.000000000",
          "2012-05-11T18:40:00.000000000",
          "2012-05-11T18:45:00.000000000",
          "2012-05-11T18:50:00.000000000",
          "2012-05-11T18:55:00.000000000",
          "2012-08-09T16:05:00.000000000",
          "2012-08-09T16:10:00.000000000",
          "2012-08-09T16:15:00.000000000",
          "2012-08-09T16:20:00.000000000",
          "2012-08-09T16:25:00.000000000",
          "2012-08-09T16:30:00.000000000",
          "2012-08-09T16:35:00.000000000",
          "2012-08-09T16:40:00.000000000",
          "2012-08-09T16:45:00.000000000",
          "2012-08-09T16:50:00.000000000",
          "2012-08-09T16:55:00.000000000",
          "2012-08-09T17:00:00.000000000",
          "2012-08-09T17:05:00.000000000",
          "2012-08-09T17:10:00.000000000",
          "2012-08-09T17:15:00.000000000",
          "2012-08-09T17:20:00.000000000",
          "2012-08-09T17:25:00.000000000",
          "2012-08-09T17:30:00.000000000",
          "2012-08-09T17:35:00.000000000",
          "2012-08-09T17:40:00.000000000",
          "2012-08-09T17:45:00.000000000",
          "2012-08-09T17:50:00.000000000",
          "2012-08-09T17:55:00.000000000",
          "2012-08-09T18:00:00.000000000",
          "2012-08-09T18:05:00.000000000",
          "2012-08-09T18:10:00.000000000",
          "2012-08-09T18:15:00.000000000",
          "2012-08-09T18:20:00.000000000",
          "2012-08-09T18:25:00.000000000",
          "2012-08-09T18:30:00.000000000",
          "2012-08-09T18:35:00.000000000",
          "2012-08-09T18:40:00.000000000",
          "2012-08-09T18:45:00.000000000",
          "2012-08-09T18:50:00.000000000",
          "2012-08-09T18:55:00.000000000",
          "2012-11-08T16:05:00.000000000",
          "2012-11-08T16:10:00.000000000",
          "2012-11-08T16:15:00.000000000",
          "2012-11-08T16:20:00.000000000",
          "2012-11-08T16:25:00.000000000",
          "2012-11-08T16:30:00.000000000",
          "2012-11-08T16:35:00.000000000",
          "2012-11-08T16:40:00.000000000",
          "2012-11-08T16:45:00.000000000",
          "2012-11-08T16:50:00.000000000",
          "2012-11-08T16:55:00.000000000",
          "2012-11-08T17:00:00.000000000",
          "2012-11-08T17:05:00.000000000",
          "2012-11-08T17:10:00.000000000",
          "2012-11-08T17:15:00.000000000",
          "2012-11-08T17:20:00.000000000",
          "2012-11-08T17:25:00.000000000",
          "2012-11-08T17:30:00.000000000",
          "2012-11-08T17:35:00.000000000",
          "2012-11-08T17:40:00.000000000",
          "2012-11-08T17:45:00.000000000",
          "2012-11-08T17:50:00.000000000",
          "2012-11-08T17:55:00.000000000",
          "2012-11-08T18:00:00.000000000",
          "2012-11-08T18:05:00.000000000",
          "2012-11-08T18:10:00.000000000",
          "2012-11-08T18:15:00.000000000",
          "2012-11-08T18:20:00.000000000",
          "2012-11-08T18:25:00.000000000",
          "2013-02-13T16:05:00.000000000",
          "2013-02-13T16:10:00.000000000",
          "2013-02-13T16:15:00.000000000",
          "2013-02-13T16:20:00.000000000",
          "2013-02-13T16:25:00.000000000",
          "2013-02-13T16:30:00.000000000",
          "2013-02-13T16:35:00.000000000",
          "2013-02-13T16:40:00.000000000",
          "2013-02-13T16:45:00.000000000",
          "2013-02-13T16:50:00.000000000",
          "2013-02-13T16:55:00.000000000",
          "2013-02-13T17:00:00.000000000",
          "2013-02-13T17:05:00.000000000",
          "2013-02-13T17:10:00.000000000",
          "2013-02-13T17:15:00.000000000",
          "2013-02-13T17:20:00.000000000",
          "2013-02-13T17:25:00.000000000",
          "2013-02-13T17:30:00.000000000",
          "2013-02-13T17:35:00.000000000",
          "2013-02-13T17:40:00.000000000",
          "2013-02-13T17:45:00.000000000",
          "2013-02-13T17:50:00.000000000",
          "2013-02-13T17:55:00.000000000",
          "2013-02-13T18:00:00.000000000",
          "2013-02-13T18:05:00.000000000",
          "2013-02-13T18:10:00.000000000",
          "2013-02-13T18:15:00.000000000",
          "2013-02-13T18:20:00.000000000",
          "2013-02-13T18:25:00.000000000",
          "2013-05-09T16:05:00.000000000",
          "2013-05-09T16:10:00.000000000",
          "2013-05-09T16:15:00.000000000",
          "2013-05-09T16:20:00.000000000",
          "2013-05-09T16:25:00.000000000",
          "2013-05-09T16:30:00.000000000",
          "2013-05-09T16:35:00.000000000",
          "2013-05-09T16:40:00.000000000",
          "2013-05-09T16:45:00.000000000",
          "2013-05-09T16:50:00.000000000",
          "2013-05-09T16:55:00.000000000",
          "2013-05-09T17:00:00.000000000",
          "2013-05-09T17:05:00.000000000",
          "2013-05-09T17:10:00.000000000",
          "2013-05-09T17:15:00.000000000",
          "2013-05-09T17:20:00.000000000",
          "2013-05-09T17:25:00.000000000",
          "2013-05-09T17:30:00.000000000",
          "2013-05-09T17:35:00.000000000",
          "2013-05-09T17:40:00.000000000",
          "2013-05-09T17:45:00.000000000",
          "2013-05-09T17:50:00.000000000",
          "2013-05-09T17:55:00.000000000",
          "2013-05-09T18:00:00.000000000",
          "2013-05-09T18:05:00.000000000",
          "2013-05-09T18:10:00.000000000",
          "2013-05-09T18:15:00.000000000",
          "2013-05-09T18:20:00.000000000",
          "2013-05-09T18:25:00.000000000",
          "2013-05-09T18:30:00.000000000",
          "2013-05-09T18:35:00.000000000",
          "2013-05-09T18:40:00.000000000",
          "2013-05-09T18:45:00.000000000",
          "2013-05-09T18:50:00.000000000",
          "2013-05-09T18:55:00.000000000",
          "2013-08-08T16:05:00.000000000",
          "2013-08-08T16:10:00.000000000",
          "2013-08-08T16:15:00.000000000",
          "2013-08-08T16:20:00.000000000",
          "2013-08-08T16:25:00.000000000",
          "2013-08-08T16:30:00.000000000",
          "2013-08-08T16:35:00.000000000",
          "2013-08-08T16:40:00.000000000",
          "2013-08-08T16:45:00.000000000",
          "2013-08-08T16:50:00.000000000",
          "2013-08-08T16:55:00.000000000",
          "2013-08-08T17:00:00.000000000",
          "2013-08-08T17:05:00.000000000",
          "2013-08-08T17:10:00.000000000",
          "2013-08-08T17:15:00.000000000",
          "2013-08-08T17:20:00.000000000",
          "2013-08-08T17:25:00.000000000",
          "2013-08-08T17:30:00.000000000",
          "2013-08-08T17:35:00.000000000",
          "2013-08-08T17:40:00.000000000",
          "2013-08-08T17:45:00.000000000",
          "2013-08-08T17:50:00.000000000",
          "2013-08-08T17:55:00.000000000",
          "2013-08-08T18:00:00.000000000",
          "2013-08-08T18:05:00.000000000",
          "2013-08-08T18:10:00.000000000",
          "2013-08-08T18:15:00.000000000",
          "2013-08-08T18:20:00.000000000",
          "2013-08-08T18:25:00.000000000",
          "2013-08-08T18:30:00.000000000",
          "2013-08-08T18:35:00.000000000",
          "2013-08-08T18:40:00.000000000",
          "2013-08-08T18:45:00.000000000",
          "2013-08-08T18:50:00.000000000",
          "2013-08-08T18:55:00.000000000",
          "2013-11-07T16:05:00.000000000",
          "2013-11-07T16:10:00.000000000",
          "2013-11-07T16:15:00.000000000",
          "2013-11-07T16:20:00.000000000",
          "2013-11-07T16:25:00.000000000",
          "2013-11-07T16:30:00.000000000",
          "2013-11-07T16:35:00.000000000",
          "2013-11-07T16:40:00.000000000",
          "2013-11-07T16:45:00.000000000",
          "2013-11-07T16:50:00.000000000",
          "2013-11-07T16:55:00.000000000",
          "2013-11-07T17:00:00.000000000",
          "2013-11-07T17:05:00.000000000",
          "2013-11-07T17:10:00.000000000",
          "2013-11-07T17:15:00.000000000",
          "2013-11-07T17:20:00.000000000",
          "2013-11-07T17:25:00.000000000",
          "2013-11-07T17:30:00.000000000",
          "2013-11-07T17:35:00.000000000",
          "2013-11-07T17:40:00.000000000",
          "2013-11-07T17:45:00.000000000",
          "2013-11-07T17:50:00.000000000",
          "2013-11-07T17:55:00.000000000",
          "2013-11-07T18:00:00.000000000",
          "2013-11-07T18:05:00.000000000",
          "2013-11-07T18:10:00.000000000",
          "2013-11-07T18:15:00.000000000",
          "2013-11-07T18:20:00.000000000",
          "2013-11-07T18:25:00.000000000",
          "2014-02-12T16:05:00.000000000",
          "2014-02-12T16:10:00.000000000",
          "2014-02-12T16:15:00.000000000",
          "2014-02-12T16:20:00.000000000",
          "2014-02-12T16:25:00.000000000",
          "2014-02-12T16:30:00.000000000",
          "2014-02-12T16:35:00.000000000",
          "2014-02-12T16:40:00.000000000",
          "2014-02-12T16:45:00.000000000",
          "2014-02-12T16:50:00.000000000",
          "2014-02-12T16:55:00.000000000",
          "2014-02-12T17:00:00.000000000",
          "2014-02-12T17:05:00.000000000",
          "2014-02-12T17:10:00.000000000",
          "2014-02-12T17:15:00.000000000",
          "2014-02-12T17:20:00.000000000",
          "2014-02-12T17:25:00.000000000",
          "2014-02-12T17:30:00.000000000",
          "2014-02-12T17:35:00.000000000",
          "2014-02-12T17:40:00.000000000",
          "2014-02-12T17:45:00.000000000",
          "2014-02-12T17:50:00.000000000",
          "2014-02-12T17:55:00.000000000",
          "2014-02-12T18:00:00.000000000",
          "2014-02-12T18:05:00.000000000",
          "2014-02-12T18:10:00.000000000",
          "2014-02-12T18:15:00.000000000",
          "2014-02-12T18:20:00.000000000",
          "2014-02-12T18:25:00.000000000",
          "2014-05-06T16:05:00.000000000",
          "2014-05-06T16:10:00.000000000",
          "2014-05-06T16:15:00.000000000",
          "2014-05-06T16:20:00.000000000",
          "2014-05-06T16:25:00.000000000",
          "2014-05-06T16:30:00.000000000",
          "2014-05-06T16:35:00.000000000",
          "2014-05-06T16:40:00.000000000",
          "2014-05-06T16:45:00.000000000",
          "2014-05-06T16:50:00.000000000",
          "2014-05-06T16:55:00.000000000",
          "2014-05-06T17:00:00.000000000",
          "2014-05-06T17:05:00.000000000",
          "2014-05-06T17:10:00.000000000",
          "2014-05-06T17:15:00.000000000",
          "2014-05-06T17:20:00.000000000",
          "2014-05-06T17:25:00.000000000",
          "2014-05-06T17:30:00.000000000",
          "2014-05-06T17:35:00.000000000",
          "2014-05-06T17:40:00.000000000",
          "2014-05-06T17:45:00.000000000",
          "2014-05-06T17:50:00.000000000",
          "2014-05-06T17:55:00.000000000",
          "2014-05-06T18:00:00.000000000",
          "2014-05-06T18:05:00.000000000",
          "2014-05-06T18:10:00.000000000",
          "2014-05-06T18:15:00.000000000",
          "2014-05-06T18:20:00.000000000",
          "2014-05-06T18:25:00.000000000",
          "2014-05-06T18:30:00.000000000",
          "2014-05-06T18:35:00.000000000",
          "2014-05-06T18:40:00.000000000",
          "2014-05-06T18:45:00.000000000",
          "2014-05-06T18:50:00.000000000",
          "2014-05-06T18:55:00.000000000",
          "2014-08-07T16:05:00.000000000",
          "2014-08-07T16:10:00.000000000",
          "2014-08-07T16:15:00.000000000",
          "2014-08-07T16:20:00.000000000",
          "2014-08-07T16:25:00.000000000",
          "2014-08-07T16:30:00.000000000",
          "2014-08-07T16:35:00.000000000",
          "2014-08-07T16:40:00.000000000",
          "2014-08-07T16:45:00.000000000",
          "2014-08-07T16:50:00.000000000",
          "2014-08-07T16:55:00.000000000",
          "2014-08-07T17:00:00.000000000",
          "2014-08-07T17:05:00.000000000",
          "2014-08-07T17:10:00.000000000",
          "2014-08-07T17:15:00.000000000",
          "2014-08-07T17:20:00.000000000",
          "2014-08-07T17:25:00.000000000",
          "2014-08-07T17:30:00.000000000",
          "2014-08-07T17:35:00.000000000",
          "2014-08-07T17:40:00.000000000",
          "2014-08-07T17:45:00.000000000",
          "2014-08-07T17:50:00.000000000",
          "2014-08-07T17:55:00.000000000",
          "2014-08-07T18:00:00.000000000",
          "2014-08-07T18:05:00.000000000",
          "2014-08-07T18:10:00.000000000",
          "2014-08-07T18:15:00.000000000",
          "2014-08-07T18:20:00.000000000",
          "2014-08-07T18:25:00.000000000",
          "2014-08-07T18:30:00.000000000",
          "2014-08-07T18:35:00.000000000",
          "2014-08-07T18:40:00.000000000",
          "2014-08-07T18:45:00.000000000",
          "2014-08-07T18:50:00.000000000",
          "2014-08-07T18:55:00.000000000",
          "2014-11-06T16:05:00.000000000",
          "2014-11-06T16:10:00.000000000",
          "2014-11-06T16:15:00.000000000",
          "2014-11-06T16:20:00.000000000",
          "2014-11-06T16:25:00.000000000",
          "2014-11-06T16:30:00.000000000",
          "2014-11-06T16:35:00.000000000",
          "2014-11-06T16:40:00.000000000",
          "2014-11-06T16:45:00.000000000",
          "2014-11-06T16:50:00.000000000",
          "2014-11-06T16:55:00.000000000",
          "2014-11-06T17:00:00.000000000",
          "2014-11-06T17:05:00.000000000",
          "2014-11-06T17:10:00.000000000",
          "2014-11-06T17:15:00.000000000",
          "2014-11-06T17:20:00.000000000",
          "2014-11-06T17:25:00.000000000",
          "2014-11-06T17:30:00.000000000",
          "2014-11-06T17:35:00.000000000",
          "2014-11-06T17:40:00.000000000",
          "2014-11-06T17:45:00.000000000",
          "2014-11-06T17:50:00.000000000",
          "2014-11-06T17:55:00.000000000",
          "2014-11-06T18:00:00.000000000",
          "2014-11-06T18:05:00.000000000",
          "2014-11-06T18:10:00.000000000",
          "2014-11-06T18:15:00.000000000",
          "2014-11-06T18:20:00.000000000",
          "2014-11-06T18:25:00.000000000",
          "2015-02-11T16:05:00.000000000",
          "2015-02-11T16:10:00.000000000",
          "2015-02-11T16:15:00.000000000",
          "2015-02-11T16:20:00.000000000",
          "2015-02-11T16:25:00.000000000",
          "2015-02-11T16:30:00.000000000",
          "2015-02-11T16:35:00.000000000",
          "2015-02-11T16:40:00.000000000",
          "2015-02-11T16:45:00.000000000",
          "2015-02-11T16:50:00.000000000",
          "2015-02-11T16:55:00.000000000",
          "2015-02-11T17:00:00.000000000",
          "2015-02-11T17:05:00.000000000",
          "2015-02-11T17:10:00.000000000",
          "2015-02-11T17:15:00.000000000",
          "2015-02-11T17:20:00.000000000",
          "2015-02-11T17:25:00.000000000",
          "2015-02-11T17:30:00.000000000",
          "2015-02-11T17:35:00.000000000",
          "2015-02-11T17:40:00.000000000",
          "2015-02-11T17:45:00.000000000",
          "2015-02-11T17:50:00.000000000",
          "2015-02-11T17:55:00.000000000",
          "2015-02-11T18:00:00.000000000",
          "2015-02-11T18:05:00.000000000",
          "2015-02-11T18:10:00.000000000",
          "2015-02-11T18:15:00.000000000",
          "2015-02-11T18:20:00.000000000",
          "2015-02-11T18:25:00.000000000",
          "2015-05-07T16:05:00.000000000",
          "2015-05-07T16:10:00.000000000",
          "2015-05-07T16:15:00.000000000",
          "2015-05-07T16:20:00.000000000",
          "2015-05-07T16:25:00.000000000",
          "2015-05-07T16:30:00.000000000",
          "2015-05-07T16:35:00.000000000",
          "2015-05-07T16:40:00.000000000",
          "2015-05-07T16:45:00.000000000",
          "2015-05-07T16:50:00.000000000",
          "2015-05-07T16:55:00.000000000",
          "2015-05-07T17:00:00.000000000",
          "2015-05-07T17:05:00.000000000",
          "2015-05-07T17:10:00.000000000",
          "2015-05-07T17:15:00.000000000",
          "2015-05-07T17:20:00.000000000",
          "2015-05-07T17:25:00.000000000",
          "2015-05-07T17:30:00.000000000",
          "2015-05-07T17:35:00.000000000",
          "2015-05-07T17:40:00.000000000",
          "2015-05-07T17:45:00.000000000",
          "2015-05-07T17:50:00.000000000",
          "2015-05-07T17:55:00.000000000",
          "2015-05-07T18:00:00.000000000",
          "2015-05-07T18:05:00.000000000",
          "2015-05-07T18:10:00.000000000",
          "2015-05-07T18:15:00.000000000",
          "2015-05-07T18:20:00.000000000",
          "2015-05-07T18:25:00.000000000",
          "2015-05-07T18:30:00.000000000",
          "2015-05-07T18:35:00.000000000",
          "2015-05-07T18:40:00.000000000",
          "2015-05-07T18:45:00.000000000",
          "2015-05-07T18:50:00.000000000",
          "2015-05-07T18:55:00.000000000",
          "2015-08-06T16:05:00.000000000",
          "2015-08-06T16:10:00.000000000",
          "2015-08-06T16:15:00.000000000",
          "2015-08-06T16:20:00.000000000",
          "2015-08-06T16:25:00.000000000",
          "2015-08-06T16:30:00.000000000",
          "2015-08-06T16:35:00.000000000",
          "2015-08-06T16:40:00.000000000",
          "2015-08-06T16:45:00.000000000",
          "2015-08-06T16:50:00.000000000",
          "2015-08-06T16:55:00.000000000",
          "2015-08-06T17:00:00.000000000",
          "2015-08-06T17:05:00.000000000",
          "2015-08-06T17:10:00.000000000",
          "2015-08-06T17:15:00.000000000",
          "2015-08-06T17:20:00.000000000",
          "2015-08-06T17:25:00.000000000",
          "2015-08-06T17:30:00.000000000",
          "2015-08-06T17:35:00.000000000",
          "2015-08-06T17:40:00.000000000",
          "2015-08-06T17:45:00.000000000",
          "2015-08-06T17:50:00.000000000",
          "2015-08-06T17:55:00.000000000",
          "2015-08-06T18:00:00.000000000",
          "2015-08-06T18:05:00.000000000",
          "2015-08-06T18:10:00.000000000",
          "2015-08-06T18:15:00.000000000",
          "2015-08-06T18:20:00.000000000",
          "2015-08-06T18:25:00.000000000",
          "2015-08-06T18:30:00.000000000",
          "2015-08-06T18:35:00.000000000",
          "2015-08-06T18:40:00.000000000",
          "2015-08-06T18:45:00.000000000",
          "2015-08-06T18:50:00.000000000",
          "2015-08-06T18:55:00.000000000",
          "2015-11-05T16:05:00.000000000",
          "2015-11-05T16:10:00.000000000",
          "2015-11-05T16:15:00.000000000",
          "2015-11-05T16:20:00.000000000",
          "2015-11-05T16:25:00.000000000",
          "2015-11-05T16:30:00.000000000",
          "2015-11-05T16:35:00.000000000",
          "2015-11-05T16:40:00.000000000",
          "2015-11-05T16:45:00.000000000",
          "2015-11-05T16:50:00.000000000",
          "2015-11-05T16:55:00.000000000",
          "2015-11-05T17:00:00.000000000",
          "2015-11-05T17:05:00.000000000",
          "2015-11-05T17:10:00.000000000",
          "2015-11-05T17:15:00.000000000",
          "2015-11-05T17:20:00.000000000",
          "2015-11-05T17:25:00.000000000",
          "2015-11-05T17:30:00.000000000",
          "2015-11-05T17:35:00.000000000",
          "2015-11-05T17:40:00.000000000",
          "2015-11-05T17:45:00.000000000",
          "2015-11-05T17:50:00.000000000",
          "2015-11-05T17:55:00.000000000",
          "2015-11-05T18:00:00.000000000",
          "2015-11-05T18:05:00.000000000",
          "2015-11-05T18:10:00.000000000",
          "2015-11-05T18:15:00.000000000",
          "2015-11-05T18:20:00.000000000",
          "2015-11-05T18:25:00.000000000",
          "2016-02-17T16:05:00.000000000",
          "2016-02-17T16:10:00.000000000",
          "2016-02-17T16:15:00.000000000",
          "2016-02-17T16:20:00.000000000",
          "2016-02-17T16:25:00.000000000",
          "2016-02-17T16:30:00.000000000",
          "2016-02-17T16:35:00.000000000",
          "2016-02-17T16:40:00.000000000",
          "2016-02-17T16:45:00.000000000",
          "2016-02-17T16:50:00.000000000",
          "2016-02-17T16:55:00.000000000",
          "2016-02-17T17:00:00.000000000",
          "2016-02-17T17:05:00.000000000",
          "2016-02-17T17:10:00.000000000",
          "2016-02-17T17:15:00.000000000",
          "2016-02-17T17:20:00.000000000",
          "2016-02-17T17:25:00.000000000",
          "2016-02-17T17:30:00.000000000",
          "2016-02-17T17:35:00.000000000",
          "2016-02-17T17:40:00.000000000",
          "2016-02-17T17:45:00.000000000",
          "2016-02-17T17:50:00.000000000",
          "2016-02-17T17:55:00.000000000",
          "2016-02-17T18:00:00.000000000",
          "2016-02-17T18:05:00.000000000",
          "2016-02-17T18:10:00.000000000",
          "2016-02-17T18:15:00.000000000",
          "2016-02-17T18:20:00.000000000",
          "2016-02-17T18:25:00.000000000",
          "2016-05-12T16:05:00.000000000",
          "2016-05-12T16:10:00.000000000",
          "2016-05-12T16:15:00.000000000",
          "2016-05-12T16:20:00.000000000",
          "2016-05-12T16:25:00.000000000",
          "2016-05-12T16:30:00.000000000",
          "2016-05-12T16:35:00.000000000",
          "2016-05-12T16:40:00.000000000",
          "2016-05-12T16:45:00.000000000",
          "2016-05-12T16:50:00.000000000",
          "2016-05-12T16:55:00.000000000",
          "2016-05-12T17:00:00.000000000",
          "2016-05-12T17:05:00.000000000",
          "2016-05-12T17:10:00.000000000",
          "2016-05-12T17:15:00.000000000",
          "2016-05-12T17:20:00.000000000",
          "2016-05-12T17:25:00.000000000",
          "2016-05-12T17:30:00.000000000",
          "2016-05-12T17:35:00.000000000",
          "2016-05-12T17:40:00.000000000",
          "2016-05-12T17:45:00.000000000",
          "2016-05-12T17:50:00.000000000",
          "2016-05-12T17:55:00.000000000",
          "2016-05-12T18:00:00.000000000",
          "2016-05-12T18:05:00.000000000",
          "2016-05-12T18:10:00.000000000",
          "2016-05-12T18:15:00.000000000",
          "2016-05-12T18:20:00.000000000",
          "2016-05-12T18:25:00.000000000",
          "2016-05-12T18:30:00.000000000",
          "2016-05-12T18:35:00.000000000",
          "2016-05-12T18:40:00.000000000",
          "2016-05-12T18:45:00.000000000",
          "2016-05-12T18:50:00.000000000",
          "2016-05-12T18:55:00.000000000",
          "2016-08-11T16:05:00.000000000",
          "2016-08-11T16:10:00.000000000",
          "2016-08-11T16:15:00.000000000",
          "2016-08-11T16:20:00.000000000",
          "2016-08-11T16:25:00.000000000",
          "2016-08-11T16:30:00.000000000",
          "2016-08-11T16:35:00.000000000",
          "2016-08-11T16:40:00.000000000",
          "2016-08-11T16:45:00.000000000",
          "2016-08-11T16:50:00.000000000",
          "2016-08-11T16:55:00.000000000",
          "2016-08-11T17:00:00.000000000",
          "2016-08-11T17:05:00.000000000",
          "2016-08-11T17:10:00.000000000",
          "2016-08-11T17:15:00.000000000",
          "2016-08-11T17:20:00.000000000",
          "2016-08-11T17:25:00.000000000",
          "2016-08-11T17:30:00.000000000",
          "2016-08-11T17:35:00.000000000",
          "2016-08-11T17:40:00.000000000",
          "2016-08-11T17:45:00.000000000",
          "2016-08-11T17:50:00.000000000",
          "2016-08-11T17:55:00.000000000",
          "2016-08-11T18:00:00.000000000",
          "2016-08-11T18:05:00.000000000",
          "2016-08-11T18:10:00.000000000",
          "2016-08-11T18:15:00.000000000",
          "2016-08-11T18:20:00.000000000",
          "2016-08-11T18:25:00.000000000",
          "2016-08-11T18:30:00.000000000",
          "2016-08-11T18:35:00.000000000",
          "2016-08-11T18:40:00.000000000",
          "2016-08-11T18:45:00.000000000",
          "2016-08-11T18:50:00.000000000",
          "2016-08-11T18:55:00.000000000",
          "2016-11-10T16:05:00.000000000",
          "2016-11-10T16:10:00.000000000",
          "2016-11-10T16:15:00.000000000",
          "2016-11-10T16:20:00.000000000",
          "2016-11-10T16:25:00.000000000",
          "2016-11-10T16:30:00.000000000",
          "2016-11-10T16:35:00.000000000",
          "2016-11-10T16:40:00.000000000",
          "2016-11-10T16:45:00.000000000",
          "2016-11-10T16:50:00.000000000",
          "2016-11-10T16:55:00.000000000",
          "2016-11-10T17:00:00.000000000",
          "2016-11-10T17:05:00.000000000",
          "2016-11-10T17:10:00.000000000",
          "2016-11-10T17:15:00.000000000",
          "2016-11-10T17:20:00.000000000",
          "2016-11-10T17:25:00.000000000",
          "2016-11-10T17:30:00.000000000",
          "2016-11-10T17:35:00.000000000",
          "2016-11-10T17:40:00.000000000",
          "2016-11-10T17:45:00.000000000",
          "2016-11-10T17:50:00.000000000",
          "2016-11-10T17:55:00.000000000",
          "2016-11-10T18:00:00.000000000",
          "2016-11-10T18:05:00.000000000",
          "2016-11-10T18:10:00.000000000",
          "2016-11-10T18:15:00.000000000",
          "2016-11-10T18:20:00.000000000",
          "2016-11-10T18:25:00.000000000",
          "2017-02-09T16:05:00.000000000",
          "2017-02-09T16:10:00.000000000",
          "2017-02-09T16:15:00.000000000",
          "2017-02-09T16:20:00.000000000",
          "2017-02-09T16:25:00.000000000",
          "2017-02-09T16:30:00.000000000",
          "2017-02-09T16:35:00.000000000",
          "2017-02-09T16:40:00.000000000",
          "2017-02-09T16:45:00.000000000",
          "2017-02-09T16:50:00.000000000",
          "2017-02-09T16:55:00.000000000",
          "2017-02-09T17:00:00.000000000",
          "2017-02-09T17:05:00.000000000",
          "2017-02-09T17:10:00.000000000",
          "2017-02-09T17:15:00.000000000",
          "2017-02-09T17:20:00.000000000",
          "2017-02-09T17:25:00.000000000",
          "2017-02-09T17:30:00.000000000",
          "2017-02-09T17:35:00.000000000",
          "2017-02-09T17:40:00.000000000",
          "2017-02-09T17:45:00.000000000",
          "2017-02-09T17:50:00.000000000",
          "2017-02-09T17:55:00.000000000",
          "2017-02-09T18:00:00.000000000",
          "2017-02-09T18:05:00.000000000",
          "2017-02-09T18:10:00.000000000",
          "2017-02-09T18:15:00.000000000",
          "2017-02-09T18:20:00.000000000",
          "2017-02-09T18:25:00.000000000",
          "2017-05-09T16:05:00.000000000",
          "2017-05-09T16:10:00.000000000",
          "2017-05-09T16:15:00.000000000",
          "2017-05-09T16:20:00.000000000",
          "2017-05-09T16:25:00.000000000",
          "2017-05-09T16:30:00.000000000",
          "2017-05-09T16:35:00.000000000",
          "2017-05-09T16:40:00.000000000",
          "2017-05-09T16:45:00.000000000",
          "2017-05-09T16:50:00.000000000",
          "2017-05-09T16:55:00.000000000",
          "2017-05-09T17:00:00.000000000",
          "2017-05-09T17:05:00.000000000",
          "2017-05-09T17:10:00.000000000",
          "2017-05-09T17:15:00.000000000",
          "2017-05-09T17:20:00.000000000",
          "2017-05-09T17:25:00.000000000",
          "2017-05-09T17:30:00.000000000",
          "2017-05-09T17:35:00.000000000",
          "2017-05-09T17:40:00.000000000",
          "2017-05-09T17:45:00.000000000",
          "2017-05-09T17:50:00.000000000",
          "2017-05-09T17:55:00.000000000",
          "2017-05-09T18:00:00.000000000",
          "2017-05-09T18:05:00.000000000",
          "2017-05-09T18:10:00.000000000",
          "2017-05-09T18:15:00.000000000",
          "2017-05-09T18:20:00.000000000",
          "2017-05-09T18:25:00.000000000",
          "2017-05-09T18:30:00.000000000",
          "2017-05-09T18:35:00.000000000",
          "2017-05-09T18:40:00.000000000",
          "2017-05-09T18:45:00.000000000",
          "2017-05-09T18:50:00.000000000",
          "2017-05-09T18:55:00.000000000",
          "2017-08-10T16:05:00.000000000",
          "2017-08-10T16:10:00.000000000",
          "2017-08-10T16:15:00.000000000",
          "2017-08-10T16:20:00.000000000",
          "2017-08-10T16:25:00.000000000",
          "2017-08-10T16:30:00.000000000",
          "2017-08-10T16:35:00.000000000",
          "2017-08-10T16:40:00.000000000",
          "2017-08-10T16:45:00.000000000",
          "2017-08-10T16:50:00.000000000",
          "2017-08-10T16:55:00.000000000",
          "2017-08-10T17:00:00.000000000",
          "2017-08-10T17:05:00.000000000",
          "2017-08-10T17:10:00.000000000",
          "2017-08-10T17:15:00.000000000",
          "2017-08-10T17:20:00.000000000",
          "2017-08-10T17:25:00.000000000",
          "2017-08-10T17:30:00.000000000",
          "2017-08-10T17:35:00.000000000",
          "2017-08-10T17:40:00.000000000",
          "2017-08-10T17:45:00.000000000",
          "2017-08-10T17:50:00.000000000",
          "2017-08-10T17:55:00.000000000",
          "2017-08-10T18:00:00.000000000",
          "2017-08-10T18:05:00.000000000",
          "2017-08-10T18:10:00.000000000",
          "2017-08-10T18:15:00.000000000",
          "2017-08-10T18:20:00.000000000",
          "2017-08-10T18:25:00.000000000",
          "2017-08-10T18:30:00.000000000",
          "2017-08-10T18:35:00.000000000",
          "2017-08-10T18:40:00.000000000",
          "2017-08-10T18:45:00.000000000",
          "2017-08-10T18:50:00.000000000",
          "2017-08-10T18:55:00.000000000",
          "2017-11-09T16:05:00.000000000",
          "2017-11-09T16:10:00.000000000",
          "2017-11-09T16:15:00.000000000",
          "2017-11-09T16:20:00.000000000",
          "2017-11-09T16:25:00.000000000",
          "2017-11-09T16:30:00.000000000",
          "2017-11-09T16:35:00.000000000",
          "2017-11-09T16:40:00.000000000",
          "2017-11-09T16:45:00.000000000",
          "2017-11-09T16:50:00.000000000",
          "2017-11-09T16:55:00.000000000",
          "2017-11-09T17:00:00.000000000",
          "2017-11-09T17:05:00.000000000",
          "2017-11-09T17:10:00.000000000",
          "2017-11-09T17:15:00.000000000",
          "2017-11-09T17:20:00.000000000",
          "2017-11-09T17:25:00.000000000",
          "2017-11-09T17:30:00.000000000",
          "2017-11-09T17:35:00.000000000",
          "2017-11-09T17:40:00.000000000",
          "2017-11-09T17:45:00.000000000",
          "2017-11-09T17:50:00.000000000",
          "2017-11-09T17:55:00.000000000",
          "2017-11-09T18:00:00.000000000",
          "2017-11-09T18:05:00.000000000",
          "2017-11-09T18:10:00.000000000",
          "2017-11-09T18:15:00.000000000",
          "2017-11-09T18:20:00.000000000",
          "2017-11-09T18:25:00.000000000",
          "2018-02-08T16:05:00.000000000",
          "2018-02-08T16:10:00.000000000",
          "2018-02-08T16:15:00.000000000",
          "2018-02-08T16:20:00.000000000",
          "2018-02-08T16:25:00.000000000",
          "2018-02-08T16:30:00.000000000",
          "2018-02-08T16:35:00.000000000",
          "2018-02-08T16:40:00.000000000",
          "2018-02-08T16:45:00.000000000",
          "2018-02-08T16:50:00.000000000",
          "2018-02-08T16:55:00.000000000",
          "2018-02-08T17:00:00.000000000",
          "2018-02-08T17:05:00.000000000",
          "2018-02-08T17:10:00.000000000",
          "2018-02-08T17:15:00.000000000",
          "2018-02-08T17:20:00.000000000",
          "2018-02-08T17:25:00.000000000",
          "2018-02-08T17:30:00.000000000",
          "2018-02-08T17:35:00.000000000",
          "2018-02-08T17:40:00.000000000",
          "2018-02-08T17:45:00.000000000",
          "2018-02-08T17:50:00.000000000",
          "2018-02-08T17:55:00.000000000",
          "2018-02-08T18:00:00.000000000",
          "2018-02-08T18:05:00.000000000",
          "2018-02-08T18:10:00.000000000",
          "2018-02-08T18:15:00.000000000",
          "2018-02-08T18:20:00.000000000",
          "2018-02-08T18:25:00.000000000",
          "2018-05-10T16:05:00.000000000",
          "2018-05-10T16:10:00.000000000",
          "2018-05-10T16:15:00.000000000",
          "2018-05-10T16:20:00.000000000",
          "2018-05-10T16:25:00.000000000",
          "2018-05-10T16:30:00.000000000",
          "2018-05-10T16:35:00.000000000",
          "2018-05-10T16:40:00.000000000",
          "2018-05-10T16:45:00.000000000",
          "2018-05-10T16:50:00.000000000",
          "2018-05-10T16:55:00.000000000",
          "2018-05-10T17:00:00.000000000",
          "2018-05-10T17:05:00.000000000",
          "2018-05-10T17:10:00.000000000",
          "2018-05-10T17:15:00.000000000",
          "2018-05-10T17:20:00.000000000",
          "2018-05-10T17:25:00.000000000",
          "2018-05-10T17:30:00.000000000",
          "2018-05-10T17:35:00.000000000",
          "2018-05-10T17:40:00.000000000",
          "2018-05-10T17:45:00.000000000",
          "2018-05-10T17:50:00.000000000",
          "2018-05-10T17:55:00.000000000",
          "2018-05-10T18:00:00.000000000",
          "2018-05-10T18:05:00.000000000",
          "2018-05-10T18:10:00.000000000",
          "2018-05-10T18:15:00.000000000",
          "2018-05-10T18:20:00.000000000",
          "2018-05-10T18:25:00.000000000",
          "2018-05-10T18:30:00.000000000",
          "2018-05-10T18:35:00.000000000",
          "2018-05-10T18:40:00.000000000",
          "2018-05-10T18:45:00.000000000",
          "2018-05-10T18:50:00.000000000",
          "2018-05-10T18:55:00.000000000",
          "2018-08-16T16:05:00.000000000",
          "2018-08-16T16:10:00.000000000",
          "2018-08-16T16:15:00.000000000",
          "2018-08-16T16:20:00.000000000",
          "2018-08-16T16:25:00.000000000",
          "2018-08-16T16:30:00.000000000",
          "2018-08-16T16:35:00.000000000",
          "2018-08-16T16:40:00.000000000",
          "2018-08-16T16:45:00.000000000",
          "2018-08-16T16:50:00.000000000",
          "2018-08-16T16:55:00.000000000",
          "2018-08-16T17:00:00.000000000",
          "2018-08-16T17:05:00.000000000",
          "2018-08-16T17:10:00.000000000",
          "2018-08-16T17:15:00.000000000",
          "2018-08-16T17:20:00.000000000",
          "2018-08-16T17:25:00.000000000",
          "2018-08-16T17:30:00.000000000",
          "2018-08-16T17:35:00.000000000",
          "2018-08-16T17:40:00.000000000",
          "2018-08-16T17:45:00.000000000",
          "2018-08-16T17:50:00.000000000",
          "2018-08-16T17:55:00.000000000",
          "2018-08-16T18:00:00.000000000",
          "2018-08-16T18:05:00.000000000",
          "2018-08-16T18:10:00.000000000",
          "2018-08-16T18:15:00.000000000",
          "2018-08-16T18:20:00.000000000",
          "2018-08-16T18:25:00.000000000",
          "2018-08-16T18:30:00.000000000",
          "2018-08-16T18:35:00.000000000",
          "2018-08-16T18:40:00.000000000",
          "2018-08-16T18:45:00.000000000",
          "2018-08-16T18:50:00.000000000",
          "2018-08-16T18:55:00.000000000",
          "2018-11-15T16:05:00.000000000",
          "2018-11-15T16:10:00.000000000",
          "2018-11-15T16:15:00.000000000",
          "2018-11-15T16:20:00.000000000",
          "2018-11-15T16:25:00.000000000",
          "2018-11-15T16:30:00.000000000",
          "2018-11-15T16:35:00.000000000",
          "2018-11-15T16:40:00.000000000",
          "2018-11-15T16:45:00.000000000",
          "2018-11-15T16:50:00.000000000",
          "2018-11-15T16:55:00.000000000",
          "2018-11-15T17:00:00.000000000",
          "2018-11-15T17:05:00.000000000",
          "2018-11-15T17:10:00.000000000",
          "2018-11-15T17:15:00.000000000",
          "2018-11-15T17:20:00.000000000",
          "2018-11-15T17:25:00.000000000",
          "2018-11-15T17:30:00.000000000",
          "2018-11-15T17:35:00.000000000",
          "2018-11-15T17:40:00.000000000",
          "2018-11-15T17:45:00.000000000",
          "2018-11-15T17:50:00.000000000",
          "2018-11-15T17:55:00.000000000",
          "2018-11-15T18:00:00.000000000",
          "2018-11-15T18:05:00.000000000",
          "2018-11-15T18:10:00.000000000",
          "2018-11-15T18:15:00.000000000",
          "2018-11-15T18:20:00.000000000",
          "2018-11-15T18:25:00.000000000",
          "2019-02-14T16:05:00.000000000",
          "2019-02-14T16:10:00.000000000",
          "2019-02-14T16:15:00.000000000",
          "2019-02-14T16:20:00.000000000",
          "2019-02-14T16:25:00.000000000",
          "2019-02-14T16:30:00.000000000",
          "2019-02-14T16:35:00.000000000",
          "2019-02-14T16:40:00.000000000",
          "2019-02-14T16:45:00.000000000",
          "2019-02-14T16:50:00.000000000",
          "2019-02-14T16:55:00.000000000",
          "2019-02-14T17:00:00.000000000",
          "2019-02-14T17:05:00.000000000",
          "2019-02-14T17:10:00.000000000",
          "2019-02-14T17:15:00.000000000",
          "2019-02-14T17:20:00.000000000",
          "2019-02-14T17:25:00.000000000",
          "2019-02-14T17:30:00.000000000",
          "2019-02-14T17:35:00.000000000",
          "2019-02-14T17:40:00.000000000",
          "2019-02-14T17:45:00.000000000",
          "2019-02-14T17:50:00.000000000",
          "2019-02-14T17:55:00.000000000",
          "2019-02-14T18:00:00.000000000",
          "2019-02-14T18:05:00.000000000",
          "2019-02-14T18:10:00.000000000",
          "2019-02-14T18:15:00.000000000",
          "2019-02-14T18:20:00.000000000",
          "2019-02-14T18:25:00.000000000",
          "2019-05-16T16:05:00.000000000",
          "2019-05-16T16:10:00.000000000",
          "2019-05-16T16:15:00.000000000",
          "2019-05-16T16:20:00.000000000",
          "2019-05-16T16:25:00.000000000",
          "2019-05-16T16:30:00.000000000",
          "2019-05-16T16:35:00.000000000",
          "2019-05-16T16:40:00.000000000",
          "2019-05-16T16:45:00.000000000",
          "2019-05-16T16:50:00.000000000",
          "2019-05-16T16:55:00.000000000",
          "2019-05-16T17:00:00.000000000",
          "2019-05-16T17:05:00.000000000",
          "2019-05-16T17:10:00.000000000",
          "2019-05-16T17:15:00.000000000",
          "2019-05-16T17:20:00.000000000",
          "2019-05-16T17:25:00.000000000",
          "2019-05-16T17:30:00.000000000",
          "2019-05-16T17:35:00.000000000",
          "2019-05-16T17:40:00.000000000",
          "2019-05-16T17:45:00.000000000",
          "2019-05-16T17:50:00.000000000",
          "2019-05-16T17:55:00.000000000",
          "2019-05-16T18:00:00.000000000",
          "2019-05-16T18:05:00.000000000",
          "2019-05-16T18:10:00.000000000",
          "2019-05-16T18:15:00.000000000",
          "2019-05-16T18:20:00.000000000",
          "2019-05-16T18:25:00.000000000",
          "2019-05-16T18:30:00.000000000",
          "2019-05-16T18:35:00.000000000",
          "2019-05-16T18:40:00.000000000",
          "2019-05-16T18:45:00.000000000",
          "2019-05-16T18:50:00.000000000",
          "2019-05-16T18:55:00.000000000",
          "2019-08-15T16:05:00.000000000",
          "2019-08-15T16:10:00.000000000",
          "2019-08-15T16:15:00.000000000",
          "2019-08-15T16:20:00.000000000",
          "2019-08-15T16:25:00.000000000",
          "2019-08-15T16:30:00.000000000",
          "2019-08-15T16:35:00.000000000",
          "2019-08-15T16:40:00.000000000",
          "2019-08-15T16:45:00.000000000",
          "2019-08-15T16:50:00.000000000",
          "2019-08-15T16:55:00.000000000",
          "2019-08-15T17:00:00.000000000",
          "2019-08-15T17:05:00.000000000",
          "2019-08-15T17:10:00.000000000",
          "2019-08-15T17:15:00.000000000",
          "2019-08-15T17:20:00.000000000",
          "2019-08-15T17:25:00.000000000",
          "2019-08-15T17:30:00.000000000",
          "2019-08-15T17:35:00.000000000",
          "2019-08-15T17:40:00.000000000",
          "2019-08-15T17:45:00.000000000",
          "2019-08-15T17:50:00.000000000",
          "2019-08-15T17:55:00.000000000",
          "2019-08-15T18:00:00.000000000",
          "2019-08-15T18:05:00.000000000",
          "2019-08-15T18:10:00.000000000",
          "2019-08-15T18:15:00.000000000",
          "2019-08-15T18:20:00.000000000",
          "2019-08-15T18:25:00.000000000",
          "2019-08-15T18:30:00.000000000",
          "2019-08-15T18:35:00.000000000",
          "2019-08-15T18:40:00.000000000",
          "2019-08-15T18:45:00.000000000",
          "2019-08-15T18:50:00.000000000",
          "2019-08-15T18:55:00.000000000",
          "2019-11-14T16:05:00.000000000",
          "2019-11-14T16:10:00.000000000",
          "2019-11-14T16:15:00.000000000",
          "2019-11-14T16:20:00.000000000",
          "2019-11-14T16:25:00.000000000",
          "2019-11-14T16:30:00.000000000",
          "2019-11-14T16:35:00.000000000",
          "2019-11-14T16:40:00.000000000",
          "2019-11-14T16:45:00.000000000",
          "2019-11-14T16:50:00.000000000",
          "2019-11-14T16:55:00.000000000",
          "2019-11-14T17:00:00.000000000",
          "2019-11-14T17:05:00.000000000",
          "2019-11-14T17:10:00.000000000",
          "2019-11-14T17:15:00.000000000",
          "2019-11-14T17:20:00.000000000",
          "2019-11-14T17:25:00.000000000",
          "2019-11-14T17:30:00.000000000",
          "2019-11-14T17:35:00.000000000",
          "2019-11-14T17:40:00.000000000",
          "2019-11-14T17:45:00.000000000",
          "2019-11-14T17:50:00.000000000",
          "2019-11-14T17:55:00.000000000",
          "2019-11-14T18:00:00.000000000",
          "2019-11-14T18:05:00.000000000",
          "2019-11-14T18:10:00.000000000",
          "2019-11-14T18:15:00.000000000",
          "2019-11-14T18:20:00.000000000",
          "2019-11-14T18:25:00.000000000",
          "2020-02-13T16:05:00.000000000",
          "2020-02-13T16:10:00.000000000",
          "2020-02-13T16:15:00.000000000",
          "2020-02-13T16:20:00.000000000",
          "2020-02-13T16:25:00.000000000",
          "2020-02-13T16:30:00.000000000",
          "2020-02-13T16:35:00.000000000",
          "2020-02-13T16:40:00.000000000",
          "2020-02-13T16:45:00.000000000",
          "2020-02-13T16:50:00.000000000",
          "2020-02-13T16:55:00.000000000",
          "2020-02-13T17:00:00.000000000",
          "2020-02-13T17:05:00.000000000",
          "2020-02-13T17:10:00.000000000",
          "2020-02-13T17:15:00.000000000",
          "2020-02-13T17:20:00.000000000",
          "2020-02-13T17:25:00.000000000",
          "2020-02-13T17:30:00.000000000",
          "2020-02-13T17:35:00.000000000",
          "2020-02-13T17:40:00.000000000",
          "2020-02-13T17:45:00.000000000",
          "2020-02-13T17:50:00.000000000",
          "2020-02-13T17:55:00.000000000",
          "2020-02-13T18:00:00.000000000",
          "2020-02-13T18:05:00.000000000",
          "2020-02-13T18:10:00.000000000",
          "2020-02-13T18:15:00.000000000",
          "2020-02-13T18:20:00.000000000",
          "2020-02-13T18:25:00.000000000",
          "2020-05-21T16:05:00.000000000",
          "2020-05-21T16:10:00.000000000",
          "2020-05-21T16:15:00.000000000",
          "2020-05-21T16:20:00.000000000",
          "2020-05-21T16:25:00.000000000",
          "2020-05-21T16:30:00.000000000",
          "2020-05-21T16:35:00.000000000",
          "2020-05-21T16:40:00.000000000",
          "2020-05-21T16:45:00.000000000",
          "2020-05-21T16:50:00.000000000",
          "2020-05-21T16:55:00.000000000",
          "2020-05-21T17:00:00.000000000",
          "2020-05-21T17:05:00.000000000",
          "2020-05-21T17:10:00.000000000",
          "2020-05-21T17:15:00.000000000",
          "2020-05-21T17:20:00.000000000",
          "2020-05-21T17:25:00.000000000",
          "2020-05-21T17:30:00.000000000",
          "2020-05-21T17:35:00.000000000",
          "2020-05-21T17:40:00.000000000",
          "2020-05-21T17:45:00.000000000",
          "2020-05-21T17:50:00.000000000",
          "2020-05-21T17:55:00.000000000",
          "2020-05-21T18:00:00.000000000",
          "2020-05-21T18:05:00.000000000",
          "2020-05-21T18:10:00.000000000",
          "2020-05-21T18:15:00.000000000",
          "2020-05-21T18:20:00.000000000",
          "2020-05-21T18:25:00.000000000",
          "2020-05-21T18:30:00.000000000",
          "2020-05-21T18:35:00.000000000",
          "2020-05-21T18:40:00.000000000",
          "2020-05-21T18:45:00.000000000",
          "2020-05-21T18:50:00.000000000",
          "2020-05-21T18:55:00.000000000",
          "2020-08-19T16:05:00.000000000",
          "2020-08-19T16:10:00.000000000",
          "2020-08-19T16:15:00.000000000",
          "2020-08-19T16:20:00.000000000",
          "2020-08-19T16:25:00.000000000",
          "2020-08-19T16:30:00.000000000",
          "2020-08-19T16:35:00.000000000",
          "2020-08-19T16:40:00.000000000",
          "2020-08-19T16:45:00.000000000",
          "2020-08-19T16:50:00.000000000",
          "2020-08-19T16:55:00.000000000",
          "2020-08-19T17:00:00.000000000",
          "2020-08-19T17:05:00.000000000",
          "2020-08-19T17:10:00.000000000",
          "2020-08-19T17:15:00.000000000",
          "2020-08-19T17:20:00.000000000",
          "2020-08-19T17:25:00.000000000",
          "2020-08-19T17:30:00.000000000",
          "2020-08-19T17:35:00.000000000",
          "2020-08-19T17:40:00.000000000",
          "2020-08-19T17:45:00.000000000",
          "2020-08-19T17:50:00.000000000",
          "2020-08-19T17:55:00.000000000",
          "2020-08-19T18:00:00.000000000",
          "2020-08-19T18:05:00.000000000",
          "2020-08-19T18:10:00.000000000",
          "2020-08-19T18:15:00.000000000",
          "2020-08-19T18:20:00.000000000",
          "2020-08-19T18:25:00.000000000",
          "2020-08-19T18:30:00.000000000",
          "2020-08-19T18:35:00.000000000",
          "2020-08-19T18:40:00.000000000",
          "2020-08-19T18:45:00.000000000",
          "2020-08-19T18:50:00.000000000",
          "2020-08-19T18:55:00.000000000",
          "2020-11-18T16:05:00.000000000",
          "2020-11-18T16:10:00.000000000",
          "2020-11-18T16:15:00.000000000",
          "2020-11-18T16:20:00.000000000",
          "2020-11-18T16:25:00.000000000",
          "2020-11-18T16:30:00.000000000",
          "2020-11-18T16:35:00.000000000",
          "2020-11-18T16:40:00.000000000",
          "2020-11-18T16:45:00.000000000",
          "2020-11-18T16:50:00.000000000",
          "2020-11-18T16:55:00.000000000",
          "2020-11-18T17:00:00.000000000",
          "2020-11-18T17:05:00.000000000",
          "2020-11-18T17:10:00.000000000",
          "2020-11-18T17:15:00.000000000",
          "2020-11-18T17:20:00.000000000",
          "2020-11-18T17:25:00.000000000",
          "2020-11-18T17:30:00.000000000",
          "2020-11-18T17:35:00.000000000",
          "2020-11-18T17:40:00.000000000",
          "2020-11-18T17:45:00.000000000",
          "2020-11-18T17:50:00.000000000",
          "2020-11-18T17:55:00.000000000",
          "2020-11-18T18:00:00.000000000",
          "2020-11-18T18:05:00.000000000",
          "2020-11-18T18:10:00.000000000",
          "2020-11-18T18:15:00.000000000",
          "2020-11-18T18:20:00.000000000",
          "2020-11-18T18:25:00.000000000",
          "2021-02-24T16:05:00.000000000",
          "2021-02-24T16:10:00.000000000",
          "2021-02-24T16:15:00.000000000",
          "2021-02-24T16:20:00.000000000",
          "2021-02-24T16:25:00.000000000",
          "2021-02-24T16:30:00.000000000",
          "2021-02-24T16:35:00.000000000",
          "2021-02-24T16:40:00.000000000",
          "2021-02-24T16:45:00.000000000",
          "2021-02-24T16:50:00.000000000",
          "2021-02-24T16:55:00.000000000",
          "2021-02-24T17:00:00.000000000",
          "2021-02-24T17:05:00.000000000",
          "2021-02-24T17:10:00.000000000",
          "2021-02-24T17:15:00.000000000",
          "2021-02-24T17:20:00.000000000",
          "2021-02-24T17:25:00.000000000",
          "2021-02-24T17:30:00.000000000",
          "2021-02-24T17:35:00.000000000",
          "2021-02-24T17:40:00.000000000",
          "2021-02-24T17:45:00.000000000",
          "2021-02-24T17:50:00.000000000",
          "2021-02-24T17:55:00.000000000",
          "2021-02-24T18:00:00.000000000",
          "2021-02-24T18:05:00.000000000",
          "2021-02-24T18:10:00.000000000",
          "2021-02-24T18:15:00.000000000",
          "2021-02-24T18:20:00.000000000",
          "2021-02-24T18:25:00.000000000",
          "2021-05-26T16:05:00.000000000",
          "2021-05-26T16:10:00.000000000",
          "2021-05-26T16:15:00.000000000",
          "2021-05-26T16:20:00.000000000",
          "2021-05-26T16:25:00.000000000",
          "2021-05-26T16:30:00.000000000",
          "2021-05-26T16:35:00.000000000",
          "2021-05-26T16:40:00.000000000",
          "2021-05-26T16:45:00.000000000",
          "2021-05-26T16:50:00.000000000",
          "2021-05-26T16:55:00.000000000",
          "2021-05-26T17:00:00.000000000",
          "2021-05-26T17:05:00.000000000",
          "2021-05-26T17:10:00.000000000",
          "2021-05-26T17:15:00.000000000",
          "2021-05-26T17:20:00.000000000",
          "2021-05-26T17:25:00.000000000",
          "2021-05-26T17:30:00.000000000",
          "2021-05-26T17:35:00.000000000",
          "2021-05-26T17:40:00.000000000",
          "2021-05-26T17:45:00.000000000",
          "2021-05-26T17:50:00.000000000",
          "2021-05-26T17:55:00.000000000",
          "2021-05-26T18:00:00.000000000",
          "2021-05-26T18:05:00.000000000",
          "2021-05-26T18:10:00.000000000",
          "2021-05-26T18:15:00.000000000",
          "2021-05-26T18:20:00.000000000",
          "2021-05-26T18:25:00.000000000",
          "2021-05-26T18:30:00.000000000",
          "2021-05-26T18:35:00.000000000",
          "2021-05-26T18:40:00.000000000",
          "2021-05-26T18:45:00.000000000",
          "2021-05-26T18:50:00.000000000",
          "2021-05-26T18:55:00.000000000",
          "2021-08-18T16:05:00.000000000",
          "2021-08-18T16:10:00.000000000",
          "2021-08-18T16:15:00.000000000",
          "2021-08-18T16:20:00.000000000",
          "2021-08-18T16:25:00.000000000",
          "2021-08-18T16:30:00.000000000",
          "2021-08-18T16:35:00.000000000",
          "2021-08-18T16:40:00.000000000",
          "2021-08-18T16:45:00.000000000",
          "2021-08-18T16:50:00.000000000",
          "2021-08-18T16:55:00.000000000",
          "2021-08-18T17:00:00.000000000",
          "2021-08-18T17:05:00.000000000",
          "2021-08-18T17:10:00.000000000",
          "2021-08-18T17:15:00.000000000",
          "2021-08-18T17:20:00.000000000",
          "2021-08-18T17:25:00.000000000",
          "2021-08-18T17:30:00.000000000",
          "2021-08-18T17:35:00.000000000",
          "2021-08-18T17:40:00.000000000",
          "2021-08-18T17:45:00.000000000",
          "2021-08-18T17:50:00.000000000",
          "2021-08-18T17:55:00.000000000",
          "2021-08-18T18:00:00.000000000",
          "2021-08-18T18:05:00.000000000",
          "2021-08-18T18:10:00.000000000",
          "2021-08-18T18:15:00.000000000",
          "2021-08-18T18:20:00.000000000",
          "2021-08-18T18:25:00.000000000",
          "2021-08-18T18:30:00.000000000",
          "2021-08-18T18:35:00.000000000",
          "2021-08-18T18:40:00.000000000",
          "2021-08-18T18:45:00.000000000",
          "2021-08-18T18:50:00.000000000",
          "2021-08-18T18:55:00.000000000",
          "2021-11-17T16:05:00.000000000",
          "2021-11-17T16:10:00.000000000",
          "2021-11-17T16:15:00.000000000",
          "2021-11-17T16:20:00.000000000",
          "2021-11-17T16:25:00.000000000",
          "2021-11-17T16:30:00.000000000",
          "2021-11-17T16:35:00.000000000",
          "2021-11-17T16:40:00.000000000",
          "2021-11-17T16:45:00.000000000",
          "2021-11-17T16:50:00.000000000",
          "2021-11-17T16:55:00.000000000",
          "2021-11-17T17:00:00.000000000",
          "2021-11-17T17:05:00.000000000",
          "2021-11-17T17:10:00.000000000",
          "2021-11-17T17:15:00.000000000",
          "2021-11-17T17:20:00.000000000",
          "2021-11-17T17:25:00.000000000",
          "2021-11-17T17:30:00.000000000",
          "2021-11-17T17:35:00.000000000",
          "2021-11-17T17:40:00.000000000",
          "2021-11-17T17:45:00.000000000",
          "2021-11-17T17:50:00.000000000",
          "2021-11-17T17:55:00.000000000",
          "2021-11-17T18:00:00.000000000",
          "2021-11-17T18:05:00.000000000",
          "2021-11-17T18:10:00.000000000",
          "2021-11-17T18:15:00.000000000",
          "2021-11-17T18:20:00.000000000",
          "2021-11-17T18:25:00.000000000",
          "2022-02-16T16:05:00.000000000",
          "2022-02-16T16:10:00.000000000",
          "2022-02-16T16:15:00.000000000",
          "2022-02-16T16:20:00.000000000",
          "2022-02-16T16:25:00.000000000",
          "2022-02-16T16:30:00.000000000",
          "2022-02-16T16:35:00.000000000",
          "2022-02-16T16:40:00.000000000",
          "2022-02-16T16:45:00.000000000",
          "2022-02-16T16:50:00.000000000",
          "2022-02-16T16:55:00.000000000",
          "2022-02-16T17:00:00.000000000",
          "2022-02-16T17:05:00.000000000",
          "2022-02-16T17:10:00.000000000",
          "2022-02-16T17:15:00.000000000",
          "2022-02-16T17:20:00.000000000",
          "2022-02-16T17:25:00.000000000",
          "2022-02-16T17:30:00.000000000",
          "2022-02-16T17:35:00.000000000",
          "2022-02-16T17:40:00.000000000",
          "2022-02-16T17:45:00.000000000",
          "2022-02-16T17:50:00.000000000",
          "2022-02-16T17:55:00.000000000",
          "2022-02-16T18:00:00.000000000",
          "2022-02-16T18:05:00.000000000",
          "2022-02-16T18:10:00.000000000",
          "2022-02-16T18:15:00.000000000",
          "2022-02-16T18:20:00.000000000",
          "2022-02-16T18:25:00.000000000",
          "2022-05-25T16:05:00.000000000",
          "2022-05-25T16:10:00.000000000",
          "2022-05-25T16:15:00.000000000",
          "2022-05-25T16:20:00.000000000",
          "2022-05-25T16:25:00.000000000",
          "2022-05-25T16:30:00.000000000",
          "2022-05-25T16:35:00.000000000",
          "2022-05-25T16:40:00.000000000",
          "2022-05-25T16:45:00.000000000",
          "2022-05-25T16:50:00.000000000",
          "2022-05-25T16:55:00.000000000",
          "2022-05-25T17:00:00.000000000",
          "2022-05-25T17:05:00.000000000",
          "2022-05-25T17:10:00.000000000",
          "2022-05-25T17:15:00.000000000",
          "2022-05-25T17:20:00.000000000",
          "2022-05-25T17:25:00.000000000",
          "2022-05-25T17:30:00.000000000",
          "2022-05-25T17:35:00.000000000",
          "2022-05-25T17:40:00.000000000",
          "2022-05-25T17:45:00.000000000",
          "2022-05-25T17:50:00.000000000",
          "2022-05-25T17:55:00.000000000",
          "2022-05-25T18:00:00.000000000",
          "2022-05-25T18:05:00.000000000",
          "2022-05-25T18:10:00.000000000",
          "2022-05-25T18:15:00.000000000",
          "2022-05-25T18:20:00.000000000",
          "2022-05-25T18:25:00.000000000",
          "2022-05-25T18:30:00.000000000",
          "2022-05-25T18:35:00.000000000",
          "2022-05-25T18:40:00.000000000",
          "2022-05-25T18:45:00.000000000",
          "2022-05-25T18:50:00.000000000",
          "2022-05-25T18:55:00.000000000",
          "2022-08-24T16:05:00.000000000",
          "2022-08-24T16:10:00.000000000",
          "2022-08-24T16:15:00.000000000",
          "2022-08-24T16:20:00.000000000",
          "2022-08-24T16:25:00.000000000",
          "2022-08-24T16:30:00.000000000",
          "2022-08-24T16:35:00.000000000",
          "2022-08-24T16:40:00.000000000",
          "2022-08-24T16:45:00.000000000",
          "2022-08-24T16:50:00.000000000",
          "2022-08-24T16:55:00.000000000",
          "2022-08-24T17:00:00.000000000",
          "2022-08-24T17:05:00.000000000",
          "2022-08-24T17:10:00.000000000",
          "2022-08-24T17:15:00.000000000",
          "2022-08-24T17:20:00.000000000",
          "2022-08-24T17:25:00.000000000",
          "2022-08-24T17:30:00.000000000",
          "2022-08-24T17:35:00.000000000",
          "2022-08-24T17:40:00.000000000",
          "2022-08-24T17:45:00.000000000",
          "2022-08-24T17:50:00.000000000",
          "2022-08-24T17:55:00.000000000",
          "2022-08-24T18:00:00.000000000",
          "2022-08-24T18:05:00.000000000",
          "2022-08-24T18:10:00.000000000",
          "2022-08-24T18:15:00.000000000",
          "2022-08-24T18:20:00.000000000",
          "2022-08-24T18:25:00.000000000",
          "2022-08-24T18:30:00.000000000",
          "2022-08-24T18:35:00.000000000",
          "2022-08-24T18:40:00.000000000",
          "2022-08-24T18:45:00.000000000",
          "2022-08-24T18:50:00.000000000",
          "2022-08-24T18:55:00.000000000",
          "2022-11-16T16:05:00.000000000",
          "2022-11-16T16:10:00.000000000",
          "2022-11-16T16:15:00.000000000",
          "2022-11-16T16:20:00.000000000",
          "2022-11-16T16:25:00.000000000",
          "2022-11-16T16:30:00.000000000",
          "2022-11-16T16:35:00.000000000",
          "2022-11-16T16:40:00.000000000",
          "2022-11-16T16:45:00.000000000",
          "2022-11-16T16:50:00.000000000",
          "2022-11-16T16:55:00.000000000",
          "2022-11-16T17:00:00.000000000",
          "2022-11-16T17:05:00.000000000",
          "2022-11-16T17:10:00.000000000",
          "2022-11-16T17:15:00.000000000",
          "2022-11-16T17:20:00.000000000",
          "2022-11-16T17:25:00.000000000",
          "2022-11-16T17:30:00.000000000",
          "2022-11-16T17:35:00.000000000",
          "2022-11-16T17:40:00.000000000",
          "2022-11-16T17:45:00.000000000",
          "2022-11-16T17:50:00.000000000",
          "2022-11-16T17:55:00.000000000",
          "2022-11-16T18:00:00.000000000",
          "2022-11-16T18:05:00.000000000",
          "2022-11-16T18:10:00.000000000",
          "2022-11-16T18:15:00.000000000",
          "2022-11-16T18:20:00.000000000",
          "2022-11-16T18:25:00.000000000",
          "2023-02-22T16:05:00.000000000",
          "2023-02-22T16:10:00.000000000",
          "2023-02-22T16:15:00.000000000",
          "2023-02-22T16:20:00.000000000",
          "2023-02-22T16:25:00.000000000",
          "2023-02-22T16:30:00.000000000",
          "2023-02-22T16:35:00.000000000",
          "2023-02-22T16:40:00.000000000",
          "2023-02-22T16:45:00.000000000",
          "2023-02-22T16:50:00.000000000",
          "2023-02-22T16:55:00.000000000",
          "2023-02-22T17:00:00.000000000",
          "2023-02-22T17:05:00.000000000",
          "2023-02-22T17:10:00.000000000",
          "2023-02-22T17:15:00.000000000",
          "2023-02-22T17:20:00.000000000",
          "2023-02-22T17:25:00.000000000",
          "2023-02-22T17:30:00.000000000",
          "2023-02-22T17:35:00.000000000",
          "2023-02-22T17:40:00.000000000",
          "2023-02-22T17:45:00.000000000",
          "2023-02-22T17:50:00.000000000",
          "2023-02-22T17:55:00.000000000",
          "2023-02-22T18:00:00.000000000",
          "2023-02-22T18:05:00.000000000",
          "2023-02-22T18:10:00.000000000",
          "2023-02-22T18:15:00.000000000",
          "2023-02-22T18:20:00.000000000",
          "2023-02-22T18:25:00.000000000",
          "2023-05-24T16:05:00.000000000",
          "2023-05-24T16:10:00.000000000",
          "2023-05-24T16:15:00.000000000",
          "2023-05-24T16:20:00.000000000",
          "2023-05-24T16:25:00.000000000",
          "2023-05-24T16:30:00.000000000",
          "2023-05-24T16:35:00.000000000",
          "2023-05-24T16:40:00.000000000",
          "2023-05-24T16:45:00.000000000",
          "2023-05-24T16:50:00.000000000",
          "2023-05-24T16:55:00.000000000",
          "2023-05-24T17:00:00.000000000",
          "2023-05-24T17:05:00.000000000",
          "2023-05-24T17:10:00.000000000",
          "2023-05-24T17:15:00.000000000",
          "2023-05-24T17:20:00.000000000",
          "2023-05-24T17:25:00.000000000",
          "2023-05-24T17:30:00.000000000",
          "2023-05-24T17:35:00.000000000",
          "2023-05-24T17:40:00.000000000",
          "2023-05-24T17:45:00.000000000",
          "2023-05-24T17:50:00.000000000",
          "2023-05-24T17:55:00.000000000",
          "2023-05-24T18:00:00.000000000",
          "2023-05-24T18:05:00.000000000",
          "2023-05-24T18:10:00.000000000",
          "2023-05-24T18:15:00.000000000",
          "2023-05-24T18:20:00.000000000",
          "2023-05-24T18:25:00.000000000",
          "2023-05-24T18:30:00.000000000",
          "2023-05-24T18:35:00.000000000",
          "2023-05-24T18:40:00.000000000",
          "2023-05-24T18:45:00.000000000",
          "2023-05-24T18:50:00.000000000",
          "2023-05-24T18:55:00.000000000",
          "2023-08-23T16:05:00.000000000",
          "2023-08-23T16:10:00.000000000",
          "2023-08-23T16:15:00.000000000",
          "2023-08-23T16:20:00.000000000",
          "2023-08-23T16:25:00.000000000",
          "2023-08-23T16:30:00.000000000",
          "2023-08-23T16:35:00.000000000",
          "2023-08-23T16:40:00.000000000",
          "2023-08-23T16:45:00.000000000",
          "2023-08-23T16:50:00.000000000",
          "2023-08-23T16:55:00.000000000",
          "2023-08-23T17:00:00.000000000",
          "2023-08-23T17:05:00.000000000",
          "2023-08-23T17:10:00.000000000",
          "2023-08-23T17:15:00.000000000",
          "2023-08-23T17:20:00.000000000",
          "2023-08-23T17:25:00.000000000",
          "2023-08-23T17:30:00.000000000",
          "2023-08-23T17:35:00.000000000",
          "2023-08-23T17:40:00.000000000",
          "2023-08-23T17:45:00.000000000",
          "2023-08-23T17:50:00.000000000",
          "2023-08-23T17:55:00.000000000",
          "2023-08-23T18:00:00.000000000",
          "2023-08-23T18:05:00.000000000",
          "2023-08-23T18:10:00.000000000",
          "2023-08-23T18:15:00.000000000",
          "2023-08-23T18:20:00.000000000",
          "2023-08-23T18:25:00.000000000",
          "2023-08-23T18:30:00.000000000",
          "2023-08-23T18:35:00.000000000",
          "2023-08-23T18:40:00.000000000",
          "2023-08-23T18:45:00.000000000",
          "2023-08-23T18:50:00.000000000",
          "2023-08-23T18:55:00.000000000",
          "2023-11-21T16:05:00.000000000",
          "2023-11-21T16:10:00.000000000",
          "2023-11-21T16:15:00.000000000",
          "2023-11-21T16:20:00.000000000",
          "2023-11-21T16:25:00.000000000",
          "2023-11-21T16:30:00.000000000",
          "2023-11-21T16:35:00.000000000",
          "2023-11-21T16:40:00.000000000",
          "2023-11-21T16:45:00.000000000",
          "2023-11-21T16:50:00.000000000",
          "2023-11-21T16:55:00.000000000",
          "2023-11-21T17:00:00.000000000",
          "2023-11-21T17:05:00.000000000",
          "2023-11-21T17:10:00.000000000",
          "2023-11-21T17:15:00.000000000",
          "2023-11-21T17:20:00.000000000",
          "2023-11-21T17:25:00.000000000",
          "2023-11-21T17:30:00.000000000",
          "2023-11-21T17:35:00.000000000",
          "2023-11-21T17:40:00.000000000",
          "2023-11-21T17:45:00.000000000",
          "2023-11-21T17:50:00.000000000",
          "2023-11-21T17:55:00.000000000",
          "2023-11-21T18:00:00.000000000",
          "2023-11-21T18:05:00.000000000",
          "2023-11-21T18:10:00.000000000",
          "2023-11-21T18:15:00.000000000",
          "2023-11-21T18:20:00.000000000",
          "2023-11-21T18:25:00.000000000",
          "2024-02-21T16:05:00.000000000",
          "2024-02-21T16:10:00.000000000",
          "2024-02-21T16:15:00.000000000",
          "2024-02-21T16:20:00.000000000",
          "2024-02-21T16:25:00.000000000",
          "2024-02-21T16:30:00.000000000",
          "2024-02-21T16:35:00.000000000",
          "2024-02-21T16:40:00.000000000",
          "2024-02-21T16:45:00.000000000",
          "2024-02-21T16:50:00.000000000",
          "2024-02-21T16:55:00.000000000",
          "2024-02-21T17:00:00.000000000",
          "2024-02-21T17:05:00.000000000",
          "2024-02-21T17:10:00.000000000",
          "2024-02-21T17:15:00.000000000",
          "2024-02-21T17:20:00.000000000",
          "2024-02-21T17:25:00.000000000",
          "2024-02-21T17:30:00.000000000",
          "2024-02-21T17:35:00.000000000",
          "2024-02-21T17:40:00.000000000",
          "2024-02-21T17:45:00.000000000",
          "2024-02-21T17:50:00.000000000",
          "2024-02-21T17:55:00.000000000",
          "2024-02-21T18:00:00.000000000",
          "2024-02-21T18:05:00.000000000",
          "2024-02-21T18:10:00.000000000",
          "2024-02-21T18:15:00.000000000",
          "2024-02-21T18:20:00.000000000",
          "2024-02-21T18:25:00.000000000",
          "2024-05-22T16:05:00.000000000",
          "2024-05-22T16:10:00.000000000",
          "2024-05-22T16:15:00.000000000",
          "2024-05-22T16:20:00.000000000",
          "2024-05-22T16:25:00.000000000",
          "2024-05-22T16:30:00.000000000",
          "2024-05-22T16:35:00.000000000",
          "2024-05-22T16:40:00.000000000",
          "2024-05-22T16:45:00.000000000",
          "2024-05-22T16:50:00.000000000",
          "2024-05-22T16:55:00.000000000",
          "2024-05-22T17:00:00.000000000",
          "2024-05-22T17:05:00.000000000",
          "2024-05-22T17:10:00.000000000",
          "2024-05-22T17:15:00.000000000",
          "2024-05-22T17:20:00.000000000",
          "2024-05-22T17:25:00.000000000",
          "2024-05-22T17:30:00.000000000",
          "2024-05-22T17:35:00.000000000",
          "2024-05-22T17:40:00.000000000",
          "2024-05-22T17:45:00.000000000",
          "2024-05-22T17:50:00.000000000",
          "2024-05-22T17:55:00.000000000",
          "2024-05-22T18:00:00.000000000",
          "2024-05-22T18:05:00.000000000",
          "2024-05-22T18:10:00.000000000",
          "2024-05-22T18:15:00.000000000",
          "2024-05-22T18:20:00.000000000",
          "2024-05-22T18:25:00.000000000",
          "2024-05-22T18:30:00.000000000",
          "2024-05-22T18:35:00.000000000",
          "2024-05-22T18:40:00.000000000",
          "2024-05-22T18:45:00.000000000",
          "2024-05-22T18:50:00.000000000",
          "2024-05-22T18:55:00.000000000",
          "2024-08-28T16:05:00.000000000",
          "2024-08-28T16:10:00.000000000",
          "2024-08-28T16:15:00.000000000",
          "2024-08-28T16:20:00.000000000",
          "2024-08-28T16:25:00.000000000",
          "2024-08-28T16:30:00.000000000",
          "2024-08-28T16:35:00.000000000",
          "2024-08-28T16:40:00.000000000",
          "2024-08-28T16:45:00.000000000",
          "2024-08-28T16:50:00.000000000",
          "2024-08-28T16:55:00.000000000",
          "2024-08-28T17:00:00.000000000",
          "2024-08-28T17:05:00.000000000",
          "2024-08-28T17:10:00.000000000",
          "2024-08-28T17:15:00.000000000",
          "2024-08-28T17:20:00.000000000",
          "2024-08-28T17:25:00.000000000",
          "2024-08-28T17:30:00.000000000",
          "2024-08-28T17:35:00.000000000",
          "2024-08-28T17:40:00.000000000",
          "2024-08-28T17:45:00.000000000",
          "2024-08-28T17:50:00.000000000",
          "2024-08-28T17:55:00.000000000",
          "2024-08-28T18:00:00.000000000",
          "2024-08-28T18:05:00.000000000",
          "2024-08-28T18:10:00.000000000",
          "2024-08-28T18:15:00.000000000",
          "2024-08-28T18:20:00.000000000",
          "2024-08-28T18:25:00.000000000",
          "2024-08-28T18:30:00.000000000",
          "2024-08-28T18:35:00.000000000",
          "2024-08-28T18:40:00.000000000",
          "2024-08-28T18:45:00.000000000",
          "2024-08-28T18:50:00.000000000",
          "2024-08-28T18:55:00.000000000",
          "2024-11-20T16:05:00.000000000",
          "2024-11-20T16:10:00.000000000",
          "2024-11-20T16:15:00.000000000",
          "2024-11-20T16:20:00.000000000",
          "2024-11-20T16:25:00.000000000",
          "2024-11-20T16:30:00.000000000",
          "2024-11-20T16:35:00.000000000",
          "2024-11-20T16:40:00.000000000",
          "2024-11-20T16:45:00.000000000",
          "2024-11-20T16:50:00.000000000",
          "2024-11-20T16:55:00.000000000",
          "2024-11-20T17:00:00.000000000",
          "2024-11-20T17:05:00.000000000",
          "2024-11-20T17:10:00.000000000",
          "2024-11-20T17:15:00.000000000",
          "2024-11-20T17:20:00.000000000",
          "2024-11-20T17:25:00.000000000",
          "2024-11-20T17:30:00.000000000",
          "2024-11-20T17:35:00.000000000",
          "2024-11-20T17:40:00.000000000",
          "2024-11-20T17:45:00.000000000",
          "2024-11-20T17:50:00.000000000",
          "2024-11-20T17:55:00.000000000",
          "2024-11-20T18:00:00.000000000",
          "2024-11-20T18:05:00.000000000",
          "2024-11-20T18:10:00.000000000",
          "2024-11-20T18:15:00.000000000",
          "2024-11-20T18:20:00.000000000",
          "2024-11-20T18:25:00.000000000",
          "2025-02-26T16:05:00.000000000",
          "2025-02-26T16:10:00.000000000",
          "2025-02-26T16:15:00.000000000",
          "2025-02-26T16:20:00.000000000",
          "2025-02-26T16:25:00.000000000",
          "2025-02-26T16:30:00.000000000",
          "2025-02-26T16:35:00.000000000",
          "2025-02-26T16:40:00.000000000",
          "2025-02-26T16:45:00.000000000",
          "2025-02-26T16:50:00.000000000",
          "2025-02-26T16:55:00.000000000",
          "2025-02-26T17:00:00.000000000",
          "2025-02-26T17:05:00.000000000",
          "2025-02-26T17:10:00.000000000",
          "2025-02-26T17:15:00.000000000",
          "2025-02-26T17:20:00.000000000",
          "2025-02-26T17:25:00.000000000",
          "2025-02-26T17:30:00.000000000",
          "2025-02-26T17:35:00.000000000",
          "2025-02-26T17:40:00.000000000",
          "2025-02-26T17:45:00.000000000",
          "2025-02-26T17:50:00.000000000",
          "2025-02-26T17:55:00.000000000",
          "2025-02-26T18:00:00.000000000",
          "2025-02-26T18:05:00.000000000",
          "2025-02-26T18:10:00.000000000",
          "2025-02-26T18:15:00.000000000",
          "2025-02-26T18:20:00.000000000",
          "2025-02-26T18:25:00.000000000"
         ],
         "xaxis": "x",
         "y": {
          "bdata": "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",
          "dtype": "f8"
         },
         "yaxis": "y"
        }
       ],
       "layout": {
        "legend": {
         "tracegroupgap": 0
        },
        "template": {
         "data": {
          "bar": [
           {
            "error_x": {
             "color": "#2a3f5f"
            },
            "error_y": {
             "color": "#2a3f5f"
            },
            "marker": {
             "line": {
              "color": "#E5ECF6",
              "width": 0.5
             },
             "pattern": {
              "fillmode": "overlay",
              "size": 10,
              "solidity": 0.2
             }
            },
            "type": "bar"
           }
          ],
          "barpolar": [
           {
            "marker": {
             "line": {
              "color": "#E5ECF6",
              "width": 0.5
             },
             "pattern": {
              "fillmode": "overlay",
              "size": 10,
              "solidity": 0.2
             }
            },
            "type": "barpolar"
           }
          ],
          "carpet": [
           {
            "aaxis": {
             "endlinecolor": "#2a3f5f",
             "gridcolor": "white",
             "linecolor": "white",
             "minorgridcolor": "white",
             "startlinecolor": "#2a3f5f"
            },
            "baxis": {
             "endlinecolor": "#2a3f5f",
             "gridcolor": "white",
             "linecolor": "white",
             "minorgridcolor": "white",
             "startlinecolor": "#2a3f5f"
            },
            "type": "carpet"
           }
          ],
          "choropleth": [
           {
            "colorbar": {
             "outlinewidth": 0,
             "ticks": ""
            },
            "type": "choropleth"
           }
          ],
          "contour": [
           {
            "colorbar": {
             "outlinewidth": 0,
             "ticks": ""
            },
            "colorscale": [
             [
              0,
              "#0d0887"
             ],
             [
              0.1111111111111111,
              "#46039f"
             ],
             [
              0.2222222222222222,
              "#7201a8"
             ],
             [
              0.3333333333333333,
              "#9c179e"
             ],
             [
              0.4444444444444444,
              "#bd3786"
             ],
             [
              0.5555555555555556,
              "#d8576b"
             ],
             [
              0.6666666666666666,
              "#ed7953"
             ],
             [
              0.7777777777777778,
              "#fb9f3a"
             ],
             [
              0.8888888888888888,
              "#fdca26"
             ],
             [
              1,
              "#f0f921"
             ]
            ],
            "type": "contour"
           }
          ],
          "contourcarpet": [
           {
            "colorbar": {
             "outlinewidth": 0,
             "ticks": ""
            },
            "type": "contourcarpet"
           }
          ],
          "heatmap": [
           {
            "colorbar": {
             "outlinewidth": 0,
             "ticks": ""
            },
            "colorscale": [
             [
              0,
              "#0d0887"
             ],
             [
              0.1111111111111111,
              "#46039f"
             ],
             [
              0.2222222222222222,
              "#7201a8"
             ],
             [
              0.3333333333333333,
              "#9c179e"
             ],
             [
              0.4444444444444444,
              "#bd3786"
             ],
             [
              0.5555555555555556,
              "#d8576b"
             ],
             [
              0.6666666666666666,
              "#ed7953"
             ],
             [
              0.7777777777777778,
              "#fb9f3a"
             ],
             [
              0.8888888888888888,
              "#fdca26"
             ],
             [
              1,
              "#f0f921"
             ]
            ],
            "type": "heatmap"
           }
          ],
          "histogram": [
           {
            "marker": {
             "pattern": {
              "fillmode": "overlay",
              "size": 10,
              "solidity": 0.2
             }
            },
            "type": "histogram"
           }
          ],
          "histogram2d": [
           {
            "colorbar": {
             "outlinewidth": 0,
             "ticks": ""
            },
            "colorscale": [
             [
              0,
              "#0d0887"
             ],
             [
              0.1111111111111111,
              "#46039f"
             ],
             [
              0.2222222222222222,
              "#7201a8"
             ],
             [
              0.3333333333333333,
              "#9c179e"
             ],
             [
              0.4444444444444444,
              "#bd3786"
             ],
             [
              0.5555555555555556,
              "#d8576b"
             ],
             [
              0.6666666666666666,
              "#ed7953"
             ],
             [
              0.7777777777777778,
              "#fb9f3a"
             ],
             [
              0.8888888888888888,
              "#fdca26"
             ],
             [
              1,
              "#f0f921"
             ]
            ],
            "type": "histogram2d"
           }
          ],
          "histogram2dcontour": [
           {
            "colorbar": {
             "outlinewidth": 0,
             "ticks": ""
            },
            "colorscale": [
             [
              0,
              "#0d0887"
             ],
             [
              0.1111111111111111,
              "#46039f"
             ],
             [
              0.2222222222222222,
              "#7201a8"
             ],
             [
              0.3333333333333333,
              "#9c179e"
             ],
             [
              0.4444444444444444,
              "#bd3786"
             ],
             [
              0.5555555555555556,
              "#d8576b"
             ],
             [
              0.6666666666666666,
              "#ed7953"
             ],
             [
              0.7777777777777778,
              "#fb9f3a"
             ],
             [
              0.8888888888888888,
              "#fdca26"
             ],
             [
              1,
              "#f0f921"
             ]
            ],
            "type": "histogram2dcontour"
           }
          ],
          "mesh3d": [
           {
            "colorbar": {
             "outlinewidth": 0,
             "ticks": ""
            },
            "type": "mesh3d"
           }
          ],
          "parcoords": [
           {
            "line": {
             "colorbar": {
              "outlinewidth": 0,
              "ticks": ""
             }
            },
            "type": "parcoords"
           }
          ],
          "pie": [
           {
            "automargin": true,
            "type": "pie"
           }
          ],
          "scatter": [
           {
            "fillpattern": {
             "fillmode": "overlay",
             "size": 10,
             "solidity": 0.2
            },
            "type": "scatter"
           }
          ],
          "scatter3d": [
           {
            "line": {
             "colorbar": {
              "outlinewidth": 0,
              "ticks": ""
             }
            },
            "marker": {
             "colorbar": {
              "outlinewidth": 0,
              "ticks": ""
             }
            },
            "type": "scatter3d"
           }
          ],
          "scattercarpet": [
           {
            "marker": {
             "colorbar": {
              "outlinewidth": 0,
              "ticks": ""
             }
            },
            "type": "scattercarpet"
           }
          ],
          "scattergeo": [
           {
            "marker": {
             "colorbar": {
              "outlinewidth": 0,
              "ticks": ""
             }
            },
            "type": "scattergeo"
           }
          ],
          "scattergl": [
           {
            "marker": {
             "colorbar": {
              "outlinewidth": 0,
              "ticks": ""
             }
            },
            "type": "scattergl"
           }
          ],
          "scattermap": [
           {
            "marker": {
             "colorbar": {
              "outlinewidth": 0,
              "ticks": ""
             }
            },
            "type": "scattermap"
           }
          ],
          "scattermapbox": [
           {
            "marker": {
             "colorbar": {
              "outlinewidth": 0,
              "ticks": ""
             }
            },
            "type": "scattermapbox"
           }
          ],
          "scatterpolar": [
           {
            "marker": {
             "colorbar": {
              "outlinewidth": 0,
              "ticks": ""
             }
            },
            "type": "scatterpolar"
           }
          ],
          "scatterpolargl": [
           {
            "marker": {
             "colorbar": {
              "outlinewidth": 0,
              "ticks": ""
             }
            },
            "type": "scatterpolargl"
           }
          ],
          "scatterternary": [
           {
            "marker": {
             "colorbar": {
              "outlinewidth": 0,
              "ticks": ""
             }
            },
            "type": "scatterternary"
           }
          ],
          "surface": [
           {
            "colorbar": {
             "outlinewidth": 0,
             "ticks": ""
            },
            "colorscale": [
             [
              0,
              "#0d0887"
             ],
             [
              0.1111111111111111,
              "#46039f"
             ],
             [
              0.2222222222222222,
              "#7201a8"
             ],
             [
              0.3333333333333333,
              "#9c179e"
             ],
             [
              0.4444444444444444,
              "#bd3786"
             ],
             [
              0.5555555555555556,
              "#d8576b"
             ],
             [
              0.6666666666666666,
              "#ed7953"
             ],
             [
              0.7777777777777778,
              "#fb9f3a"
             ],
             [
              0.8888888888888888,
              "#fdca26"
             ],
             [
              1,
              "#f0f921"
             ]
            ],
            "type": "surface"
           }
          ],
          "table": [
           {
            "cells": {
             "fill": {
              "color": "#EBF0F8"
             },
             "line": {
              "color": "white"
             }
            },
            "header": {
             "fill": {
              "color": "#C8D4E3"
             },
             "line": {
              "color": "white"
             }
            },
            "type": "table"
           }
          ]
         },
         "layout": {
          "annotationdefaults": {
           "arrowcolor": "#2a3f5f",
           "arrowhead": 0,
           "arrowwidth": 1
          },
          "autotypenumbers": "strict",
          "coloraxis": {
           "colorbar": {
            "outlinewidth": 0,
            "ticks": ""
           }
          },
          "colorscale": {
           "diverging": [
            [
             0,
             "#8e0152"
            ],
            [
             0.1,
             "#c51b7d"
            ],
            [
             0.2,
             "#de77ae"
            ],
            [
             0.3,
             "#f1b6da"
            ],
            [
             0.4,
             "#fde0ef"
            ],
            [
             0.5,
             "#f7f7f7"
            ],
            [
             0.6,
             "#e6f5d0"
            ],
            [
             0.7,
             "#b8e186"
            ],
            [
             0.8,
             "#7fbc41"
            ],
            [
             0.9,
             "#4d9221"
            ],
            [
             1,
             "#276419"
            ]
           ],
           "sequential": [
            [
             0,
             "#0d0887"
            ],
            [
             0.1111111111111111,
             "#46039f"
            ],
            [
             0.2222222222222222,
             "#7201a8"
            ],
            [
             0.3333333333333333,
             "#9c179e"
            ],
            [
             0.4444444444444444,
             "#bd3786"
            ],
            [
             0.5555555555555556,
             "#d8576b"
            ],
            [
             0.6666666666666666,
             "#ed7953"
            ],
            [
             0.7777777777777778,
             "#fb9f3a"
            ],
            [
             0.8888888888888888,
             "#fdca26"
            ],
            [
             1,
             "#f0f921"
            ]
           ],
           "sequentialminus": [
            [
             0,
             "#0d0887"
            ],
            [
             0.1111111111111111,
             "#46039f"
            ],
            [
             0.2222222222222222,
             "#7201a8"
            ],
            [
             0.3333333333333333,
             "#9c179e"
            ],
            [
             0.4444444444444444,
             "#bd3786"
            ],
            [
             0.5555555555555556,
             "#d8576b"
            ],
            [
             0.6666666666666666,
             "#ed7953"
            ],
            [
             0.7777777777777778,
             "#fb9f3a"
            ],
            [
             0.8888888888888888,
             "#fdca26"
            ],
            [
             1,
             "#f0f921"
            ]
           ]
          },
          "colorway": [
           "#636efa",
           "#EF553B",
           "#00cc96",
           "#ab63fa",
           "#FFA15A",
           "#19d3f3",
           "#FF6692",
           "#B6E880",
           "#FF97FF",
           "#FECB52"
          ],
          "font": {
           "color": "#2a3f5f"
          },
          "geo": {
           "bgcolor": "white",
           "lakecolor": "white",
           "landcolor": "#E5ECF6",
           "showlakes": true,
           "showland": true,
           "subunitcolor": "white"
          },
          "hoverlabel": {
           "align": "left"
          },
          "hovermode": "closest",
          "mapbox": {
           "style": "light"
          },
          "paper_bgcolor": "white",
          "plot_bgcolor": "#E5ECF6",
          "polar": {
           "angularaxis": {
            "gridcolor": "white",
            "linecolor": "white",
            "ticks": ""
           },
           "bgcolor": "#E5ECF6",
           "radialaxis": {
            "gridcolor": "white",
            "linecolor": "white",
            "ticks": ""
           }
          },
          "scene": {
           "xaxis": {
            "backgroundcolor": "#E5ECF6",
            "gridcolor": "white",
            "gridwidth": 2,
            "linecolor": "white",
            "showbackground": true,
            "ticks": "",
            "zerolinecolor": "white"
           },
           "yaxis": {
            "backgroundcolor": "#E5ECF6",
            "gridcolor": "white",
            "gridwidth": 2,
            "linecolor": "white",
            "showbackground": true,
            "ticks": "",
            "zerolinecolor": "white"
           },
           "zaxis": {
            "backgroundcolor": "#E5ECF6",
            "gridcolor": "white",
            "gridwidth": 2,
            "linecolor": "white",
            "showbackground": true,
            "ticks": "",
            "zerolinecolor": "white"
           }
          },
          "shapedefaults": {
           "line": {
            "color": "#2a3f5f"
           }
          },
          "ternary": {
           "aaxis": {
            "gridcolor": "white",
            "linecolor": "white",
            "ticks": ""
           },
           "baxis": {
            "gridcolor": "white",
            "linecolor": "white",
            "ticks": ""
           },
           "bgcolor": "#E5ECF6",
           "caxis": {
            "gridcolor": "white",
            "linecolor": "white",
            "ticks": ""
           }
          },
          "title": {
           "x": 0.05
          },
          "xaxis": {
           "automargin": true,
           "gridcolor": "white",
           "linecolor": "white",
           "ticks": "",
           "title": {
            "standoff": 15
           },
           "zerolinecolor": "white",
           "zerolinewidth": 2
          },
          "yaxis": {
           "automargin": true,
           "gridcolor": "white",
           "linecolor": "white",
           "ticks": "",
           "title": {
            "standoff": 15
           },
           "zerolinecolor": "white",
           "zerolinewidth": 2
          }
         }
        },
        "title": {
         "text": "Portfolio Growth Over Time"
        },
        "xaxis": {
         "anchor": "y",
         "domain": [
          0,
          1
         ],
         "title": {
          "text": "Date"
         }
        },
        "yaxis": {
         "anchor": "x",
         "domain": [
          0,
          1
         ],
         "title": {
          "text": "Portfolio Value"
         }
        }
       }
      }
     },
     "metadata": {},
     "output_type": "display_data"
    },
    {
     "name": "stdout",
     "output_type": "stream",
     "text": [
      "Portfolio metrics saved to CSV\n",
      "Warning: Could not save drawdown image: \n",
      "Image export using the \"kaleido\" engine requires the kaleido package,\n",
      "which can be installed using pip:\n",
      "    $ pip install -U kaleido\n",
      "\n"
     ]
    },
    {
     "data": {
      "application/vnd.plotly.v1+json": {
       "config": {
        "plotlyServerURL": "https://plot.ly"
       },
       "data": [
        {
         "hovertemplate": "Date=%{x}<br>Drawdown=%{y}<extra></extra>",
         "legendgroup": "",
         "line": {
          "color": "#636efa",
          "dash": "solid"
         },
         "marker": {
          "symbol": "circle"
         },
         "mode": "lines",
         "name": "",
         "showlegend": false,
         "type": "scattergl",
         "x": [
          "2010-08-12T16:05:00.000000000",
          "2010-08-12T16:10:00.000000000",
          "2010-08-12T16:15:00.000000000",
          "2010-08-12T16:20:00.000000000",
          "2010-08-12T16:25:00.000000000",
          "2010-08-12T16:30:00.000000000",
          "2010-08-12T16:35:00.000000000",
          "2010-08-12T16:40:00.000000000",
          "2010-08-12T16:45:00.000000000",
          "2010-08-12T16:50:00.000000000",
          "2010-08-12T16:55:00.000000000",
          "2010-08-12T17:00:00.000000000",
          "2010-08-12T17:05:00.000000000",
          "2010-08-12T17:10:00.000000000",
          "2010-08-12T17:15:00.000000000",
          "2010-08-12T17:20:00.000000000",
          "2010-08-12T17:25:00.000000000",
          "2010-08-12T17:30:00.000000000",
          "2010-08-12T17:35:00.000000000",
          "2010-08-12T17:40:00.000000000",
          "2010-08-12T17:45:00.000000000",
          "2010-08-12T17:50:00.000000000",
          "2010-08-12T17:55:00.000000000",
          "2010-08-12T18:00:00.000000000",
          "2010-08-12T18:05:00.000000000",
          "2010-08-12T18:10:00.000000000",
          "2010-08-12T18:15:00.000000000",
          "2010-08-12T18:20:00.000000000",
          "2010-08-12T18:25:00.000000000",
          "2010-08-12T18:30:00.000000000",
          "2010-08-12T18:35:00.000000000",
          "2010-08-12T18:40:00.000000000",
          "2010-08-12T18:45:00.000000000",
          "2010-08-12T18:50:00.000000000",
          "2010-08-12T18:55:00.000000000",
          "2010-11-11T16:05:00.000000000",
          "2010-11-11T16:10:00.000000000",
          "2010-11-11T16:15:00.000000000",
          "2010-11-11T16:20:00.000000000",
          "2010-11-11T16:25:00.000000000",
          "2010-11-11T16:30:00.000000000",
          "2010-11-11T16:35:00.000000000",
          "2010-11-11T16:40:00.000000000",
          "2010-11-11T16:45:00.000000000",
          "2010-11-11T16:50:00.000000000",
          "2010-11-11T16:55:00.000000000",
          "2010-11-11T17:00:00.000000000",
          "2010-11-11T17:05:00.000000000",
          "2010-11-11T17:10:00.000000000",
          "2010-11-11T17:15:00.000000000",
          "2010-11-11T17:20:00.000000000",
          "2010-11-11T17:25:00.000000000",
          "2010-11-11T17:30:00.000000000",
          "2010-11-11T17:35:00.000000000",
          "2010-11-11T17:40:00.000000000",
          "2010-11-11T17:45:00.000000000",
          "2010-11-11T17:50:00.000000000",
          "2010-11-11T17:55:00.000000000",
          "2010-11-11T18:00:00.000000000",
          "2010-11-11T18:05:00.000000000",
          "2010-11-11T18:10:00.000000000",
          "2010-11-11T18:15:00.000000000",
          "2010-11-11T18:20:00.000000000",
          "2010-11-11T18:25:00.000000000",
          "2011-02-16T16:05:00.000000000",
          "2011-02-16T16:10:00.000000000",
          "2011-02-16T16:15:00.000000000",
          "2011-02-16T16:20:00.000000000",
          "2011-02-16T16:25:00.000000000",
          "2011-02-16T16:30:00.000000000",
          "2011-02-16T16:35:00.000000000",
          "2011-02-16T16:40:00.000000000",
          "2011-02-16T16:45:00.000000000",
          "2011-02-16T16:50:00.000000000",
          "2011-02-16T16:55:00.000000000",
          "2011-02-16T17:00:00.000000000",
          "2011-02-16T17:05:00.000000000",
          "2011-02-16T17:10:00.000000000",
          "2011-02-16T17:15:00.000000000",
          "2011-02-16T17:20:00.000000000",
          "2011-02-16T17:25:00.000000000",
          "2011-02-16T17:30:00.000000000",
          "2011-02-16T17:35:00.000000000",
          "2011-02-16T17:40:00.000000000",
          "2011-02-16T17:45:00.000000000",
          "2011-02-16T17:50:00.000000000",
          "2011-02-16T17:55:00.000000000",
          "2011-02-16T18:00:00.000000000",
          "2011-02-16T18:05:00.000000000",
          "2011-02-16T18:10:00.000000000",
          "2011-02-16T18:15:00.000000000",
          "2011-02-16T18:20:00.000000000",
          "2011-02-16T18:25:00.000000000",
          "2011-05-12T16:05:00.000000000",
          "2011-05-12T16:10:00.000000000",
          "2011-05-12T16:15:00.000000000",
          "2011-05-12T16:20:00.000000000",
          "2011-05-12T16:25:00.000000000",
          "2011-05-12T16:30:00.000000000",
          "2011-05-12T16:35:00.000000000",
          "2011-05-12T16:40:00.000000000",
          "2011-05-12T16:45:00.000000000",
          "2011-05-12T16:50:00.000000000",
          "2011-05-12T16:55:00.000000000",
          "2011-05-12T17:00:00.000000000",
          "2011-05-12T17:05:00.000000000",
          "2011-05-12T17:10:00.000000000",
          "2011-05-12T17:15:00.000000000",
          "2011-05-12T17:20:00.000000000",
          "2011-05-12T17:25:00.000000000",
          "2011-05-12T17:30:00.000000000",
          "2011-05-12T17:35:00.000000000",
          "2011-05-12T17:40:00.000000000",
          "2011-05-12T17:45:00.000000000",
          "2011-05-12T17:50:00.000000000",
          "2011-05-12T17:55:00.000000000",
          "2011-05-12T18:00:00.000000000",
          "2011-05-12T18:05:00.000000000",
          "2011-05-12T18:10:00.000000000",
          "2011-05-12T18:15:00.000000000",
          "2011-05-12T18:20:00.000000000",
          "2011-05-12T18:25:00.000000000",
          "2011-05-12T18:30:00.000000000",
          "2011-05-12T18:35:00.000000000",
          "2011-05-12T18:40:00.000000000",
          "2011-05-12T18:45:00.000000000",
          "2011-05-12T18:50:00.000000000",
          "2011-05-12T18:55:00.000000000",
          "2011-08-11T16:05:00.000000000",
          "2011-08-11T16:10:00.000000000",
          "2011-08-11T16:15:00.000000000",
          "2011-08-11T16:20:00.000000000",
          "2011-08-11T16:25:00.000000000",
          "2011-08-11T16:30:00.000000000",
          "2011-08-11T16:35:00.000000000",
          "2011-08-11T16:40:00.000000000",
          "2011-08-11T16:45:00.000000000",
          "2011-08-11T16:50:00.000000000",
          "2011-08-11T16:55:00.000000000",
          "2011-08-11T17:00:00.000000000",
          "2011-08-11T17:05:00.000000000",
          "2011-08-11T17:10:00.000000000",
          "2011-08-11T17:15:00.000000000",
          "2011-08-11T17:20:00.000000000",
          "2011-08-11T17:25:00.000000000",
          "2011-08-11T17:30:00.000000000",
          "2011-08-11T17:35:00.000000000",
          "2011-08-11T17:40:00.000000000",
          "2011-08-11T17:45:00.000000000",
          "2011-08-11T17:50:00.000000000",
          "2011-08-11T17:55:00.000000000",
          "2011-08-11T18:00:00.000000000",
          "2011-08-11T18:05:00.000000000",
          "2011-08-11T18:10:00.000000000",
          "2011-08-11T18:15:00.000000000",
          "2011-08-11T18:20:00.000000000",
          "2011-08-11T18:25:00.000000000",
          "2011-08-11T18:30:00.000000000",
          "2011-08-11T18:35:00.000000000",
          "2011-08-11T18:40:00.000000000",
          "2011-08-11T18:45:00.000000000",
          "2011-08-11T18:50:00.000000000",
          "2011-08-11T18:55:00.000000000",
          "2011-11-10T16:05:00.000000000",
          "2011-11-10T16:10:00.000000000",
          "2011-11-10T16:15:00.000000000",
          "2011-11-10T16:20:00.000000000",
          "2011-11-10T16:25:00.000000000",
          "2011-11-10T16:30:00.000000000",
          "2011-11-10T16:35:00.000000000",
          "2011-11-10T16:40:00.000000000",
          "2011-11-10T16:45:00.000000000",
          "2011-11-10T16:50:00.000000000",
          "2011-11-10T16:55:00.000000000",
          "2011-11-10T17:00:00.000000000",
          "2011-11-10T17:05:00.000000000",
          "2011-11-10T17:10:00.000000000",
          "2011-11-10T17:15:00.000000000",
          "2011-11-10T17:20:00.000000000",
          "2011-11-10T17:25:00.000000000",
          "2011-11-10T17:30:00.000000000",
          "2011-11-10T17:35:00.000000000",
          "2011-11-10T17:40:00.000000000",
          "2011-11-10T17:45:00.000000000",
          "2011-11-10T17:50:00.000000000",
          "2011-11-10T17:55:00.000000000",
          "2011-11-10T18:00:00.000000000",
          "2011-11-10T18:05:00.000000000",
          "2011-11-10T18:10:00.000000000",
          "2011-11-10T18:15:00.000000000",
          "2011-11-10T18:20:00.000000000",
          "2011-11-10T18:25:00.000000000",
          "2012-02-15T16:05:00.000000000",
          "2012-02-15T16:10:00.000000000",
          "2012-02-15T16:15:00.000000000",
          "2012-02-15T16:20:00.000000000",
          "2012-02-15T16:25:00.000000000",
          "2012-02-15T16:30:00.000000000",
          "2012-02-15T16:35:00.000000000",
          "2012-02-15T16:40:00.000000000",
          "2012-02-15T16:45:00.000000000",
          "2012-02-15T16:50:00.000000000",
          "2012-02-15T16:55:00.000000000",
          "2012-02-15T17:00:00.000000000",
          "2012-02-15T17:05:00.000000000",
          "2012-02-15T17:10:00.000000000",
          "2012-02-15T17:15:00.000000000",
          "2012-02-15T17:20:00.000000000",
          "2012-02-15T17:25:00.000000000",
          "2012-02-15T17:30:00.000000000",
          "2012-02-15T17:35:00.000000000",
          "2012-02-15T17:40:00.000000000",
          "2012-02-15T17:45:00.000000000",
          "2012-02-15T17:50:00.000000000",
          "2012-02-15T17:55:00.000000000",
          "2012-02-15T18:00:00.000000000",
          "2012-02-15T18:05:00.000000000",
          "2012-02-15T18:10:00.000000000",
          "2012-02-15T18:15:00.000000000",
          "2012-02-15T18:20:00.000000000",
          "2012-02-15T18:25:00.000000000",
          "2012-05-11T16:05:00.000000000",
          "2012-05-11T16:10:00.000000000",
          "2012-05-11T16:15:00.000000000",
          "2012-05-11T16:20:00.000000000",
          "2012-05-11T16:25:00.000000000",
          "2012-05-11T16:30:00.000000000",
          "2012-05-11T16:35:00.000000000",
          "2012-05-11T16:40:00.000000000",
          "2012-05-11T16:45:00.000000000",
          "2012-05-11T16:50:00.000000000",
          "2012-05-11T16:55:00.000000000",
          "2012-05-11T17:00:00.000000000",
          "2012-05-11T17:05:00.000000000",
          "2012-05-11T17:10:00.000000000",
          "2012-05-11T17:15:00.000000000",
          "2012-05-11T17:20:00.000000000",
          "2012-05-11T17:25:00.000000000",
          "2012-05-11T17:30:00.000000000",
          "2012-05-11T17:35:00.000000000",
          "2012-05-11T17:40:00.000000000",
          "2012-05-11T17:45:00.000000000",
          "2012-05-11T17:50:00.000000000",
          "2012-05-11T17:55:00.000000000",
          "2012-05-11T18:00:00.000000000",
          "2012-05-11T18:05:00.000000000",
          "2012-05-11T18:10:00.000000000",
          "2012-05-11T18:15:00.000000000",
          "2012-05-11T18:20:00.000000000",
          "2012-05-11T18:25:00.000000000",
          "2012-05-11T18:30:00.000000000",
          "2012-05-11T18:35:00.000000000",
          "2012-05-11T18:40:00.000000000",
          "2012-05-11T18:45:00.000000000",
          "2012-05-11T18:50:00.000000000",
          "2012-05-11T18:55:00.000000000",
          "2012-08-09T16:05:00.000000000",
          "2012-08-09T16:10:00.000000000",
          "2012-08-09T16:15:00.000000000",
          "2012-08-09T16:20:00.000000000",
          "2012-08-09T16:25:00.000000000",
          "2012-08-09T16:30:00.000000000",
          "2012-08-09T16:35:00.000000000",
          "2012-08-09T16:40:00.000000000",
          "2012-08-09T16:45:00.000000000",
          "2012-08-09T16:50:00.000000000",
          "2012-08-09T16:55:00.000000000",
          "2012-08-09T17:00:00.000000000",
          "2012-08-09T17:05:00.000000000",
          "2012-08-09T17:10:00.000000000",
          "2012-08-09T17:15:00.000000000",
          "2012-08-09T17:20:00.000000000",
          "2012-08-09T17:25:00.000000000",
          "2012-08-09T17:30:00.000000000",
          "2012-08-09T17:35:00.000000000",
          "2012-08-09T17:40:00.000000000",
          "2012-08-09T17:45:00.000000000",
          "2012-08-09T17:50:00.000000000",
          "2012-08-09T17:55:00.000000000",
          "2012-08-09T18:00:00.000000000",
          "2012-08-09T18:05:00.000000000",
          "2012-08-09T18:10:00.000000000",
          "2012-08-09T18:15:00.000000000",
          "2012-08-09T18:20:00.000000000",
          "2012-08-09T18:25:00.000000000",
          "2012-08-09T18:30:00.000000000",
          "2012-08-09T18:35:00.000000000",
          "2012-08-09T18:40:00.000000000",
          "2012-08-09T18:45:00.000000000",
          "2012-08-09T18:50:00.000000000",
          "2012-08-09T18:55:00.000000000",
          "2012-11-08T16:05:00.000000000",
          "2012-11-08T16:10:00.000000000",
          "2012-11-08T16:15:00.000000000",
          "2012-11-08T16:20:00.000000000",
          "2012-11-08T16:25:00.000000000",
          "2012-11-08T16:30:00.000000000",
          "2012-11-08T16:35:00.000000000",
          "2012-11-08T16:40:00.000000000",
          "2012-11-08T16:45:00.000000000",
          "2012-11-08T16:50:00.000000000",
          "2012-11-08T16:55:00.000000000",
          "2012-11-08T17:00:00.000000000",
          "2012-11-08T17:05:00.000000000",
          "2012-11-08T17:10:00.000000000",
          "2012-11-08T17:15:00.000000000",
          "2012-11-08T17:20:00.000000000",
          "2012-11-08T17:25:00.000000000",
          "2012-11-08T17:30:00.000000000",
          "2012-11-08T17:35:00.000000000",
          "2012-11-08T17:40:00.000000000",
          "2012-11-08T17:45:00.000000000",
          "2012-11-08T17:50:00.000000000",
          "2012-11-08T17:55:00.000000000",
          "2012-11-08T18:00:00.000000000",
          "2012-11-08T18:05:00.000000000",
          "2012-11-08T18:10:00.000000000",
          "2012-11-08T18:15:00.000000000",
          "2012-11-08T18:20:00.000000000",
          "2012-11-08T18:25:00.000000000",
          "2013-02-13T16:05:00.000000000",
          "2013-02-13T16:10:00.000000000",
          "2013-02-13T16:15:00.000000000",
          "2013-02-13T16:20:00.000000000",
          "2013-02-13T16:25:00.000000000",
          "2013-02-13T16:30:00.000000000",
          "2013-02-13T16:35:00.000000000",
          "2013-02-13T16:40:00.000000000",
          "2013-02-13T16:45:00.000000000",
          "2013-02-13T16:50:00.000000000",
          "2013-02-13T16:55:00.000000000",
          "2013-02-13T17:00:00.000000000",
          "2013-02-13T17:05:00.000000000",
          "2013-02-13T17:10:00.000000000",
          "2013-02-13T17:15:00.000000000",
          "2013-02-13T17:20:00.000000000",
          "2013-02-13T17:25:00.000000000",
          "2013-02-13T17:30:00.000000000",
          "2013-02-13T17:35:00.000000000",
          "2013-02-13T17:40:00.000000000",
          "2013-02-13T17:45:00.000000000",
          "2013-02-13T17:50:00.000000000",
          "2013-02-13T17:55:00.000000000",
          "2013-02-13T18:00:00.000000000",
          "2013-02-13T18:05:00.000000000",
          "2013-02-13T18:10:00.000000000",
          "2013-02-13T18:15:00.000000000",
          "2013-02-13T18:20:00.000000000",
          "2013-02-13T18:25:00.000000000",
          "2013-05-09T16:05:00.000000000",
          "2013-05-09T16:10:00.000000000",
          "2013-05-09T16:15:00.000000000",
          "2013-05-09T16:20:00.000000000",
          "2013-05-09T16:25:00.000000000",
          "2013-05-09T16:30:00.000000000",
          "2013-05-09T16:35:00.000000000",
          "2013-05-09T16:40:00.000000000",
          "2013-05-09T16:45:00.000000000",
          "2013-05-09T16:50:00.000000000",
          "2013-05-09T16:55:00.000000000",
          "2013-05-09T17:00:00.000000000",
          "2013-05-09T17:05:00.000000000",
          "2013-05-09T17:10:00.000000000",
          "2013-05-09T17:15:00.000000000",
          "2013-05-09T17:20:00.000000000",
          "2013-05-09T17:25:00.000000000",
          "2013-05-09T17:30:00.000000000",
          "2013-05-09T17:35:00.000000000",
          "2013-05-09T17:40:00.000000000",
          "2013-05-09T17:45:00.000000000",
          "2013-05-09T17:50:00.000000000",
          "2013-05-09T17:55:00.000000000",
          "2013-05-09T18:00:00.000000000",
          "2013-05-09T18:05:00.000000000",
          "2013-05-09T18:10:00.000000000",
          "2013-05-09T18:15:00.000000000",
          "2013-05-09T18:20:00.000000000",
          "2013-05-09T18:25:00.000000000",
          "2013-05-09T18:30:00.000000000",
          "2013-05-09T18:35:00.000000000",
          "2013-05-09T18:40:00.000000000",
          "2013-05-09T18:45:00.000000000",
          "2013-05-09T18:50:00.000000000",
          "2013-05-09T18:55:00.000000000",
          "2013-08-08T16:05:00.000000000",
          "2013-08-08T16:10:00.000000000",
          "2013-08-08T16:15:00.000000000",
          "2013-08-08T16:20:00.000000000",
          "2013-08-08T16:25:00.000000000",
          "2013-08-08T16:30:00.000000000",
          "2013-08-08T16:35:00.000000000",
          "2013-08-08T16:40:00.000000000",
          "2013-08-08T16:45:00.000000000",
          "2013-08-08T16:50:00.000000000",
          "2013-08-08T16:55:00.000000000",
          "2013-08-08T17:00:00.000000000",
          "2013-08-08T17:05:00.000000000",
          "2013-08-08T17:10:00.000000000",
          "2013-08-08T17:15:00.000000000",
          "2013-08-08T17:20:00.000000000",
          "2013-08-08T17:25:00.000000000",
          "2013-08-08T17:30:00.000000000",
          "2013-08-08T17:35:00.000000000",
          "2013-08-08T17:40:00.000000000",
          "2013-08-08T17:45:00.000000000",
          "2013-08-08T17:50:00.000000000",
          "2013-08-08T17:55:00.000000000",
          "2013-08-08T18:00:00.000000000",
          "2013-08-08T18:05:00.000000000",
          "2013-08-08T18:10:00.000000000",
          "2013-08-08T18:15:00.000000000",
          "2013-08-08T18:20:00.000000000",
          "2013-08-08T18:25:00.000000000",
          "2013-08-08T18:30:00.000000000",
          "2013-08-08T18:35:00.000000000",
          "2013-08-08T18:40:00.000000000",
          "2013-08-08T18:45:00.000000000",
          "2013-08-08T18:50:00.000000000",
          "2013-08-08T18:55:00.000000000",
          "2013-11-07T16:05:00.000000000",
          "2013-11-07T16:10:00.000000000",
          "2013-11-07T16:15:00.000000000",
          "2013-11-07T16:20:00.000000000",
          "2013-11-07T16:25:00.000000000",
          "2013-11-07T16:30:00.000000000",
          "2013-11-07T16:35:00.000000000",
          "2013-11-07T16:40:00.000000000",
          "2013-11-07T16:45:00.000000000",
          "2013-11-07T16:50:00.000000000",
          "2013-11-07T16:55:00.000000000",
          "2013-11-07T17:00:00.000000000",
          "2013-11-07T17:05:00.000000000",
          "2013-11-07T17:10:00.000000000",
          "2013-11-07T17:15:00.000000000",
          "2013-11-07T17:20:00.000000000",
          "2013-11-07T17:25:00.000000000",
          "2013-11-07T17:30:00.000000000",
          "2013-11-07T17:35:00.000000000",
          "2013-11-07T17:40:00.000000000",
          "2013-11-07T17:45:00.000000000",
          "2013-11-07T17:50:00.000000000",
          "2013-11-07T17:55:00.000000000",
          "2013-11-07T18:00:00.000000000",
          "2013-11-07T18:05:00.000000000",
          "2013-11-07T18:10:00.000000000",
          "2013-11-07T18:15:00.000000000",
          "2013-11-07T18:20:00.000000000",
          "2013-11-07T18:25:00.000000000",
          "2014-02-12T16:05:00.000000000",
          "2014-02-12T16:10:00.000000000",
          "2014-02-12T16:15:00.000000000",
          "2014-02-12T16:20:00.000000000",
          "2014-02-12T16:25:00.000000000",
          "2014-02-12T16:30:00.000000000",
          "2014-02-12T16:35:00.000000000",
          "2014-02-12T16:40:00.000000000",
          "2014-02-12T16:45:00.000000000",
          "2014-02-12T16:50:00.000000000",
          "2014-02-12T16:55:00.000000000",
          "2014-02-12T17:00:00.000000000",
          "2014-02-12T17:05:00.000000000",
          "2014-02-12T17:10:00.000000000",
          "2014-02-12T17:15:00.000000000",
          "2014-02-12T17:20:00.000000000",
          "2014-02-12T17:25:00.000000000",
          "2014-02-12T17:30:00.000000000",
          "2014-02-12T17:35:00.000000000",
          "2014-02-12T17:40:00.000000000",
          "2014-02-12T17:45:00.000000000",
          "2014-02-12T17:50:00.000000000",
          "2014-02-12T17:55:00.000000000",
          "2014-02-12T18:00:00.000000000",
          "2014-02-12T18:05:00.000000000",
          "2014-02-12T18:10:00.000000000",
          "2014-02-12T18:15:00.000000000",
          "2014-02-12T18:20:00.000000000",
          "2014-02-12T18:25:00.000000000",
          "2014-05-06T16:05:00.000000000",
          "2014-05-06T16:10:00.000000000",
          "2014-05-06T16:15:00.000000000",
          "2014-05-06T16:20:00.000000000",
          "2014-05-06T16:25:00.000000000",
          "2014-05-06T16:30:00.000000000",
          "2014-05-06T16:35:00.000000000",
          "2014-05-06T16:40:00.000000000",
          "2014-05-06T16:45:00.000000000",
          "2014-05-06T16:50:00.000000000",
          "2014-05-06T16:55:00.000000000",
          "2014-05-06T17:00:00.000000000",
          "2014-05-06T17:05:00.000000000",
          "2014-05-06T17:10:00.000000000",
          "2014-05-06T17:15:00.000000000",
          "2014-05-06T17:20:00.000000000",
          "2014-05-06T17:25:00.000000000",
          "2014-05-06T17:30:00.000000000",
          "2014-05-06T17:35:00.000000000",
          "2014-05-06T17:40:00.000000000",
          "2014-05-06T17:45:00.000000000",
          "2014-05-06T17:50:00.000000000",
          "2014-05-06T17:55:00.000000000",
          "2014-05-06T18:00:00.000000000",
          "2014-05-06T18:05:00.000000000",
          "2014-05-06T18:10:00.000000000",
          "2014-05-06T18:15:00.000000000",
          "2014-05-06T18:20:00.000000000",
          "2014-05-06T18:25:00.000000000",
          "2014-05-06T18:30:00.000000000",
          "2014-05-06T18:35:00.000000000",
          "2014-05-06T18:40:00.000000000",
          "2014-05-06T18:45:00.000000000",
          "2014-05-06T18:50:00.000000000",
          "2014-05-06T18:55:00.000000000",
          "2014-08-07T16:05:00.000000000",
          "2014-08-07T16:10:00.000000000",
          "2014-08-07T16:15:00.000000000",
          "2014-08-07T16:20:00.000000000",
          "2014-08-07T16:25:00.000000000",
          "2014-08-07T16:30:00.000000000",
          "2014-08-07T16:35:00.000000000",
          "2014-08-07T16:40:00.000000000",
          "2014-08-07T16:45:00.000000000",
          "2014-08-07T16:50:00.000000000",
          "2014-08-07T16:55:00.000000000",
          "2014-08-07T17:00:00.000000000",
          "2014-08-07T17:05:00.000000000",
          "2014-08-07T17:10:00.000000000",
          "2014-08-07T17:15:00.000000000",
          "2014-08-07T17:20:00.000000000",
          "2014-08-07T17:25:00.000000000",
          "2014-08-07T17:30:00.000000000",
          "2014-08-07T17:35:00.000000000",
          "2014-08-07T17:40:00.000000000",
          "2014-08-07T17:45:00.000000000",
          "2014-08-07T17:50:00.000000000",
          "2014-08-07T17:55:00.000000000",
          "2014-08-07T18:00:00.000000000",
          "2014-08-07T18:05:00.000000000",
          "2014-08-07T18:10:00.000000000",
          "2014-08-07T18:15:00.000000000",
          "2014-08-07T18:20:00.000000000",
          "2014-08-07T18:25:00.000000000",
          "2014-08-07T18:30:00.000000000",
          "2014-08-07T18:35:00.000000000",
          "2014-08-07T18:40:00.000000000",
          "2014-08-07T18:45:00.000000000",
          "2014-08-07T18:50:00.000000000",
          "2014-08-07T18:55:00.000000000",
          "2014-11-06T16:05:00.000000000",
          "2014-11-06T16:10:00.000000000",
          "2014-11-06T16:15:00.000000000",
          "2014-11-06T16:20:00.000000000",
          "2014-11-06T16:25:00.000000000",
          "2014-11-06T16:30:00.000000000",
          "2014-11-06T16:35:00.000000000",
          "2014-11-06T16:40:00.000000000",
          "2014-11-06T16:45:00.000000000",
          "2014-11-06T16:50:00.000000000",
          "2014-11-06T16:55:00.000000000",
          "2014-11-06T17:00:00.000000000",
          "2014-11-06T17:05:00.000000000",
          "2014-11-06T17:10:00.000000000",
          "2014-11-06T17:15:00.000000000",
          "2014-11-06T17:20:00.000000000",
          "2014-11-06T17:25:00.000000000",
          "2014-11-06T17:30:00.000000000",
          "2014-11-06T17:35:00.000000000",
          "2014-11-06T17:40:00.000000000",
          "2014-11-06T17:45:00.000000000",
          "2014-11-06T17:50:00.000000000",
          "2014-11-06T17:55:00.000000000",
          "2014-11-06T18:00:00.000000000",
          "2014-11-06T18:05:00.000000000",
          "2014-11-06T18:10:00.000000000",
          "2014-11-06T18:15:00.000000000",
          "2014-11-06T18:20:00.000000000",
          "2014-11-06T18:25:00.000000000",
          "2015-02-11T16:05:00.000000000",
          "2015-02-11T16:10:00.000000000",
          "2015-02-11T16:15:00.000000000",
          "2015-02-11T16:20:00.000000000",
          "2015-02-11T16:25:00.000000000",
          "2015-02-11T16:30:00.000000000",
          "2015-02-11T16:35:00.000000000",
          "2015-02-11T16:40:00.000000000",
          "2015-02-11T16:45:00.000000000",
          "2015-02-11T16:50:00.000000000",
          "2015-02-11T16:55:00.000000000",
          "2015-02-11T17:00:00.000000000",
          "2015-02-11T17:05:00.000000000",
          "2015-02-11T17:10:00.000000000",
          "2015-02-11T17:15:00.000000000",
          "2015-02-11T17:20:00.000000000",
          "2015-02-11T17:25:00.000000000",
          "2015-02-11T17:30:00.000000000",
          "2015-02-11T17:35:00.000000000",
          "2015-02-11T17:40:00.000000000",
          "2015-02-11T17:45:00.000000000",
          "2015-02-11T17:50:00.000000000",
          "2015-02-11T17:55:00.000000000",
          "2015-02-11T18:00:00.000000000",
          "2015-02-11T18:05:00.000000000",
          "2015-02-11T18:10:00.000000000",
          "2015-02-11T18:15:00.000000000",
          "2015-02-11T18:20:00.000000000",
          "2015-02-11T18:25:00.000000000",
          "2015-05-07T16:05:00.000000000",
          "2015-05-07T16:10:00.000000000",
          "2015-05-07T16:15:00.000000000",
          "2015-05-07T16:20:00.000000000",
          "2015-05-07T16:25:00.000000000",
          "2015-05-07T16:30:00.000000000",
          "2015-05-07T16:35:00.000000000",
          "2015-05-07T16:40:00.000000000",
          "2015-05-07T16:45:00.000000000",
          "2015-05-07T16:50:00.000000000",
          "2015-05-07T16:55:00.000000000",
          "2015-05-07T17:00:00.000000000",
          "2015-05-07T17:05:00.000000000",
          "2015-05-07T17:10:00.000000000",
          "2015-05-07T17:15:00.000000000",
          "2015-05-07T17:20:00.000000000",
          "2015-05-07T17:25:00.000000000",
          "2015-05-07T17:30:00.000000000",
          "2015-05-07T17:35:00.000000000",
          "2015-05-07T17:40:00.000000000",
          "2015-05-07T17:45:00.000000000",
          "2015-05-07T17:50:00.000000000",
          "2015-05-07T17:55:00.000000000",
          "2015-05-07T18:00:00.000000000",
          "2015-05-07T18:05:00.000000000",
          "2015-05-07T18:10:00.000000000",
          "2015-05-07T18:15:00.000000000",
          "2015-05-07T18:20:00.000000000",
          "2015-05-07T18:25:00.000000000",
          "2015-05-07T18:30:00.000000000",
          "2015-05-07T18:35:00.000000000",
          "2015-05-07T18:40:00.000000000",
          "2015-05-07T18:45:00.000000000",
          "2015-05-07T18:50:00.000000000",
          "2015-05-07T18:55:00.000000000",
          "2015-08-06T16:05:00.000000000",
          "2015-08-06T16:10:00.000000000",
          "2015-08-06T16:15:00.000000000",
          "2015-08-06T16:20:00.000000000",
          "2015-08-06T16:25:00.000000000",
          "2015-08-06T16:30:00.000000000",
          "2015-08-06T16:35:00.000000000",
          "2015-08-06T16:40:00.000000000",
          "2015-08-06T16:45:00.000000000",
          "2015-08-06T16:50:00.000000000",
          "2015-08-06T16:55:00.000000000",
          "2015-08-06T17:00:00.000000000",
          "2015-08-06T17:05:00.000000000",
          "2015-08-06T17:10:00.000000000",
          "2015-08-06T17:15:00.000000000",
          "2015-08-06T17:20:00.000000000",
          "2015-08-06T17:25:00.000000000",
          "2015-08-06T17:30:00.000000000",
          "2015-08-06T17:35:00.000000000",
          "2015-08-06T17:40:00.000000000",
          "2015-08-06T17:45:00.000000000",
          "2015-08-06T17:50:00.000000000",
          "2015-08-06T17:55:00.000000000",
          "2015-08-06T18:00:00.000000000",
          "2015-08-06T18:05:00.000000000",
          "2015-08-06T18:10:00.000000000",
          "2015-08-06T18:15:00.000000000",
          "2015-08-06T18:20:00.000000000",
          "2015-08-06T18:25:00.000000000",
          "2015-08-06T18:30:00.000000000",
          "2015-08-06T18:35:00.000000000",
          "2015-08-06T18:40:00.000000000",
          "2015-08-06T18:45:00.000000000",
          "2015-08-06T18:50:00.000000000",
          "2015-08-06T18:55:00.000000000",
          "2015-11-05T16:05:00.000000000",
          "2015-11-05T16:10:00.000000000",
          "2015-11-05T16:15:00.000000000",
          "2015-11-05T16:20:00.000000000",
          "2015-11-05T16:25:00.000000000",
          "2015-11-05T16:30:00.000000000",
          "2015-11-05T16:35:00.000000000",
          "2015-11-05T16:40:00.000000000",
          "2015-11-05T16:45:00.000000000",
          "2015-11-05T16:50:00.000000000",
          "2015-11-05T16:55:00.000000000",
          "2015-11-05T17:00:00.000000000",
          "2015-11-05T17:05:00.000000000",
          "2015-11-05T17:10:00.000000000",
          "2015-11-05T17:15:00.000000000",
          "2015-11-05T17:20:00.000000000",
          "2015-11-05T17:25:00.000000000",
          "2015-11-05T17:30:00.000000000",
          "2015-11-05T17:35:00.000000000",
          "2015-11-05T17:40:00.000000000",
          "2015-11-05T17:45:00.000000000",
          "2015-11-05T17:50:00.000000000",
          "2015-11-05T17:55:00.000000000",
          "2015-11-05T18:00:00.000000000",
          "2015-11-05T18:05:00.000000000",
          "2015-11-05T18:10:00.000000000",
          "2015-11-05T18:15:00.000000000",
          "2015-11-05T18:20:00.000000000",
          "2015-11-05T18:25:00.000000000",
          "2016-02-17T16:05:00.000000000",
          "2016-02-17T16:10:00.000000000",
          "2016-02-17T16:15:00.000000000",
          "2016-02-17T16:20:00.000000000",
          "2016-02-17T16:25:00.000000000",
          "2016-02-17T16:30:00.000000000",
          "2016-02-17T16:35:00.000000000",
          "2016-02-17T16:40:00.000000000",
          "2016-02-17T16:45:00.000000000",
          "2016-02-17T16:50:00.000000000",
          "2016-02-17T16:55:00.000000000",
          "2016-02-17T17:00:00.000000000",
          "2016-02-17T17:05:00.000000000",
          "2016-02-17T17:10:00.000000000",
          "2016-02-17T17:15:00.000000000",
          "2016-02-17T17:20:00.000000000",
          "2016-02-17T17:25:00.000000000",
          "2016-02-17T17:30:00.000000000",
          "2016-02-17T17:35:00.000000000",
          "2016-02-17T17:40:00.000000000",
          "2016-02-17T17:45:00.000000000",
          "2016-02-17T17:50:00.000000000",
          "2016-02-17T17:55:00.000000000",
          "2016-02-17T18:00:00.000000000",
          "2016-02-17T18:05:00.000000000",
          "2016-02-17T18:10:00.000000000",
          "2016-02-17T18:15:00.000000000",
          "2016-02-17T18:20:00.000000000",
          "2016-02-17T18:25:00.000000000",
          "2016-05-12T16:05:00.000000000",
          "2016-05-12T16:10:00.000000000",
          "2016-05-12T16:15:00.000000000",
          "2016-05-12T16:20:00.000000000",
          "2016-05-12T16:25:00.000000000",
          "2016-05-12T16:30:00.000000000",
          "2016-05-12T16:35:00.000000000",
          "2016-05-12T16:40:00.000000000",
          "2016-05-12T16:45:00.000000000",
          "2016-05-12T16:50:00.000000000",
          "2016-05-12T16:55:00.000000000",
          "2016-05-12T17:00:00.000000000",
          "2016-05-12T17:05:00.000000000",
          "2016-05-12T17:10:00.000000000",
          "2016-05-12T17:15:00.000000000",
          "2016-05-12T17:20:00.000000000",
          "2016-05-12T17:25:00.000000000",
          "2016-05-12T17:30:00.000000000",
          "2016-05-12T17:35:00.000000000",
          "2016-05-12T17:40:00.000000000",
          "2016-05-12T17:45:00.000000000",
          "2016-05-12T17:50:00.000000000",
          "2016-05-12T17:55:00.000000000",
          "2016-05-12T18:00:00.000000000",
          "2016-05-12T18:05:00.000000000",
          "2016-05-12T18:10:00.000000000",
          "2016-05-12T18:15:00.000000000",
          "2016-05-12T18:20:00.000000000",
          "2016-05-12T18:25:00.000000000",
          "2016-05-12T18:30:00.000000000",
          "2016-05-12T18:35:00.000000000",
          "2016-05-12T18:40:00.000000000",
          "2016-05-12T18:45:00.000000000",
          "2016-05-12T18:50:00.000000000",
          "2016-05-12T18:55:00.000000000",
          "2016-08-11T16:05:00.000000000",
          "2016-08-11T16:10:00.000000000",
          "2016-08-11T16:15:00.000000000",
          "2016-08-11T16:20:00.000000000",
          "2016-08-11T16:25:00.000000000",
          "2016-08-11T16:30:00.000000000",
          "2016-08-11T16:35:00.000000000",
          "2016-08-11T16:40:00.000000000",
          "2016-08-11T16:45:00.000000000",
          "2016-08-11T16:50:00.000000000",
          "2016-08-11T16:55:00.000000000",
          "2016-08-11T17:00:00.000000000",
          "2016-08-11T17:05:00.000000000",
          "2016-08-11T17:10:00.000000000",
          "2016-08-11T17:15:00.000000000",
          "2016-08-11T17:20:00.000000000",
          "2016-08-11T17:25:00.000000000",
          "2016-08-11T17:30:00.000000000",
          "2016-08-11T17:35:00.000000000",
          "2016-08-11T17:40:00.000000000",
          "2016-08-11T17:45:00.000000000",
          "2016-08-11T17:50:00.000000000",
          "2016-08-11T17:55:00.000000000",
          "2016-08-11T18:00:00.000000000",
          "2016-08-11T18:05:00.000000000",
          "2016-08-11T18:10:00.000000000",
          "2016-08-11T18:15:00.000000000",
          "2016-08-11T18:20:00.000000000",
          "2016-08-11T18:25:00.000000000",
          "2016-08-11T18:30:00.000000000",
          "2016-08-11T18:35:00.000000000",
          "2016-08-11T18:40:00.000000000",
          "2016-08-11T18:45:00.000000000",
          "2016-08-11T18:50:00.000000000",
          "2016-08-11T18:55:00.000000000",
          "2016-11-10T16:05:00.000000000",
          "2016-11-10T16:10:00.000000000",
          "2016-11-10T16:15:00.000000000",
          "2016-11-10T16:20:00.000000000",
          "2016-11-10T16:25:00.000000000",
          "2016-11-10T16:30:00.000000000",
          "2016-11-10T16:35:00.000000000",
          "2016-11-10T16:40:00.000000000",
          "2016-11-10T16:45:00.000000000",
          "2016-11-10T16:50:00.000000000",
          "2016-11-10T16:55:00.000000000",
          "2016-11-10T17:00:00.000000000",
          "2016-11-10T17:05:00.000000000",
          "2016-11-10T17:10:00.000000000",
          "2016-11-10T17:15:00.000000000",
          "2016-11-10T17:20:00.000000000",
          "2016-11-10T17:25:00.000000000",
          "2016-11-10T17:30:00.000000000",
          "2016-11-10T17:35:00.000000000",
          "2016-11-10T17:40:00.000000000",
          "2016-11-10T17:45:00.000000000",
          "2016-11-10T17:50:00.000000000",
          "2016-11-10T17:55:00.000000000",
          "2016-11-10T18:00:00.000000000",
          "2016-11-10T18:05:00.000000000",
          "2016-11-10T18:10:00.000000000",
          "2016-11-10T18:15:00.000000000",
          "2016-11-10T18:20:00.000000000",
          "2016-11-10T18:25:00.000000000",
          "2017-02-09T16:05:00.000000000",
          "2017-02-09T16:10:00.000000000",
          "2017-02-09T16:15:00.000000000",
          "2017-02-09T16:20:00.000000000",
          "2017-02-09T16:25:00.000000000",
          "2017-02-09T16:30:00.000000000",
          "2017-02-09T16:35:00.000000000",
          "2017-02-09T16:40:00.000000000",
          "2017-02-09T16:45:00.000000000",
          "2017-02-09T16:50:00.000000000",
          "2017-02-09T16:55:00.000000000",
          "2017-02-09T17:00:00.000000000",
          "2017-02-09T17:05:00.000000000",
          "2017-02-09T17:10:00.000000000",
          "2017-02-09T17:15:00.000000000",
          "2017-02-09T17:20:00.000000000",
          "2017-02-09T17:25:00.000000000",
          "2017-02-09T17:30:00.000000000",
          "2017-02-09T17:35:00.000000000",
          "2017-02-09T17:40:00.000000000",
          "2017-02-09T17:45:00.000000000",
          "2017-02-09T17:50:00.000000000",
          "2017-02-09T17:55:00.000000000",
          "2017-02-09T18:00:00.000000000",
          "2017-02-09T18:05:00.000000000",
          "2017-02-09T18:10:00.000000000",
          "2017-02-09T18:15:00.000000000",
          "2017-02-09T18:20:00.000000000",
          "2017-02-09T18:25:00.000000000",
          "2017-05-09T16:05:00.000000000",
          "2017-05-09T16:10:00.000000000",
          "2017-05-09T16:15:00.000000000",
          "2017-05-09T16:20:00.000000000",
          "2017-05-09T16:25:00.000000000",
          "2017-05-09T16:30:00.000000000",
          "2017-05-09T16:35:00.000000000",
          "2017-05-09T16:40:00.000000000",
          "2017-05-09T16:45:00.000000000",
          "2017-05-09T16:50:00.000000000",
          "2017-05-09T16:55:00.000000000",
          "2017-05-09T17:00:00.000000000",
          "2017-05-09T17:05:00.000000000",
          "2017-05-09T17:10:00.000000000",
          "2017-05-09T17:15:00.000000000",
          "2017-05-09T17:20:00.000000000",
          "2017-05-09T17:25:00.000000000",
          "2017-05-09T17:30:00.000000000",
          "2017-05-09T17:35:00.000000000",
          "2017-05-09T17:40:00.000000000",
          "2017-05-09T17:45:00.000000000",
          "2017-05-09T17:50:00.000000000",
          "2017-05-09T17:55:00.000000000",
          "2017-05-09T18:00:00.000000000",
          "2017-05-09T18:05:00.000000000",
          "2017-05-09T18:10:00.000000000",
          "2017-05-09T18:15:00.000000000",
          "2017-05-09T18:20:00.000000000",
          "2017-05-09T18:25:00.000000000",
          "2017-05-09T18:30:00.000000000",
          "2017-05-09T18:35:00.000000000",
          "2017-05-09T18:40:00.000000000",
          "2017-05-09T18:45:00.000000000",
          "2017-05-09T18:50:00.000000000",
          "2017-05-09T18:55:00.000000000",
          "2017-08-10T16:05:00.000000000",
          "2017-08-10T16:10:00.000000000",
          "2017-08-10T16:15:00.000000000",
          "2017-08-10T16:20:00.000000000",
          "2017-08-10T16:25:00.000000000",
          "2017-08-10T16:30:00.000000000",
          "2017-08-10T16:35:00.000000000",
          "2017-08-10T16:40:00.000000000",
          "2017-08-10T16:45:00.000000000",
          "2017-08-10T16:50:00.000000000",
          "2017-08-10T16:55:00.000000000",
          "2017-08-10T17:00:00.000000000",
          "2017-08-10T17:05:00.000000000",
          "2017-08-10T17:10:00.000000000",
          "2017-08-10T17:15:00.000000000",
          "2017-08-10T17:20:00.000000000",
          "2017-08-10T17:25:00.000000000",
          "2017-08-10T17:30:00.000000000",
          "2017-08-10T17:35:00.000000000",
          "2017-08-10T17:40:00.000000000",
          "2017-08-10T17:45:00.000000000",
          "2017-08-10T17:50:00.000000000",
          "2017-08-10T17:55:00.000000000",
          "2017-08-10T18:00:00.000000000",
          "2017-08-10T18:05:00.000000000",
          "2017-08-10T18:10:00.000000000",
          "2017-08-10T18:15:00.000000000",
          "2017-08-10T18:20:00.000000000",
          "2017-08-10T18:25:00.000000000",
          "2017-08-10T18:30:00.000000000",
          "2017-08-10T18:35:00.000000000",
          "2017-08-10T18:40:00.000000000",
          "2017-08-10T18:45:00.000000000",
          "2017-08-10T18:50:00.000000000",
          "2017-08-10T18:55:00.000000000",
          "2017-11-09T16:05:00.000000000",
          "2017-11-09T16:10:00.000000000",
          "2017-11-09T16:15:00.000000000",
          "2017-11-09T16:20:00.000000000",
          "2017-11-09T16:25:00.000000000",
          "2017-11-09T16:30:00.000000000",
          "2017-11-09T16:35:00.000000000",
          "2017-11-09T16:40:00.000000000",
          "2017-11-09T16:45:00.000000000",
          "2017-11-09T16:50:00.000000000",
          "2017-11-09T16:55:00.000000000",
          "2017-11-09T17:00:00.000000000",
          "2017-11-09T17:05:00.000000000",
          "2017-11-09T17:10:00.000000000",
          "2017-11-09T17:15:00.000000000",
          "2017-11-09T17:20:00.000000000",
          "2017-11-09T17:25:00.000000000",
          "2017-11-09T17:30:00.000000000",
          "2017-11-09T17:35:00.000000000",
          "2017-11-09T17:40:00.000000000",
          "2017-11-09T17:45:00.000000000",
          "2017-11-09T17:50:00.000000000",
          "2017-11-09T17:55:00.000000000",
          "2017-11-09T18:00:00.000000000",
          "2017-11-09T18:05:00.000000000",
          "2017-11-09T18:10:00.000000000",
          "2017-11-09T18:15:00.000000000",
          "2017-11-09T18:20:00.000000000",
          "2017-11-09T18:25:00.000000000",
          "2018-02-08T16:05:00.000000000",
          "2018-02-08T16:10:00.000000000",
          "2018-02-08T16:15:00.000000000",
          "2018-02-08T16:20:00.000000000",
          "2018-02-08T16:25:00.000000000",
          "2018-02-08T16:30:00.000000000",
          "2018-02-08T16:35:00.000000000",
          "2018-02-08T16:40:00.000000000",
          "2018-02-08T16:45:00.000000000",
          "2018-02-08T16:50:00.000000000",
          "2018-02-08T16:55:00.000000000",
          "2018-02-08T17:00:00.000000000",
          "2018-02-08T17:05:00.000000000",
          "2018-02-08T17:10:00.000000000",
          "2018-02-08T17:15:00.000000000",
          "2018-02-08T17:20:00.000000000",
          "2018-02-08T17:25:00.000000000",
          "2018-02-08T17:30:00.000000000",
          "2018-02-08T17:35:00.000000000",
          "2018-02-08T17:40:00.000000000",
          "2018-02-08T17:45:00.000000000",
          "2018-02-08T17:50:00.000000000",
          "2018-02-08T17:55:00.000000000",
          "2018-02-08T18:00:00.000000000",
          "2018-02-08T18:05:00.000000000",
          "2018-02-08T18:10:00.000000000",
          "2018-02-08T18:15:00.000000000",
          "2018-02-08T18:20:00.000000000",
          "2018-02-08T18:25:00.000000000",
          "2018-05-10T16:05:00.000000000",
          "2018-05-10T16:10:00.000000000",
          "2018-05-10T16:15:00.000000000",
          "2018-05-10T16:20:00.000000000",
          "2018-05-10T16:25:00.000000000",
          "2018-05-10T16:30:00.000000000",
          "2018-05-10T16:35:00.000000000",
          "2018-05-10T16:40:00.000000000",
          "2018-05-10T16:45:00.000000000",
          "2018-05-10T16:50:00.000000000",
          "2018-05-10T16:55:00.000000000",
          "2018-05-10T17:00:00.000000000",
          "2018-05-10T17:05:00.000000000",
          "2018-05-10T17:10:00.000000000",
          "2018-05-10T17:15:00.000000000",
          "2018-05-10T17:20:00.000000000",
          "2018-05-10T17:25:00.000000000",
          "2018-05-10T17:30:00.000000000",
          "2018-05-10T17:35:00.000000000",
          "2018-05-10T17:40:00.000000000",
          "2018-05-10T17:45:00.000000000",
          "2018-05-10T17:50:00.000000000",
          "2018-05-10T17:55:00.000000000",
          "2018-05-10T18:00:00.000000000",
          "2018-05-10T18:05:00.000000000",
          "2018-05-10T18:10:00.000000000",
          "2018-05-10T18:15:00.000000000",
          "2018-05-10T18:20:00.000000000",
          "2018-05-10T18:25:00.000000000",
          "2018-05-10T18:30:00.000000000",
          "2018-05-10T18:35:00.000000000",
          "2018-05-10T18:40:00.000000000",
          "2018-05-10T18:45:00.000000000",
          "2018-05-10T18:50:00.000000000",
          "2018-05-10T18:55:00.000000000",
          "2018-08-16T16:05:00.000000000",
          "2018-08-16T16:10:00.000000000",
          "2018-08-16T16:15:00.000000000",
          "2018-08-16T16:20:00.000000000",
          "2018-08-16T16:25:00.000000000",
          "2018-08-16T16:30:00.000000000",
          "2018-08-16T16:35:00.000000000",
          "2018-08-16T16:40:00.000000000",
          "2018-08-16T16:45:00.000000000",
          "2018-08-16T16:50:00.000000000",
          "2018-08-16T16:55:00.000000000",
          "2018-08-16T17:00:00.000000000",
          "2018-08-16T17:05:00.000000000",
          "2018-08-16T17:10:00.000000000",
          "2018-08-16T17:15:00.000000000",
          "2018-08-16T17:20:00.000000000",
          "2018-08-16T17:25:00.000000000",
          "2018-08-16T17:30:00.000000000",
          "2018-08-16T17:35:00.000000000",
          "2018-08-16T17:40:00.000000000",
          "2018-08-16T17:45:00.000000000",
          "2018-08-16T17:50:00.000000000",
          "2018-08-16T17:55:00.000000000",
          "2018-08-16T18:00:00.000000000",
          "2018-08-16T18:05:00.000000000",
          "2018-08-16T18:10:00.000000000",
          "2018-08-16T18:15:00.000000000",
          "2018-08-16T18:20:00.000000000",
          "2018-08-16T18:25:00.000000000",
          "2018-08-16T18:30:00.000000000",
          "2018-08-16T18:35:00.000000000",
          "2018-08-16T18:40:00.000000000",
          "2018-08-16T18:45:00.000000000",
          "2018-08-16T18:50:00.000000000",
          "2018-08-16T18:55:00.000000000",
          "2018-11-15T16:05:00.000000000",
          "2018-11-15T16:10:00.000000000",
          "2018-11-15T16:15:00.000000000",
          "2018-11-15T16:20:00.000000000",
          "2018-11-15T16:25:00.000000000",
          "2018-11-15T16:30:00.000000000",
          "2018-11-15T16:35:00.000000000",
          "2018-11-15T16:40:00.000000000",
          "2018-11-15T16:45:00.000000000",
          "2018-11-15T16:50:00.000000000",
          "2018-11-15T16:55:00.000000000",
          "2018-11-15T17:00:00.000000000",
          "2018-11-15T17:05:00.000000000",
          "2018-11-15T17:10:00.000000000",
          "2018-11-15T17:15:00.000000000",
          "2018-11-15T17:20:00.000000000",
          "2018-11-15T17:25:00.000000000",
          "2018-11-15T17:30:00.000000000",
          "2018-11-15T17:35:00.000000000",
          "2018-11-15T17:40:00.000000000",
          "2018-11-15T17:45:00.000000000",
          "2018-11-15T17:50:00.000000000",
          "2018-11-15T17:55:00.000000000",
          "2018-11-15T18:00:00.000000000",
          "2018-11-15T18:05:00.000000000",
          "2018-11-15T18:10:00.000000000",
          "2018-11-15T18:15:00.000000000",
          "2018-11-15T18:20:00.000000000",
          "2018-11-15T18:25:00.000000000",
          "2019-02-14T16:05:00.000000000",
          "2019-02-14T16:10:00.000000000",
          "2019-02-14T16:15:00.000000000",
          "2019-02-14T16:20:00.000000000",
          "2019-02-14T16:25:00.000000000",
          "2019-02-14T16:30:00.000000000",
          "2019-02-14T16:35:00.000000000",
          "2019-02-14T16:40:00.000000000",
          "2019-02-14T16:45:00.000000000",
          "2019-02-14T16:50:00.000000000",
          "2019-02-14T16:55:00.000000000",
          "2019-02-14T17:00:00.000000000",
          "2019-02-14T17:05:00.000000000",
          "2019-02-14T17:10:00.000000000",
          "2019-02-14T17:15:00.000000000",
          "2019-02-14T17:20:00.000000000",
          "2019-02-14T17:25:00.000000000",
          "2019-02-14T17:30:00.000000000",
          "2019-02-14T17:35:00.000000000",
          "2019-02-14T17:40:00.000000000",
          "2019-02-14T17:45:00.000000000",
          "2019-02-14T17:50:00.000000000",
          "2019-02-14T17:55:00.000000000",
          "2019-02-14T18:00:00.000000000",
          "2019-02-14T18:05:00.000000000",
          "2019-02-14T18:10:00.000000000",
          "2019-02-14T18:15:00.000000000",
          "2019-02-14T18:20:00.000000000",
          "2019-02-14T18:25:00.000000000",
          "2019-05-16T16:05:00.000000000",
          "2019-05-16T16:10:00.000000000",
          "2019-05-16T16:15:00.000000000",
          "2019-05-16T16:20:00.000000000",
          "2019-05-16T16:25:00.000000000",
          "2019-05-16T16:30:00.000000000",
          "2019-05-16T16:35:00.000000000",
          "2019-05-16T16:40:00.000000000",
          "2019-05-16T16:45:00.000000000",
          "2019-05-16T16:50:00.000000000",
          "2019-05-16T16:55:00.000000000",
          "2019-05-16T17:00:00.000000000",
          "2019-05-16T17:05:00.000000000",
          "2019-05-16T17:10:00.000000000",
          "2019-05-16T17:15:00.000000000",
          "2019-05-16T17:20:00.000000000",
          "2019-05-16T17:25:00.000000000",
          "2019-05-16T17:30:00.000000000",
          "2019-05-16T17:35:00.000000000",
          "2019-05-16T17:40:00.000000000",
          "2019-05-16T17:45:00.000000000",
          "2019-05-16T17:50:00.000000000",
          "2019-05-16T17:55:00.000000000",
          "2019-05-16T18:00:00.000000000",
          "2019-05-16T18:05:00.000000000",
          "2019-05-16T18:10:00.000000000",
          "2019-05-16T18:15:00.000000000",
          "2019-05-16T18:20:00.000000000",
          "2019-05-16T18:25:00.000000000",
          "2019-05-16T18:30:00.000000000",
          "2019-05-16T18:35:00.000000000",
          "2019-05-16T18:40:00.000000000",
          "2019-05-16T18:45:00.000000000",
          "2019-05-16T18:50:00.000000000",
          "2019-05-16T18:55:00.000000000",
          "2019-08-15T16:05:00.000000000",
          "2019-08-15T16:10:00.000000000",
          "2019-08-15T16:15:00.000000000",
          "2019-08-15T16:20:00.000000000",
          "2019-08-15T16:25:00.000000000",
          "2019-08-15T16:30:00.000000000",
          "2019-08-15T16:35:00.000000000",
          "2019-08-15T16:40:00.000000000",
          "2019-08-15T16:45:00.000000000",
          "2019-08-15T16:50:00.000000000",
          "2019-08-15T16:55:00.000000000",
          "2019-08-15T17:00:00.000000000",
          "2019-08-15T17:05:00.000000000",
          "2019-08-15T17:10:00.000000000",
          "2019-08-15T17:15:00.000000000",
          "2019-08-15T17:20:00.000000000",
          "2019-08-15T17:25:00.000000000",
          "2019-08-15T17:30:00.000000000",
          "2019-08-15T17:35:00.000000000",
          "2019-08-15T17:40:00.000000000",
          "2019-08-15T17:45:00.000000000",
          "2019-08-15T17:50:00.000000000",
          "2019-08-15T17:55:00.000000000",
          "2019-08-15T18:00:00.000000000",
          "2019-08-15T18:05:00.000000000",
          "2019-08-15T18:10:00.000000000",
          "2019-08-15T18:15:00.000000000",
          "2019-08-15T18:20:00.000000000",
          "2019-08-15T18:25:00.000000000",
          "2019-08-15T18:30:00.000000000",
          "2019-08-15T18:35:00.000000000",
          "2019-08-15T18:40:00.000000000",
          "2019-08-15T18:45:00.000000000",
          "2019-08-15T18:50:00.000000000",
          "2019-08-15T18:55:00.000000000",
          "2019-11-14T16:05:00.000000000",
          "2019-11-14T16:10:00.000000000",
          "2019-11-14T16:15:00.000000000",
          "2019-11-14T16:20:00.000000000",
          "2019-11-14T16:25:00.000000000",
          "2019-11-14T16:30:00.000000000",
          "2019-11-14T16:35:00.000000000",
          "2019-11-14T16:40:00.000000000",
          "2019-11-14T16:45:00.000000000",
          "2019-11-14T16:50:00.000000000",
          "2019-11-14T16:55:00.000000000",
          "2019-11-14T17:00:00.000000000",
          "2019-11-14T17:05:00.000000000",
          "2019-11-14T17:10:00.000000000",
          "2019-11-14T17:15:00.000000000",
          "2019-11-14T17:20:00.000000000",
          "2019-11-14T17:25:00.000000000",
          "2019-11-14T17:30:00.000000000",
          "2019-11-14T17:35:00.000000000",
          "2019-11-14T17:40:00.000000000",
          "2019-11-14T17:45:00.000000000",
          "2019-11-14T17:50:00.000000000",
          "2019-11-14T17:55:00.000000000",
          "2019-11-14T18:00:00.000000000",
          "2019-11-14T18:05:00.000000000",
          "2019-11-14T18:10:00.000000000",
          "2019-11-14T18:15:00.000000000",
          "2019-11-14T18:20:00.000000000",
          "2019-11-14T18:25:00.000000000",
          "2020-02-13T16:05:00.000000000",
          "2020-02-13T16:10:00.000000000",
          "2020-02-13T16:15:00.000000000",
          "2020-02-13T16:20:00.000000000",
          "2020-02-13T16:25:00.000000000",
          "2020-02-13T16:30:00.000000000",
          "2020-02-13T16:35:00.000000000",
          "2020-02-13T16:40:00.000000000",
          "2020-02-13T16:45:00.000000000",
          "2020-02-13T16:50:00.000000000",
          "2020-02-13T16:55:00.000000000",
          "2020-02-13T17:00:00.000000000",
          "2020-02-13T17:05:00.000000000",
          "2020-02-13T17:10:00.000000000",
          "2020-02-13T17:15:00.000000000",
          "2020-02-13T17:20:00.000000000",
          "2020-02-13T17:25:00.000000000",
          "2020-02-13T17:30:00.000000000",
          "2020-02-13T17:35:00.000000000",
          "2020-02-13T17:40:00.000000000",
          "2020-02-13T17:45:00.000000000",
          "2020-02-13T17:50:00.000000000",
          "2020-02-13T17:55:00.000000000",
          "2020-02-13T18:00:00.000000000",
          "2020-02-13T18:05:00.000000000",
          "2020-02-13T18:10:00.000000000",
          "2020-02-13T18:15:00.000000000",
          "2020-02-13T18:20:00.000000000",
          "2020-02-13T18:25:00.000000000",
          "2020-05-21T16:05:00.000000000",
          "2020-05-21T16:10:00.000000000",
          "2020-05-21T16:15:00.000000000",
          "2020-05-21T16:20:00.000000000",
          "2020-05-21T16:25:00.000000000",
          "2020-05-21T16:30:00.000000000",
          "2020-05-21T16:35:00.000000000",
          "2020-05-21T16:40:00.000000000",
          "2020-05-21T16:45:00.000000000",
          "2020-05-21T16:50:00.000000000",
          "2020-05-21T16:55:00.000000000",
          "2020-05-21T17:00:00.000000000",
          "2020-05-21T17:05:00.000000000",
          "2020-05-21T17:10:00.000000000",
          "2020-05-21T17:15:00.000000000",
          "2020-05-21T17:20:00.000000000",
          "2020-05-21T17:25:00.000000000",
          "2020-05-21T17:30:00.000000000",
          "2020-05-21T17:35:00.000000000",
          "2020-05-21T17:40:00.000000000",
          "2020-05-21T17:45:00.000000000",
          "2020-05-21T17:50:00.000000000",
          "2020-05-21T17:55:00.000000000",
          "2020-05-21T18:00:00.000000000",
          "2020-05-21T18:05:00.000000000",
          "2020-05-21T18:10:00.000000000",
          "2020-05-21T18:15:00.000000000",
          "2020-05-21T18:20:00.000000000",
          "2020-05-21T18:25:00.000000000",
          "2020-05-21T18:30:00.000000000",
          "2020-05-21T18:35:00.000000000",
          "2020-05-21T18:40:00.000000000",
          "2020-05-21T18:45:00.000000000",
          "2020-05-21T18:50:00.000000000",
          "2020-05-21T18:55:00.000000000",
          "2020-08-19T16:05:00.000000000",
          "2020-08-19T16:10:00.000000000",
          "2020-08-19T16:15:00.000000000",
          "2020-08-19T16:20:00.000000000",
          "2020-08-19T16:25:00.000000000",
          "2020-08-19T16:30:00.000000000",
          "2020-08-19T16:35:00.000000000",
          "2020-08-19T16:40:00.000000000",
          "2020-08-19T16:45:00.000000000",
          "2020-08-19T16:50:00.000000000",
          "2020-08-19T16:55:00.000000000",
          "2020-08-19T17:00:00.000000000",
          "2020-08-19T17:05:00.000000000",
          "2020-08-19T17:10:00.000000000",
          "2020-08-19T17:15:00.000000000",
          "2020-08-19T17:20:00.000000000",
          "2020-08-19T17:25:00.000000000",
          "2020-08-19T17:30:00.000000000",
          "2020-08-19T17:35:00.000000000",
          "2020-08-19T17:40:00.000000000",
          "2020-08-19T17:45:00.000000000",
          "2020-08-19T17:50:00.000000000",
          "2020-08-19T17:55:00.000000000",
          "2020-08-19T18:00:00.000000000",
          "2020-08-19T18:05:00.000000000",
          "2020-08-19T18:10:00.000000000",
          "2020-08-19T18:15:00.000000000",
          "2020-08-19T18:20:00.000000000",
          "2020-08-19T18:25:00.000000000",
          "2020-08-19T18:30:00.000000000",
          "2020-08-19T18:35:00.000000000",
          "2020-08-19T18:40:00.000000000",
          "2020-08-19T18:45:00.000000000",
          "2020-08-19T18:50:00.000000000",
          "2020-08-19T18:55:00.000000000",
          "2020-11-18T16:05:00.000000000",
          "2020-11-18T16:10:00.000000000",
          "2020-11-18T16:15:00.000000000",
          "2020-11-18T16:20:00.000000000",
          "2020-11-18T16:25:00.000000000",
          "2020-11-18T16:30:00.000000000",
          "2020-11-18T16:35:00.000000000",
          "2020-11-18T16:40:00.000000000",
          "2020-11-18T16:45:00.000000000",
          "2020-11-18T16:50:00.000000000",
          "2020-11-18T16:55:00.000000000",
          "2020-11-18T17:00:00.000000000",
          "2020-11-18T17:05:00.000000000",
          "2020-11-18T17:10:00.000000000",
          "2020-11-18T17:15:00.000000000",
          "2020-11-18T17:20:00.000000000",
          "2020-11-18T17:25:00.000000000",
          "2020-11-18T17:30:00.000000000",
          "2020-11-18T17:35:00.000000000",
          "2020-11-18T17:40:00.000000000",
          "2020-11-18T17:45:00.000000000",
          "2020-11-18T17:50:00.000000000",
          "2020-11-18T17:55:00.000000000",
          "2020-11-18T18:00:00.000000000",
          "2020-11-18T18:05:00.000000000",
          "2020-11-18T18:10:00.000000000",
          "2020-11-18T18:15:00.000000000",
          "2020-11-18T18:20:00.000000000",
          "2020-11-18T18:25:00.000000000",
          "2021-02-24T16:05:00.000000000",
          "2021-02-24T16:10:00.000000000",
          "2021-02-24T16:15:00.000000000",
          "2021-02-24T16:20:00.000000000",
          "2021-02-24T16:25:00.000000000",
          "2021-02-24T16:30:00.000000000",
          "2021-02-24T16:35:00.000000000",
          "2021-02-24T16:40:00.000000000",
          "2021-02-24T16:45:00.000000000",
          "2021-02-24T16:50:00.000000000",
          "2021-02-24T16:55:00.000000000",
          "2021-02-24T17:00:00.000000000",
          "2021-02-24T17:05:00.000000000",
          "2021-02-24T17:10:00.000000000",
          "2021-02-24T17:15:00.000000000",
          "2021-02-24T17:20:00.000000000",
          "2021-02-24T17:25:00.000000000",
          "2021-02-24T17:30:00.000000000",
          "2021-02-24T17:35:00.000000000",
          "2021-02-24T17:40:00.000000000",
          "2021-02-24T17:45:00.000000000",
          "2021-02-24T17:50:00.000000000",
          "2021-02-24T17:55:00.000000000",
          "2021-02-24T18:00:00.000000000",
          "2021-02-24T18:05:00.000000000",
          "2021-02-24T18:10:00.000000000",
          "2021-02-24T18:15:00.000000000",
          "2021-02-24T18:20:00.000000000",
          "2021-02-24T18:25:00.000000000",
          "2021-05-26T16:05:00.000000000",
          "2021-05-26T16:10:00.000000000",
          "2021-05-26T16:15:00.000000000",
          "2021-05-26T16:20:00.000000000",
          "2021-05-26T16:25:00.000000000",
          "2021-05-26T16:30:00.000000000",
          "2021-05-26T16:35:00.000000000",
          "2021-05-26T16:40:00.000000000",
          "2021-05-26T16:45:00.000000000",
          "2021-05-26T16:50:00.000000000",
          "2021-05-26T16:55:00.000000000",
          "2021-05-26T17:00:00.000000000",
          "2021-05-26T17:05:00.000000000",
          "2021-05-26T17:10:00.000000000",
          "2021-05-26T17:15:00.000000000",
          "2021-05-26T17:20:00.000000000",
          "2021-05-26T17:25:00.000000000",
          "2021-05-26T17:30:00.000000000",
          "2021-05-26T17:35:00.000000000",
          "2021-05-26T17:40:00.000000000",
          "2021-05-26T17:45:00.000000000",
          "2021-05-26T17:50:00.000000000",
          "2021-05-26T17:55:00.000000000",
          "2021-05-26T18:00:00.000000000",
          "2021-05-26T18:05:00.000000000",
          "2021-05-26T18:10:00.000000000",
          "2021-05-26T18:15:00.000000000",
          "2021-05-26T18:20:00.000000000",
          "2021-05-26T18:25:00.000000000",
          "2021-05-26T18:30:00.000000000",
          "2021-05-26T18:35:00.000000000",
          "2021-05-26T18:40:00.000000000",
          "2021-05-26T18:45:00.000000000",
          "2021-05-26T18:50:00.000000000",
          "2021-05-26T18:55:00.000000000",
          "2021-08-18T16:05:00.000000000",
          "2021-08-18T16:10:00.000000000",
          "2021-08-18T16:15:00.000000000",
          "2021-08-18T16:20:00.000000000",
          "2021-08-18T16:25:00.000000000",
          "2021-08-18T16:30:00.000000000",
          "2021-08-18T16:35:00.000000000",
          "2021-08-18T16:40:00.000000000",
          "2021-08-18T16:45:00.000000000",
          "2021-08-18T16:50:00.000000000",
          "2021-08-18T16:55:00.000000000",
          "2021-08-18T17:00:00.000000000",
          "2021-08-18T17:05:00.000000000",
          "2021-08-18T17:10:00.000000000",
          "2021-08-18T17:15:00.000000000",
          "2021-08-18T17:20:00.000000000",
          "2021-08-18T17:25:00.000000000",
          "2021-08-18T17:30:00.000000000",
          "2021-08-18T17:35:00.000000000",
          "2021-08-18T17:40:00.000000000",
          "2021-08-18T17:45:00.000000000",
          "2021-08-18T17:50:00.000000000",
          "2021-08-18T17:55:00.000000000",
          "2021-08-18T18:00:00.000000000",
          "2021-08-18T18:05:00.000000000",
          "2021-08-18T18:10:00.000000000",
          "2021-08-18T18:15:00.000000000",
          "2021-08-18T18:20:00.000000000",
          "2021-08-18T18:25:00.000000000",
          "2021-08-18T18:30:00.000000000",
          "2021-08-18T18:35:00.000000000",
          "2021-08-18T18:40:00.000000000",
          "2021-08-18T18:45:00.000000000",
          "2021-08-18T18:50:00.000000000",
          "2021-08-18T18:55:00.000000000",
          "2021-11-17T16:05:00.000000000",
          "2021-11-17T16:10:00.000000000",
          "2021-11-17T16:15:00.000000000",
          "2021-11-17T16:20:00.000000000",
          "2021-11-17T16:25:00.000000000",
          "2021-11-17T16:30:00.000000000",
          "2021-11-17T16:35:00.000000000",
          "2021-11-17T16:40:00.000000000",
          "2021-11-17T16:45:00.000000000",
          "2021-11-17T16:50:00.000000000",
          "2021-11-17T16:55:00.000000000",
          "2021-11-17T17:00:00.000000000",
          "2021-11-17T17:05:00.000000000",
          "2021-11-17T17:10:00.000000000",
          "2021-11-17T17:15:00.000000000",
          "2021-11-17T17:20:00.000000000",
          "2021-11-17T17:25:00.000000000",
          "2021-11-17T17:30:00.000000000",
          "2021-11-17T17:35:00.000000000",
          "2021-11-17T17:40:00.000000000",
          "2021-11-17T17:45:00.000000000",
          "2021-11-17T17:50:00.000000000",
          "2021-11-17T17:55:00.000000000",
          "2021-11-17T18:00:00.000000000",
          "2021-11-17T18:05:00.000000000",
          "2021-11-17T18:10:00.000000000",
          "2021-11-17T18:15:00.000000000",
          "2021-11-17T18:20:00.000000000",
          "2021-11-17T18:25:00.000000000",
          "2022-02-16T16:05:00.000000000",
          "2022-02-16T16:10:00.000000000",
          "2022-02-16T16:15:00.000000000",
          "2022-02-16T16:20:00.000000000",
          "2022-02-16T16:25:00.000000000",
          "2022-02-16T16:30:00.000000000",
          "2022-02-16T16:35:00.000000000",
          "2022-02-16T16:40:00.000000000",
          "2022-02-16T16:45:00.000000000",
          "2022-02-16T16:50:00.000000000",
          "2022-02-16T16:55:00.000000000",
          "2022-02-16T17:00:00.000000000",
          "2022-02-16T17:05:00.000000000",
          "2022-02-16T17:10:00.000000000",
          "2022-02-16T17:15:00.000000000",
          "2022-02-16T17:20:00.000000000",
          "2022-02-16T17:25:00.000000000",
          "2022-02-16T17:30:00.000000000",
          "2022-02-16T17:35:00.000000000",
          "2022-02-16T17:40:00.000000000",
          "2022-02-16T17:45:00.000000000",
          "2022-02-16T17:50:00.000000000",
          "2022-02-16T17:55:00.000000000",
          "2022-02-16T18:00:00.000000000",
          "2022-02-16T18:05:00.000000000",
          "2022-02-16T18:10:00.000000000",
          "2022-02-16T18:15:00.000000000",
          "2022-02-16T18:20:00.000000000",
          "2022-02-16T18:25:00.000000000",
          "2022-05-25T16:05:00.000000000",
          "2022-05-25T16:10:00.000000000",
          "2022-05-25T16:15:00.000000000",
          "2022-05-25T16:20:00.000000000",
          "2022-05-25T16:25:00.000000000",
          "2022-05-25T16:30:00.000000000",
          "2022-05-25T16:35:00.000000000",
          "2022-05-25T16:40:00.000000000",
          "2022-05-25T16:45:00.000000000",
          "2022-05-25T16:50:00.000000000",
          "2022-05-25T16:55:00.000000000",
          "2022-05-25T17:00:00.000000000",
          "2022-05-25T17:05:00.000000000",
          "2022-05-25T17:10:00.000000000",
          "2022-05-25T17:15:00.000000000",
          "2022-05-25T17:20:00.000000000",
          "2022-05-25T17:25:00.000000000",
          "2022-05-25T17:30:00.000000000",
          "2022-05-25T17:35:00.000000000",
          "2022-05-25T17:40:00.000000000",
          "2022-05-25T17:45:00.000000000",
          "2022-05-25T17:50:00.000000000",
          "2022-05-25T17:55:00.000000000",
          "2022-05-25T18:00:00.000000000",
          "2022-05-25T18:05:00.000000000",
          "2022-05-25T18:10:00.000000000",
          "2022-05-25T18:15:00.000000000",
          "2022-05-25T18:20:00.000000000",
          "2022-05-25T18:25:00.000000000",
          "2022-05-25T18:30:00.000000000",
          "2022-05-25T18:35:00.000000000",
          "2022-05-25T18:40:00.000000000",
          "2022-05-25T18:45:00.000000000",
          "2022-05-25T18:50:00.000000000",
          "2022-05-25T18:55:00.000000000",
          "2022-08-24T16:05:00.000000000",
          "2022-08-24T16:10:00.000000000",
          "2022-08-24T16:15:00.000000000",
          "2022-08-24T16:20:00.000000000",
          "2022-08-24T16:25:00.000000000",
          "2022-08-24T16:30:00.000000000",
          "2022-08-24T16:35:00.000000000",
          "2022-08-24T16:40:00.000000000",
          "2022-08-24T16:45:00.000000000",
          "2022-08-24T16:50:00.000000000",
          "2022-08-24T16:55:00.000000000",
          "2022-08-24T17:00:00.000000000",
          "2022-08-24T17:05:00.000000000",
          "2022-08-24T17:10:00.000000000",
          "2022-08-24T17:15:00.000000000",
          "2022-08-24T17:20:00.000000000",
          "2022-08-24T17:25:00.000000000",
          "2022-08-24T17:30:00.000000000",
          "2022-08-24T17:35:00.000000000",
          "2022-08-24T17:40:00.000000000",
          "2022-08-24T17:45:00.000000000",
          "2022-08-24T17:50:00.000000000",
          "2022-08-24T17:55:00.000000000",
          "2022-08-24T18:00:00.000000000",
          "2022-08-24T18:05:00.000000000",
          "2022-08-24T18:10:00.000000000",
          "2022-08-24T18:15:00.000000000",
          "2022-08-24T18:20:00.000000000",
          "2022-08-24T18:25:00.000000000",
          "2022-08-24T18:30:00.000000000",
          "2022-08-24T18:35:00.000000000",
          "2022-08-24T18:40:00.000000000",
          "2022-08-24T18:45:00.000000000",
          "2022-08-24T18:50:00.000000000",
          "2022-08-24T18:55:00.000000000",
          "2022-11-16T16:05:00.000000000",
          "2022-11-16T16:10:00.000000000",
          "2022-11-16T16:15:00.000000000",
          "2022-11-16T16:20:00.000000000",
          "2022-11-16T16:25:00.000000000",
          "2022-11-16T16:30:00.000000000",
          "2022-11-16T16:35:00.000000000",
          "2022-11-16T16:40:00.000000000",
          "2022-11-16T16:45:00.000000000",
          "2022-11-16T16:50:00.000000000",
          "2022-11-16T16:55:00.000000000",
          "2022-11-16T17:00:00.000000000",
          "2022-11-16T17:05:00.000000000",
          "2022-11-16T17:10:00.000000000",
          "2022-11-16T17:15:00.000000000",
          "2022-11-16T17:20:00.000000000",
          "2022-11-16T17:25:00.000000000",
          "2022-11-16T17:30:00.000000000",
          "2022-11-16T17:35:00.000000000",
          "2022-11-16T17:40:00.000000000",
          "2022-11-16T17:45:00.000000000",
          "2022-11-16T17:50:00.000000000",
          "2022-11-16T17:55:00.000000000",
          "2022-11-16T18:00:00.000000000",
          "2022-11-16T18:05:00.000000000",
          "2022-11-16T18:10:00.000000000",
          "2022-11-16T18:15:00.000000000",
          "2022-11-16T18:20:00.000000000",
          "2022-11-16T18:25:00.000000000",
          "2023-02-22T16:05:00.000000000",
          "2023-02-22T16:10:00.000000000",
          "2023-02-22T16:15:00.000000000",
          "2023-02-22T16:20:00.000000000",
          "2023-02-22T16:25:00.000000000",
          "2023-02-22T16:30:00.000000000",
          "2023-02-22T16:35:00.000000000",
          "2023-02-22T16:40:00.000000000",
          "2023-02-22T16:45:00.000000000",
          "2023-02-22T16:50:00.000000000",
          "2023-02-22T16:55:00.000000000",
          "2023-02-22T17:00:00.000000000",
          "2023-02-22T17:05:00.000000000",
          "2023-02-22T17:10:00.000000000",
          "2023-02-22T17:15:00.000000000",
          "2023-02-22T17:20:00.000000000",
          "2023-02-22T17:25:00.000000000",
          "2023-02-22T17:30:00.000000000",
          "2023-02-22T17:35:00.000000000",
          "2023-02-22T17:40:00.000000000",
          "2023-02-22T17:45:00.000000000",
          "2023-02-22T17:50:00.000000000",
          "2023-02-22T17:55:00.000000000",
          "2023-02-22T18:00:00.000000000",
          "2023-02-22T18:05:00.000000000",
          "2023-02-22T18:10:00.000000000",
          "2023-02-22T18:15:00.000000000",
          "2023-02-22T18:20:00.000000000",
          "2023-02-22T18:25:00.000000000",
          "2023-05-24T16:05:00.000000000",
          "2023-05-24T16:10:00.000000000",
          "2023-05-24T16:15:00.000000000",
          "2023-05-24T16:20:00.000000000",
          "2023-05-24T16:25:00.000000000",
          "2023-05-24T16:30:00.000000000",
          "2023-05-24T16:35:00.000000000",
          "2023-05-24T16:40:00.000000000",
          "2023-05-24T16:45:00.000000000",
          "2023-05-24T16:50:00.000000000",
          "2023-05-24T16:55:00.000000000",
          "2023-05-24T17:00:00.000000000",
          "2023-05-24T17:05:00.000000000",
          "2023-05-24T17:10:00.000000000",
          "2023-05-24T17:15:00.000000000",
          "2023-05-24T17:20:00.000000000",
          "2023-05-24T17:25:00.000000000",
          "2023-05-24T17:30:00.000000000",
          "2023-05-24T17:35:00.000000000",
          "2023-05-24T17:40:00.000000000",
          "2023-05-24T17:45:00.000000000",
          "2023-05-24T17:50:00.000000000",
          "2023-05-24T17:55:00.000000000",
          "2023-05-24T18:00:00.000000000",
          "2023-05-24T18:05:00.000000000",
          "2023-05-24T18:10:00.000000000",
          "2023-05-24T18:15:00.000000000",
          "2023-05-24T18:20:00.000000000",
          "2023-05-24T18:25:00.000000000",
          "2023-05-24T18:30:00.000000000",
          "2023-05-24T18:35:00.000000000",
          "2023-05-24T18:40:00.000000000",
          "2023-05-24T18:45:00.000000000",
          "2023-05-24T18:50:00.000000000",
          "2023-05-24T18:55:00.000000000",
          "2023-08-23T16:05:00.000000000",
          "2023-08-23T16:10:00.000000000",
          "2023-08-23T16:15:00.000000000",
          "2023-08-23T16:20:00.000000000",
          "2023-08-23T16:25:00.000000000",
          "2023-08-23T16:30:00.000000000",
          "2023-08-23T16:35:00.000000000",
          "2023-08-23T16:40:00.000000000",
          "2023-08-23T16:45:00.000000000",
          "2023-08-23T16:50:00.000000000",
          "2023-08-23T16:55:00.000000000",
          "2023-08-23T17:00:00.000000000",
          "2023-08-23T17:05:00.000000000",
          "2023-08-23T17:10:00.000000000",
          "2023-08-23T17:15:00.000000000",
          "2023-08-23T17:20:00.000000000",
          "2023-08-23T17:25:00.000000000",
          "2023-08-23T17:30:00.000000000",
          "2023-08-23T17:35:00.000000000",
          "2023-08-23T17:40:00.000000000",
          "2023-08-23T17:45:00.000000000",
          "2023-08-23T17:50:00.000000000",
          "2023-08-23T17:55:00.000000000",
          "2023-08-23T18:00:00.000000000",
          "2023-08-23T18:05:00.000000000",
          "2023-08-23T18:10:00.000000000",
          "2023-08-23T18:15:00.000000000",
          "2023-08-23T18:20:00.000000000",
          "2023-08-23T18:25:00.000000000",
          "2023-08-23T18:30:00.000000000",
          "2023-08-23T18:35:00.000000000",
          "2023-08-23T18:40:00.000000000",
          "2023-08-23T18:45:00.000000000",
          "2023-08-23T18:50:00.000000000",
          "2023-08-23T18:55:00.000000000",
          "2023-11-21T16:05:00.000000000",
          "2023-11-21T16:10:00.000000000",
          "2023-11-21T16:15:00.000000000",
          "2023-11-21T16:20:00.000000000",
          "2023-11-21T16:25:00.000000000",
          "2023-11-21T16:30:00.000000000",
          "2023-11-21T16:35:00.000000000",
          "2023-11-21T16:40:00.000000000",
          "2023-11-21T16:45:00.000000000",
          "2023-11-21T16:50:00.000000000",
          "2023-11-21T16:55:00.000000000",
          "2023-11-21T17:00:00.000000000",
          "2023-11-21T17:05:00.000000000",
          "2023-11-21T17:10:00.000000000",
          "2023-11-21T17:15:00.000000000",
          "2023-11-21T17:20:00.000000000",
          "2023-11-21T17:25:00.000000000",
          "2023-11-21T17:30:00.000000000",
          "2023-11-21T17:35:00.000000000",
          "2023-11-21T17:40:00.000000000",
          "2023-11-21T17:45:00.000000000",
          "2023-11-21T17:50:00.000000000",
          "2023-11-21T17:55:00.000000000",
          "2023-11-21T18:00:00.000000000",
          "2023-11-21T18:05:00.000000000",
          "2023-11-21T18:10:00.000000000",
          "2023-11-21T18:15:00.000000000",
          "2023-11-21T18:20:00.000000000",
          "2023-11-21T18:25:00.000000000",
          "2024-02-21T16:05:00.000000000",
          "2024-02-21T16:10:00.000000000",
          "2024-02-21T16:15:00.000000000",
          "2024-02-21T16:20:00.000000000",
          "2024-02-21T16:25:00.000000000",
          "2024-02-21T16:30:00.000000000",
          "2024-02-21T16:35:00.000000000",
          "2024-02-21T16:40:00.000000000",
          "2024-02-21T16:45:00.000000000",
          "2024-02-21T16:50:00.000000000",
          "2024-02-21T16:55:00.000000000",
          "2024-02-21T17:00:00.000000000",
          "2024-02-21T17:05:00.000000000",
          "2024-02-21T17:10:00.000000000",
          "2024-02-21T17:15:00.000000000",
          "2024-02-21T17:20:00.000000000",
          "2024-02-21T17:25:00.000000000",
          "2024-02-21T17:30:00.000000000",
          "2024-02-21T17:35:00.000000000",
          "2024-02-21T17:40:00.000000000",
          "2024-02-21T17:45:00.000000000",
          "2024-02-21T17:50:00.000000000",
          "2024-02-21T17:55:00.000000000",
          "2024-02-21T18:00:00.000000000",
          "2024-02-21T18:05:00.000000000",
          "2024-02-21T18:10:00.000000000",
          "2024-02-21T18:15:00.000000000",
          "2024-02-21T18:20:00.000000000",
          "2024-02-21T18:25:00.000000000",
          "2024-05-22T16:05:00.000000000",
          "2024-05-22T16:10:00.000000000",
          "2024-05-22T16:15:00.000000000",
          "2024-05-22T16:20:00.000000000",
          "2024-05-22T16:25:00.000000000",
          "2024-05-22T16:30:00.000000000",
          "2024-05-22T16:35:00.000000000",
          "2024-05-22T16:40:00.000000000",
          "2024-05-22T16:45:00.000000000",
          "2024-05-22T16:50:00.000000000",
          "2024-05-22T16:55:00.000000000",
          "2024-05-22T17:00:00.000000000",
          "2024-05-22T17:05:00.000000000",
          "2024-05-22T17:10:00.000000000",
          "2024-05-22T17:15:00.000000000",
          "2024-05-22T17:20:00.000000000",
          "2024-05-22T17:25:00.000000000",
          "2024-05-22T17:30:00.000000000",
          "2024-05-22T17:35:00.000000000",
          "2024-05-22T17:40:00.000000000",
          "2024-05-22T17:45:00.000000000",
          "2024-05-22T17:50:00.000000000",
          "2024-05-22T17:55:00.000000000",
          "2024-05-22T18:00:00.000000000",
          "2024-05-22T18:05:00.000000000",
          "2024-05-22T18:10:00.000000000",
          "2024-05-22T18:15:00.000000000",
          "2024-05-22T18:20:00.000000000",
          "2024-05-22T18:25:00.000000000",
          "2024-05-22T18:30:00.000000000",
          "2024-05-22T18:35:00.000000000",
          "2024-05-22T18:40:00.000000000",
          "2024-05-22T18:45:00.000000000",
          "2024-05-22T18:50:00.000000000",
          "2024-05-22T18:55:00.000000000",
          "2024-08-28T16:05:00.000000000",
          "2024-08-28T16:10:00.000000000",
          "2024-08-28T16:15:00.000000000",
          "2024-08-28T16:20:00.000000000",
          "2024-08-28T16:25:00.000000000",
          "2024-08-28T16:30:00.000000000",
          "2024-08-28T16:35:00.000000000",
          "2024-08-28T16:40:00.000000000",
          "2024-08-28T16:45:00.000000000",
          "2024-08-28T16:50:00.000000000",
          "2024-08-28T16:55:00.000000000",
          "2024-08-28T17:00:00.000000000",
          "2024-08-28T17:05:00.000000000",
          "2024-08-28T17:10:00.000000000",
          "2024-08-28T17:15:00.000000000",
          "2024-08-28T17:20:00.000000000",
          "2024-08-28T17:25:00.000000000",
          "2024-08-28T17:30:00.000000000",
          "2024-08-28T17:35:00.000000000",
          "2024-08-28T17:40:00.000000000",
          "2024-08-28T17:45:00.000000000",
          "2024-08-28T17:50:00.000000000",
          "2024-08-28T17:55:00.000000000",
          "2024-08-28T18:00:00.000000000",
          "2024-08-28T18:05:00.000000000",
          "2024-08-28T18:10:00.000000000",
          "2024-08-28T18:15:00.000000000",
          "2024-08-28T18:20:00.000000000",
          "2024-08-28T18:25:00.000000000",
          "2024-08-28T18:30:00.000000000",
          "2024-08-28T18:35:00.000000000",
          "2024-08-28T18:40:00.000000000",
          "2024-08-28T18:45:00.000000000",
          "2024-08-28T18:50:00.000000000",
          "2024-08-28T18:55:00.000000000",
          "2024-11-20T16:05:00.000000000",
          "2024-11-20T16:10:00.000000000",
          "2024-11-20T16:15:00.000000000",
          "2024-11-20T16:20:00.000000000",
          "2024-11-20T16:25:00.000000000",
          "2024-11-20T16:30:00.000000000",
          "2024-11-20T16:35:00.000000000",
          "2024-11-20T16:40:00.000000000",
          "2024-11-20T16:45:00.000000000",
          "2024-11-20T16:50:00.000000000",
          "2024-11-20T16:55:00.000000000",
          "2024-11-20T17:00:00.000000000",
          "2024-11-20T17:05:00.000000000",
          "2024-11-20T17:10:00.000000000",
          "2024-11-20T17:15:00.000000000",
          "2024-11-20T17:20:00.000000000",
          "2024-11-20T17:25:00.000000000",
          "2024-11-20T17:30:00.000000000",
          "2024-11-20T17:35:00.000000000",
          "2024-11-20T17:40:00.000000000",
          "2024-11-20T17:45:00.000000000",
          "2024-11-20T17:50:00.000000000",
          "2024-11-20T17:55:00.000000000",
          "2024-11-20T18:00:00.000000000",
          "2024-11-20T18:05:00.000000000",
          "2024-11-20T18:10:00.000000000",
          "2024-11-20T18:15:00.000000000",
          "2024-11-20T18:20:00.000000000",
          "2024-11-20T18:25:00.000000000",
          "2025-02-26T16:05:00.000000000",
          "2025-02-26T16:10:00.000000000",
          "2025-02-26T16:15:00.000000000",
          "2025-02-26T16:20:00.000000000",
          "2025-02-26T16:25:00.000000000",
          "2025-02-26T16:30:00.000000000",
          "2025-02-26T16:35:00.000000000",
          "2025-02-26T16:40:00.000000000",
          "2025-02-26T16:45:00.000000000",
          "2025-02-26T16:50:00.000000000",
          "2025-02-26T16:55:00.000000000",
          "2025-02-26T17:00:00.000000000",
          "2025-02-26T17:05:00.000000000",
          "2025-02-26T17:10:00.000000000",
          "2025-02-26T17:15:00.000000000",
          "2025-02-26T17:20:00.000000000",
          "2025-02-26T17:25:00.000000000",
          "2025-02-26T17:30:00.000000000",
          "2025-02-26T17:35:00.000000000",
          "2025-02-26T17:40:00.000000000",
          "2025-02-26T17:45:00.000000000",
          "2025-02-26T17:50:00.000000000",
          "2025-02-26T17:55:00.000000000",
          "2025-02-26T18:00:00.000000000",
          "2025-02-26T18:05:00.000000000",
          "2025-02-26T18:10:00.000000000",
          "2025-02-26T18:15:00.000000000",
          "2025-02-26T18:20:00.000000000",
          "2025-02-26T18:25:00.000000000"
         ],
         "xaxis": "x",
         "y": {
          "bdata": "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",
          "dtype": "f8"
         },
         "yaxis": "y"
        }
       ],
       "layout": {
        "legend": {
         "tracegroupgap": 0
        },
        "template": {
         "data": {
          "bar": [
           {
            "error_x": {
             "color": "#2a3f5f"
            },
            "error_y": {
             "color": "#2a3f5f"
            },
            "marker": {
             "line": {
              "color": "#E5ECF6",
              "width": 0.5
             },
             "pattern": {
              "fillmode": "overlay",
              "size": 10,
              "solidity": 0.2
             }
            },
            "type": "bar"
           }
          ],
          "barpolar": [
           {
            "marker": {
             "line": {
              "color": "#E5ECF6",
              "width": 0.5
             },
             "pattern": {
              "fillmode": "overlay",
              "size": 10,
              "solidity": 0.2
             }
            },
            "type": "barpolar"
           }
          ],
          "carpet": [
           {
            "aaxis": {
             "endlinecolor": "#2a3f5f",
             "gridcolor": "white",
             "linecolor": "white",
             "minorgridcolor": "white",
             "startlinecolor": "#2a3f5f"
            },
            "baxis": {
             "endlinecolor": "#2a3f5f",
             "gridcolor": "white",
             "linecolor": "white",
             "minorgridcolor": "white",
             "startlinecolor": "#2a3f5f"
            },
            "type": "carpet"
           }
          ],
          "choropleth": [
           {
            "colorbar": {
             "outlinewidth": 0,
             "ticks": ""
            },
            "type": "choropleth"
           }
          ],
          "contour": [
           {
            "colorbar": {
             "outlinewidth": 0,
             "ticks": ""
            },
            "colorscale": [
             [
              0,
              "#0d0887"
             ],
             [
              0.1111111111111111,
              "#46039f"
             ],
             [
              0.2222222222222222,
              "#7201a8"
             ],
             [
              0.3333333333333333,
              "#9c179e"
             ],
             [
              0.4444444444444444,
              "#bd3786"
             ],
             [
              0.5555555555555556,
              "#d8576b"
             ],
             [
              0.6666666666666666,
              "#ed7953"
             ],
             [
              0.7777777777777778,
              "#fb9f3a"
             ],
             [
              0.8888888888888888,
              "#fdca26"
             ],
             [
              1,
              "#f0f921"
             ]
            ],
            "type": "contour"
           }
          ],
          "contourcarpet": [
           {
            "colorbar": {
             "outlinewidth": 0,
             "ticks": ""
            },
            "type": "contourcarpet"
           }
          ],
          "heatmap": [
           {
            "colorbar": {
             "outlinewidth": 0,
             "ticks": ""
            },
            "colorscale": [
             [
              0,
              "#0d0887"
             ],
             [
              0.1111111111111111,
              "#46039f"
             ],
             [
              0.2222222222222222,
              "#7201a8"
             ],
             [
              0.3333333333333333,
              "#9c179e"
             ],
             [
              0.4444444444444444,
              "#bd3786"
             ],
             [
              0.5555555555555556,
              "#d8576b"
             ],
             [
              0.6666666666666666,
              "#ed7953"
             ],
             [
              0.7777777777777778,
              "#fb9f3a"
             ],
             [
              0.8888888888888888,
              "#fdca26"
             ],
             [
              1,
              "#f0f921"
             ]
            ],
            "type": "heatmap"
           }
          ],
          "histogram": [
           {
            "marker": {
             "pattern": {
              "fillmode": "overlay",
              "size": 10,
              "solidity": 0.2
             }
            },
            "type": "histogram"
           }
          ],
          "histogram2d": [
           {
            "colorbar": {
             "outlinewidth": 0,
             "ticks": ""
            },
            "colorscale": [
             [
              0,
              "#0d0887"
             ],
             [
              0.1111111111111111,
              "#46039f"
             ],
             [
              0.2222222222222222,
              "#7201a8"
             ],
             [
              0.3333333333333333,
              "#9c179e"
             ],
             [
              0.4444444444444444,
              "#bd3786"
             ],
             [
              0.5555555555555556,
              "#d8576b"
             ],
             [
              0.6666666666666666,
              "#ed7953"
             ],
             [
              0.7777777777777778,
              "#fb9f3a"
             ],
             [
              0.8888888888888888,
              "#fdca26"
             ],
             [
              1,
              "#f0f921"
             ]
            ],
            "type": "histogram2d"
           }
          ],
          "histogram2dcontour": [
           {
            "colorbar": {
             "outlinewidth": 0,
             "ticks": ""
            },
            "colorscale": [
             [
              0,
              "#0d0887"
             ],
             [
              0.1111111111111111,
              "#46039f"
             ],
             [
              0.2222222222222222,
              "#7201a8"
             ],
             [
              0.3333333333333333,
              "#9c179e"
             ],
             [
              0.4444444444444444,
              "#bd3786"
             ],
             [
              0.5555555555555556,
              "#d8576b"
             ],
             [
              0.6666666666666666,
              "#ed7953"
             ],
             [
              0.7777777777777778,
              "#fb9f3a"
             ],
             [
              0.8888888888888888,
              "#fdca26"
             ],
             [
              1,
              "#f0f921"
             ]
            ],
            "type": "histogram2dcontour"
           }
          ],
          "mesh3d": [
           {
            "colorbar": {
             "outlinewidth": 0,
             "ticks": ""
            },
            "type": "mesh3d"
           }
          ],
          "parcoords": [
           {
            "line": {
             "colorbar": {
              "outlinewidth": 0,
              "ticks": ""
             }
            },
            "type": "parcoords"
           }
          ],
          "pie": [
           {
            "automargin": true,
            "type": "pie"
           }
          ],
          "scatter": [
           {
            "fillpattern": {
             "fillmode": "overlay",
             "size": 10,
             "solidity": 0.2
            },
            "type": "scatter"
           }
          ],
          "scatter3d": [
           {
            "line": {
             "colorbar": {
              "outlinewidth": 0,
              "ticks": ""
             }
            },
            "marker": {
             "colorbar": {
              "outlinewidth": 0,
              "ticks": ""
             }
            },
            "type": "scatter3d"
           }
          ],
          "scattercarpet": [
           {
            "marker": {
             "colorbar": {
              "outlinewidth": 0,
              "ticks": ""
             }
            },
            "type": "scattercarpet"
           }
          ],
          "scattergeo": [
           {
            "marker": {
             "colorbar": {
              "outlinewidth": 0,
              "ticks": ""
             }
            },
            "type": "scattergeo"
           }
          ],
          "scattergl": [
           {
            "marker": {
             "colorbar": {
              "outlinewidth": 0,
              "ticks": ""
             }
            },
            "type": "scattergl"
           }
          ],
          "scattermap": [
           {
            "marker": {
             "colorbar": {
              "outlinewidth": 0,
              "ticks": ""
             }
            },
            "type": "scattermap"
           }
          ],
          "scattermapbox": [
           {
            "marker": {
             "colorbar": {
              "outlinewidth": 0,
              "ticks": ""
             }
            },
            "type": "scattermapbox"
           }
          ],
          "scatterpolar": [
           {
            "marker": {
             "colorbar": {
              "outlinewidth": 0,
              "ticks": ""
             }
            },
            "type": "scatterpolar"
           }
          ],
          "scatterpolargl": [
           {
            "marker": {
             "colorbar": {
              "outlinewidth": 0,
              "ticks": ""
             }
            },
            "type": "scatterpolargl"
           }
          ],
          "scatterternary": [
           {
            "marker": {
             "colorbar": {
              "outlinewidth": 0,
              "ticks": ""
             }
            },
            "type": "scatterternary"
           }
          ],
          "surface": [
           {
            "colorbar": {
             "outlinewidth": 0,
             "ticks": ""
            },
            "colorscale": [
             [
              0,
              "#0d0887"
             ],
             [
              0.1111111111111111,
              "#46039f"
             ],
             [
              0.2222222222222222,
              "#7201a8"
             ],
             [
              0.3333333333333333,
              "#9c179e"
             ],
             [
              0.4444444444444444,
              "#bd3786"
             ],
             [
              0.5555555555555556,
              "#d8576b"
             ],
             [
              0.6666666666666666,
              "#ed7953"
             ],
             [
              0.7777777777777778,
              "#fb9f3a"
             ],
             [
              0.8888888888888888,
              "#fdca26"
             ],
             [
              1,
              "#f0f921"
             ]
            ],
            "type": "surface"
           }
          ],
          "table": [
           {
            "cells": {
             "fill": {
              "color": "#EBF0F8"
             },
             "line": {
              "color": "white"
             }
            },
            "header": {
             "fill": {
              "color": "#C8D4E3"
             },
             "line": {
              "color": "white"
             }
            },
            "type": "table"
           }
          ]
         },
         "layout": {
          "annotationdefaults": {
           "arrowcolor": "#2a3f5f",
           "arrowhead": 0,
           "arrowwidth": 1
          },
          "autotypenumbers": "strict",
          "coloraxis": {
           "colorbar": {
            "outlinewidth": 0,
            "ticks": ""
           }
          },
          "colorscale": {
           "diverging": [
            [
             0,
             "#8e0152"
            ],
            [
             0.1,
             "#c51b7d"
            ],
            [
             0.2,
             "#de77ae"
            ],
            [
             0.3,
             "#f1b6da"
            ],
            [
             0.4,
             "#fde0ef"
            ],
            [
             0.5,
             "#f7f7f7"
            ],
            [
             0.6,
             "#e6f5d0"
            ],
            [
             0.7,
             "#b8e186"
            ],
            [
             0.8,
             "#7fbc41"
            ],
            [
             0.9,
             "#4d9221"
            ],
            [
             1,
             "#276419"
            ]
           ],
           "sequential": [
            [
             0,
             "#0d0887"
            ],
            [
             0.1111111111111111,
             "#46039f"
            ],
            [
             0.2222222222222222,
             "#7201a8"
            ],
            [
             0.3333333333333333,
             "#9c179e"
            ],
            [
             0.4444444444444444,
             "#bd3786"
            ],
            [
             0.5555555555555556,
             "#d8576b"
            ],
            [
             0.6666666666666666,
             "#ed7953"
            ],
            [
             0.7777777777777778,
             "#fb9f3a"
            ],
            [
             0.8888888888888888,
             "#fdca26"
            ],
            [
             1,
             "#f0f921"
            ]
           ],
           "sequentialminus": [
            [
             0,
             "#0d0887"
            ],
            [
             0.1111111111111111,
             "#46039f"
            ],
            [
             0.2222222222222222,
             "#7201a8"
            ],
            [
             0.3333333333333333,
             "#9c179e"
            ],
            [
             0.4444444444444444,
             "#bd3786"
            ],
            [
             0.5555555555555556,
             "#d8576b"
            ],
            [
             0.6666666666666666,
             "#ed7953"
            ],
            [
             0.7777777777777778,
             "#fb9f3a"
            ],
            [
             0.8888888888888888,
             "#fdca26"
            ],
            [
             1,
             "#f0f921"
            ]
           ]
          },
          "colorway": [
           "#636efa",
           "#EF553B",
           "#00cc96",
           "#ab63fa",
           "#FFA15A",
           "#19d3f3",
           "#FF6692",
           "#B6E880",
           "#FF97FF",
           "#FECB52"
          ],
          "font": {
           "color": "#2a3f5f"
          },
          "geo": {
           "bgcolor": "white",
           "lakecolor": "white",
           "landcolor": "#E5ECF6",
           "showlakes": true,
           "showland": true,
           "subunitcolor": "white"
          },
          "hoverlabel": {
           "align": "left"
          },
          "hovermode": "closest",
          "mapbox": {
           "style": "light"
          },
          "paper_bgcolor": "white",
          "plot_bgcolor": "#E5ECF6",
          "polar": {
           "angularaxis": {
            "gridcolor": "white",
            "linecolor": "white",
            "ticks": ""
           },
           "bgcolor": "#E5ECF6",
           "radialaxis": {
            "gridcolor": "white",
            "linecolor": "white",
            "ticks": ""
           }
          },
          "scene": {
           "xaxis": {
            "backgroundcolor": "#E5ECF6",
            "gridcolor": "white",
            "gridwidth": 2,
            "linecolor": "white",
            "showbackground": true,
            "ticks": "",
            "zerolinecolor": "white"
           },
           "yaxis": {
            "backgroundcolor": "#E5ECF6",
            "gridcolor": "white",
            "gridwidth": 2,
            "linecolor": "white",
            "showbackground": true,
            "ticks": "",
            "zerolinecolor": "white"
           },
           "zaxis": {
            "backgroundcolor": "#E5ECF6",
            "gridcolor": "white",
            "gridwidth": 2,
            "linecolor": "white",
            "showbackground": true,
            "ticks": "",
            "zerolinecolor": "white"
           }
          },
          "shapedefaults": {
           "line": {
            "color": "#2a3f5f"
           }
          },
          "ternary": {
           "aaxis": {
            "gridcolor": "white",
            "linecolor": "white",
            "ticks": ""
           },
           "baxis": {
            "gridcolor": "white",
            "linecolor": "white",
            "ticks": ""
           },
           "bgcolor": "#E5ECF6",
           "caxis": {
            "gridcolor": "white",
            "linecolor": "white",
            "ticks": ""
           }
          },
          "title": {
           "x": 0.05
          },
          "xaxis": {
           "automargin": true,
           "gridcolor": "white",
           "linecolor": "white",
           "ticks": "",
           "title": {
            "standoff": 15
           },
           "zerolinecolor": "white",
           "zerolinewidth": 2
          },
          "yaxis": {
           "automargin": true,
           "gridcolor": "white",
           "linecolor": "white",
           "ticks": "",
           "title": {
            "standoff": 15
           },
           "zerolinecolor": "white",
           "zerolinewidth": 2
          }
         }
        },
        "title": {
         "text": "Portfolio Drawdown"
        },
        "xaxis": {
         "anchor": "y",
         "domain": [
          0,
          1
         ],
         "title": {
          "text": "Date"
         }
        },
        "yaxis": {
         "anchor": "x",
         "domain": [
          0,
          1
         ],
         "tickformat": ".1%",
         "title": {
          "text": "Drawdown"
         }
        }
       }
      }
     },
     "metadata": {},
     "output_type": "display_data"
    },
    {
     "name": "stdout",
     "output_type": "stream",
     "text": [
      "All portfolio analysis results saved to c:\\Users\\athabit\\Desktop\\misc\\bhuv\\PEAD_Regression\\backtest\\NVDA_portfolio_analysis_20250321_185142\n"
     ]
    }
   ],
   "source": [
    "import numpy as np\n",
    "import plotly.express as px\n",
    "import pandas as pd\n",
    "import os\n",
    "import datetime\n",
    "import sys\n",
    "import subprocess\n",
    "\n",
    "# Try to install kaleido if it's not already installed\n",
    "try:\n",
    "    import kaleido\n",
    "    has_kaleido = True\n",
    "except ImportError:\n",
    "    has_kaleido = False\n",
    "    print(\"Kaleido package not found. Attempting to install...\")\n",
    "    try:\n",
    "        subprocess.check_call([sys.executable, \"-m\", \"pip\", \"install\", \"kaleido\"])\n",
    "        has_kaleido = True\n",
    "        print(\"Kaleido installed successfully!\")\n",
    "    except Exception as e:\n",
    "        print(f\"Could not install kaleido: {e}\")\n",
    "        print(\"Will continue without image export capability\")\n",
    "\n",
    "# Function to create a results directory\n",
    "def create_results_dir(base_path=None):\n",
    "    \"\"\"\n",
    "    Creates a directory for saving results based on current timestamp\n",
    "    Returns the path to the created directory\n",
    "    \"\"\"\n",
    "    # If no base path provided, use the directory where the notebook is located\n",
    "    if base_path is None:\n",
    "        base_path = os.path.dirname(os.path.abspath('Backtest.ipynb'))\n",
    "    \n",
    "    # Create a timestamp-based folder name\n",
    "    timestamp = datetime.datetime.now().strftime(\"%Y%m%d_%H%M%S\")\n",
    "    results_dir = os.path.join(base_path, f\"{selected}_portfolio_analysis_{timestamp}\")\n",
    "    \n",
    "    # Create the directory if it doesn't exist\n",
    "    if not os.path.exists(results_dir):\n",
    "        os.makedirs(results_dir)\n",
    "        \n",
    "    return results_dir\n",
    "\n",
    "# Create results directory\n",
    "results_dir = create_results_dir()\n",
    "print(f\"Portfolio analysis results will be saved to: {results_dir}\")\n",
    "\n",
    "# Assuming self.portfolio_value is a list of portfolio values over time\n",
    "portfolio_values = thestrat.portfolio_value\n",
    "\n",
    "# Calculate total return\n",
    "initial_value = portfolio_values[0]\n",
    "final_value = portfolio_values[-1]\n",
    "total_return = (final_value - initial_value) / initial_value\n",
    "\n",
    "# Calculate the number of years\n",
    "num_days = len(portfolio_values)  # Assuming daily data\n",
    "num_years = num_days / 252  # Assuming 252 trading days in a year\n",
    "\n",
    "# Calculate annualized return\n",
    "annual_return = (1 + total_return) ** (1 / num_years) - 1\n",
    "\n",
    "# Print the annual return\n",
    "print(f\"Annual Return: {annual_return * 100:.2f}%\")\n",
    "\n",
    "# Create a DataFrame for portfolio values\n",
    "portfolio_df = pd.DataFrame({\n",
    "    'Date': price_df.index,  # Replace with actual dates\n",
    "    'Portfolio Value': portfolio_values\n",
    "})\n",
    "\n",
    "# Save portfolio data to CSV\n",
    "portfolio_df.to_csv(os.path.join(results_dir, f\"{selected}_portfolio_values.csv\"), index=False)\n",
    "print(f\"Portfolio data saved to CSV\")\n",
    "\n",
    "# Plot portfolio growth\n",
    "fig = px.line(portfolio_df, x='Date', y='Portfolio Value', title='Portfolio Growth Over Time')\n",
    "fig.write_html(os.path.join(results_dir, f\"{selected}_portfolio_growth.html\"))\n",
    "if has_kaleido:\n",
    "    try:\n",
    "        fig.write_image(os.path.join(results_dir, f\"{selected}_portfolio_growth.png\"))\n",
    "    except Exception as e:\n",
    "        print(f\"Warning: Could not save image: {e}\")\n",
    "fig.show()\n",
    "\n",
    "# Calculate additional metrics\n",
    "# Compute daily returns\n",
    "portfolio_df['Daily_Return'] = portfolio_df['Portfolio Value'].pct_change()\n",
    "\n",
    "# Calculate drawdown\n",
    "portfolio_df['Peak'] = portfolio_df['Portfolio Value'].cummax()\n",
    "portfolio_df['Drawdown'] = (portfolio_df['Portfolio Value'] - portfolio_df['Peak']) / portfolio_df['Peak']\n",
    "\n",
    "# Calculate volatility (annualized)\n",
    "volatility = portfolio_df['Daily_Return'].std() * np.sqrt(252)\n",
    "\n",
    "# Calculate Sharpe ratio (assuming risk-free rate of 0% for simplicity)\n",
    "sharpe_ratio = annual_return / volatility if volatility != 0 else 0\n",
    "\n",
    "# Calculate maximum drawdown\n",
    "max_drawdown = portfolio_df['Drawdown'].min()\n",
    "\n",
    "# Save additional portfolio metrics to CSV\n",
    "metrics_df = pd.DataFrame({\n",
    "    'Metric': ['Initial Value', 'Final Value', 'Total Return', 'Annual Return', \n",
    "               'Volatility', 'Sharpe Ratio', 'Maximum Drawdown', 'Number of Trading Days'],\n",
    "    'Value': [initial_value, final_value, total_return, annual_return, \n",
    "              volatility, sharpe_ratio, max_drawdown, num_days]\n",
    "})\n",
    "\n",
    "metrics_df.to_csv(os.path.join(results_dir, f\"{selected}_portfolio_metrics.csv\"), index=False)\n",
    "print(f\"Portfolio metrics saved to CSV\")\n",
    "\n",
    "# Plot drawdown\n",
    "fig_drawdown = px.line(portfolio_df, x='Date', y='Drawdown', title='Portfolio Drawdown')\n",
    "fig_drawdown.update_layout(yaxis_tickformat='.1%')\n",
    "fig_drawdown.write_html(os.path.join(results_dir, f\"{selected}_portfolio_drawdown.html\"))\n",
    "if has_kaleido:\n",
    "    try:\n",
    "        fig_drawdown.write_image(os.path.join(results_dir, f\"{selected}_portfolio_drawdown.png\"))\n",
    "    except Exception as e:\n",
    "        print(f\"Warning: Could not save drawdown image: {e}\")\n",
    "fig_drawdown.show()\n",
    "\n",
    "# Create a summary text file\n",
    "with open(os.path.join(results_dir, f\"{selected}_portfolio_summary.txt\"), \"w\") as f:\n",
    "    f.write(f\"Portfolio Analysis Summary\\n\")\n",
    "    f.write(f\"=========================\\n\\n\")\n",
    "    f.write(f\"Generated on: {datetime.datetime.now().strftime('%Y-%m-%d %H:%M:%S')}\\n\\n\")\n",
    "    f.write(f\"Initial Portfolio Value: ${initial_value:.2f}\\n\")\n",
    "    f.write(f\"Final Portfolio Value: ${final_value:.2f}\\n\")\n",
    "    f.write(f\"Total Return: {total_return * 100:.2f}%\\n\")\n",
    "    f.write(f\"Annual Return: {annual_return * 100:.2f}%\\n\")\n",
    "    f.write(f\"Volatility (Annualized): {volatility * 100:.2f}%\\n\")\n",
    "    f.write(f\"Sharpe Ratio: {sharpe_ratio:.2f}\\n\")\n",
    "    f.write(f\"Maximum Drawdown: {max_drawdown * 100:.2f}%\\n\")\n",
    "    f.write(f\"Trading Period: {num_days} days ({num_years:.2f} years)\\n\")\n",
    "\n",
    "print(f\"All portfolio analysis results saved to {results_dir}\")"
   ]
  },
  {
   "cell_type": "code",
   "execution_count": null,
   "metadata": {},
   "outputs": [],
   "source": [
    "# import numpy as np\n",
    "\n",
    "# # Assuming self.portfolio_value is a list of portfolio values over time\n",
    "# portfolio_values = thestrat.portfolio_value\n",
    "\n",
    "# # Calculate total return\n",
    "# initial_value = portfolio_values[0]\n",
    "# final_value = portfolio_values[-1]\n",
    "# total_return = (final_value - initial_value) / initial_value\n",
    "\n",
    "# # Calculate the number of years\n",
    "# num_days = len(portfolio_values)  # Assuming daily data\n",
    "# num_years = num_days / 252  # Assuming 252 trading days in a year\n",
    "\n",
    "# # Calculate annualized return\n",
    "# annual_return = (1 + total_return) ** (1 / num_years) - 1\n",
    "\n",
    "# # Print the annual return\n",
    "# print(f\"Annual Return: {annual_return * 100:.2f}%\")\n",
    "\n",
    "# import plotly.express as px\n",
    "# import pandas as pd\n",
    "\n",
    "# # Create a DataFrame for portfolio values\n",
    "# portfolio_df = pd.DataFrame({\n",
    "#     'Date': price_df.index,  # Replace with actual dates\n",
    "#     'Portfolio Value': portfolio_values\n",
    "# })\n",
    "\n",
    "# # Plot portfolio growth\n",
    "# fig = px.line(portfolio_df, x='Date', y='Portfolio Value', title='Portfolio Growth Over Time')\n",
    "# fig.show()"
   ]
  },
  {
   "cell_type": "code",
   "execution_count": null,
   "metadata": {},
   "outputs": [],
   "source": [
    "# drawdown_series = drawdown['drawdown']\n",
    "# print(drawdown_series)\n",
    "\n",
    "# # Create a DataFrame for drawdown\n",
    "# drawdown_df = pd.DataFrame({\n",
    "#     'Time': range(len(drawdown_series)),\n",
    "#     'Drawdown (%)': drawdown_series\n",
    "# })\n",
    "\n",
    "# # Plot drawdown curve\n",
    "# fig = px.line(drawdown_df, x='Time', y='Drawdown (%)', title='Drawdown Over Time')\n",
    "# fig.show()"
   ]
  },
  {
   "cell_type": "code",
   "execution_count": null,
   "metadata": {},
   "outputs": [],
   "source": [
    "# import pandas as pd\n",
    "# import plotly.express as px\n",
    "\n",
    "# # Convert trade_details to DataFrame\n",
    "# trade_df = pd.DataFrame(thestrat.trade_details)\n",
    "\n",
    "# # Classify outcomes based on exit reason\n",
    "# def categorize_outcome(exit_reason):\n",
    "#     if exit_reason == 'Take Profit':\n",
    "#         return 'Won'\n",
    "#     elif exit_reason == 'Stop Loss':\n",
    "#         return 'Lost'\n",
    "#     elif exit_reason == 'Timeout':\n",
    "#         return 'Exited'\n",
    "#     else:\n",
    "#         return 'Unknown'  # Fallback for unexpected values\n",
    "\n",
    "# trade_df['Outcome'] = trade_df['Exit Reason'].apply(categorize_outcome)\n",
    "\n",
    "# # Group by direction (Long/Short) and outcome (Won/Lost/Exited)\n",
    "# grouped = trade_df.groupby(['Direction', 'Outcome']).size().reset_index(name='Count')\n",
    "\n",
    "# # Pivot the data for better visualization\n",
    "# pivot_df = grouped.pivot(index='Direction', columns='Outcome', values='Count').fillna(0)\n",
    "\n",
    "# # Print the pivot table\n",
    "# print(pivot_df)\n",
    "\n",
    "# # Plot the results\n",
    "# fig = px.bar(\n",
    "#     grouped,\n",
    "#     x='Direction',\n",
    "#     y='Count',\n",
    "#     color='Outcome',\n",
    "#     barmode='group',\n",
    "#     title='Trade Outcomes by Direction (Long/Short) and Result (Won/Lost/Exited)',\n",
    "#     labels={'Count': 'Number of Trades', 'Direction': 'Trade Direction'}\n",
    "# )\n",
    "# fig.show()"
   ]
  },
  {
   "cell_type": "code",
   "execution_count": null,
   "metadata": {},
   "outputs": [
    {
     "name": "stdout",
     "output_type": "stream",
     "text": [
      "Equity curve results will be saved to: c:\\Users\\athabit\\Desktop\\misc\\bhuv\\PEAD_Regression\\backtest\\NVDA_equity_curve_20250321_185143\n",
      "Equity curve data saved to CSV\n",
      "Warning: Could not save image: \n",
      "Image export using the \"kaleido\" engine requires the kaleido package,\n",
      "which can be installed using pip:\n",
      "    $ pip install -U kaleido\n",
      "\n"
     ]
    },
    {
     "data": {
      "application/vnd.plotly.v1+json": {
       "config": {
        "plotlyServerURL": "https://plot.ly"
       },
       "data": [
        {
         "hovertemplate": "Time=%{x}<br>Cumulative Return (%)=%{y}<extra></extra>",
         "legendgroup": "",
         "line": {
          "color": "#636efa",
          "dash": "solid"
         },
         "marker": {
          "symbol": "circle"
         },
         "mode": "lines",
         "name": "",
         "showlegend": false,
         "type": "scattergl",
         "x": [
          "2010-08-12T16:05:00.000000000",
          "2010-08-12T16:10:00.000000000",
          "2010-08-12T16:15:00.000000000",
          "2010-08-12T16:20:00.000000000",
          "2010-08-12T16:25:00.000000000",
          "2010-08-12T16:30:00.000000000",
          "2010-08-12T16:35:00.000000000",
          "2010-08-12T16:40:00.000000000",
          "2010-08-12T16:45:00.000000000",
          "2010-08-12T16:50:00.000000000",
          "2010-08-12T16:55:00.000000000",
          "2010-08-12T17:00:00.000000000",
          "2010-08-12T17:05:00.000000000",
          "2010-08-12T17:10:00.000000000",
          "2010-08-12T17:15:00.000000000",
          "2010-08-12T17:20:00.000000000",
          "2010-08-12T17:25:00.000000000",
          "2010-08-12T17:30:00.000000000",
          "2010-08-12T17:35:00.000000000",
          "2010-08-12T17:40:00.000000000",
          "2010-08-12T17:45:00.000000000",
          "2010-08-12T17:50:00.000000000",
          "2010-08-12T17:55:00.000000000",
          "2010-08-12T18:00:00.000000000",
          "2010-08-12T18:05:00.000000000",
          "2010-08-12T18:10:00.000000000",
          "2010-08-12T18:15:00.000000000",
          "2010-08-12T18:20:00.000000000",
          "2010-08-12T18:25:00.000000000",
          "2010-08-12T18:30:00.000000000",
          "2010-08-12T18:35:00.000000000",
          "2010-08-12T18:40:00.000000000",
          "2010-08-12T18:45:00.000000000",
          "2010-08-12T18:50:00.000000000",
          "2010-08-12T18:55:00.000000000",
          "2010-11-11T16:05:00.000000000",
          "2010-11-11T16:10:00.000000000",
          "2010-11-11T16:15:00.000000000",
          "2010-11-11T16:20:00.000000000",
          "2010-11-11T16:25:00.000000000",
          "2010-11-11T16:30:00.000000000",
          "2010-11-11T16:35:00.000000000",
          "2010-11-11T16:40:00.000000000",
          "2010-11-11T16:45:00.000000000",
          "2010-11-11T16:50:00.000000000",
          "2010-11-11T16:55:00.000000000",
          "2010-11-11T17:00:00.000000000",
          "2010-11-11T17:05:00.000000000",
          "2010-11-11T17:10:00.000000000",
          "2010-11-11T17:15:00.000000000",
          "2010-11-11T17:20:00.000000000",
          "2010-11-11T17:25:00.000000000",
          "2010-11-11T17:30:00.000000000",
          "2010-11-11T17:35:00.000000000",
          "2010-11-11T17:40:00.000000000",
          "2010-11-11T17:45:00.000000000",
          "2010-11-11T17:50:00.000000000",
          "2010-11-11T17:55:00.000000000",
          "2010-11-11T18:00:00.000000000",
          "2010-11-11T18:05:00.000000000",
          "2010-11-11T18:10:00.000000000",
          "2010-11-11T18:15:00.000000000",
          "2010-11-11T18:20:00.000000000",
          "2010-11-11T18:25:00.000000000",
          "2011-02-16T16:05:00.000000000",
          "2011-02-16T16:10:00.000000000",
          "2011-02-16T16:15:00.000000000",
          "2011-02-16T16:20:00.000000000",
          "2011-02-16T16:25:00.000000000",
          "2011-02-16T16:30:00.000000000",
          "2011-02-16T16:35:00.000000000",
          "2011-02-16T16:40:00.000000000",
          "2011-02-16T16:45:00.000000000",
          "2011-02-16T16:50:00.000000000",
          "2011-02-16T16:55:00.000000000",
          "2011-02-16T17:00:00.000000000",
          "2011-02-16T17:05:00.000000000",
          "2011-02-16T17:10:00.000000000",
          "2011-02-16T17:15:00.000000000",
          "2011-02-16T17:20:00.000000000",
          "2011-02-16T17:25:00.000000000",
          "2011-02-16T17:30:00.000000000",
          "2011-02-16T17:35:00.000000000",
          "2011-02-16T17:40:00.000000000",
          "2011-02-16T17:45:00.000000000",
          "2011-02-16T17:50:00.000000000",
          "2011-02-16T17:55:00.000000000",
          "2011-02-16T18:00:00.000000000",
          "2011-02-16T18:05:00.000000000",
          "2011-02-16T18:10:00.000000000",
          "2011-02-16T18:15:00.000000000",
          "2011-02-16T18:20:00.000000000",
          "2011-02-16T18:25:00.000000000",
          "2011-05-12T16:05:00.000000000",
          "2011-05-12T16:10:00.000000000",
          "2011-05-12T16:15:00.000000000",
          "2011-05-12T16:20:00.000000000",
          "2011-05-12T16:25:00.000000000",
          "2011-05-12T16:30:00.000000000",
          "2011-05-12T16:35:00.000000000",
          "2011-05-12T16:40:00.000000000",
          "2011-05-12T16:45:00.000000000",
          "2011-05-12T16:50:00.000000000",
          "2011-05-12T16:55:00.000000000",
          "2011-05-12T17:00:00.000000000",
          "2011-05-12T17:05:00.000000000",
          "2011-05-12T17:10:00.000000000",
          "2011-05-12T17:15:00.000000000",
          "2011-05-12T17:20:00.000000000",
          "2011-05-12T17:25:00.000000000",
          "2011-05-12T17:30:00.000000000",
          "2011-05-12T17:35:00.000000000",
          "2011-05-12T17:40:00.000000000",
          "2011-05-12T17:45:00.000000000",
          "2011-05-12T17:50:00.000000000",
          "2011-05-12T17:55:00.000000000",
          "2011-05-12T18:00:00.000000000",
          "2011-05-12T18:05:00.000000000",
          "2011-05-12T18:10:00.000000000",
          "2011-05-12T18:15:00.000000000",
          "2011-05-12T18:20:00.000000000",
          "2011-05-12T18:25:00.000000000",
          "2011-05-12T18:30:00.000000000",
          "2011-05-12T18:35:00.000000000",
          "2011-05-12T18:40:00.000000000",
          "2011-05-12T18:45:00.000000000",
          "2011-05-12T18:50:00.000000000",
          "2011-05-12T18:55:00.000000000",
          "2011-08-11T16:05:00.000000000",
          "2011-08-11T16:10:00.000000000",
          "2011-08-11T16:15:00.000000000",
          "2011-08-11T16:20:00.000000000",
          "2011-08-11T16:25:00.000000000",
          "2011-08-11T16:30:00.000000000",
          "2011-08-11T16:35:00.000000000",
          "2011-08-11T16:40:00.000000000",
          "2011-08-11T16:45:00.000000000",
          "2011-08-11T16:50:00.000000000",
          "2011-08-11T16:55:00.000000000",
          "2011-08-11T17:00:00.000000000",
          "2011-08-11T17:05:00.000000000",
          "2011-08-11T17:10:00.000000000",
          "2011-08-11T17:15:00.000000000",
          "2011-08-11T17:20:00.000000000",
          "2011-08-11T17:25:00.000000000",
          "2011-08-11T17:30:00.000000000",
          "2011-08-11T17:35:00.000000000",
          "2011-08-11T17:40:00.000000000",
          "2011-08-11T17:45:00.000000000",
          "2011-08-11T17:50:00.000000000",
          "2011-08-11T17:55:00.000000000",
          "2011-08-11T18:00:00.000000000",
          "2011-08-11T18:05:00.000000000",
          "2011-08-11T18:10:00.000000000",
          "2011-08-11T18:15:00.000000000",
          "2011-08-11T18:20:00.000000000",
          "2011-08-11T18:25:00.000000000",
          "2011-08-11T18:30:00.000000000",
          "2011-08-11T18:35:00.000000000",
          "2011-08-11T18:40:00.000000000",
          "2011-08-11T18:45:00.000000000",
          "2011-08-11T18:50:00.000000000",
          "2011-08-11T18:55:00.000000000",
          "2011-11-10T16:05:00.000000000",
          "2011-11-10T16:10:00.000000000",
          "2011-11-10T16:15:00.000000000",
          "2011-11-10T16:20:00.000000000",
          "2011-11-10T16:25:00.000000000",
          "2011-11-10T16:30:00.000000000",
          "2011-11-10T16:35:00.000000000",
          "2011-11-10T16:40:00.000000000",
          "2011-11-10T16:45:00.000000000",
          "2011-11-10T16:50:00.000000000",
          "2011-11-10T16:55:00.000000000",
          "2011-11-10T17:00:00.000000000",
          "2011-11-10T17:05:00.000000000",
          "2011-11-10T17:10:00.000000000",
          "2011-11-10T17:15:00.000000000",
          "2011-11-10T17:20:00.000000000",
          "2011-11-10T17:25:00.000000000",
          "2011-11-10T17:30:00.000000000",
          "2011-11-10T17:35:00.000000000",
          "2011-11-10T17:40:00.000000000",
          "2011-11-10T17:45:00.000000000",
          "2011-11-10T17:50:00.000000000",
          "2011-11-10T17:55:00.000000000",
          "2011-11-10T18:00:00.000000000",
          "2011-11-10T18:05:00.000000000",
          "2011-11-10T18:10:00.000000000",
          "2011-11-10T18:15:00.000000000",
          "2011-11-10T18:20:00.000000000",
          "2011-11-10T18:25:00.000000000",
          "2012-02-15T16:05:00.000000000",
          "2012-02-15T16:10:00.000000000",
          "2012-02-15T16:15:00.000000000",
          "2012-02-15T16:20:00.000000000",
          "2012-02-15T16:25:00.000000000",
          "2012-02-15T16:30:00.000000000",
          "2012-02-15T16:35:00.000000000",
          "2012-02-15T16:40:00.000000000",
          "2012-02-15T16:45:00.000000000",
          "2012-02-15T16:50:00.000000000",
          "2012-02-15T16:55:00.000000000",
          "2012-02-15T17:00:00.000000000",
          "2012-02-15T17:05:00.000000000",
          "2012-02-15T17:10:00.000000000",
          "2012-02-15T17:15:00.000000000",
          "2012-02-15T17:20:00.000000000",
          "2012-02-15T17:25:00.000000000",
          "2012-02-15T17:30:00.000000000",
          "2012-02-15T17:35:00.000000000",
          "2012-02-15T17:40:00.000000000",
          "2012-02-15T17:45:00.000000000",
          "2012-02-15T17:50:00.000000000",
          "2012-02-15T17:55:00.000000000",
          "2012-02-15T18:00:00.000000000",
          "2012-02-15T18:05:00.000000000",
          "2012-02-15T18:10:00.000000000",
          "2012-02-15T18:15:00.000000000",
          "2012-02-15T18:20:00.000000000",
          "2012-02-15T18:25:00.000000000",
          "2012-05-11T16:05:00.000000000",
          "2012-05-11T16:10:00.000000000",
          "2012-05-11T16:15:00.000000000",
          "2012-05-11T16:20:00.000000000",
          "2012-05-11T16:25:00.000000000",
          "2012-05-11T16:30:00.000000000",
          "2012-05-11T16:35:00.000000000",
          "2012-05-11T16:40:00.000000000",
          "2012-05-11T16:45:00.000000000",
          "2012-05-11T16:50:00.000000000",
          "2012-05-11T16:55:00.000000000",
          "2012-05-11T17:00:00.000000000",
          "2012-05-11T17:05:00.000000000",
          "2012-05-11T17:10:00.000000000",
          "2012-05-11T17:15:00.000000000",
          "2012-05-11T17:20:00.000000000",
          "2012-05-11T17:25:00.000000000",
          "2012-05-11T17:30:00.000000000",
          "2012-05-11T17:35:00.000000000",
          "2012-05-11T17:40:00.000000000",
          "2012-05-11T17:45:00.000000000",
          "2012-05-11T17:50:00.000000000",
          "2012-05-11T17:55:00.000000000",
          "2012-05-11T18:00:00.000000000",
          "2012-05-11T18:05:00.000000000",
          "2012-05-11T18:10:00.000000000",
          "2012-05-11T18:15:00.000000000",
          "2012-05-11T18:20:00.000000000",
          "2012-05-11T18:25:00.000000000",
          "2012-05-11T18:30:00.000000000",
          "2012-05-11T18:35:00.000000000",
          "2012-05-11T18:40:00.000000000",
          "2012-05-11T18:45:00.000000000",
          "2012-05-11T18:50:00.000000000",
          "2012-05-11T18:55:00.000000000",
          "2012-08-09T16:05:00.000000000",
          "2012-08-09T16:10:00.000000000",
          "2012-08-09T16:15:00.000000000",
          "2012-08-09T16:20:00.000000000",
          "2012-08-09T16:25:00.000000000",
          "2012-08-09T16:30:00.000000000",
          "2012-08-09T16:35:00.000000000",
          "2012-08-09T16:40:00.000000000",
          "2012-08-09T16:45:00.000000000",
          "2012-08-09T16:50:00.000000000",
          "2012-08-09T16:55:00.000000000",
          "2012-08-09T17:00:00.000000000",
          "2012-08-09T17:05:00.000000000",
          "2012-08-09T17:10:00.000000000",
          "2012-08-09T17:15:00.000000000",
          "2012-08-09T17:20:00.000000000",
          "2012-08-09T17:25:00.000000000",
          "2012-08-09T17:30:00.000000000",
          "2012-08-09T17:35:00.000000000",
          "2012-08-09T17:40:00.000000000",
          "2012-08-09T17:45:00.000000000",
          "2012-08-09T17:50:00.000000000",
          "2012-08-09T17:55:00.000000000",
          "2012-08-09T18:00:00.000000000",
          "2012-08-09T18:05:00.000000000",
          "2012-08-09T18:10:00.000000000",
          "2012-08-09T18:15:00.000000000",
          "2012-08-09T18:20:00.000000000",
          "2012-08-09T18:25:00.000000000",
          "2012-08-09T18:30:00.000000000",
          "2012-08-09T18:35:00.000000000",
          "2012-08-09T18:40:00.000000000",
          "2012-08-09T18:45:00.000000000",
          "2012-08-09T18:50:00.000000000",
          "2012-08-09T18:55:00.000000000",
          "2012-11-08T16:05:00.000000000",
          "2012-11-08T16:10:00.000000000",
          "2012-11-08T16:15:00.000000000",
          "2012-11-08T16:20:00.000000000",
          "2012-11-08T16:25:00.000000000",
          "2012-11-08T16:30:00.000000000",
          "2012-11-08T16:35:00.000000000",
          "2012-11-08T16:40:00.000000000",
          "2012-11-08T16:45:00.000000000",
          "2012-11-08T16:50:00.000000000",
          "2012-11-08T16:55:00.000000000",
          "2012-11-08T17:00:00.000000000",
          "2012-11-08T17:05:00.000000000",
          "2012-11-08T17:10:00.000000000",
          "2012-11-08T17:15:00.000000000",
          "2012-11-08T17:20:00.000000000",
          "2012-11-08T17:25:00.000000000",
          "2012-11-08T17:30:00.000000000",
          "2012-11-08T17:35:00.000000000",
          "2012-11-08T17:40:00.000000000",
          "2012-11-08T17:45:00.000000000",
          "2012-11-08T17:50:00.000000000",
          "2012-11-08T17:55:00.000000000",
          "2012-11-08T18:00:00.000000000",
          "2012-11-08T18:05:00.000000000",
          "2012-11-08T18:10:00.000000000",
          "2012-11-08T18:15:00.000000000",
          "2012-11-08T18:20:00.000000000",
          "2012-11-08T18:25:00.000000000",
          "2013-02-13T16:05:00.000000000",
          "2013-02-13T16:10:00.000000000",
          "2013-02-13T16:15:00.000000000",
          "2013-02-13T16:20:00.000000000",
          "2013-02-13T16:25:00.000000000",
          "2013-02-13T16:30:00.000000000",
          "2013-02-13T16:35:00.000000000",
          "2013-02-13T16:40:00.000000000",
          "2013-02-13T16:45:00.000000000",
          "2013-02-13T16:50:00.000000000",
          "2013-02-13T16:55:00.000000000",
          "2013-02-13T17:00:00.000000000",
          "2013-02-13T17:05:00.000000000",
          "2013-02-13T17:10:00.000000000",
          "2013-02-13T17:15:00.000000000",
          "2013-02-13T17:20:00.000000000",
          "2013-02-13T17:25:00.000000000",
          "2013-02-13T17:30:00.000000000",
          "2013-02-13T17:35:00.000000000",
          "2013-02-13T17:40:00.000000000",
          "2013-02-13T17:45:00.000000000",
          "2013-02-13T17:50:00.000000000",
          "2013-02-13T17:55:00.000000000",
          "2013-02-13T18:00:00.000000000",
          "2013-02-13T18:05:00.000000000",
          "2013-02-13T18:10:00.000000000",
          "2013-02-13T18:15:00.000000000",
          "2013-02-13T18:20:00.000000000",
          "2013-02-13T18:25:00.000000000",
          "2013-05-09T16:05:00.000000000",
          "2013-05-09T16:10:00.000000000",
          "2013-05-09T16:15:00.000000000",
          "2013-05-09T16:20:00.000000000",
          "2013-05-09T16:25:00.000000000",
          "2013-05-09T16:30:00.000000000",
          "2013-05-09T16:35:00.000000000",
          "2013-05-09T16:40:00.000000000",
          "2013-05-09T16:45:00.000000000",
          "2013-05-09T16:50:00.000000000",
          "2013-05-09T16:55:00.000000000",
          "2013-05-09T17:00:00.000000000",
          "2013-05-09T17:05:00.000000000",
          "2013-05-09T17:10:00.000000000",
          "2013-05-09T17:15:00.000000000",
          "2013-05-09T17:20:00.000000000",
          "2013-05-09T17:25:00.000000000",
          "2013-05-09T17:30:00.000000000",
          "2013-05-09T17:35:00.000000000",
          "2013-05-09T17:40:00.000000000",
          "2013-05-09T17:45:00.000000000",
          "2013-05-09T17:50:00.000000000",
          "2013-05-09T17:55:00.000000000",
          "2013-05-09T18:00:00.000000000",
          "2013-05-09T18:05:00.000000000",
          "2013-05-09T18:10:00.000000000",
          "2013-05-09T18:15:00.000000000",
          "2013-05-09T18:20:00.000000000",
          "2013-05-09T18:25:00.000000000",
          "2013-05-09T18:30:00.000000000",
          "2013-05-09T18:35:00.000000000",
          "2013-05-09T18:40:00.000000000",
          "2013-05-09T18:45:00.000000000",
          "2013-05-09T18:50:00.000000000",
          "2013-05-09T18:55:00.000000000",
          "2013-08-08T16:05:00.000000000",
          "2013-08-08T16:10:00.000000000",
          "2013-08-08T16:15:00.000000000",
          "2013-08-08T16:20:00.000000000",
          "2013-08-08T16:25:00.000000000",
          "2013-08-08T16:30:00.000000000",
          "2013-08-08T16:35:00.000000000",
          "2013-08-08T16:40:00.000000000",
          "2013-08-08T16:45:00.000000000",
          "2013-08-08T16:50:00.000000000",
          "2013-08-08T16:55:00.000000000",
          "2013-08-08T17:00:00.000000000",
          "2013-08-08T17:05:00.000000000",
          "2013-08-08T17:10:00.000000000",
          "2013-08-08T17:15:00.000000000",
          "2013-08-08T17:20:00.000000000",
          "2013-08-08T17:25:00.000000000",
          "2013-08-08T17:30:00.000000000",
          "2013-08-08T17:35:00.000000000",
          "2013-08-08T17:40:00.000000000",
          "2013-08-08T17:45:00.000000000",
          "2013-08-08T17:50:00.000000000",
          "2013-08-08T17:55:00.000000000",
          "2013-08-08T18:00:00.000000000",
          "2013-08-08T18:05:00.000000000",
          "2013-08-08T18:10:00.000000000",
          "2013-08-08T18:15:00.000000000",
          "2013-08-08T18:20:00.000000000",
          "2013-08-08T18:25:00.000000000",
          "2013-08-08T18:30:00.000000000",
          "2013-08-08T18:35:00.000000000",
          "2013-08-08T18:40:00.000000000",
          "2013-08-08T18:45:00.000000000",
          "2013-08-08T18:50:00.000000000",
          "2013-08-08T18:55:00.000000000",
          "2013-11-07T16:05:00.000000000",
          "2013-11-07T16:10:00.000000000",
          "2013-11-07T16:15:00.000000000",
          "2013-11-07T16:20:00.000000000",
          "2013-11-07T16:25:00.000000000",
          "2013-11-07T16:30:00.000000000",
          "2013-11-07T16:35:00.000000000",
          "2013-11-07T16:40:00.000000000",
          "2013-11-07T16:45:00.000000000",
          "2013-11-07T16:50:00.000000000",
          "2013-11-07T16:55:00.000000000",
          "2013-11-07T17:00:00.000000000",
          "2013-11-07T17:05:00.000000000",
          "2013-11-07T17:10:00.000000000",
          "2013-11-07T17:15:00.000000000",
          "2013-11-07T17:20:00.000000000",
          "2013-11-07T17:25:00.000000000",
          "2013-11-07T17:30:00.000000000",
          "2013-11-07T17:35:00.000000000",
          "2013-11-07T17:40:00.000000000",
          "2013-11-07T17:45:00.000000000",
          "2013-11-07T17:50:00.000000000",
          "2013-11-07T17:55:00.000000000",
          "2013-11-07T18:00:00.000000000",
          "2013-11-07T18:05:00.000000000",
          "2013-11-07T18:10:00.000000000",
          "2013-11-07T18:15:00.000000000",
          "2013-11-07T18:20:00.000000000",
          "2013-11-07T18:25:00.000000000",
          "2014-02-12T16:05:00.000000000",
          "2014-02-12T16:10:00.000000000",
          "2014-02-12T16:15:00.000000000",
          "2014-02-12T16:20:00.000000000",
          "2014-02-12T16:25:00.000000000",
          "2014-02-12T16:30:00.000000000",
          "2014-02-12T16:35:00.000000000",
          "2014-02-12T16:40:00.000000000",
          "2014-02-12T16:45:00.000000000",
          "2014-02-12T16:50:00.000000000",
          "2014-02-12T16:55:00.000000000",
          "2014-02-12T17:00:00.000000000",
          "2014-02-12T17:05:00.000000000",
          "2014-02-12T17:10:00.000000000",
          "2014-02-12T17:15:00.000000000",
          "2014-02-12T17:20:00.000000000",
          "2014-02-12T17:25:00.000000000",
          "2014-02-12T17:30:00.000000000",
          "2014-02-12T17:35:00.000000000",
          "2014-02-12T17:40:00.000000000",
          "2014-02-12T17:45:00.000000000",
          "2014-02-12T17:50:00.000000000",
          "2014-02-12T17:55:00.000000000",
          "2014-02-12T18:00:00.000000000",
          "2014-02-12T18:05:00.000000000",
          "2014-02-12T18:10:00.000000000",
          "2014-02-12T18:15:00.000000000",
          "2014-02-12T18:20:00.000000000",
          "2014-02-12T18:25:00.000000000",
          "2014-05-06T16:05:00.000000000",
          "2014-05-06T16:10:00.000000000",
          "2014-05-06T16:15:00.000000000",
          "2014-05-06T16:20:00.000000000",
          "2014-05-06T16:25:00.000000000",
          "2014-05-06T16:30:00.000000000",
          "2014-05-06T16:35:00.000000000",
          "2014-05-06T16:40:00.000000000",
          "2014-05-06T16:45:00.000000000",
          "2014-05-06T16:50:00.000000000",
          "2014-05-06T16:55:00.000000000",
          "2014-05-06T17:00:00.000000000",
          "2014-05-06T17:05:00.000000000",
          "2014-05-06T17:10:00.000000000",
          "2014-05-06T17:15:00.000000000",
          "2014-05-06T17:20:00.000000000",
          "2014-05-06T17:25:00.000000000",
          "2014-05-06T17:30:00.000000000",
          "2014-05-06T17:35:00.000000000",
          "2014-05-06T17:40:00.000000000",
          "2014-05-06T17:45:00.000000000",
          "2014-05-06T17:50:00.000000000",
          "2014-05-06T17:55:00.000000000",
          "2014-05-06T18:00:00.000000000",
          "2014-05-06T18:05:00.000000000",
          "2014-05-06T18:10:00.000000000",
          "2014-05-06T18:15:00.000000000",
          "2014-05-06T18:20:00.000000000",
          "2014-05-06T18:25:00.000000000",
          "2014-05-06T18:30:00.000000000",
          "2014-05-06T18:35:00.000000000",
          "2014-05-06T18:40:00.000000000",
          "2014-05-06T18:45:00.000000000",
          "2014-05-06T18:50:00.000000000",
          "2014-05-06T18:55:00.000000000",
          "2014-08-07T16:05:00.000000000",
          "2014-08-07T16:10:00.000000000",
          "2014-08-07T16:15:00.000000000",
          "2014-08-07T16:20:00.000000000",
          "2014-08-07T16:25:00.000000000",
          "2014-08-07T16:30:00.000000000",
          "2014-08-07T16:35:00.000000000",
          "2014-08-07T16:40:00.000000000",
          "2014-08-07T16:45:00.000000000",
          "2014-08-07T16:50:00.000000000",
          "2014-08-07T16:55:00.000000000",
          "2014-08-07T17:00:00.000000000",
          "2014-08-07T17:05:00.000000000",
          "2014-08-07T17:10:00.000000000",
          "2014-08-07T17:15:00.000000000",
          "2014-08-07T17:20:00.000000000",
          "2014-08-07T17:25:00.000000000",
          "2014-08-07T17:30:00.000000000",
          "2014-08-07T17:35:00.000000000",
          "2014-08-07T17:40:00.000000000",
          "2014-08-07T17:45:00.000000000",
          "2014-08-07T17:50:00.000000000",
          "2014-08-07T17:55:00.000000000",
          "2014-08-07T18:00:00.000000000",
          "2014-08-07T18:05:00.000000000",
          "2014-08-07T18:10:00.000000000",
          "2014-08-07T18:15:00.000000000",
          "2014-08-07T18:20:00.000000000",
          "2014-08-07T18:25:00.000000000",
          "2014-08-07T18:30:00.000000000",
          "2014-08-07T18:35:00.000000000",
          "2014-08-07T18:40:00.000000000",
          "2014-08-07T18:45:00.000000000",
          "2014-08-07T18:50:00.000000000",
          "2014-08-07T18:55:00.000000000",
          "2014-11-06T16:05:00.000000000",
          "2014-11-06T16:10:00.000000000",
          "2014-11-06T16:15:00.000000000",
          "2014-11-06T16:20:00.000000000",
          "2014-11-06T16:25:00.000000000",
          "2014-11-06T16:30:00.000000000",
          "2014-11-06T16:35:00.000000000",
          "2014-11-06T16:40:00.000000000",
          "2014-11-06T16:45:00.000000000",
          "2014-11-06T16:50:00.000000000",
          "2014-11-06T16:55:00.000000000",
          "2014-11-06T17:00:00.000000000",
          "2014-11-06T17:05:00.000000000",
          "2014-11-06T17:10:00.000000000",
          "2014-11-06T17:15:00.000000000",
          "2014-11-06T17:20:00.000000000",
          "2014-11-06T17:25:00.000000000",
          "2014-11-06T17:30:00.000000000",
          "2014-11-06T17:35:00.000000000",
          "2014-11-06T17:40:00.000000000",
          "2014-11-06T17:45:00.000000000",
          "2014-11-06T17:50:00.000000000",
          "2014-11-06T17:55:00.000000000",
          "2014-11-06T18:00:00.000000000",
          "2014-11-06T18:05:00.000000000",
          "2014-11-06T18:10:00.000000000",
          "2014-11-06T18:15:00.000000000",
          "2014-11-06T18:20:00.000000000",
          "2014-11-06T18:25:00.000000000",
          "2015-02-11T16:05:00.000000000",
          "2015-02-11T16:10:00.000000000",
          "2015-02-11T16:15:00.000000000",
          "2015-02-11T16:20:00.000000000",
          "2015-02-11T16:25:00.000000000",
          "2015-02-11T16:30:00.000000000",
          "2015-02-11T16:35:00.000000000",
          "2015-02-11T16:40:00.000000000",
          "2015-02-11T16:45:00.000000000",
          "2015-02-11T16:50:00.000000000",
          "2015-02-11T16:55:00.000000000",
          "2015-02-11T17:00:00.000000000",
          "2015-02-11T17:05:00.000000000",
          "2015-02-11T17:10:00.000000000",
          "2015-02-11T17:15:00.000000000",
          "2015-02-11T17:20:00.000000000",
          "2015-02-11T17:25:00.000000000",
          "2015-02-11T17:30:00.000000000",
          "2015-02-11T17:35:00.000000000",
          "2015-02-11T17:40:00.000000000",
          "2015-02-11T17:45:00.000000000",
          "2015-02-11T17:50:00.000000000",
          "2015-02-11T17:55:00.000000000",
          "2015-02-11T18:00:00.000000000",
          "2015-02-11T18:05:00.000000000",
          "2015-02-11T18:10:00.000000000",
          "2015-02-11T18:15:00.000000000",
          "2015-02-11T18:20:00.000000000",
          "2015-02-11T18:25:00.000000000",
          "2015-05-07T16:05:00.000000000",
          "2015-05-07T16:10:00.000000000",
          "2015-05-07T16:15:00.000000000",
          "2015-05-07T16:20:00.000000000",
          "2015-05-07T16:25:00.000000000",
          "2015-05-07T16:30:00.000000000",
          "2015-05-07T16:35:00.000000000",
          "2015-05-07T16:40:00.000000000",
          "2015-05-07T16:45:00.000000000",
          "2015-05-07T16:50:00.000000000",
          "2015-05-07T16:55:00.000000000",
          "2015-05-07T17:00:00.000000000",
          "2015-05-07T17:05:00.000000000",
          "2015-05-07T17:10:00.000000000",
          "2015-05-07T17:15:00.000000000",
          "2015-05-07T17:20:00.000000000",
          "2015-05-07T17:25:00.000000000",
          "2015-05-07T17:30:00.000000000",
          "2015-05-07T17:35:00.000000000",
          "2015-05-07T17:40:00.000000000",
          "2015-05-07T17:45:00.000000000",
          "2015-05-07T17:50:00.000000000",
          "2015-05-07T17:55:00.000000000",
          "2015-05-07T18:00:00.000000000",
          "2015-05-07T18:05:00.000000000",
          "2015-05-07T18:10:00.000000000",
          "2015-05-07T18:15:00.000000000",
          "2015-05-07T18:20:00.000000000",
          "2015-05-07T18:25:00.000000000",
          "2015-05-07T18:30:00.000000000",
          "2015-05-07T18:35:00.000000000",
          "2015-05-07T18:40:00.000000000",
          "2015-05-07T18:45:00.000000000",
          "2015-05-07T18:50:00.000000000",
          "2015-05-07T18:55:00.000000000",
          "2015-08-06T16:05:00.000000000",
          "2015-08-06T16:10:00.000000000",
          "2015-08-06T16:15:00.000000000",
          "2015-08-06T16:20:00.000000000",
          "2015-08-06T16:25:00.000000000",
          "2015-08-06T16:30:00.000000000",
          "2015-08-06T16:35:00.000000000",
          "2015-08-06T16:40:00.000000000",
          "2015-08-06T16:45:00.000000000",
          "2015-08-06T16:50:00.000000000",
          "2015-08-06T16:55:00.000000000",
          "2015-08-06T17:00:00.000000000",
          "2015-08-06T17:05:00.000000000",
          "2015-08-06T17:10:00.000000000",
          "2015-08-06T17:15:00.000000000",
          "2015-08-06T17:20:00.000000000",
          "2015-08-06T17:25:00.000000000",
          "2015-08-06T17:30:00.000000000",
          "2015-08-06T17:35:00.000000000",
          "2015-08-06T17:40:00.000000000",
          "2015-08-06T17:45:00.000000000",
          "2015-08-06T17:50:00.000000000",
          "2015-08-06T17:55:00.000000000",
          "2015-08-06T18:00:00.000000000",
          "2015-08-06T18:05:00.000000000",
          "2015-08-06T18:10:00.000000000",
          "2015-08-06T18:15:00.000000000",
          "2015-08-06T18:20:00.000000000",
          "2015-08-06T18:25:00.000000000",
          "2015-08-06T18:30:00.000000000",
          "2015-08-06T18:35:00.000000000",
          "2015-08-06T18:40:00.000000000",
          "2015-08-06T18:45:00.000000000",
          "2015-08-06T18:50:00.000000000",
          "2015-08-06T18:55:00.000000000",
          "2015-11-05T16:05:00.000000000",
          "2015-11-05T16:10:00.000000000",
          "2015-11-05T16:15:00.000000000",
          "2015-11-05T16:20:00.000000000",
          "2015-11-05T16:25:00.000000000",
          "2015-11-05T16:30:00.000000000",
          "2015-11-05T16:35:00.000000000",
          "2015-11-05T16:40:00.000000000",
          "2015-11-05T16:45:00.000000000",
          "2015-11-05T16:50:00.000000000",
          "2015-11-05T16:55:00.000000000",
          "2015-11-05T17:00:00.000000000",
          "2015-11-05T17:05:00.000000000",
          "2015-11-05T17:10:00.000000000",
          "2015-11-05T17:15:00.000000000",
          "2015-11-05T17:20:00.000000000",
          "2015-11-05T17:25:00.000000000",
          "2015-11-05T17:30:00.000000000",
          "2015-11-05T17:35:00.000000000",
          "2015-11-05T17:40:00.000000000",
          "2015-11-05T17:45:00.000000000",
          "2015-11-05T17:50:00.000000000",
          "2015-11-05T17:55:00.000000000",
          "2015-11-05T18:00:00.000000000",
          "2015-11-05T18:05:00.000000000",
          "2015-11-05T18:10:00.000000000",
          "2015-11-05T18:15:00.000000000",
          "2015-11-05T18:20:00.000000000",
          "2015-11-05T18:25:00.000000000",
          "2016-02-17T16:05:00.000000000",
          "2016-02-17T16:10:00.000000000",
          "2016-02-17T16:15:00.000000000",
          "2016-02-17T16:20:00.000000000",
          "2016-02-17T16:25:00.000000000",
          "2016-02-17T16:30:00.000000000",
          "2016-02-17T16:35:00.000000000",
          "2016-02-17T16:40:00.000000000",
          "2016-02-17T16:45:00.000000000",
          "2016-02-17T16:50:00.000000000",
          "2016-02-17T16:55:00.000000000",
          "2016-02-17T17:00:00.000000000",
          "2016-02-17T17:05:00.000000000",
          "2016-02-17T17:10:00.000000000",
          "2016-02-17T17:15:00.000000000",
          "2016-02-17T17:20:00.000000000",
          "2016-02-17T17:25:00.000000000",
          "2016-02-17T17:30:00.000000000",
          "2016-02-17T17:35:00.000000000",
          "2016-02-17T17:40:00.000000000",
          "2016-02-17T17:45:00.000000000",
          "2016-02-17T17:50:00.000000000",
          "2016-02-17T17:55:00.000000000",
          "2016-02-17T18:00:00.000000000",
          "2016-02-17T18:05:00.000000000",
          "2016-02-17T18:10:00.000000000",
          "2016-02-17T18:15:00.000000000",
          "2016-02-17T18:20:00.000000000",
          "2016-02-17T18:25:00.000000000",
          "2016-05-12T16:05:00.000000000",
          "2016-05-12T16:10:00.000000000",
          "2016-05-12T16:15:00.000000000",
          "2016-05-12T16:20:00.000000000",
          "2016-05-12T16:25:00.000000000",
          "2016-05-12T16:30:00.000000000",
          "2016-05-12T16:35:00.000000000",
          "2016-05-12T16:40:00.000000000",
          "2016-05-12T16:45:00.000000000",
          "2016-05-12T16:50:00.000000000",
          "2016-05-12T16:55:00.000000000",
          "2016-05-12T17:00:00.000000000",
          "2016-05-12T17:05:00.000000000",
          "2016-05-12T17:10:00.000000000",
          "2016-05-12T17:15:00.000000000",
          "2016-05-12T17:20:00.000000000",
          "2016-05-12T17:25:00.000000000",
          "2016-05-12T17:30:00.000000000",
          "2016-05-12T17:35:00.000000000",
          "2016-05-12T17:40:00.000000000",
          "2016-05-12T17:45:00.000000000",
          "2016-05-12T17:50:00.000000000",
          "2016-05-12T17:55:00.000000000",
          "2016-05-12T18:00:00.000000000",
          "2016-05-12T18:05:00.000000000",
          "2016-05-12T18:10:00.000000000",
          "2016-05-12T18:15:00.000000000",
          "2016-05-12T18:20:00.000000000",
          "2016-05-12T18:25:00.000000000",
          "2016-05-12T18:30:00.000000000",
          "2016-05-12T18:35:00.000000000",
          "2016-05-12T18:40:00.000000000",
          "2016-05-12T18:45:00.000000000",
          "2016-05-12T18:50:00.000000000",
          "2016-05-12T18:55:00.000000000",
          "2016-08-11T16:05:00.000000000",
          "2016-08-11T16:10:00.000000000",
          "2016-08-11T16:15:00.000000000",
          "2016-08-11T16:20:00.000000000",
          "2016-08-11T16:25:00.000000000",
          "2016-08-11T16:30:00.000000000",
          "2016-08-11T16:35:00.000000000",
          "2016-08-11T16:40:00.000000000",
          "2016-08-11T16:45:00.000000000",
          "2016-08-11T16:50:00.000000000",
          "2016-08-11T16:55:00.000000000",
          "2016-08-11T17:00:00.000000000",
          "2016-08-11T17:05:00.000000000",
          "2016-08-11T17:10:00.000000000",
          "2016-08-11T17:15:00.000000000",
          "2016-08-11T17:20:00.000000000",
          "2016-08-11T17:25:00.000000000",
          "2016-08-11T17:30:00.000000000",
          "2016-08-11T17:35:00.000000000",
          "2016-08-11T17:40:00.000000000",
          "2016-08-11T17:45:00.000000000",
          "2016-08-11T17:50:00.000000000",
          "2016-08-11T17:55:00.000000000",
          "2016-08-11T18:00:00.000000000",
          "2016-08-11T18:05:00.000000000",
          "2016-08-11T18:10:00.000000000",
          "2016-08-11T18:15:00.000000000",
          "2016-08-11T18:20:00.000000000",
          "2016-08-11T18:25:00.000000000",
          "2016-08-11T18:30:00.000000000",
          "2016-08-11T18:35:00.000000000",
          "2016-08-11T18:40:00.000000000",
          "2016-08-11T18:45:00.000000000",
          "2016-08-11T18:50:00.000000000",
          "2016-08-11T18:55:00.000000000",
          "2016-11-10T16:05:00.000000000",
          "2016-11-10T16:10:00.000000000",
          "2016-11-10T16:15:00.000000000",
          "2016-11-10T16:20:00.000000000",
          "2016-11-10T16:25:00.000000000",
          "2016-11-10T16:30:00.000000000",
          "2016-11-10T16:35:00.000000000",
          "2016-11-10T16:40:00.000000000",
          "2016-11-10T16:45:00.000000000",
          "2016-11-10T16:50:00.000000000",
          "2016-11-10T16:55:00.000000000",
          "2016-11-10T17:00:00.000000000",
          "2016-11-10T17:05:00.000000000",
          "2016-11-10T17:10:00.000000000",
          "2016-11-10T17:15:00.000000000",
          "2016-11-10T17:20:00.000000000",
          "2016-11-10T17:25:00.000000000",
          "2016-11-10T17:30:00.000000000",
          "2016-11-10T17:35:00.000000000",
          "2016-11-10T17:40:00.000000000",
          "2016-11-10T17:45:00.000000000",
          "2016-11-10T17:50:00.000000000",
          "2016-11-10T17:55:00.000000000",
          "2016-11-10T18:00:00.000000000",
          "2016-11-10T18:05:00.000000000",
          "2016-11-10T18:10:00.000000000",
          "2016-11-10T18:15:00.000000000",
          "2016-11-10T18:20:00.000000000",
          "2016-11-10T18:25:00.000000000",
          "2017-02-09T16:05:00.000000000",
          "2017-02-09T16:10:00.000000000",
          "2017-02-09T16:15:00.000000000",
          "2017-02-09T16:20:00.000000000",
          "2017-02-09T16:25:00.000000000",
          "2017-02-09T16:30:00.000000000",
          "2017-02-09T16:35:00.000000000",
          "2017-02-09T16:40:00.000000000",
          "2017-02-09T16:45:00.000000000",
          "2017-02-09T16:50:00.000000000",
          "2017-02-09T16:55:00.000000000",
          "2017-02-09T17:00:00.000000000",
          "2017-02-09T17:05:00.000000000",
          "2017-02-09T17:10:00.000000000",
          "2017-02-09T17:15:00.000000000",
          "2017-02-09T17:20:00.000000000",
          "2017-02-09T17:25:00.000000000",
          "2017-02-09T17:30:00.000000000",
          "2017-02-09T17:35:00.000000000",
          "2017-02-09T17:40:00.000000000",
          "2017-02-09T17:45:00.000000000",
          "2017-02-09T17:50:00.000000000",
          "2017-02-09T17:55:00.000000000",
          "2017-02-09T18:00:00.000000000",
          "2017-02-09T18:05:00.000000000",
          "2017-02-09T18:10:00.000000000",
          "2017-02-09T18:15:00.000000000",
          "2017-02-09T18:20:00.000000000",
          "2017-02-09T18:25:00.000000000",
          "2017-05-09T16:05:00.000000000",
          "2017-05-09T16:10:00.000000000",
          "2017-05-09T16:15:00.000000000",
          "2017-05-09T16:20:00.000000000",
          "2017-05-09T16:25:00.000000000",
          "2017-05-09T16:30:00.000000000",
          "2017-05-09T16:35:00.000000000",
          "2017-05-09T16:40:00.000000000",
          "2017-05-09T16:45:00.000000000",
          "2017-05-09T16:50:00.000000000",
          "2017-05-09T16:55:00.000000000",
          "2017-05-09T17:00:00.000000000",
          "2017-05-09T17:05:00.000000000",
          "2017-05-09T17:10:00.000000000",
          "2017-05-09T17:15:00.000000000",
          "2017-05-09T17:20:00.000000000",
          "2017-05-09T17:25:00.000000000",
          "2017-05-09T17:30:00.000000000",
          "2017-05-09T17:35:00.000000000",
          "2017-05-09T17:40:00.000000000",
          "2017-05-09T17:45:00.000000000",
          "2017-05-09T17:50:00.000000000",
          "2017-05-09T17:55:00.000000000",
          "2017-05-09T18:00:00.000000000",
          "2017-05-09T18:05:00.000000000",
          "2017-05-09T18:10:00.000000000",
          "2017-05-09T18:15:00.000000000",
          "2017-05-09T18:20:00.000000000",
          "2017-05-09T18:25:00.000000000",
          "2017-05-09T18:30:00.000000000",
          "2017-05-09T18:35:00.000000000",
          "2017-05-09T18:40:00.000000000",
          "2017-05-09T18:45:00.000000000",
          "2017-05-09T18:50:00.000000000",
          "2017-05-09T18:55:00.000000000",
          "2017-08-10T16:05:00.000000000",
          "2017-08-10T16:10:00.000000000",
          "2017-08-10T16:15:00.000000000",
          "2017-08-10T16:20:00.000000000",
          "2017-08-10T16:25:00.000000000",
          "2017-08-10T16:30:00.000000000",
          "2017-08-10T16:35:00.000000000",
          "2017-08-10T16:40:00.000000000",
          "2017-08-10T16:45:00.000000000",
          "2017-08-10T16:50:00.000000000",
          "2017-08-10T16:55:00.000000000",
          "2017-08-10T17:00:00.000000000",
          "2017-08-10T17:05:00.000000000",
          "2017-08-10T17:10:00.000000000",
          "2017-08-10T17:15:00.000000000",
          "2017-08-10T17:20:00.000000000",
          "2017-08-10T17:25:00.000000000",
          "2017-08-10T17:30:00.000000000",
          "2017-08-10T17:35:00.000000000",
          "2017-08-10T17:40:00.000000000",
          "2017-08-10T17:45:00.000000000",
          "2017-08-10T17:50:00.000000000",
          "2017-08-10T17:55:00.000000000",
          "2017-08-10T18:00:00.000000000",
          "2017-08-10T18:05:00.000000000",
          "2017-08-10T18:10:00.000000000",
          "2017-08-10T18:15:00.000000000",
          "2017-08-10T18:20:00.000000000",
          "2017-08-10T18:25:00.000000000",
          "2017-08-10T18:30:00.000000000",
          "2017-08-10T18:35:00.000000000",
          "2017-08-10T18:40:00.000000000",
          "2017-08-10T18:45:00.000000000",
          "2017-08-10T18:50:00.000000000",
          "2017-08-10T18:55:00.000000000",
          "2017-11-09T16:05:00.000000000",
          "2017-11-09T16:10:00.000000000",
          "2017-11-09T16:15:00.000000000",
          "2017-11-09T16:20:00.000000000",
          "2017-11-09T16:25:00.000000000",
          "2017-11-09T16:30:00.000000000",
          "2017-11-09T16:35:00.000000000",
          "2017-11-09T16:40:00.000000000",
          "2017-11-09T16:45:00.000000000",
          "2017-11-09T16:50:00.000000000",
          "2017-11-09T16:55:00.000000000",
          "2017-11-09T17:00:00.000000000",
          "2017-11-09T17:05:00.000000000",
          "2017-11-09T17:10:00.000000000",
          "2017-11-09T17:15:00.000000000",
          "2017-11-09T17:20:00.000000000",
          "2017-11-09T17:25:00.000000000",
          "2017-11-09T17:30:00.000000000",
          "2017-11-09T17:35:00.000000000",
          "2017-11-09T17:40:00.000000000",
          "2017-11-09T17:45:00.000000000",
          "2017-11-09T17:50:00.000000000",
          "2017-11-09T17:55:00.000000000",
          "2017-11-09T18:00:00.000000000",
          "2017-11-09T18:05:00.000000000",
          "2017-11-09T18:10:00.000000000",
          "2017-11-09T18:15:00.000000000",
          "2017-11-09T18:20:00.000000000",
          "2017-11-09T18:25:00.000000000",
          "2018-02-08T16:05:00.000000000",
          "2018-02-08T16:10:00.000000000",
          "2018-02-08T16:15:00.000000000",
          "2018-02-08T16:20:00.000000000",
          "2018-02-08T16:25:00.000000000",
          "2018-02-08T16:30:00.000000000",
          "2018-02-08T16:35:00.000000000",
          "2018-02-08T16:40:00.000000000",
          "2018-02-08T16:45:00.000000000",
          "2018-02-08T16:50:00.000000000",
          "2018-02-08T16:55:00.000000000",
          "2018-02-08T17:00:00.000000000",
          "2018-02-08T17:05:00.000000000",
          "2018-02-08T17:10:00.000000000",
          "2018-02-08T17:15:00.000000000",
          "2018-02-08T17:20:00.000000000",
          "2018-02-08T17:25:00.000000000",
          "2018-02-08T17:30:00.000000000",
          "2018-02-08T17:35:00.000000000",
          "2018-02-08T17:40:00.000000000",
          "2018-02-08T17:45:00.000000000",
          "2018-02-08T17:50:00.000000000",
          "2018-02-08T17:55:00.000000000",
          "2018-02-08T18:00:00.000000000",
          "2018-02-08T18:05:00.000000000",
          "2018-02-08T18:10:00.000000000",
          "2018-02-08T18:15:00.000000000",
          "2018-02-08T18:20:00.000000000",
          "2018-02-08T18:25:00.000000000",
          "2018-05-10T16:05:00.000000000",
          "2018-05-10T16:10:00.000000000",
          "2018-05-10T16:15:00.000000000",
          "2018-05-10T16:20:00.000000000",
          "2018-05-10T16:25:00.000000000",
          "2018-05-10T16:30:00.000000000",
          "2018-05-10T16:35:00.000000000",
          "2018-05-10T16:40:00.000000000",
          "2018-05-10T16:45:00.000000000",
          "2018-05-10T16:50:00.000000000",
          "2018-05-10T16:55:00.000000000",
          "2018-05-10T17:00:00.000000000",
          "2018-05-10T17:05:00.000000000",
          "2018-05-10T17:10:00.000000000",
          "2018-05-10T17:15:00.000000000",
          "2018-05-10T17:20:00.000000000",
          "2018-05-10T17:25:00.000000000",
          "2018-05-10T17:30:00.000000000",
          "2018-05-10T17:35:00.000000000",
          "2018-05-10T17:40:00.000000000",
          "2018-05-10T17:45:00.000000000",
          "2018-05-10T17:50:00.000000000",
          "2018-05-10T17:55:00.000000000",
          "2018-05-10T18:00:00.000000000",
          "2018-05-10T18:05:00.000000000",
          "2018-05-10T18:10:00.000000000",
          "2018-05-10T18:15:00.000000000",
          "2018-05-10T18:20:00.000000000",
          "2018-05-10T18:25:00.000000000",
          "2018-05-10T18:30:00.000000000",
          "2018-05-10T18:35:00.000000000",
          "2018-05-10T18:40:00.000000000",
          "2018-05-10T18:45:00.000000000",
          "2018-05-10T18:50:00.000000000",
          "2018-05-10T18:55:00.000000000",
          "2018-08-16T16:05:00.000000000",
          "2018-08-16T16:10:00.000000000",
          "2018-08-16T16:15:00.000000000",
          "2018-08-16T16:20:00.000000000",
          "2018-08-16T16:25:00.000000000",
          "2018-08-16T16:30:00.000000000",
          "2018-08-16T16:35:00.000000000",
          "2018-08-16T16:40:00.000000000",
          "2018-08-16T16:45:00.000000000",
          "2018-08-16T16:50:00.000000000",
          "2018-08-16T16:55:00.000000000",
          "2018-08-16T17:00:00.000000000",
          "2018-08-16T17:05:00.000000000",
          "2018-08-16T17:10:00.000000000",
          "2018-08-16T17:15:00.000000000",
          "2018-08-16T17:20:00.000000000",
          "2018-08-16T17:25:00.000000000",
          "2018-08-16T17:30:00.000000000",
          "2018-08-16T17:35:00.000000000",
          "2018-08-16T17:40:00.000000000",
          "2018-08-16T17:45:00.000000000",
          "2018-08-16T17:50:00.000000000",
          "2018-08-16T17:55:00.000000000",
          "2018-08-16T18:00:00.000000000",
          "2018-08-16T18:05:00.000000000",
          "2018-08-16T18:10:00.000000000",
          "2018-08-16T18:15:00.000000000",
          "2018-08-16T18:20:00.000000000",
          "2018-08-16T18:25:00.000000000",
          "2018-08-16T18:30:00.000000000",
          "2018-08-16T18:35:00.000000000",
          "2018-08-16T18:40:00.000000000",
          "2018-08-16T18:45:00.000000000",
          "2018-08-16T18:50:00.000000000",
          "2018-08-16T18:55:00.000000000",
          "2018-11-15T16:05:00.000000000",
          "2018-11-15T16:10:00.000000000",
          "2018-11-15T16:15:00.000000000",
          "2018-11-15T16:20:00.000000000",
          "2018-11-15T16:25:00.000000000",
          "2018-11-15T16:30:00.000000000",
          "2018-11-15T16:35:00.000000000",
          "2018-11-15T16:40:00.000000000",
          "2018-11-15T16:45:00.000000000",
          "2018-11-15T16:50:00.000000000",
          "2018-11-15T16:55:00.000000000",
          "2018-11-15T17:00:00.000000000",
          "2018-11-15T17:05:00.000000000",
          "2018-11-15T17:10:00.000000000",
          "2018-11-15T17:15:00.000000000",
          "2018-11-15T17:20:00.000000000",
          "2018-11-15T17:25:00.000000000",
          "2018-11-15T17:30:00.000000000",
          "2018-11-15T17:35:00.000000000",
          "2018-11-15T17:40:00.000000000",
          "2018-11-15T17:45:00.000000000",
          "2018-11-15T17:50:00.000000000",
          "2018-11-15T17:55:00.000000000",
          "2018-11-15T18:00:00.000000000",
          "2018-11-15T18:05:00.000000000",
          "2018-11-15T18:10:00.000000000",
          "2018-11-15T18:15:00.000000000",
          "2018-11-15T18:20:00.000000000",
          "2018-11-15T18:25:00.000000000",
          "2019-02-14T16:05:00.000000000",
          "2019-02-14T16:10:00.000000000",
          "2019-02-14T16:15:00.000000000",
          "2019-02-14T16:20:00.000000000",
          "2019-02-14T16:25:00.000000000",
          "2019-02-14T16:30:00.000000000",
          "2019-02-14T16:35:00.000000000",
          "2019-02-14T16:40:00.000000000",
          "2019-02-14T16:45:00.000000000",
          "2019-02-14T16:50:00.000000000",
          "2019-02-14T16:55:00.000000000",
          "2019-02-14T17:00:00.000000000",
          "2019-02-14T17:05:00.000000000",
          "2019-02-14T17:10:00.000000000",
          "2019-02-14T17:15:00.000000000",
          "2019-02-14T17:20:00.000000000",
          "2019-02-14T17:25:00.000000000",
          "2019-02-14T17:30:00.000000000",
          "2019-02-14T17:35:00.000000000",
          "2019-02-14T17:40:00.000000000",
          "2019-02-14T17:45:00.000000000",
          "2019-02-14T17:50:00.000000000",
          "2019-02-14T17:55:00.000000000",
          "2019-02-14T18:00:00.000000000",
          "2019-02-14T18:05:00.000000000",
          "2019-02-14T18:10:00.000000000",
          "2019-02-14T18:15:00.000000000",
          "2019-02-14T18:20:00.000000000",
          "2019-02-14T18:25:00.000000000",
          "2019-05-16T16:05:00.000000000",
          "2019-05-16T16:10:00.000000000",
          "2019-05-16T16:15:00.000000000",
          "2019-05-16T16:20:00.000000000",
          "2019-05-16T16:25:00.000000000",
          "2019-05-16T16:30:00.000000000",
          "2019-05-16T16:35:00.000000000",
          "2019-05-16T16:40:00.000000000",
          "2019-05-16T16:45:00.000000000",
          "2019-05-16T16:50:00.000000000",
          "2019-05-16T16:55:00.000000000",
          "2019-05-16T17:00:00.000000000",
          "2019-05-16T17:05:00.000000000",
          "2019-05-16T17:10:00.000000000",
          "2019-05-16T17:15:00.000000000",
          "2019-05-16T17:20:00.000000000",
          "2019-05-16T17:25:00.000000000",
          "2019-05-16T17:30:00.000000000",
          "2019-05-16T17:35:00.000000000",
          "2019-05-16T17:40:00.000000000",
          "2019-05-16T17:45:00.000000000",
          "2019-05-16T17:50:00.000000000",
          "2019-05-16T17:55:00.000000000",
          "2019-05-16T18:00:00.000000000",
          "2019-05-16T18:05:00.000000000",
          "2019-05-16T18:10:00.000000000",
          "2019-05-16T18:15:00.000000000",
          "2019-05-16T18:20:00.000000000",
          "2019-05-16T18:25:00.000000000",
          "2019-05-16T18:30:00.000000000",
          "2019-05-16T18:35:00.000000000",
          "2019-05-16T18:40:00.000000000",
          "2019-05-16T18:45:00.000000000",
          "2019-05-16T18:50:00.000000000",
          "2019-05-16T18:55:00.000000000",
          "2019-08-15T16:05:00.000000000",
          "2019-08-15T16:10:00.000000000",
          "2019-08-15T16:15:00.000000000",
          "2019-08-15T16:20:00.000000000",
          "2019-08-15T16:25:00.000000000",
          "2019-08-15T16:30:00.000000000",
          "2019-08-15T16:35:00.000000000",
          "2019-08-15T16:40:00.000000000",
          "2019-08-15T16:45:00.000000000",
          "2019-08-15T16:50:00.000000000",
          "2019-08-15T16:55:00.000000000",
          "2019-08-15T17:00:00.000000000",
          "2019-08-15T17:05:00.000000000",
          "2019-08-15T17:10:00.000000000",
          "2019-08-15T17:15:00.000000000",
          "2019-08-15T17:20:00.000000000",
          "2019-08-15T17:25:00.000000000",
          "2019-08-15T17:30:00.000000000",
          "2019-08-15T17:35:00.000000000",
          "2019-08-15T17:40:00.000000000",
          "2019-08-15T17:45:00.000000000",
          "2019-08-15T17:50:00.000000000",
          "2019-08-15T17:55:00.000000000",
          "2019-08-15T18:00:00.000000000",
          "2019-08-15T18:05:00.000000000",
          "2019-08-15T18:10:00.000000000",
          "2019-08-15T18:15:00.000000000",
          "2019-08-15T18:20:00.000000000",
          "2019-08-15T18:25:00.000000000",
          "2019-08-15T18:30:00.000000000",
          "2019-08-15T18:35:00.000000000",
          "2019-08-15T18:40:00.000000000",
          "2019-08-15T18:45:00.000000000",
          "2019-08-15T18:50:00.000000000",
          "2019-08-15T18:55:00.000000000",
          "2019-11-14T16:05:00.000000000",
          "2019-11-14T16:10:00.000000000",
          "2019-11-14T16:15:00.000000000",
          "2019-11-14T16:20:00.000000000",
          "2019-11-14T16:25:00.000000000",
          "2019-11-14T16:30:00.000000000",
          "2019-11-14T16:35:00.000000000",
          "2019-11-14T16:40:00.000000000",
          "2019-11-14T16:45:00.000000000",
          "2019-11-14T16:50:00.000000000",
          "2019-11-14T16:55:00.000000000",
          "2019-11-14T17:00:00.000000000",
          "2019-11-14T17:05:00.000000000",
          "2019-11-14T17:10:00.000000000",
          "2019-11-14T17:15:00.000000000",
          "2019-11-14T17:20:00.000000000",
          "2019-11-14T17:25:00.000000000",
          "2019-11-14T17:30:00.000000000",
          "2019-11-14T17:35:00.000000000",
          "2019-11-14T17:40:00.000000000",
          "2019-11-14T17:45:00.000000000",
          "2019-11-14T17:50:00.000000000",
          "2019-11-14T17:55:00.000000000",
          "2019-11-14T18:00:00.000000000",
          "2019-11-14T18:05:00.000000000",
          "2019-11-14T18:10:00.000000000",
          "2019-11-14T18:15:00.000000000",
          "2019-11-14T18:20:00.000000000",
          "2019-11-14T18:25:00.000000000",
          "2020-02-13T16:05:00.000000000",
          "2020-02-13T16:10:00.000000000",
          "2020-02-13T16:15:00.000000000",
          "2020-02-13T16:20:00.000000000",
          "2020-02-13T16:25:00.000000000",
          "2020-02-13T16:30:00.000000000",
          "2020-02-13T16:35:00.000000000",
          "2020-02-13T16:40:00.000000000",
          "2020-02-13T16:45:00.000000000",
          "2020-02-13T16:50:00.000000000",
          "2020-02-13T16:55:00.000000000",
          "2020-02-13T17:00:00.000000000",
          "2020-02-13T17:05:00.000000000",
          "2020-02-13T17:10:00.000000000",
          "2020-02-13T17:15:00.000000000",
          "2020-02-13T17:20:00.000000000",
          "2020-02-13T17:25:00.000000000",
          "2020-02-13T17:30:00.000000000",
          "2020-02-13T17:35:00.000000000",
          "2020-02-13T17:40:00.000000000",
          "2020-02-13T17:45:00.000000000",
          "2020-02-13T17:50:00.000000000",
          "2020-02-13T17:55:00.000000000",
          "2020-02-13T18:00:00.000000000",
          "2020-02-13T18:05:00.000000000",
          "2020-02-13T18:10:00.000000000",
          "2020-02-13T18:15:00.000000000",
          "2020-02-13T18:20:00.000000000",
          "2020-02-13T18:25:00.000000000",
          "2020-05-21T16:05:00.000000000",
          "2020-05-21T16:10:00.000000000",
          "2020-05-21T16:15:00.000000000",
          "2020-05-21T16:20:00.000000000",
          "2020-05-21T16:25:00.000000000",
          "2020-05-21T16:30:00.000000000",
          "2020-05-21T16:35:00.000000000",
          "2020-05-21T16:40:00.000000000",
          "2020-05-21T16:45:00.000000000",
          "2020-05-21T16:50:00.000000000",
          "2020-05-21T16:55:00.000000000",
          "2020-05-21T17:00:00.000000000",
          "2020-05-21T17:05:00.000000000",
          "2020-05-21T17:10:00.000000000",
          "2020-05-21T17:15:00.000000000",
          "2020-05-21T17:20:00.000000000",
          "2020-05-21T17:25:00.000000000",
          "2020-05-21T17:30:00.000000000",
          "2020-05-21T17:35:00.000000000",
          "2020-05-21T17:40:00.000000000",
          "2020-05-21T17:45:00.000000000",
          "2020-05-21T17:50:00.000000000",
          "2020-05-21T17:55:00.000000000",
          "2020-05-21T18:00:00.000000000",
          "2020-05-21T18:05:00.000000000",
          "2020-05-21T18:10:00.000000000",
          "2020-05-21T18:15:00.000000000",
          "2020-05-21T18:20:00.000000000",
          "2020-05-21T18:25:00.000000000",
          "2020-05-21T18:30:00.000000000",
          "2020-05-21T18:35:00.000000000",
          "2020-05-21T18:40:00.000000000",
          "2020-05-21T18:45:00.000000000",
          "2020-05-21T18:50:00.000000000",
          "2020-05-21T18:55:00.000000000",
          "2020-08-19T16:05:00.000000000",
          "2020-08-19T16:10:00.000000000",
          "2020-08-19T16:15:00.000000000",
          "2020-08-19T16:20:00.000000000",
          "2020-08-19T16:25:00.000000000",
          "2020-08-19T16:30:00.000000000",
          "2020-08-19T16:35:00.000000000",
          "2020-08-19T16:40:00.000000000",
          "2020-08-19T16:45:00.000000000",
          "2020-08-19T16:50:00.000000000",
          "2020-08-19T16:55:00.000000000",
          "2020-08-19T17:00:00.000000000",
          "2020-08-19T17:05:00.000000000",
          "2020-08-19T17:10:00.000000000",
          "2020-08-19T17:15:00.000000000",
          "2020-08-19T17:20:00.000000000",
          "2020-08-19T17:25:00.000000000",
          "2020-08-19T17:30:00.000000000",
          "2020-08-19T17:35:00.000000000",
          "2020-08-19T17:40:00.000000000",
          "2020-08-19T17:45:00.000000000",
          "2020-08-19T17:50:00.000000000",
          "2020-08-19T17:55:00.000000000",
          "2020-08-19T18:00:00.000000000",
          "2020-08-19T18:05:00.000000000",
          "2020-08-19T18:10:00.000000000",
          "2020-08-19T18:15:00.000000000",
          "2020-08-19T18:20:00.000000000",
          "2020-08-19T18:25:00.000000000",
          "2020-08-19T18:30:00.000000000",
          "2020-08-19T18:35:00.000000000",
          "2020-08-19T18:40:00.000000000",
          "2020-08-19T18:45:00.000000000",
          "2020-08-19T18:50:00.000000000",
          "2020-08-19T18:55:00.000000000",
          "2020-11-18T16:05:00.000000000",
          "2020-11-18T16:10:00.000000000",
          "2020-11-18T16:15:00.000000000",
          "2020-11-18T16:20:00.000000000",
          "2020-11-18T16:25:00.000000000",
          "2020-11-18T16:30:00.000000000",
          "2020-11-18T16:35:00.000000000",
          "2020-11-18T16:40:00.000000000",
          "2020-11-18T16:45:00.000000000",
          "2020-11-18T16:50:00.000000000",
          "2020-11-18T16:55:00.000000000",
          "2020-11-18T17:00:00.000000000",
          "2020-11-18T17:05:00.000000000",
          "2020-11-18T17:10:00.000000000",
          "2020-11-18T17:15:00.000000000",
          "2020-11-18T17:20:00.000000000",
          "2020-11-18T17:25:00.000000000",
          "2020-11-18T17:30:00.000000000",
          "2020-11-18T17:35:00.000000000",
          "2020-11-18T17:40:00.000000000",
          "2020-11-18T17:45:00.000000000",
          "2020-11-18T17:50:00.000000000",
          "2020-11-18T17:55:00.000000000",
          "2020-11-18T18:00:00.000000000",
          "2020-11-18T18:05:00.000000000",
          "2020-11-18T18:10:00.000000000",
          "2020-11-18T18:15:00.000000000",
          "2020-11-18T18:20:00.000000000",
          "2020-11-18T18:25:00.000000000",
          "2021-02-24T16:05:00.000000000",
          "2021-02-24T16:10:00.000000000",
          "2021-02-24T16:15:00.000000000",
          "2021-02-24T16:20:00.000000000",
          "2021-02-24T16:25:00.000000000",
          "2021-02-24T16:30:00.000000000",
          "2021-02-24T16:35:00.000000000",
          "2021-02-24T16:40:00.000000000",
          "2021-02-24T16:45:00.000000000",
          "2021-02-24T16:50:00.000000000",
          "2021-02-24T16:55:00.000000000",
          "2021-02-24T17:00:00.000000000",
          "2021-02-24T17:05:00.000000000",
          "2021-02-24T17:10:00.000000000",
          "2021-02-24T17:15:00.000000000",
          "2021-02-24T17:20:00.000000000",
          "2021-02-24T17:25:00.000000000",
          "2021-02-24T17:30:00.000000000",
          "2021-02-24T17:35:00.000000000",
          "2021-02-24T17:40:00.000000000",
          "2021-02-24T17:45:00.000000000",
          "2021-02-24T17:50:00.000000000",
          "2021-02-24T17:55:00.000000000",
          "2021-02-24T18:00:00.000000000",
          "2021-02-24T18:05:00.000000000",
          "2021-02-24T18:10:00.000000000",
          "2021-02-24T18:15:00.000000000",
          "2021-02-24T18:20:00.000000000",
          "2021-02-24T18:25:00.000000000",
          "2021-05-26T16:05:00.000000000",
          "2021-05-26T16:10:00.000000000",
          "2021-05-26T16:15:00.000000000",
          "2021-05-26T16:20:00.000000000",
          "2021-05-26T16:25:00.000000000",
          "2021-05-26T16:30:00.000000000",
          "2021-05-26T16:35:00.000000000",
          "2021-05-26T16:40:00.000000000",
          "2021-05-26T16:45:00.000000000",
          "2021-05-26T16:50:00.000000000",
          "2021-05-26T16:55:00.000000000",
          "2021-05-26T17:00:00.000000000",
          "2021-05-26T17:05:00.000000000",
          "2021-05-26T17:10:00.000000000",
          "2021-05-26T17:15:00.000000000",
          "2021-05-26T17:20:00.000000000",
          "2021-05-26T17:25:00.000000000",
          "2021-05-26T17:30:00.000000000",
          "2021-05-26T17:35:00.000000000",
          "2021-05-26T17:40:00.000000000",
          "2021-05-26T17:45:00.000000000",
          "2021-05-26T17:50:00.000000000",
          "2021-05-26T17:55:00.000000000",
          "2021-05-26T18:00:00.000000000",
          "2021-05-26T18:05:00.000000000",
          "2021-05-26T18:10:00.000000000",
          "2021-05-26T18:15:00.000000000",
          "2021-05-26T18:20:00.000000000",
          "2021-05-26T18:25:00.000000000",
          "2021-05-26T18:30:00.000000000",
          "2021-05-26T18:35:00.000000000",
          "2021-05-26T18:40:00.000000000",
          "2021-05-26T18:45:00.000000000",
          "2021-05-26T18:50:00.000000000",
          "2021-05-26T18:55:00.000000000",
          "2021-08-18T16:05:00.000000000",
          "2021-08-18T16:10:00.000000000",
          "2021-08-18T16:15:00.000000000",
          "2021-08-18T16:20:00.000000000",
          "2021-08-18T16:25:00.000000000",
          "2021-08-18T16:30:00.000000000",
          "2021-08-18T16:35:00.000000000",
          "2021-08-18T16:40:00.000000000",
          "2021-08-18T16:45:00.000000000",
          "2021-08-18T16:50:00.000000000",
          "2021-08-18T16:55:00.000000000",
          "2021-08-18T17:00:00.000000000",
          "2021-08-18T17:05:00.000000000",
          "2021-08-18T17:10:00.000000000",
          "2021-08-18T17:15:00.000000000",
          "2021-08-18T17:20:00.000000000",
          "2021-08-18T17:25:00.000000000",
          "2021-08-18T17:30:00.000000000",
          "2021-08-18T17:35:00.000000000",
          "2021-08-18T17:40:00.000000000",
          "2021-08-18T17:45:00.000000000",
          "2021-08-18T17:50:00.000000000",
          "2021-08-18T17:55:00.000000000",
          "2021-08-18T18:00:00.000000000",
          "2021-08-18T18:05:00.000000000",
          "2021-08-18T18:10:00.000000000",
          "2021-08-18T18:15:00.000000000",
          "2021-08-18T18:20:00.000000000",
          "2021-08-18T18:25:00.000000000",
          "2021-08-18T18:30:00.000000000",
          "2021-08-18T18:35:00.000000000",
          "2021-08-18T18:40:00.000000000",
          "2021-08-18T18:45:00.000000000",
          "2021-08-18T18:50:00.000000000",
          "2021-08-18T18:55:00.000000000",
          "2021-11-17T16:05:00.000000000",
          "2021-11-17T16:10:00.000000000",
          "2021-11-17T16:15:00.000000000",
          "2021-11-17T16:20:00.000000000",
          "2021-11-17T16:25:00.000000000",
          "2021-11-17T16:30:00.000000000",
          "2021-11-17T16:35:00.000000000",
          "2021-11-17T16:40:00.000000000",
          "2021-11-17T16:45:00.000000000",
          "2021-11-17T16:50:00.000000000",
          "2021-11-17T16:55:00.000000000",
          "2021-11-17T17:00:00.000000000",
          "2021-11-17T17:05:00.000000000",
          "2021-11-17T17:10:00.000000000",
          "2021-11-17T17:15:00.000000000",
          "2021-11-17T17:20:00.000000000",
          "2021-11-17T17:25:00.000000000",
          "2021-11-17T17:30:00.000000000",
          "2021-11-17T17:35:00.000000000",
          "2021-11-17T17:40:00.000000000",
          "2021-11-17T17:45:00.000000000",
          "2021-11-17T17:50:00.000000000",
          "2021-11-17T17:55:00.000000000",
          "2021-11-17T18:00:00.000000000",
          "2021-11-17T18:05:00.000000000",
          "2021-11-17T18:10:00.000000000",
          "2021-11-17T18:15:00.000000000",
          "2021-11-17T18:20:00.000000000",
          "2021-11-17T18:25:00.000000000",
          "2022-02-16T16:05:00.000000000",
          "2022-02-16T16:10:00.000000000",
          "2022-02-16T16:15:00.000000000",
          "2022-02-16T16:20:00.000000000",
          "2022-02-16T16:25:00.000000000",
          "2022-02-16T16:30:00.000000000",
          "2022-02-16T16:35:00.000000000",
          "2022-02-16T16:40:00.000000000",
          "2022-02-16T16:45:00.000000000",
          "2022-02-16T16:50:00.000000000",
          "2022-02-16T16:55:00.000000000",
          "2022-02-16T17:00:00.000000000",
          "2022-02-16T17:05:00.000000000",
          "2022-02-16T17:10:00.000000000",
          "2022-02-16T17:15:00.000000000",
          "2022-02-16T17:20:00.000000000",
          "2022-02-16T17:25:00.000000000",
          "2022-02-16T17:30:00.000000000",
          "2022-02-16T17:35:00.000000000",
          "2022-02-16T17:40:00.000000000",
          "2022-02-16T17:45:00.000000000",
          "2022-02-16T17:50:00.000000000",
          "2022-02-16T17:55:00.000000000",
          "2022-02-16T18:00:00.000000000",
          "2022-02-16T18:05:00.000000000",
          "2022-02-16T18:10:00.000000000",
          "2022-02-16T18:15:00.000000000",
          "2022-02-16T18:20:00.000000000",
          "2022-02-16T18:25:00.000000000",
          "2022-05-25T16:05:00.000000000",
          "2022-05-25T16:10:00.000000000",
          "2022-05-25T16:15:00.000000000",
          "2022-05-25T16:20:00.000000000",
          "2022-05-25T16:25:00.000000000",
          "2022-05-25T16:30:00.000000000",
          "2022-05-25T16:35:00.000000000",
          "2022-05-25T16:40:00.000000000",
          "2022-05-25T16:45:00.000000000",
          "2022-05-25T16:50:00.000000000",
          "2022-05-25T16:55:00.000000000",
          "2022-05-25T17:00:00.000000000",
          "2022-05-25T17:05:00.000000000",
          "2022-05-25T17:10:00.000000000",
          "2022-05-25T17:15:00.000000000",
          "2022-05-25T17:20:00.000000000",
          "2022-05-25T17:25:00.000000000",
          "2022-05-25T17:30:00.000000000",
          "2022-05-25T17:35:00.000000000",
          "2022-05-25T17:40:00.000000000",
          "2022-05-25T17:45:00.000000000",
          "2022-05-25T17:50:00.000000000",
          "2022-05-25T17:55:00.000000000",
          "2022-05-25T18:00:00.000000000",
          "2022-05-25T18:05:00.000000000",
          "2022-05-25T18:10:00.000000000",
          "2022-05-25T18:15:00.000000000",
          "2022-05-25T18:20:00.000000000",
          "2022-05-25T18:25:00.000000000",
          "2022-05-25T18:30:00.000000000",
          "2022-05-25T18:35:00.000000000",
          "2022-05-25T18:40:00.000000000",
          "2022-05-25T18:45:00.000000000",
          "2022-05-25T18:50:00.000000000",
          "2022-05-25T18:55:00.000000000",
          "2022-08-24T16:05:00.000000000",
          "2022-08-24T16:10:00.000000000",
          "2022-08-24T16:15:00.000000000",
          "2022-08-24T16:20:00.000000000",
          "2022-08-24T16:25:00.000000000",
          "2022-08-24T16:30:00.000000000",
          "2022-08-24T16:35:00.000000000",
          "2022-08-24T16:40:00.000000000",
          "2022-08-24T16:45:00.000000000",
          "2022-08-24T16:50:00.000000000",
          "2022-08-24T16:55:00.000000000",
          "2022-08-24T17:00:00.000000000",
          "2022-08-24T17:05:00.000000000",
          "2022-08-24T17:10:00.000000000",
          "2022-08-24T17:15:00.000000000",
          "2022-08-24T17:20:00.000000000",
          "2022-08-24T17:25:00.000000000",
          "2022-08-24T17:30:00.000000000",
          "2022-08-24T17:35:00.000000000",
          "2022-08-24T17:40:00.000000000",
          "2022-08-24T17:45:00.000000000",
          "2022-08-24T17:50:00.000000000",
          "2022-08-24T17:55:00.000000000",
          "2022-08-24T18:00:00.000000000",
          "2022-08-24T18:05:00.000000000",
          "2022-08-24T18:10:00.000000000",
          "2022-08-24T18:15:00.000000000",
          "2022-08-24T18:20:00.000000000",
          "2022-08-24T18:25:00.000000000",
          "2022-08-24T18:30:00.000000000",
          "2022-08-24T18:35:00.000000000",
          "2022-08-24T18:40:00.000000000",
          "2022-08-24T18:45:00.000000000",
          "2022-08-24T18:50:00.000000000",
          "2022-08-24T18:55:00.000000000",
          "2022-11-16T16:05:00.000000000",
          "2022-11-16T16:10:00.000000000",
          "2022-11-16T16:15:00.000000000",
          "2022-11-16T16:20:00.000000000",
          "2022-11-16T16:25:00.000000000",
          "2022-11-16T16:30:00.000000000",
          "2022-11-16T16:35:00.000000000",
          "2022-11-16T16:40:00.000000000",
          "2022-11-16T16:45:00.000000000",
          "2022-11-16T16:50:00.000000000",
          "2022-11-16T16:55:00.000000000",
          "2022-11-16T17:00:00.000000000",
          "2022-11-16T17:05:00.000000000",
          "2022-11-16T17:10:00.000000000",
          "2022-11-16T17:15:00.000000000",
          "2022-11-16T17:20:00.000000000",
          "2022-11-16T17:25:00.000000000",
          "2022-11-16T17:30:00.000000000",
          "2022-11-16T17:35:00.000000000",
          "2022-11-16T17:40:00.000000000",
          "2022-11-16T17:45:00.000000000",
          "2022-11-16T17:50:00.000000000",
          "2022-11-16T17:55:00.000000000",
          "2022-11-16T18:00:00.000000000",
          "2022-11-16T18:05:00.000000000",
          "2022-11-16T18:10:00.000000000",
          "2022-11-16T18:15:00.000000000",
          "2022-11-16T18:20:00.000000000",
          "2022-11-16T18:25:00.000000000",
          "2023-02-22T16:05:00.000000000",
          "2023-02-22T16:10:00.000000000",
          "2023-02-22T16:15:00.000000000",
          "2023-02-22T16:20:00.000000000",
          "2023-02-22T16:25:00.000000000",
          "2023-02-22T16:30:00.000000000",
          "2023-02-22T16:35:00.000000000",
          "2023-02-22T16:40:00.000000000",
          "2023-02-22T16:45:00.000000000",
          "2023-02-22T16:50:00.000000000",
          "2023-02-22T16:55:00.000000000",
          "2023-02-22T17:00:00.000000000",
          "2023-02-22T17:05:00.000000000",
          "2023-02-22T17:10:00.000000000",
          "2023-02-22T17:15:00.000000000",
          "2023-02-22T17:20:00.000000000",
          "2023-02-22T17:25:00.000000000",
          "2023-02-22T17:30:00.000000000",
          "2023-02-22T17:35:00.000000000",
          "2023-02-22T17:40:00.000000000",
          "2023-02-22T17:45:00.000000000",
          "2023-02-22T17:50:00.000000000",
          "2023-02-22T17:55:00.000000000",
          "2023-02-22T18:00:00.000000000",
          "2023-02-22T18:05:00.000000000",
          "2023-02-22T18:10:00.000000000",
          "2023-02-22T18:15:00.000000000",
          "2023-02-22T18:20:00.000000000",
          "2023-02-22T18:25:00.000000000",
          "2023-05-24T16:05:00.000000000",
          "2023-05-24T16:10:00.000000000",
          "2023-05-24T16:15:00.000000000",
          "2023-05-24T16:20:00.000000000",
          "2023-05-24T16:25:00.000000000",
          "2023-05-24T16:30:00.000000000",
          "2023-05-24T16:35:00.000000000",
          "2023-05-24T16:40:00.000000000",
          "2023-05-24T16:45:00.000000000",
          "2023-05-24T16:50:00.000000000",
          "2023-05-24T16:55:00.000000000",
          "2023-05-24T17:00:00.000000000",
          "2023-05-24T17:05:00.000000000",
          "2023-05-24T17:10:00.000000000",
          "2023-05-24T17:15:00.000000000",
          "2023-05-24T17:20:00.000000000",
          "2023-05-24T17:25:00.000000000",
          "2023-05-24T17:30:00.000000000",
          "2023-05-24T17:35:00.000000000",
          "2023-05-24T17:40:00.000000000",
          "2023-05-24T17:45:00.000000000",
          "2023-05-24T17:50:00.000000000",
          "2023-05-24T17:55:00.000000000",
          "2023-05-24T18:00:00.000000000",
          "2023-05-24T18:05:00.000000000",
          "2023-05-24T18:10:00.000000000",
          "2023-05-24T18:15:00.000000000",
          "2023-05-24T18:20:00.000000000",
          "2023-05-24T18:25:00.000000000",
          "2023-05-24T18:30:00.000000000",
          "2023-05-24T18:35:00.000000000",
          "2023-05-24T18:40:00.000000000",
          "2023-05-24T18:45:00.000000000",
          "2023-05-24T18:50:00.000000000",
          "2023-05-24T18:55:00.000000000",
          "2023-08-23T16:05:00.000000000",
          "2023-08-23T16:10:00.000000000",
          "2023-08-23T16:15:00.000000000",
          "2023-08-23T16:20:00.000000000",
          "2023-08-23T16:25:00.000000000",
          "2023-08-23T16:30:00.000000000",
          "2023-08-23T16:35:00.000000000",
          "2023-08-23T16:40:00.000000000",
          "2023-08-23T16:45:00.000000000",
          "2023-08-23T16:50:00.000000000",
          "2023-08-23T16:55:00.000000000",
          "2023-08-23T17:00:00.000000000",
          "2023-08-23T17:05:00.000000000",
          "2023-08-23T17:10:00.000000000",
          "2023-08-23T17:15:00.000000000",
          "2023-08-23T17:20:00.000000000",
          "2023-08-23T17:25:00.000000000",
          "2023-08-23T17:30:00.000000000",
          "2023-08-23T17:35:00.000000000",
          "2023-08-23T17:40:00.000000000",
          "2023-08-23T17:45:00.000000000",
          "2023-08-23T17:50:00.000000000",
          "2023-08-23T17:55:00.000000000",
          "2023-08-23T18:00:00.000000000",
          "2023-08-23T18:05:00.000000000",
          "2023-08-23T18:10:00.000000000",
          "2023-08-23T18:15:00.000000000",
          "2023-08-23T18:20:00.000000000",
          "2023-08-23T18:25:00.000000000",
          "2023-08-23T18:30:00.000000000",
          "2023-08-23T18:35:00.000000000",
          "2023-08-23T18:40:00.000000000",
          "2023-08-23T18:45:00.000000000",
          "2023-08-23T18:50:00.000000000",
          "2023-08-23T18:55:00.000000000",
          "2023-11-21T16:05:00.000000000",
          "2023-11-21T16:10:00.000000000",
          "2023-11-21T16:15:00.000000000",
          "2023-11-21T16:20:00.000000000",
          "2023-11-21T16:25:00.000000000",
          "2023-11-21T16:30:00.000000000",
          "2023-11-21T16:35:00.000000000",
          "2023-11-21T16:40:00.000000000",
          "2023-11-21T16:45:00.000000000",
          "2023-11-21T16:50:00.000000000",
          "2023-11-21T16:55:00.000000000",
          "2023-11-21T17:00:00.000000000",
          "2023-11-21T17:05:00.000000000",
          "2023-11-21T17:10:00.000000000",
          "2023-11-21T17:15:00.000000000",
          "2023-11-21T17:20:00.000000000",
          "2023-11-21T17:25:00.000000000",
          "2023-11-21T17:30:00.000000000",
          "2023-11-21T17:35:00.000000000",
          "2023-11-21T17:40:00.000000000",
          "2023-11-21T17:45:00.000000000",
          "2023-11-21T17:50:00.000000000",
          "2023-11-21T17:55:00.000000000",
          "2023-11-21T18:00:00.000000000",
          "2023-11-21T18:05:00.000000000",
          "2023-11-21T18:10:00.000000000",
          "2023-11-21T18:15:00.000000000",
          "2023-11-21T18:20:00.000000000",
          "2023-11-21T18:25:00.000000000",
          "2024-02-21T16:05:00.000000000",
          "2024-02-21T16:10:00.000000000",
          "2024-02-21T16:15:00.000000000",
          "2024-02-21T16:20:00.000000000",
          "2024-02-21T16:25:00.000000000",
          "2024-02-21T16:30:00.000000000",
          "2024-02-21T16:35:00.000000000",
          "2024-02-21T16:40:00.000000000",
          "2024-02-21T16:45:00.000000000",
          "2024-02-21T16:50:00.000000000",
          "2024-02-21T16:55:00.000000000",
          "2024-02-21T17:00:00.000000000",
          "2024-02-21T17:05:00.000000000",
          "2024-02-21T17:10:00.000000000",
          "2024-02-21T17:15:00.000000000",
          "2024-02-21T17:20:00.000000000",
          "2024-02-21T17:25:00.000000000",
          "2024-02-21T17:30:00.000000000",
          "2024-02-21T17:35:00.000000000",
          "2024-02-21T17:40:00.000000000",
          "2024-02-21T17:45:00.000000000",
          "2024-02-21T17:50:00.000000000",
          "2024-02-21T17:55:00.000000000",
          "2024-02-21T18:00:00.000000000",
          "2024-02-21T18:05:00.000000000",
          "2024-02-21T18:10:00.000000000",
          "2024-02-21T18:15:00.000000000",
          "2024-02-21T18:20:00.000000000",
          "2024-02-21T18:25:00.000000000",
          "2024-05-22T16:05:00.000000000",
          "2024-05-22T16:10:00.000000000",
          "2024-05-22T16:15:00.000000000",
          "2024-05-22T16:20:00.000000000",
          "2024-05-22T16:25:00.000000000",
          "2024-05-22T16:30:00.000000000",
          "2024-05-22T16:35:00.000000000",
          "2024-05-22T16:40:00.000000000",
          "2024-05-22T16:45:00.000000000",
          "2024-05-22T16:50:00.000000000",
          "2024-05-22T16:55:00.000000000",
          "2024-05-22T17:00:00.000000000",
          "2024-05-22T17:05:00.000000000",
          "2024-05-22T17:10:00.000000000",
          "2024-05-22T17:15:00.000000000",
          "2024-05-22T17:20:00.000000000",
          "2024-05-22T17:25:00.000000000",
          "2024-05-22T17:30:00.000000000",
          "2024-05-22T17:35:00.000000000",
          "2024-05-22T17:40:00.000000000",
          "2024-05-22T17:45:00.000000000",
          "2024-05-22T17:50:00.000000000",
          "2024-05-22T17:55:00.000000000",
          "2024-05-22T18:00:00.000000000",
          "2024-05-22T18:05:00.000000000",
          "2024-05-22T18:10:00.000000000",
          "2024-05-22T18:15:00.000000000",
          "2024-05-22T18:20:00.000000000",
          "2024-05-22T18:25:00.000000000",
          "2024-05-22T18:30:00.000000000",
          "2024-05-22T18:35:00.000000000",
          "2024-05-22T18:40:00.000000000",
          "2024-05-22T18:45:00.000000000",
          "2024-05-22T18:50:00.000000000",
          "2024-05-22T18:55:00.000000000",
          "2024-08-28T16:05:00.000000000",
          "2024-08-28T16:10:00.000000000",
          "2024-08-28T16:15:00.000000000",
          "2024-08-28T16:20:00.000000000",
          "2024-08-28T16:25:00.000000000",
          "2024-08-28T16:30:00.000000000",
          "2024-08-28T16:35:00.000000000",
          "2024-08-28T16:40:00.000000000",
          "2024-08-28T16:45:00.000000000",
          "2024-08-28T16:50:00.000000000",
          "2024-08-28T16:55:00.000000000",
          "2024-08-28T17:00:00.000000000",
          "2024-08-28T17:05:00.000000000",
          "2024-08-28T17:10:00.000000000",
          "2024-08-28T17:15:00.000000000",
          "2024-08-28T17:20:00.000000000",
          "2024-08-28T17:25:00.000000000",
          "2024-08-28T17:30:00.000000000",
          "2024-08-28T17:35:00.000000000",
          "2024-08-28T17:40:00.000000000",
          "2024-08-28T17:45:00.000000000",
          "2024-08-28T17:50:00.000000000",
          "2024-08-28T17:55:00.000000000",
          "2024-08-28T18:00:00.000000000",
          "2024-08-28T18:05:00.000000000",
          "2024-08-28T18:10:00.000000000",
          "2024-08-28T18:15:00.000000000",
          "2024-08-28T18:20:00.000000000",
          "2024-08-28T18:25:00.000000000",
          "2024-08-28T18:30:00.000000000",
          "2024-08-28T18:35:00.000000000",
          "2024-08-28T18:40:00.000000000",
          "2024-08-28T18:45:00.000000000",
          "2024-08-28T18:50:00.000000000",
          "2024-08-28T18:55:00.000000000",
          "2024-11-20T16:05:00.000000000",
          "2024-11-20T16:10:00.000000000",
          "2024-11-20T16:15:00.000000000",
          "2024-11-20T16:20:00.000000000",
          "2024-11-20T16:25:00.000000000",
          "2024-11-20T16:30:00.000000000",
          "2024-11-20T16:35:00.000000000",
          "2024-11-20T16:40:00.000000000",
          "2024-11-20T16:45:00.000000000",
          "2024-11-20T16:50:00.000000000",
          "2024-11-20T16:55:00.000000000",
          "2024-11-20T17:00:00.000000000",
          "2024-11-20T17:05:00.000000000",
          "2024-11-20T17:10:00.000000000",
          "2024-11-20T17:15:00.000000000",
          "2024-11-20T17:20:00.000000000",
          "2024-11-20T17:25:00.000000000",
          "2024-11-20T17:30:00.000000000",
          "2024-11-20T17:35:00.000000000",
          "2024-11-20T17:40:00.000000000",
          "2024-11-20T17:45:00.000000000",
          "2024-11-20T17:50:00.000000000",
          "2024-11-20T17:55:00.000000000",
          "2024-11-20T18:00:00.000000000",
          "2024-11-20T18:05:00.000000000",
          "2024-11-20T18:10:00.000000000",
          "2024-11-20T18:15:00.000000000",
          "2024-11-20T18:20:00.000000000",
          "2024-11-20T18:25:00.000000000",
          "2025-02-26T16:05:00.000000000",
          "2025-02-26T16:10:00.000000000",
          "2025-02-26T16:15:00.000000000",
          "2025-02-26T16:20:00.000000000",
          "2025-02-26T16:25:00.000000000",
          "2025-02-26T16:30:00.000000000",
          "2025-02-26T16:35:00.000000000",
          "2025-02-26T16:40:00.000000000",
          "2025-02-26T16:45:00.000000000",
          "2025-02-26T16:50:00.000000000",
          "2025-02-26T16:55:00.000000000",
          "2025-02-26T17:00:00.000000000",
          "2025-02-26T17:05:00.000000000",
          "2025-02-26T17:10:00.000000000",
          "2025-02-26T17:15:00.000000000",
          "2025-02-26T17:20:00.000000000",
          "2025-02-26T17:25:00.000000000",
          "2025-02-26T17:30:00.000000000",
          "2025-02-26T17:35:00.000000000",
          "2025-02-26T17:40:00.000000000",
          "2025-02-26T17:45:00.000000000",
          "2025-02-26T17:50:00.000000000",
          "2025-02-26T17:55:00.000000000",
          "2025-02-26T18:00:00.000000000",
          "2025-02-26T18:05:00.000000000",
          "2025-02-26T18:10:00.000000000",
          "2025-02-26T18:15:00.000000000",
          "2025-02-26T18:20:00.000000000",
          "2025-02-26T18:25:00.000000000"
         ],
         "xaxis": "x",
         "y": {
          "bdata": "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",
          "dtype": "f8"
         },
         "yaxis": "y"
        }
       ],
       "layout": {
        "legend": {
         "tracegroupgap": 0
        },
        "template": {
         "data": {
          "bar": [
           {
            "error_x": {
             "color": "#2a3f5f"
            },
            "error_y": {
             "color": "#2a3f5f"
            },
            "marker": {
             "line": {
              "color": "#E5ECF6",
              "width": 0.5
             },
             "pattern": {
              "fillmode": "overlay",
              "size": 10,
              "solidity": 0.2
             }
            },
            "type": "bar"
           }
          ],
          "barpolar": [
           {
            "marker": {
             "line": {
              "color": "#E5ECF6",
              "width": 0.5
             },
             "pattern": {
              "fillmode": "overlay",
              "size": 10,
              "solidity": 0.2
             }
            },
            "type": "barpolar"
           }
          ],
          "carpet": [
           {
            "aaxis": {
             "endlinecolor": "#2a3f5f",
             "gridcolor": "white",
             "linecolor": "white",
             "minorgridcolor": "white",
             "startlinecolor": "#2a3f5f"
            },
            "baxis": {
             "endlinecolor": "#2a3f5f",
             "gridcolor": "white",
             "linecolor": "white",
             "minorgridcolor": "white",
             "startlinecolor": "#2a3f5f"
            },
            "type": "carpet"
           }
          ],
          "choropleth": [
           {
            "colorbar": {
             "outlinewidth": 0,
             "ticks": ""
            },
            "type": "choropleth"
           }
          ],
          "contour": [
           {
            "colorbar": {
             "outlinewidth": 0,
             "ticks": ""
            },
            "colorscale": [
             [
              0,
              "#0d0887"
             ],
             [
              0.1111111111111111,
              "#46039f"
             ],
             [
              0.2222222222222222,
              "#7201a8"
             ],
             [
              0.3333333333333333,
              "#9c179e"
             ],
             [
              0.4444444444444444,
              "#bd3786"
             ],
             [
              0.5555555555555556,
              "#d8576b"
             ],
             [
              0.6666666666666666,
              "#ed7953"
             ],
             [
              0.7777777777777778,
              "#fb9f3a"
             ],
             [
              0.8888888888888888,
              "#fdca26"
             ],
             [
              1,
              "#f0f921"
             ]
            ],
            "type": "contour"
           }
          ],
          "contourcarpet": [
           {
            "colorbar": {
             "outlinewidth": 0,
             "ticks": ""
            },
            "type": "contourcarpet"
           }
          ],
          "heatmap": [
           {
            "colorbar": {
             "outlinewidth": 0,
             "ticks": ""
            },
            "colorscale": [
             [
              0,
              "#0d0887"
             ],
             [
              0.1111111111111111,
              "#46039f"
             ],
             [
              0.2222222222222222,
              "#7201a8"
             ],
             [
              0.3333333333333333,
              "#9c179e"
             ],
             [
              0.4444444444444444,
              "#bd3786"
             ],
             [
              0.5555555555555556,
              "#d8576b"
             ],
             [
              0.6666666666666666,
              "#ed7953"
             ],
             [
              0.7777777777777778,
              "#fb9f3a"
             ],
             [
              0.8888888888888888,
              "#fdca26"
             ],
             [
              1,
              "#f0f921"
             ]
            ],
            "type": "heatmap"
           }
          ],
          "histogram": [
           {
            "marker": {
             "pattern": {
              "fillmode": "overlay",
              "size": 10,
              "solidity": 0.2
             }
            },
            "type": "histogram"
           }
          ],
          "histogram2d": [
           {
            "colorbar": {
             "outlinewidth": 0,
             "ticks": ""
            },
            "colorscale": [
             [
              0,
              "#0d0887"
             ],
             [
              0.1111111111111111,
              "#46039f"
             ],
             [
              0.2222222222222222,
              "#7201a8"
             ],
             [
              0.3333333333333333,
              "#9c179e"
             ],
             [
              0.4444444444444444,
              "#bd3786"
             ],
             [
              0.5555555555555556,
              "#d8576b"
             ],
             [
              0.6666666666666666,
              "#ed7953"
             ],
             [
              0.7777777777777778,
              "#fb9f3a"
             ],
             [
              0.8888888888888888,
              "#fdca26"
             ],
             [
              1,
              "#f0f921"
             ]
            ],
            "type": "histogram2d"
           }
          ],
          "histogram2dcontour": [
           {
            "colorbar": {
             "outlinewidth": 0,
             "ticks": ""
            },
            "colorscale": [
             [
              0,
              "#0d0887"
             ],
             [
              0.1111111111111111,
              "#46039f"
             ],
             [
              0.2222222222222222,
              "#7201a8"
             ],
             [
              0.3333333333333333,
              "#9c179e"
             ],
             [
              0.4444444444444444,
              "#bd3786"
             ],
             [
              0.5555555555555556,
              "#d8576b"
             ],
             [
              0.6666666666666666,
              "#ed7953"
             ],
             [
              0.7777777777777778,
              "#fb9f3a"
             ],
             [
              0.8888888888888888,
              "#fdca26"
             ],
             [
              1,
              "#f0f921"
             ]
            ],
            "type": "histogram2dcontour"
           }
          ],
          "mesh3d": [
           {
            "colorbar": {
             "outlinewidth": 0,
             "ticks": ""
            },
            "type": "mesh3d"
           }
          ],
          "parcoords": [
           {
            "line": {
             "colorbar": {
              "outlinewidth": 0,
              "ticks": ""
             }
            },
            "type": "parcoords"
           }
          ],
          "pie": [
           {
            "automargin": true,
            "type": "pie"
           }
          ],
          "scatter": [
           {
            "fillpattern": {
             "fillmode": "overlay",
             "size": 10,
             "solidity": 0.2
            },
            "type": "scatter"
           }
          ],
          "scatter3d": [
           {
            "line": {
             "colorbar": {
              "outlinewidth": 0,
              "ticks": ""
             }
            },
            "marker": {
             "colorbar": {
              "outlinewidth": 0,
              "ticks": ""
             }
            },
            "type": "scatter3d"
           }
          ],
          "scattercarpet": [
           {
            "marker": {
             "colorbar": {
              "outlinewidth": 0,
              "ticks": ""
             }
            },
            "type": "scattercarpet"
           }
          ],
          "scattergeo": [
           {
            "marker": {
             "colorbar": {
              "outlinewidth": 0,
              "ticks": ""
             }
            },
            "type": "scattergeo"
           }
          ],
          "scattergl": [
           {
            "marker": {
             "colorbar": {
              "outlinewidth": 0,
              "ticks": ""
             }
            },
            "type": "scattergl"
           }
          ],
          "scattermap": [
           {
            "marker": {
             "colorbar": {
              "outlinewidth": 0,
              "ticks": ""
             }
            },
            "type": "scattermap"
           }
          ],
          "scattermapbox": [
           {
            "marker": {
             "colorbar": {
              "outlinewidth": 0,
              "ticks": ""
             }
            },
            "type": "scattermapbox"
           }
          ],
          "scatterpolar": [
           {
            "marker": {
             "colorbar": {
              "outlinewidth": 0,
              "ticks": ""
             }
            },
            "type": "scatterpolar"
           }
          ],
          "scatterpolargl": [
           {
            "marker": {
             "colorbar": {
              "outlinewidth": 0,
              "ticks": ""
             }
            },
            "type": "scatterpolargl"
           }
          ],
          "scatterternary": [
           {
            "marker": {
             "colorbar": {
              "outlinewidth": 0,
              "ticks": ""
             }
            },
            "type": "scatterternary"
           }
          ],
          "surface": [
           {
            "colorbar": {
             "outlinewidth": 0,
             "ticks": ""
            },
            "colorscale": [
             [
              0,
              "#0d0887"
             ],
             [
              0.1111111111111111,
              "#46039f"
             ],
             [
              0.2222222222222222,
              "#7201a8"
             ],
             [
              0.3333333333333333,
              "#9c179e"
             ],
             [
              0.4444444444444444,
              "#bd3786"
             ],
             [
              0.5555555555555556,
              "#d8576b"
             ],
             [
              0.6666666666666666,
              "#ed7953"
             ],
             [
              0.7777777777777778,
              "#fb9f3a"
             ],
             [
              0.8888888888888888,
              "#fdca26"
             ],
             [
              1,
              "#f0f921"
             ]
            ],
            "type": "surface"
           }
          ],
          "table": [
           {
            "cells": {
             "fill": {
              "color": "#EBF0F8"
             },
             "line": {
              "color": "white"
             }
            },
            "header": {
             "fill": {
              "color": "#C8D4E3"
             },
             "line": {
              "color": "white"
             }
            },
            "type": "table"
           }
          ]
         },
         "layout": {
          "annotationdefaults": {
           "arrowcolor": "#2a3f5f",
           "arrowhead": 0,
           "arrowwidth": 1
          },
          "autotypenumbers": "strict",
          "coloraxis": {
           "colorbar": {
            "outlinewidth": 0,
            "ticks": ""
           }
          },
          "colorscale": {
           "diverging": [
            [
             0,
             "#8e0152"
            ],
            [
             0.1,
             "#c51b7d"
            ],
            [
             0.2,
             "#de77ae"
            ],
            [
             0.3,
             "#f1b6da"
            ],
            [
             0.4,
             "#fde0ef"
            ],
            [
             0.5,
             "#f7f7f7"
            ],
            [
             0.6,
             "#e6f5d0"
            ],
            [
             0.7,
             "#b8e186"
            ],
            [
             0.8,
             "#7fbc41"
            ],
            [
             0.9,
             "#4d9221"
            ],
            [
             1,
             "#276419"
            ]
           ],
           "sequential": [
            [
             0,
             "#0d0887"
            ],
            [
             0.1111111111111111,
             "#46039f"
            ],
            [
             0.2222222222222222,
             "#7201a8"
            ],
            [
             0.3333333333333333,
             "#9c179e"
            ],
            [
             0.4444444444444444,
             "#bd3786"
            ],
            [
             0.5555555555555556,
             "#d8576b"
            ],
            [
             0.6666666666666666,
             "#ed7953"
            ],
            [
             0.7777777777777778,
             "#fb9f3a"
            ],
            [
             0.8888888888888888,
             "#fdca26"
            ],
            [
             1,
             "#f0f921"
            ]
           ],
           "sequentialminus": [
            [
             0,
             "#0d0887"
            ],
            [
             0.1111111111111111,
             "#46039f"
            ],
            [
             0.2222222222222222,
             "#7201a8"
            ],
            [
             0.3333333333333333,
             "#9c179e"
            ],
            [
             0.4444444444444444,
             "#bd3786"
            ],
            [
             0.5555555555555556,
             "#d8576b"
            ],
            [
             0.6666666666666666,
             "#ed7953"
            ],
            [
             0.7777777777777778,
             "#fb9f3a"
            ],
            [
             0.8888888888888888,
             "#fdca26"
            ],
            [
             1,
             "#f0f921"
            ]
           ]
          },
          "colorway": [
           "#636efa",
           "#EF553B",
           "#00cc96",
           "#ab63fa",
           "#FFA15A",
           "#19d3f3",
           "#FF6692",
           "#B6E880",
           "#FF97FF",
           "#FECB52"
          ],
          "font": {
           "color": "#2a3f5f"
          },
          "geo": {
           "bgcolor": "white",
           "lakecolor": "white",
           "landcolor": "#E5ECF6",
           "showlakes": true,
           "showland": true,
           "subunitcolor": "white"
          },
          "hoverlabel": {
           "align": "left"
          },
          "hovermode": "closest",
          "mapbox": {
           "style": "light"
          },
          "paper_bgcolor": "white",
          "plot_bgcolor": "#E5ECF6",
          "polar": {
           "angularaxis": {
            "gridcolor": "white",
            "linecolor": "white",
            "ticks": ""
           },
           "bgcolor": "#E5ECF6",
           "radialaxis": {
            "gridcolor": "white",
            "linecolor": "white",
            "ticks": ""
           }
          },
          "scene": {
           "xaxis": {
            "backgroundcolor": "#E5ECF6",
            "gridcolor": "white",
            "gridwidth": 2,
            "linecolor": "white",
            "showbackground": true,
            "ticks": "",
            "zerolinecolor": "white"
           },
           "yaxis": {
            "backgroundcolor": "#E5ECF6",
            "gridcolor": "white",
            "gridwidth": 2,
            "linecolor": "white",
            "showbackground": true,
            "ticks": "",
            "zerolinecolor": "white"
           },
           "zaxis": {
            "backgroundcolor": "#E5ECF6",
            "gridcolor": "white",
            "gridwidth": 2,
            "linecolor": "white",
            "showbackground": true,
            "ticks": "",
            "zerolinecolor": "white"
           }
          },
          "shapedefaults": {
           "line": {
            "color": "#2a3f5f"
           }
          },
          "ternary": {
           "aaxis": {
            "gridcolor": "white",
            "linecolor": "white",
            "ticks": ""
           },
           "baxis": {
            "gridcolor": "white",
            "linecolor": "white",
            "ticks": ""
           },
           "bgcolor": "#E5ECF6",
           "caxis": {
            "gridcolor": "white",
            "linecolor": "white",
            "ticks": ""
           }
          },
          "title": {
           "x": 0.05
          },
          "xaxis": {
           "automargin": true,
           "gridcolor": "white",
           "linecolor": "white",
           "ticks": "",
           "title": {
            "standoff": 15
           },
           "zerolinecolor": "white",
           "zerolinewidth": 2
          },
          "yaxis": {
           "automargin": true,
           "gridcolor": "white",
           "linecolor": "white",
           "ticks": "",
           "title": {
            "standoff": 15
           },
           "zerolinecolor": "white",
           "zerolinewidth": 2
          }
         }
        },
        "title": {
         "text": "Equity Curve"
        },
        "xaxis": {
         "anchor": "y",
         "domain": [
          0,
          1
         ],
         "title": {
          "text": "Time"
         }
        },
        "yaxis": {
         "anchor": "x",
         "domain": [
          0,
          1
         ],
         "title": {
          "text": "Cumulative Return (%)"
         }
        }
       }
      }
     },
     "metadata": {},
     "output_type": "display_data"
    },
    {
     "name": "stdout",
     "output_type": "stream",
     "text": [
      "Warning: Could not save monthly returns image: \n",
      "Image export using the \"kaleido\" engine requires the kaleido package,\n",
      "which can be installed using pip:\n",
      "    $ pip install -U kaleido\n",
      "\n"
     ]
    },
    {
     "data": {
      "application/vnd.plotly.v1+json": {
       "config": {
        "plotlyServerURL": "https://plot.ly"
       },
       "data": [
        {
         "hovertemplate": "Month=%{x}<br>Monthly Return (%)=%{y}<extra></extra>",
         "legendgroup": "",
         "marker": {
          "color": "#636efa",
          "pattern": {
           "shape": ""
          }
         },
         "name": "",
         "orientation": "v",
         "showlegend": false,
         "textposition": "auto",
         "type": "bar",
         "x": [
          "2010-08",
          "2010-11",
          "2011-02",
          "2011-05",
          "2011-08",
          "2011-11",
          "2012-02",
          "2012-05",
          "2012-08",
          "2012-11",
          "2013-02",
          "2013-05",
          "2013-08",
          "2013-11",
          "2014-02",
          "2014-05",
          "2014-08",
          "2014-11",
          "2015-02",
          "2015-05",
          "2015-08",
          "2015-11",
          "2016-02",
          "2016-05",
          "2016-08",
          "2016-11",
          "2017-02",
          "2017-05",
          "2017-08",
          "2017-11",
          "2018-02",
          "2018-05",
          "2018-08",
          "2018-11",
          "2019-02",
          "2019-05",
          "2019-08",
          "2019-11",
          "2020-02",
          "2020-05",
          "2020-08",
          "2020-11",
          "2021-02",
          "2021-05",
          "2021-08",
          "2021-11",
          "2022-02",
          "2022-05",
          "2022-08",
          "2022-11",
          "2023-02",
          "2023-05",
          "2023-08",
          "2023-11",
          "2024-02",
          "2024-05",
          "2024-08",
          "2024-11",
          "2025-02"
         ],
         "xaxis": "x",
         "y": {
          "bdata": "AAAAAAAA+H8AAAAAAAAAANZuHyuWBkDApsOfNZrJXMAAAAAAAAAAAKUdeEl9ckTAAAAAAAAAAAAYV+Aj4kxRwOP1SqDwcqnAzCWhQqB3HEDSnkVd12pcQNiZplrf3whAqoZc+u/JCEAAAAAAAAAAAKBbNhl92T/AYUAl5jspEUA4WnPoF9dFwLzFnNDh+GDAq3vXhCo/d0AAAAAAAAAAADDGTyvz9hDAZbGzbRcIV0DYVr7OYP5UQAAAAAAAAAAAmpPsyxMmNEBV+X6HI5lLQMvCUt17YybAYbAW1YbeQkA4GAbh14MpwOYEsTJDbCBAsMOkCXO5KECOTJ9RghoXwNWR6OiQhTDAAAAAAAAAAAAAAAAAAAAAAAAAAAAAAAAAAAAAAAAAAACfSdbgS6UZwPRI/PAhUDNAAAAAAAAAAAD6WVPuRBcYwLbfdRk4AB7AA9fwVBovHkCrFIN3awsawAAAAAAAAAAAAAAAAAAAAAAAAAAAAAAAAAAAAAAAAAAAwwve7qbZH0AgjdyjI9wjwAAAAAAAAAAAfmh6HyX3SUDk6LiaoS8zQKVLM4lGiQnAHIk5SicGIUAAAAAAAAAAAAAAAAAAAAAAAAAAAAAAAAAAAAAAAAAAAA==",
          "dtype": "f8"
         },
         "yaxis": "y"
        }
       ],
       "layout": {
        "barmode": "relative",
        "legend": {
         "tracegroupgap": 0
        },
        "template": {
         "data": {
          "bar": [
           {
            "error_x": {
             "color": "#2a3f5f"
            },
            "error_y": {
             "color": "#2a3f5f"
            },
            "marker": {
             "line": {
              "color": "#E5ECF6",
              "width": 0.5
             },
             "pattern": {
              "fillmode": "overlay",
              "size": 10,
              "solidity": 0.2
             }
            },
            "type": "bar"
           }
          ],
          "barpolar": [
           {
            "marker": {
             "line": {
              "color": "#E5ECF6",
              "width": 0.5
             },
             "pattern": {
              "fillmode": "overlay",
              "size": 10,
              "solidity": 0.2
             }
            },
            "type": "barpolar"
           }
          ],
          "carpet": [
           {
            "aaxis": {
             "endlinecolor": "#2a3f5f",
             "gridcolor": "white",
             "linecolor": "white",
             "minorgridcolor": "white",
             "startlinecolor": "#2a3f5f"
            },
            "baxis": {
             "endlinecolor": "#2a3f5f",
             "gridcolor": "white",
             "linecolor": "white",
             "minorgridcolor": "white",
             "startlinecolor": "#2a3f5f"
            },
            "type": "carpet"
           }
          ],
          "choropleth": [
           {
            "colorbar": {
             "outlinewidth": 0,
             "ticks": ""
            },
            "type": "choropleth"
           }
          ],
          "contour": [
           {
            "colorbar": {
             "outlinewidth": 0,
             "ticks": ""
            },
            "colorscale": [
             [
              0,
              "#0d0887"
             ],
             [
              0.1111111111111111,
              "#46039f"
             ],
             [
              0.2222222222222222,
              "#7201a8"
             ],
             [
              0.3333333333333333,
              "#9c179e"
             ],
             [
              0.4444444444444444,
              "#bd3786"
             ],
             [
              0.5555555555555556,
              "#d8576b"
             ],
             [
              0.6666666666666666,
              "#ed7953"
             ],
             [
              0.7777777777777778,
              "#fb9f3a"
             ],
             [
              0.8888888888888888,
              "#fdca26"
             ],
             [
              1,
              "#f0f921"
             ]
            ],
            "type": "contour"
           }
          ],
          "contourcarpet": [
           {
            "colorbar": {
             "outlinewidth": 0,
             "ticks": ""
            },
            "type": "contourcarpet"
           }
          ],
          "heatmap": [
           {
            "colorbar": {
             "outlinewidth": 0,
             "ticks": ""
            },
            "colorscale": [
             [
              0,
              "#0d0887"
             ],
             [
              0.1111111111111111,
              "#46039f"
             ],
             [
              0.2222222222222222,
              "#7201a8"
             ],
             [
              0.3333333333333333,
              "#9c179e"
             ],
             [
              0.4444444444444444,
              "#bd3786"
             ],
             [
              0.5555555555555556,
              "#d8576b"
             ],
             [
              0.6666666666666666,
              "#ed7953"
             ],
             [
              0.7777777777777778,
              "#fb9f3a"
             ],
             [
              0.8888888888888888,
              "#fdca26"
             ],
             [
              1,
              "#f0f921"
             ]
            ],
            "type": "heatmap"
           }
          ],
          "histogram": [
           {
            "marker": {
             "pattern": {
              "fillmode": "overlay",
              "size": 10,
              "solidity": 0.2
             }
            },
            "type": "histogram"
           }
          ],
          "histogram2d": [
           {
            "colorbar": {
             "outlinewidth": 0,
             "ticks": ""
            },
            "colorscale": [
             [
              0,
              "#0d0887"
             ],
             [
              0.1111111111111111,
              "#46039f"
             ],
             [
              0.2222222222222222,
              "#7201a8"
             ],
             [
              0.3333333333333333,
              "#9c179e"
             ],
             [
              0.4444444444444444,
              "#bd3786"
             ],
             [
              0.5555555555555556,
              "#d8576b"
             ],
             [
              0.6666666666666666,
              "#ed7953"
             ],
             [
              0.7777777777777778,
              "#fb9f3a"
             ],
             [
              0.8888888888888888,
              "#fdca26"
             ],
             [
              1,
              "#f0f921"
             ]
            ],
            "type": "histogram2d"
           }
          ],
          "histogram2dcontour": [
           {
            "colorbar": {
             "outlinewidth": 0,
             "ticks": ""
            },
            "colorscale": [
             [
              0,
              "#0d0887"
             ],
             [
              0.1111111111111111,
              "#46039f"
             ],
             [
              0.2222222222222222,
              "#7201a8"
             ],
             [
              0.3333333333333333,
              "#9c179e"
             ],
             [
              0.4444444444444444,
              "#bd3786"
             ],
             [
              0.5555555555555556,
              "#d8576b"
             ],
             [
              0.6666666666666666,
              "#ed7953"
             ],
             [
              0.7777777777777778,
              "#fb9f3a"
             ],
             [
              0.8888888888888888,
              "#fdca26"
             ],
             [
              1,
              "#f0f921"
             ]
            ],
            "type": "histogram2dcontour"
           }
          ],
          "mesh3d": [
           {
            "colorbar": {
             "outlinewidth": 0,
             "ticks": ""
            },
            "type": "mesh3d"
           }
          ],
          "parcoords": [
           {
            "line": {
             "colorbar": {
              "outlinewidth": 0,
              "ticks": ""
             }
            },
            "type": "parcoords"
           }
          ],
          "pie": [
           {
            "automargin": true,
            "type": "pie"
           }
          ],
          "scatter": [
           {
            "fillpattern": {
             "fillmode": "overlay",
             "size": 10,
             "solidity": 0.2
            },
            "type": "scatter"
           }
          ],
          "scatter3d": [
           {
            "line": {
             "colorbar": {
              "outlinewidth": 0,
              "ticks": ""
             }
            },
            "marker": {
             "colorbar": {
              "outlinewidth": 0,
              "ticks": ""
             }
            },
            "type": "scatter3d"
           }
          ],
          "scattercarpet": [
           {
            "marker": {
             "colorbar": {
              "outlinewidth": 0,
              "ticks": ""
             }
            },
            "type": "scattercarpet"
           }
          ],
          "scattergeo": [
           {
            "marker": {
             "colorbar": {
              "outlinewidth": 0,
              "ticks": ""
             }
            },
            "type": "scattergeo"
           }
          ],
          "scattergl": [
           {
            "marker": {
             "colorbar": {
              "outlinewidth": 0,
              "ticks": ""
             }
            },
            "type": "scattergl"
           }
          ],
          "scattermap": [
           {
            "marker": {
             "colorbar": {
              "outlinewidth": 0,
              "ticks": ""
             }
            },
            "type": "scattermap"
           }
          ],
          "scattermapbox": [
           {
            "marker": {
             "colorbar": {
              "outlinewidth": 0,
              "ticks": ""
             }
            },
            "type": "scattermapbox"
           }
          ],
          "scatterpolar": [
           {
            "marker": {
             "colorbar": {
              "outlinewidth": 0,
              "ticks": ""
             }
            },
            "type": "scatterpolar"
           }
          ],
          "scatterpolargl": [
           {
            "marker": {
             "colorbar": {
              "outlinewidth": 0,
              "ticks": ""
             }
            },
            "type": "scatterpolargl"
           }
          ],
          "scatterternary": [
           {
            "marker": {
             "colorbar": {
              "outlinewidth": 0,
              "ticks": ""
             }
            },
            "type": "scatterternary"
           }
          ],
          "surface": [
           {
            "colorbar": {
             "outlinewidth": 0,
             "ticks": ""
            },
            "colorscale": [
             [
              0,
              "#0d0887"
             ],
             [
              0.1111111111111111,
              "#46039f"
             ],
             [
              0.2222222222222222,
              "#7201a8"
             ],
             [
              0.3333333333333333,
              "#9c179e"
             ],
             [
              0.4444444444444444,
              "#bd3786"
             ],
             [
              0.5555555555555556,
              "#d8576b"
             ],
             [
              0.6666666666666666,
              "#ed7953"
             ],
             [
              0.7777777777777778,
              "#fb9f3a"
             ],
             [
              0.8888888888888888,
              "#fdca26"
             ],
             [
              1,
              "#f0f921"
             ]
            ],
            "type": "surface"
           }
          ],
          "table": [
           {
            "cells": {
             "fill": {
              "color": "#EBF0F8"
             },
             "line": {
              "color": "white"
             }
            },
            "header": {
             "fill": {
              "color": "#C8D4E3"
             },
             "line": {
              "color": "white"
             }
            },
            "type": "table"
           }
          ]
         },
         "layout": {
          "annotationdefaults": {
           "arrowcolor": "#2a3f5f",
           "arrowhead": 0,
           "arrowwidth": 1
          },
          "autotypenumbers": "strict",
          "coloraxis": {
           "colorbar": {
            "outlinewidth": 0,
            "ticks": ""
           }
          },
          "colorscale": {
           "diverging": [
            [
             0,
             "#8e0152"
            ],
            [
             0.1,
             "#c51b7d"
            ],
            [
             0.2,
             "#de77ae"
            ],
            [
             0.3,
             "#f1b6da"
            ],
            [
             0.4,
             "#fde0ef"
            ],
            [
             0.5,
             "#f7f7f7"
            ],
            [
             0.6,
             "#e6f5d0"
            ],
            [
             0.7,
             "#b8e186"
            ],
            [
             0.8,
             "#7fbc41"
            ],
            [
             0.9,
             "#4d9221"
            ],
            [
             1,
             "#276419"
            ]
           ],
           "sequential": [
            [
             0,
             "#0d0887"
            ],
            [
             0.1111111111111111,
             "#46039f"
            ],
            [
             0.2222222222222222,
             "#7201a8"
            ],
            [
             0.3333333333333333,
             "#9c179e"
            ],
            [
             0.4444444444444444,
             "#bd3786"
            ],
            [
             0.5555555555555556,
             "#d8576b"
            ],
            [
             0.6666666666666666,
             "#ed7953"
            ],
            [
             0.7777777777777778,
             "#fb9f3a"
            ],
            [
             0.8888888888888888,
             "#fdca26"
            ],
            [
             1,
             "#f0f921"
            ]
           ],
           "sequentialminus": [
            [
             0,
             "#0d0887"
            ],
            [
             0.1111111111111111,
             "#46039f"
            ],
            [
             0.2222222222222222,
             "#7201a8"
            ],
            [
             0.3333333333333333,
             "#9c179e"
            ],
            [
             0.4444444444444444,
             "#bd3786"
            ],
            [
             0.5555555555555556,
             "#d8576b"
            ],
            [
             0.6666666666666666,
             "#ed7953"
            ],
            [
             0.7777777777777778,
             "#fb9f3a"
            ],
            [
             0.8888888888888888,
             "#fdca26"
            ],
            [
             1,
             "#f0f921"
            ]
           ]
          },
          "colorway": [
           "#636efa",
           "#EF553B",
           "#00cc96",
           "#ab63fa",
           "#FFA15A",
           "#19d3f3",
           "#FF6692",
           "#B6E880",
           "#FF97FF",
           "#FECB52"
          ],
          "font": {
           "color": "#2a3f5f"
          },
          "geo": {
           "bgcolor": "white",
           "lakecolor": "white",
           "landcolor": "#E5ECF6",
           "showlakes": true,
           "showland": true,
           "subunitcolor": "white"
          },
          "hoverlabel": {
           "align": "left"
          },
          "hovermode": "closest",
          "mapbox": {
           "style": "light"
          },
          "paper_bgcolor": "white",
          "plot_bgcolor": "#E5ECF6",
          "polar": {
           "angularaxis": {
            "gridcolor": "white",
            "linecolor": "white",
            "ticks": ""
           },
           "bgcolor": "#E5ECF6",
           "radialaxis": {
            "gridcolor": "white",
            "linecolor": "white",
            "ticks": ""
           }
          },
          "scene": {
           "xaxis": {
            "backgroundcolor": "#E5ECF6",
            "gridcolor": "white",
            "gridwidth": 2,
            "linecolor": "white",
            "showbackground": true,
            "ticks": "",
            "zerolinecolor": "white"
           },
           "yaxis": {
            "backgroundcolor": "#E5ECF6",
            "gridcolor": "white",
            "gridwidth": 2,
            "linecolor": "white",
            "showbackground": true,
            "ticks": "",
            "zerolinecolor": "white"
           },
           "zaxis": {
            "backgroundcolor": "#E5ECF6",
            "gridcolor": "white",
            "gridwidth": 2,
            "linecolor": "white",
            "showbackground": true,
            "ticks": "",
            "zerolinecolor": "white"
           }
          },
          "shapedefaults": {
           "line": {
            "color": "#2a3f5f"
           }
          },
          "ternary": {
           "aaxis": {
            "gridcolor": "white",
            "linecolor": "white",
            "ticks": ""
           },
           "baxis": {
            "gridcolor": "white",
            "linecolor": "white",
            "ticks": ""
           },
           "bgcolor": "#E5ECF6",
           "caxis": {
            "gridcolor": "white",
            "linecolor": "white",
            "ticks": ""
           }
          },
          "title": {
           "x": 0.05
          },
          "xaxis": {
           "automargin": true,
           "gridcolor": "white",
           "linecolor": "white",
           "ticks": "",
           "title": {
            "standoff": 15
           },
           "zerolinecolor": "white",
           "zerolinewidth": 2
          },
          "yaxis": {
           "automargin": true,
           "gridcolor": "white",
           "linecolor": "white",
           "ticks": "",
           "title": {
            "standoff": 15
           },
           "zerolinecolor": "white",
           "zerolinewidth": 2
          }
         }
        },
        "title": {
         "text": "Monthly Returns"
        },
        "xaxis": {
         "anchor": "y",
         "domain": [
          0,
          1
         ],
         "title": {
          "text": "Month"
         }
        },
        "yaxis": {
         "anchor": "x",
         "domain": [
          0,
          1
         ],
         "title": {
          "text": "Monthly Return (%)"
         }
        }
       }
      }
     },
     "metadata": {},
     "output_type": "display_data"
    },
    {
     "name": "stdout",
     "output_type": "stream",
     "text": [
      "Warning: Could not save drawdown image: \n",
      "Image export using the \"kaleido\" engine requires the kaleido package,\n",
      "which can be installed using pip:\n",
      "    $ pip install -U kaleido\n",
      "\n"
     ]
    },
    {
     "data": {
      "application/vnd.plotly.v1+json": {
       "config": {
        "plotlyServerURL": "https://plot.ly"
       },
       "data": [
        {
         "hovertemplate": "Time=%{x}<br>Drawdown=%{y}<extra></extra>",
         "legendgroup": "",
         "line": {
          "color": "#636efa",
          "dash": "solid"
         },
         "marker": {
          "symbol": "circle"
         },
         "mode": "lines",
         "name": "",
         "showlegend": false,
         "type": "scattergl",
         "x": [
          "2010-08-12T16:05:00.000000000",
          "2010-08-12T16:10:00.000000000",
          "2010-08-12T16:15:00.000000000",
          "2010-08-12T16:20:00.000000000",
          "2010-08-12T16:25:00.000000000",
          "2010-08-12T16:30:00.000000000",
          "2010-08-12T16:35:00.000000000",
          "2010-08-12T16:40:00.000000000",
          "2010-08-12T16:45:00.000000000",
          "2010-08-12T16:50:00.000000000",
          "2010-08-12T16:55:00.000000000",
          "2010-08-12T17:00:00.000000000",
          "2010-08-12T17:05:00.000000000",
          "2010-08-12T17:10:00.000000000",
          "2010-08-12T17:15:00.000000000",
          "2010-08-12T17:20:00.000000000",
          "2010-08-12T17:25:00.000000000",
          "2010-08-12T17:30:00.000000000",
          "2010-08-12T17:35:00.000000000",
          "2010-08-12T17:40:00.000000000",
          "2010-08-12T17:45:00.000000000",
          "2010-08-12T17:50:00.000000000",
          "2010-08-12T17:55:00.000000000",
          "2010-08-12T18:00:00.000000000",
          "2010-08-12T18:05:00.000000000",
          "2010-08-12T18:10:00.000000000",
          "2010-08-12T18:15:00.000000000",
          "2010-08-12T18:20:00.000000000",
          "2010-08-12T18:25:00.000000000",
          "2010-08-12T18:30:00.000000000",
          "2010-08-12T18:35:00.000000000",
          "2010-08-12T18:40:00.000000000",
          "2010-08-12T18:45:00.000000000",
          "2010-08-12T18:50:00.000000000",
          "2010-08-12T18:55:00.000000000",
          "2010-11-11T16:05:00.000000000",
          "2010-11-11T16:10:00.000000000",
          "2010-11-11T16:15:00.000000000",
          "2010-11-11T16:20:00.000000000",
          "2010-11-11T16:25:00.000000000",
          "2010-11-11T16:30:00.000000000",
          "2010-11-11T16:35:00.000000000",
          "2010-11-11T16:40:00.000000000",
          "2010-11-11T16:45:00.000000000",
          "2010-11-11T16:50:00.000000000",
          "2010-11-11T16:55:00.000000000",
          "2010-11-11T17:00:00.000000000",
          "2010-11-11T17:05:00.000000000",
          "2010-11-11T17:10:00.000000000",
          "2010-11-11T17:15:00.000000000",
          "2010-11-11T17:20:00.000000000",
          "2010-11-11T17:25:00.000000000",
          "2010-11-11T17:30:00.000000000",
          "2010-11-11T17:35:00.000000000",
          "2010-11-11T17:40:00.000000000",
          "2010-11-11T17:45:00.000000000",
          "2010-11-11T17:50:00.000000000",
          "2010-11-11T17:55:00.000000000",
          "2010-11-11T18:00:00.000000000",
          "2010-11-11T18:05:00.000000000",
          "2010-11-11T18:10:00.000000000",
          "2010-11-11T18:15:00.000000000",
          "2010-11-11T18:20:00.000000000",
          "2010-11-11T18:25:00.000000000",
          "2011-02-16T16:05:00.000000000",
          "2011-02-16T16:10:00.000000000",
          "2011-02-16T16:15:00.000000000",
          "2011-02-16T16:20:00.000000000",
          "2011-02-16T16:25:00.000000000",
          "2011-02-16T16:30:00.000000000",
          "2011-02-16T16:35:00.000000000",
          "2011-02-16T16:40:00.000000000",
          "2011-02-16T16:45:00.000000000",
          "2011-02-16T16:50:00.000000000",
          "2011-02-16T16:55:00.000000000",
          "2011-02-16T17:00:00.000000000",
          "2011-02-16T17:05:00.000000000",
          "2011-02-16T17:10:00.000000000",
          "2011-02-16T17:15:00.000000000",
          "2011-02-16T17:20:00.000000000",
          "2011-02-16T17:25:00.000000000",
          "2011-02-16T17:30:00.000000000",
          "2011-02-16T17:35:00.000000000",
          "2011-02-16T17:40:00.000000000",
          "2011-02-16T17:45:00.000000000",
          "2011-02-16T17:50:00.000000000",
          "2011-02-16T17:55:00.000000000",
          "2011-02-16T18:00:00.000000000",
          "2011-02-16T18:05:00.000000000",
          "2011-02-16T18:10:00.000000000",
          "2011-02-16T18:15:00.000000000",
          "2011-02-16T18:20:00.000000000",
          "2011-02-16T18:25:00.000000000",
          "2011-05-12T16:05:00.000000000",
          "2011-05-12T16:10:00.000000000",
          "2011-05-12T16:15:00.000000000",
          "2011-05-12T16:20:00.000000000",
          "2011-05-12T16:25:00.000000000",
          "2011-05-12T16:30:00.000000000",
          "2011-05-12T16:35:00.000000000",
          "2011-05-12T16:40:00.000000000",
          "2011-05-12T16:45:00.000000000",
          "2011-05-12T16:50:00.000000000",
          "2011-05-12T16:55:00.000000000",
          "2011-05-12T17:00:00.000000000",
          "2011-05-12T17:05:00.000000000",
          "2011-05-12T17:10:00.000000000",
          "2011-05-12T17:15:00.000000000",
          "2011-05-12T17:20:00.000000000",
          "2011-05-12T17:25:00.000000000",
          "2011-05-12T17:30:00.000000000",
          "2011-05-12T17:35:00.000000000",
          "2011-05-12T17:40:00.000000000",
          "2011-05-12T17:45:00.000000000",
          "2011-05-12T17:50:00.000000000",
          "2011-05-12T17:55:00.000000000",
          "2011-05-12T18:00:00.000000000",
          "2011-05-12T18:05:00.000000000",
          "2011-05-12T18:10:00.000000000",
          "2011-05-12T18:15:00.000000000",
          "2011-05-12T18:20:00.000000000",
          "2011-05-12T18:25:00.000000000",
          "2011-05-12T18:30:00.000000000",
          "2011-05-12T18:35:00.000000000",
          "2011-05-12T18:40:00.000000000",
          "2011-05-12T18:45:00.000000000",
          "2011-05-12T18:50:00.000000000",
          "2011-05-12T18:55:00.000000000",
          "2011-08-11T16:05:00.000000000",
          "2011-08-11T16:10:00.000000000",
          "2011-08-11T16:15:00.000000000",
          "2011-08-11T16:20:00.000000000",
          "2011-08-11T16:25:00.000000000",
          "2011-08-11T16:30:00.000000000",
          "2011-08-11T16:35:00.000000000",
          "2011-08-11T16:40:00.000000000",
          "2011-08-11T16:45:00.000000000",
          "2011-08-11T16:50:00.000000000",
          "2011-08-11T16:55:00.000000000",
          "2011-08-11T17:00:00.000000000",
          "2011-08-11T17:05:00.000000000",
          "2011-08-11T17:10:00.000000000",
          "2011-08-11T17:15:00.000000000",
          "2011-08-11T17:20:00.000000000",
          "2011-08-11T17:25:00.000000000",
          "2011-08-11T17:30:00.000000000",
          "2011-08-11T17:35:00.000000000",
          "2011-08-11T17:40:00.000000000",
          "2011-08-11T17:45:00.000000000",
          "2011-08-11T17:50:00.000000000",
          "2011-08-11T17:55:00.000000000",
          "2011-08-11T18:00:00.000000000",
          "2011-08-11T18:05:00.000000000",
          "2011-08-11T18:10:00.000000000",
          "2011-08-11T18:15:00.000000000",
          "2011-08-11T18:20:00.000000000",
          "2011-08-11T18:25:00.000000000",
          "2011-08-11T18:30:00.000000000",
          "2011-08-11T18:35:00.000000000",
          "2011-08-11T18:40:00.000000000",
          "2011-08-11T18:45:00.000000000",
          "2011-08-11T18:50:00.000000000",
          "2011-08-11T18:55:00.000000000",
          "2011-11-10T16:05:00.000000000",
          "2011-11-10T16:10:00.000000000",
          "2011-11-10T16:15:00.000000000",
          "2011-11-10T16:20:00.000000000",
          "2011-11-10T16:25:00.000000000",
          "2011-11-10T16:30:00.000000000",
          "2011-11-10T16:35:00.000000000",
          "2011-11-10T16:40:00.000000000",
          "2011-11-10T16:45:00.000000000",
          "2011-11-10T16:50:00.000000000",
          "2011-11-10T16:55:00.000000000",
          "2011-11-10T17:00:00.000000000",
          "2011-11-10T17:05:00.000000000",
          "2011-11-10T17:10:00.000000000",
          "2011-11-10T17:15:00.000000000",
          "2011-11-10T17:20:00.000000000",
          "2011-11-10T17:25:00.000000000",
          "2011-11-10T17:30:00.000000000",
          "2011-11-10T17:35:00.000000000",
          "2011-11-10T17:40:00.000000000",
          "2011-11-10T17:45:00.000000000",
          "2011-11-10T17:50:00.000000000",
          "2011-11-10T17:55:00.000000000",
          "2011-11-10T18:00:00.000000000",
          "2011-11-10T18:05:00.000000000",
          "2011-11-10T18:10:00.000000000",
          "2011-11-10T18:15:00.000000000",
          "2011-11-10T18:20:00.000000000",
          "2011-11-10T18:25:00.000000000",
          "2012-02-15T16:05:00.000000000",
          "2012-02-15T16:10:00.000000000",
          "2012-02-15T16:15:00.000000000",
          "2012-02-15T16:20:00.000000000",
          "2012-02-15T16:25:00.000000000",
          "2012-02-15T16:30:00.000000000",
          "2012-02-15T16:35:00.000000000",
          "2012-02-15T16:40:00.000000000",
          "2012-02-15T16:45:00.000000000",
          "2012-02-15T16:50:00.000000000",
          "2012-02-15T16:55:00.000000000",
          "2012-02-15T17:00:00.000000000",
          "2012-02-15T17:05:00.000000000",
          "2012-02-15T17:10:00.000000000",
          "2012-02-15T17:15:00.000000000",
          "2012-02-15T17:20:00.000000000",
          "2012-02-15T17:25:00.000000000",
          "2012-02-15T17:30:00.000000000",
          "2012-02-15T17:35:00.000000000",
          "2012-02-15T17:40:00.000000000",
          "2012-02-15T17:45:00.000000000",
          "2012-02-15T17:50:00.000000000",
          "2012-02-15T17:55:00.000000000",
          "2012-02-15T18:00:00.000000000",
          "2012-02-15T18:05:00.000000000",
          "2012-02-15T18:10:00.000000000",
          "2012-02-15T18:15:00.000000000",
          "2012-02-15T18:20:00.000000000",
          "2012-02-15T18:25:00.000000000",
          "2012-05-11T16:05:00.000000000",
          "2012-05-11T16:10:00.000000000",
          "2012-05-11T16:15:00.000000000",
          "2012-05-11T16:20:00.000000000",
          "2012-05-11T16:25:00.000000000",
          "2012-05-11T16:30:00.000000000",
          "2012-05-11T16:35:00.000000000",
          "2012-05-11T16:40:00.000000000",
          "2012-05-11T16:45:00.000000000",
          "2012-05-11T16:50:00.000000000",
          "2012-05-11T16:55:00.000000000",
          "2012-05-11T17:00:00.000000000",
          "2012-05-11T17:05:00.000000000",
          "2012-05-11T17:10:00.000000000",
          "2012-05-11T17:15:00.000000000",
          "2012-05-11T17:20:00.000000000",
          "2012-05-11T17:25:00.000000000",
          "2012-05-11T17:30:00.000000000",
          "2012-05-11T17:35:00.000000000",
          "2012-05-11T17:40:00.000000000",
          "2012-05-11T17:45:00.000000000",
          "2012-05-11T17:50:00.000000000",
          "2012-05-11T17:55:00.000000000",
          "2012-05-11T18:00:00.000000000",
          "2012-05-11T18:05:00.000000000",
          "2012-05-11T18:10:00.000000000",
          "2012-05-11T18:15:00.000000000",
          "2012-05-11T18:20:00.000000000",
          "2012-05-11T18:25:00.000000000",
          "2012-05-11T18:30:00.000000000",
          "2012-05-11T18:35:00.000000000",
          "2012-05-11T18:40:00.000000000",
          "2012-05-11T18:45:00.000000000",
          "2012-05-11T18:50:00.000000000",
          "2012-05-11T18:55:00.000000000",
          "2012-08-09T16:05:00.000000000",
          "2012-08-09T16:10:00.000000000",
          "2012-08-09T16:15:00.000000000",
          "2012-08-09T16:20:00.000000000",
          "2012-08-09T16:25:00.000000000",
          "2012-08-09T16:30:00.000000000",
          "2012-08-09T16:35:00.000000000",
          "2012-08-09T16:40:00.000000000",
          "2012-08-09T16:45:00.000000000",
          "2012-08-09T16:50:00.000000000",
          "2012-08-09T16:55:00.000000000",
          "2012-08-09T17:00:00.000000000",
          "2012-08-09T17:05:00.000000000",
          "2012-08-09T17:10:00.000000000",
          "2012-08-09T17:15:00.000000000",
          "2012-08-09T17:20:00.000000000",
          "2012-08-09T17:25:00.000000000",
          "2012-08-09T17:30:00.000000000",
          "2012-08-09T17:35:00.000000000",
          "2012-08-09T17:40:00.000000000",
          "2012-08-09T17:45:00.000000000",
          "2012-08-09T17:50:00.000000000",
          "2012-08-09T17:55:00.000000000",
          "2012-08-09T18:00:00.000000000",
          "2012-08-09T18:05:00.000000000",
          "2012-08-09T18:10:00.000000000",
          "2012-08-09T18:15:00.000000000",
          "2012-08-09T18:20:00.000000000",
          "2012-08-09T18:25:00.000000000",
          "2012-08-09T18:30:00.000000000",
          "2012-08-09T18:35:00.000000000",
          "2012-08-09T18:40:00.000000000",
          "2012-08-09T18:45:00.000000000",
          "2012-08-09T18:50:00.000000000",
          "2012-08-09T18:55:00.000000000",
          "2012-11-08T16:05:00.000000000",
          "2012-11-08T16:10:00.000000000",
          "2012-11-08T16:15:00.000000000",
          "2012-11-08T16:20:00.000000000",
          "2012-11-08T16:25:00.000000000",
          "2012-11-08T16:30:00.000000000",
          "2012-11-08T16:35:00.000000000",
          "2012-11-08T16:40:00.000000000",
          "2012-11-08T16:45:00.000000000",
          "2012-11-08T16:50:00.000000000",
          "2012-11-08T16:55:00.000000000",
          "2012-11-08T17:00:00.000000000",
          "2012-11-08T17:05:00.000000000",
          "2012-11-08T17:10:00.000000000",
          "2012-11-08T17:15:00.000000000",
          "2012-11-08T17:20:00.000000000",
          "2012-11-08T17:25:00.000000000",
          "2012-11-08T17:30:00.000000000",
          "2012-11-08T17:35:00.000000000",
          "2012-11-08T17:40:00.000000000",
          "2012-11-08T17:45:00.000000000",
          "2012-11-08T17:50:00.000000000",
          "2012-11-08T17:55:00.000000000",
          "2012-11-08T18:00:00.000000000",
          "2012-11-08T18:05:00.000000000",
          "2012-11-08T18:10:00.000000000",
          "2012-11-08T18:15:00.000000000",
          "2012-11-08T18:20:00.000000000",
          "2012-11-08T18:25:00.000000000",
          "2013-02-13T16:05:00.000000000",
          "2013-02-13T16:10:00.000000000",
          "2013-02-13T16:15:00.000000000",
          "2013-02-13T16:20:00.000000000",
          "2013-02-13T16:25:00.000000000",
          "2013-02-13T16:30:00.000000000",
          "2013-02-13T16:35:00.000000000",
          "2013-02-13T16:40:00.000000000",
          "2013-02-13T16:45:00.000000000",
          "2013-02-13T16:50:00.000000000",
          "2013-02-13T16:55:00.000000000",
          "2013-02-13T17:00:00.000000000",
          "2013-02-13T17:05:00.000000000",
          "2013-02-13T17:10:00.000000000",
          "2013-02-13T17:15:00.000000000",
          "2013-02-13T17:20:00.000000000",
          "2013-02-13T17:25:00.000000000",
          "2013-02-13T17:30:00.000000000",
          "2013-02-13T17:35:00.000000000",
          "2013-02-13T17:40:00.000000000",
          "2013-02-13T17:45:00.000000000",
          "2013-02-13T17:50:00.000000000",
          "2013-02-13T17:55:00.000000000",
          "2013-02-13T18:00:00.000000000",
          "2013-02-13T18:05:00.000000000",
          "2013-02-13T18:10:00.000000000",
          "2013-02-13T18:15:00.000000000",
          "2013-02-13T18:20:00.000000000",
          "2013-02-13T18:25:00.000000000",
          "2013-05-09T16:05:00.000000000",
          "2013-05-09T16:10:00.000000000",
          "2013-05-09T16:15:00.000000000",
          "2013-05-09T16:20:00.000000000",
          "2013-05-09T16:25:00.000000000",
          "2013-05-09T16:30:00.000000000",
          "2013-05-09T16:35:00.000000000",
          "2013-05-09T16:40:00.000000000",
          "2013-05-09T16:45:00.000000000",
          "2013-05-09T16:50:00.000000000",
          "2013-05-09T16:55:00.000000000",
          "2013-05-09T17:00:00.000000000",
          "2013-05-09T17:05:00.000000000",
          "2013-05-09T17:10:00.000000000",
          "2013-05-09T17:15:00.000000000",
          "2013-05-09T17:20:00.000000000",
          "2013-05-09T17:25:00.000000000",
          "2013-05-09T17:30:00.000000000",
          "2013-05-09T17:35:00.000000000",
          "2013-05-09T17:40:00.000000000",
          "2013-05-09T17:45:00.000000000",
          "2013-05-09T17:50:00.000000000",
          "2013-05-09T17:55:00.000000000",
          "2013-05-09T18:00:00.000000000",
          "2013-05-09T18:05:00.000000000",
          "2013-05-09T18:10:00.000000000",
          "2013-05-09T18:15:00.000000000",
          "2013-05-09T18:20:00.000000000",
          "2013-05-09T18:25:00.000000000",
          "2013-05-09T18:30:00.000000000",
          "2013-05-09T18:35:00.000000000",
          "2013-05-09T18:40:00.000000000",
          "2013-05-09T18:45:00.000000000",
          "2013-05-09T18:50:00.000000000",
          "2013-05-09T18:55:00.000000000",
          "2013-08-08T16:05:00.000000000",
          "2013-08-08T16:10:00.000000000",
          "2013-08-08T16:15:00.000000000",
          "2013-08-08T16:20:00.000000000",
          "2013-08-08T16:25:00.000000000",
          "2013-08-08T16:30:00.000000000",
          "2013-08-08T16:35:00.000000000",
          "2013-08-08T16:40:00.000000000",
          "2013-08-08T16:45:00.000000000",
          "2013-08-08T16:50:00.000000000",
          "2013-08-08T16:55:00.000000000",
          "2013-08-08T17:00:00.000000000",
          "2013-08-08T17:05:00.000000000",
          "2013-08-08T17:10:00.000000000",
          "2013-08-08T17:15:00.000000000",
          "2013-08-08T17:20:00.000000000",
          "2013-08-08T17:25:00.000000000",
          "2013-08-08T17:30:00.000000000",
          "2013-08-08T17:35:00.000000000",
          "2013-08-08T17:40:00.000000000",
          "2013-08-08T17:45:00.000000000",
          "2013-08-08T17:50:00.000000000",
          "2013-08-08T17:55:00.000000000",
          "2013-08-08T18:00:00.000000000",
          "2013-08-08T18:05:00.000000000",
          "2013-08-08T18:10:00.000000000",
          "2013-08-08T18:15:00.000000000",
          "2013-08-08T18:20:00.000000000",
          "2013-08-08T18:25:00.000000000",
          "2013-08-08T18:30:00.000000000",
          "2013-08-08T18:35:00.000000000",
          "2013-08-08T18:40:00.000000000",
          "2013-08-08T18:45:00.000000000",
          "2013-08-08T18:50:00.000000000",
          "2013-08-08T18:55:00.000000000",
          "2013-11-07T16:05:00.000000000",
          "2013-11-07T16:10:00.000000000",
          "2013-11-07T16:15:00.000000000",
          "2013-11-07T16:20:00.000000000",
          "2013-11-07T16:25:00.000000000",
          "2013-11-07T16:30:00.000000000",
          "2013-11-07T16:35:00.000000000",
          "2013-11-07T16:40:00.000000000",
          "2013-11-07T16:45:00.000000000",
          "2013-11-07T16:50:00.000000000",
          "2013-11-07T16:55:00.000000000",
          "2013-11-07T17:00:00.000000000",
          "2013-11-07T17:05:00.000000000",
          "2013-11-07T17:10:00.000000000",
          "2013-11-07T17:15:00.000000000",
          "2013-11-07T17:20:00.000000000",
          "2013-11-07T17:25:00.000000000",
          "2013-11-07T17:30:00.000000000",
          "2013-11-07T17:35:00.000000000",
          "2013-11-07T17:40:00.000000000",
          "2013-11-07T17:45:00.000000000",
          "2013-11-07T17:50:00.000000000",
          "2013-11-07T17:55:00.000000000",
          "2013-11-07T18:00:00.000000000",
          "2013-11-07T18:05:00.000000000",
          "2013-11-07T18:10:00.000000000",
          "2013-11-07T18:15:00.000000000",
          "2013-11-07T18:20:00.000000000",
          "2013-11-07T18:25:00.000000000",
          "2014-02-12T16:05:00.000000000",
          "2014-02-12T16:10:00.000000000",
          "2014-02-12T16:15:00.000000000",
          "2014-02-12T16:20:00.000000000",
          "2014-02-12T16:25:00.000000000",
          "2014-02-12T16:30:00.000000000",
          "2014-02-12T16:35:00.000000000",
          "2014-02-12T16:40:00.000000000",
          "2014-02-12T16:45:00.000000000",
          "2014-02-12T16:50:00.000000000",
          "2014-02-12T16:55:00.000000000",
          "2014-02-12T17:00:00.000000000",
          "2014-02-12T17:05:00.000000000",
          "2014-02-12T17:10:00.000000000",
          "2014-02-12T17:15:00.000000000",
          "2014-02-12T17:20:00.000000000",
          "2014-02-12T17:25:00.000000000",
          "2014-02-12T17:30:00.000000000",
          "2014-02-12T17:35:00.000000000",
          "2014-02-12T17:40:00.000000000",
          "2014-02-12T17:45:00.000000000",
          "2014-02-12T17:50:00.000000000",
          "2014-02-12T17:55:00.000000000",
          "2014-02-12T18:00:00.000000000",
          "2014-02-12T18:05:00.000000000",
          "2014-02-12T18:10:00.000000000",
          "2014-02-12T18:15:00.000000000",
          "2014-02-12T18:20:00.000000000",
          "2014-02-12T18:25:00.000000000",
          "2014-05-06T16:05:00.000000000",
          "2014-05-06T16:10:00.000000000",
          "2014-05-06T16:15:00.000000000",
          "2014-05-06T16:20:00.000000000",
          "2014-05-06T16:25:00.000000000",
          "2014-05-06T16:30:00.000000000",
          "2014-05-06T16:35:00.000000000",
          "2014-05-06T16:40:00.000000000",
          "2014-05-06T16:45:00.000000000",
          "2014-05-06T16:50:00.000000000",
          "2014-05-06T16:55:00.000000000",
          "2014-05-06T17:00:00.000000000",
          "2014-05-06T17:05:00.000000000",
          "2014-05-06T17:10:00.000000000",
          "2014-05-06T17:15:00.000000000",
          "2014-05-06T17:20:00.000000000",
          "2014-05-06T17:25:00.000000000",
          "2014-05-06T17:30:00.000000000",
          "2014-05-06T17:35:00.000000000",
          "2014-05-06T17:40:00.000000000",
          "2014-05-06T17:45:00.000000000",
          "2014-05-06T17:50:00.000000000",
          "2014-05-06T17:55:00.000000000",
          "2014-05-06T18:00:00.000000000",
          "2014-05-06T18:05:00.000000000",
          "2014-05-06T18:10:00.000000000",
          "2014-05-06T18:15:00.000000000",
          "2014-05-06T18:20:00.000000000",
          "2014-05-06T18:25:00.000000000",
          "2014-05-06T18:30:00.000000000",
          "2014-05-06T18:35:00.000000000",
          "2014-05-06T18:40:00.000000000",
          "2014-05-06T18:45:00.000000000",
          "2014-05-06T18:50:00.000000000",
          "2014-05-06T18:55:00.000000000",
          "2014-08-07T16:05:00.000000000",
          "2014-08-07T16:10:00.000000000",
          "2014-08-07T16:15:00.000000000",
          "2014-08-07T16:20:00.000000000",
          "2014-08-07T16:25:00.000000000",
          "2014-08-07T16:30:00.000000000",
          "2014-08-07T16:35:00.000000000",
          "2014-08-07T16:40:00.000000000",
          "2014-08-07T16:45:00.000000000",
          "2014-08-07T16:50:00.000000000",
          "2014-08-07T16:55:00.000000000",
          "2014-08-07T17:00:00.000000000",
          "2014-08-07T17:05:00.000000000",
          "2014-08-07T17:10:00.000000000",
          "2014-08-07T17:15:00.000000000",
          "2014-08-07T17:20:00.000000000",
          "2014-08-07T17:25:00.000000000",
          "2014-08-07T17:30:00.000000000",
          "2014-08-07T17:35:00.000000000",
          "2014-08-07T17:40:00.000000000",
          "2014-08-07T17:45:00.000000000",
          "2014-08-07T17:50:00.000000000",
          "2014-08-07T17:55:00.000000000",
          "2014-08-07T18:00:00.000000000",
          "2014-08-07T18:05:00.000000000",
          "2014-08-07T18:10:00.000000000",
          "2014-08-07T18:15:00.000000000",
          "2014-08-07T18:20:00.000000000",
          "2014-08-07T18:25:00.000000000",
          "2014-08-07T18:30:00.000000000",
          "2014-08-07T18:35:00.000000000",
          "2014-08-07T18:40:00.000000000",
          "2014-08-07T18:45:00.000000000",
          "2014-08-07T18:50:00.000000000",
          "2014-08-07T18:55:00.000000000",
          "2014-11-06T16:05:00.000000000",
          "2014-11-06T16:10:00.000000000",
          "2014-11-06T16:15:00.000000000",
          "2014-11-06T16:20:00.000000000",
          "2014-11-06T16:25:00.000000000",
          "2014-11-06T16:30:00.000000000",
          "2014-11-06T16:35:00.000000000",
          "2014-11-06T16:40:00.000000000",
          "2014-11-06T16:45:00.000000000",
          "2014-11-06T16:50:00.000000000",
          "2014-11-06T16:55:00.000000000",
          "2014-11-06T17:00:00.000000000",
          "2014-11-06T17:05:00.000000000",
          "2014-11-06T17:10:00.000000000",
          "2014-11-06T17:15:00.000000000",
          "2014-11-06T17:20:00.000000000",
          "2014-11-06T17:25:00.000000000",
          "2014-11-06T17:30:00.000000000",
          "2014-11-06T17:35:00.000000000",
          "2014-11-06T17:40:00.000000000",
          "2014-11-06T17:45:00.000000000",
          "2014-11-06T17:50:00.000000000",
          "2014-11-06T17:55:00.000000000",
          "2014-11-06T18:00:00.000000000",
          "2014-11-06T18:05:00.000000000",
          "2014-11-06T18:10:00.000000000",
          "2014-11-06T18:15:00.000000000",
          "2014-11-06T18:20:00.000000000",
          "2014-11-06T18:25:00.000000000",
          "2015-02-11T16:05:00.000000000",
          "2015-02-11T16:10:00.000000000",
          "2015-02-11T16:15:00.000000000",
          "2015-02-11T16:20:00.000000000",
          "2015-02-11T16:25:00.000000000",
          "2015-02-11T16:30:00.000000000",
          "2015-02-11T16:35:00.000000000",
          "2015-02-11T16:40:00.000000000",
          "2015-02-11T16:45:00.000000000",
          "2015-02-11T16:50:00.000000000",
          "2015-02-11T16:55:00.000000000",
          "2015-02-11T17:00:00.000000000",
          "2015-02-11T17:05:00.000000000",
          "2015-02-11T17:10:00.000000000",
          "2015-02-11T17:15:00.000000000",
          "2015-02-11T17:20:00.000000000",
          "2015-02-11T17:25:00.000000000",
          "2015-02-11T17:30:00.000000000",
          "2015-02-11T17:35:00.000000000",
          "2015-02-11T17:40:00.000000000",
          "2015-02-11T17:45:00.000000000",
          "2015-02-11T17:50:00.000000000",
          "2015-02-11T17:55:00.000000000",
          "2015-02-11T18:00:00.000000000",
          "2015-02-11T18:05:00.000000000",
          "2015-02-11T18:10:00.000000000",
          "2015-02-11T18:15:00.000000000",
          "2015-02-11T18:20:00.000000000",
          "2015-02-11T18:25:00.000000000",
          "2015-05-07T16:05:00.000000000",
          "2015-05-07T16:10:00.000000000",
          "2015-05-07T16:15:00.000000000",
          "2015-05-07T16:20:00.000000000",
          "2015-05-07T16:25:00.000000000",
          "2015-05-07T16:30:00.000000000",
          "2015-05-07T16:35:00.000000000",
          "2015-05-07T16:40:00.000000000",
          "2015-05-07T16:45:00.000000000",
          "2015-05-07T16:50:00.000000000",
          "2015-05-07T16:55:00.000000000",
          "2015-05-07T17:00:00.000000000",
          "2015-05-07T17:05:00.000000000",
          "2015-05-07T17:10:00.000000000",
          "2015-05-07T17:15:00.000000000",
          "2015-05-07T17:20:00.000000000",
          "2015-05-07T17:25:00.000000000",
          "2015-05-07T17:30:00.000000000",
          "2015-05-07T17:35:00.000000000",
          "2015-05-07T17:40:00.000000000",
          "2015-05-07T17:45:00.000000000",
          "2015-05-07T17:50:00.000000000",
          "2015-05-07T17:55:00.000000000",
          "2015-05-07T18:00:00.000000000",
          "2015-05-07T18:05:00.000000000",
          "2015-05-07T18:10:00.000000000",
          "2015-05-07T18:15:00.000000000",
          "2015-05-07T18:20:00.000000000",
          "2015-05-07T18:25:00.000000000",
          "2015-05-07T18:30:00.000000000",
          "2015-05-07T18:35:00.000000000",
          "2015-05-07T18:40:00.000000000",
          "2015-05-07T18:45:00.000000000",
          "2015-05-07T18:50:00.000000000",
          "2015-05-07T18:55:00.000000000",
          "2015-08-06T16:05:00.000000000",
          "2015-08-06T16:10:00.000000000",
          "2015-08-06T16:15:00.000000000",
          "2015-08-06T16:20:00.000000000",
          "2015-08-06T16:25:00.000000000",
          "2015-08-06T16:30:00.000000000",
          "2015-08-06T16:35:00.000000000",
          "2015-08-06T16:40:00.000000000",
          "2015-08-06T16:45:00.000000000",
          "2015-08-06T16:50:00.000000000",
          "2015-08-06T16:55:00.000000000",
          "2015-08-06T17:00:00.000000000",
          "2015-08-06T17:05:00.000000000",
          "2015-08-06T17:10:00.000000000",
          "2015-08-06T17:15:00.000000000",
          "2015-08-06T17:20:00.000000000",
          "2015-08-06T17:25:00.000000000",
          "2015-08-06T17:30:00.000000000",
          "2015-08-06T17:35:00.000000000",
          "2015-08-06T17:40:00.000000000",
          "2015-08-06T17:45:00.000000000",
          "2015-08-06T17:50:00.000000000",
          "2015-08-06T17:55:00.000000000",
          "2015-08-06T18:00:00.000000000",
          "2015-08-06T18:05:00.000000000",
          "2015-08-06T18:10:00.000000000",
          "2015-08-06T18:15:00.000000000",
          "2015-08-06T18:20:00.000000000",
          "2015-08-06T18:25:00.000000000",
          "2015-08-06T18:30:00.000000000",
          "2015-08-06T18:35:00.000000000",
          "2015-08-06T18:40:00.000000000",
          "2015-08-06T18:45:00.000000000",
          "2015-08-06T18:50:00.000000000",
          "2015-08-06T18:55:00.000000000",
          "2015-11-05T16:05:00.000000000",
          "2015-11-05T16:10:00.000000000",
          "2015-11-05T16:15:00.000000000",
          "2015-11-05T16:20:00.000000000",
          "2015-11-05T16:25:00.000000000",
          "2015-11-05T16:30:00.000000000",
          "2015-11-05T16:35:00.000000000",
          "2015-11-05T16:40:00.000000000",
          "2015-11-05T16:45:00.000000000",
          "2015-11-05T16:50:00.000000000",
          "2015-11-05T16:55:00.000000000",
          "2015-11-05T17:00:00.000000000",
          "2015-11-05T17:05:00.000000000",
          "2015-11-05T17:10:00.000000000",
          "2015-11-05T17:15:00.000000000",
          "2015-11-05T17:20:00.000000000",
          "2015-11-05T17:25:00.000000000",
          "2015-11-05T17:30:00.000000000",
          "2015-11-05T17:35:00.000000000",
          "2015-11-05T17:40:00.000000000",
          "2015-11-05T17:45:00.000000000",
          "2015-11-05T17:50:00.000000000",
          "2015-11-05T17:55:00.000000000",
          "2015-11-05T18:00:00.000000000",
          "2015-11-05T18:05:00.000000000",
          "2015-11-05T18:10:00.000000000",
          "2015-11-05T18:15:00.000000000",
          "2015-11-05T18:20:00.000000000",
          "2015-11-05T18:25:00.000000000",
          "2016-02-17T16:05:00.000000000",
          "2016-02-17T16:10:00.000000000",
          "2016-02-17T16:15:00.000000000",
          "2016-02-17T16:20:00.000000000",
          "2016-02-17T16:25:00.000000000",
          "2016-02-17T16:30:00.000000000",
          "2016-02-17T16:35:00.000000000",
          "2016-02-17T16:40:00.000000000",
          "2016-02-17T16:45:00.000000000",
          "2016-02-17T16:50:00.000000000",
          "2016-02-17T16:55:00.000000000",
          "2016-02-17T17:00:00.000000000",
          "2016-02-17T17:05:00.000000000",
          "2016-02-17T17:10:00.000000000",
          "2016-02-17T17:15:00.000000000",
          "2016-02-17T17:20:00.000000000",
          "2016-02-17T17:25:00.000000000",
          "2016-02-17T17:30:00.000000000",
          "2016-02-17T17:35:00.000000000",
          "2016-02-17T17:40:00.000000000",
          "2016-02-17T17:45:00.000000000",
          "2016-02-17T17:50:00.000000000",
          "2016-02-17T17:55:00.000000000",
          "2016-02-17T18:00:00.000000000",
          "2016-02-17T18:05:00.000000000",
          "2016-02-17T18:10:00.000000000",
          "2016-02-17T18:15:00.000000000",
          "2016-02-17T18:20:00.000000000",
          "2016-02-17T18:25:00.000000000",
          "2016-05-12T16:05:00.000000000",
          "2016-05-12T16:10:00.000000000",
          "2016-05-12T16:15:00.000000000",
          "2016-05-12T16:20:00.000000000",
          "2016-05-12T16:25:00.000000000",
          "2016-05-12T16:30:00.000000000",
          "2016-05-12T16:35:00.000000000",
          "2016-05-12T16:40:00.000000000",
          "2016-05-12T16:45:00.000000000",
          "2016-05-12T16:50:00.000000000",
          "2016-05-12T16:55:00.000000000",
          "2016-05-12T17:00:00.000000000",
          "2016-05-12T17:05:00.000000000",
          "2016-05-12T17:10:00.000000000",
          "2016-05-12T17:15:00.000000000",
          "2016-05-12T17:20:00.000000000",
          "2016-05-12T17:25:00.000000000",
          "2016-05-12T17:30:00.000000000",
          "2016-05-12T17:35:00.000000000",
          "2016-05-12T17:40:00.000000000",
          "2016-05-12T17:45:00.000000000",
          "2016-05-12T17:50:00.000000000",
          "2016-05-12T17:55:00.000000000",
          "2016-05-12T18:00:00.000000000",
          "2016-05-12T18:05:00.000000000",
          "2016-05-12T18:10:00.000000000",
          "2016-05-12T18:15:00.000000000",
          "2016-05-12T18:20:00.000000000",
          "2016-05-12T18:25:00.000000000",
          "2016-05-12T18:30:00.000000000",
          "2016-05-12T18:35:00.000000000",
          "2016-05-12T18:40:00.000000000",
          "2016-05-12T18:45:00.000000000",
          "2016-05-12T18:50:00.000000000",
          "2016-05-12T18:55:00.000000000",
          "2016-08-11T16:05:00.000000000",
          "2016-08-11T16:10:00.000000000",
          "2016-08-11T16:15:00.000000000",
          "2016-08-11T16:20:00.000000000",
          "2016-08-11T16:25:00.000000000",
          "2016-08-11T16:30:00.000000000",
          "2016-08-11T16:35:00.000000000",
          "2016-08-11T16:40:00.000000000",
          "2016-08-11T16:45:00.000000000",
          "2016-08-11T16:50:00.000000000",
          "2016-08-11T16:55:00.000000000",
          "2016-08-11T17:00:00.000000000",
          "2016-08-11T17:05:00.000000000",
          "2016-08-11T17:10:00.000000000",
          "2016-08-11T17:15:00.000000000",
          "2016-08-11T17:20:00.000000000",
          "2016-08-11T17:25:00.000000000",
          "2016-08-11T17:30:00.000000000",
          "2016-08-11T17:35:00.000000000",
          "2016-08-11T17:40:00.000000000",
          "2016-08-11T17:45:00.000000000",
          "2016-08-11T17:50:00.000000000",
          "2016-08-11T17:55:00.000000000",
          "2016-08-11T18:00:00.000000000",
          "2016-08-11T18:05:00.000000000",
          "2016-08-11T18:10:00.000000000",
          "2016-08-11T18:15:00.000000000",
          "2016-08-11T18:20:00.000000000",
          "2016-08-11T18:25:00.000000000",
          "2016-08-11T18:30:00.000000000",
          "2016-08-11T18:35:00.000000000",
          "2016-08-11T18:40:00.000000000",
          "2016-08-11T18:45:00.000000000",
          "2016-08-11T18:50:00.000000000",
          "2016-08-11T18:55:00.000000000",
          "2016-11-10T16:05:00.000000000",
          "2016-11-10T16:10:00.000000000",
          "2016-11-10T16:15:00.000000000",
          "2016-11-10T16:20:00.000000000",
          "2016-11-10T16:25:00.000000000",
          "2016-11-10T16:30:00.000000000",
          "2016-11-10T16:35:00.000000000",
          "2016-11-10T16:40:00.000000000",
          "2016-11-10T16:45:00.000000000",
          "2016-11-10T16:50:00.000000000",
          "2016-11-10T16:55:00.000000000",
          "2016-11-10T17:00:00.000000000",
          "2016-11-10T17:05:00.000000000",
          "2016-11-10T17:10:00.000000000",
          "2016-11-10T17:15:00.000000000",
          "2016-11-10T17:20:00.000000000",
          "2016-11-10T17:25:00.000000000",
          "2016-11-10T17:30:00.000000000",
          "2016-11-10T17:35:00.000000000",
          "2016-11-10T17:40:00.000000000",
          "2016-11-10T17:45:00.000000000",
          "2016-11-10T17:50:00.000000000",
          "2016-11-10T17:55:00.000000000",
          "2016-11-10T18:00:00.000000000",
          "2016-11-10T18:05:00.000000000",
          "2016-11-10T18:10:00.000000000",
          "2016-11-10T18:15:00.000000000",
          "2016-11-10T18:20:00.000000000",
          "2016-11-10T18:25:00.000000000",
          "2017-02-09T16:05:00.000000000",
          "2017-02-09T16:10:00.000000000",
          "2017-02-09T16:15:00.000000000",
          "2017-02-09T16:20:00.000000000",
          "2017-02-09T16:25:00.000000000",
          "2017-02-09T16:30:00.000000000",
          "2017-02-09T16:35:00.000000000",
          "2017-02-09T16:40:00.000000000",
          "2017-02-09T16:45:00.000000000",
          "2017-02-09T16:50:00.000000000",
          "2017-02-09T16:55:00.000000000",
          "2017-02-09T17:00:00.000000000",
          "2017-02-09T17:05:00.000000000",
          "2017-02-09T17:10:00.000000000",
          "2017-02-09T17:15:00.000000000",
          "2017-02-09T17:20:00.000000000",
          "2017-02-09T17:25:00.000000000",
          "2017-02-09T17:30:00.000000000",
          "2017-02-09T17:35:00.000000000",
          "2017-02-09T17:40:00.000000000",
          "2017-02-09T17:45:00.000000000",
          "2017-02-09T17:50:00.000000000",
          "2017-02-09T17:55:00.000000000",
          "2017-02-09T18:00:00.000000000",
          "2017-02-09T18:05:00.000000000",
          "2017-02-09T18:10:00.000000000",
          "2017-02-09T18:15:00.000000000",
          "2017-02-09T18:20:00.000000000",
          "2017-02-09T18:25:00.000000000",
          "2017-05-09T16:05:00.000000000",
          "2017-05-09T16:10:00.000000000",
          "2017-05-09T16:15:00.000000000",
          "2017-05-09T16:20:00.000000000",
          "2017-05-09T16:25:00.000000000",
          "2017-05-09T16:30:00.000000000",
          "2017-05-09T16:35:00.000000000",
          "2017-05-09T16:40:00.000000000",
          "2017-05-09T16:45:00.000000000",
          "2017-05-09T16:50:00.000000000",
          "2017-05-09T16:55:00.000000000",
          "2017-05-09T17:00:00.000000000",
          "2017-05-09T17:05:00.000000000",
          "2017-05-09T17:10:00.000000000",
          "2017-05-09T17:15:00.000000000",
          "2017-05-09T17:20:00.000000000",
          "2017-05-09T17:25:00.000000000",
          "2017-05-09T17:30:00.000000000",
          "2017-05-09T17:35:00.000000000",
          "2017-05-09T17:40:00.000000000",
          "2017-05-09T17:45:00.000000000",
          "2017-05-09T17:50:00.000000000",
          "2017-05-09T17:55:00.000000000",
          "2017-05-09T18:00:00.000000000",
          "2017-05-09T18:05:00.000000000",
          "2017-05-09T18:10:00.000000000",
          "2017-05-09T18:15:00.000000000",
          "2017-05-09T18:20:00.000000000",
          "2017-05-09T18:25:00.000000000",
          "2017-05-09T18:30:00.000000000",
          "2017-05-09T18:35:00.000000000",
          "2017-05-09T18:40:00.000000000",
          "2017-05-09T18:45:00.000000000",
          "2017-05-09T18:50:00.000000000",
          "2017-05-09T18:55:00.000000000",
          "2017-08-10T16:05:00.000000000",
          "2017-08-10T16:10:00.000000000",
          "2017-08-10T16:15:00.000000000",
          "2017-08-10T16:20:00.000000000",
          "2017-08-10T16:25:00.000000000",
          "2017-08-10T16:30:00.000000000",
          "2017-08-10T16:35:00.000000000",
          "2017-08-10T16:40:00.000000000",
          "2017-08-10T16:45:00.000000000",
          "2017-08-10T16:50:00.000000000",
          "2017-08-10T16:55:00.000000000",
          "2017-08-10T17:00:00.000000000",
          "2017-08-10T17:05:00.000000000",
          "2017-08-10T17:10:00.000000000",
          "2017-08-10T17:15:00.000000000",
          "2017-08-10T17:20:00.000000000",
          "2017-08-10T17:25:00.000000000",
          "2017-08-10T17:30:00.000000000",
          "2017-08-10T17:35:00.000000000",
          "2017-08-10T17:40:00.000000000",
          "2017-08-10T17:45:00.000000000",
          "2017-08-10T17:50:00.000000000",
          "2017-08-10T17:55:00.000000000",
          "2017-08-10T18:00:00.000000000",
          "2017-08-10T18:05:00.000000000",
          "2017-08-10T18:10:00.000000000",
          "2017-08-10T18:15:00.000000000",
          "2017-08-10T18:20:00.000000000",
          "2017-08-10T18:25:00.000000000",
          "2017-08-10T18:30:00.000000000",
          "2017-08-10T18:35:00.000000000",
          "2017-08-10T18:40:00.000000000",
          "2017-08-10T18:45:00.000000000",
          "2017-08-10T18:50:00.000000000",
          "2017-08-10T18:55:00.000000000",
          "2017-11-09T16:05:00.000000000",
          "2017-11-09T16:10:00.000000000",
          "2017-11-09T16:15:00.000000000",
          "2017-11-09T16:20:00.000000000",
          "2017-11-09T16:25:00.000000000",
          "2017-11-09T16:30:00.000000000",
          "2017-11-09T16:35:00.000000000",
          "2017-11-09T16:40:00.000000000",
          "2017-11-09T16:45:00.000000000",
          "2017-11-09T16:50:00.000000000",
          "2017-11-09T16:55:00.000000000",
          "2017-11-09T17:00:00.000000000",
          "2017-11-09T17:05:00.000000000",
          "2017-11-09T17:10:00.000000000",
          "2017-11-09T17:15:00.000000000",
          "2017-11-09T17:20:00.000000000",
          "2017-11-09T17:25:00.000000000",
          "2017-11-09T17:30:00.000000000",
          "2017-11-09T17:35:00.000000000",
          "2017-11-09T17:40:00.000000000",
          "2017-11-09T17:45:00.000000000",
          "2017-11-09T17:50:00.000000000",
          "2017-11-09T17:55:00.000000000",
          "2017-11-09T18:00:00.000000000",
          "2017-11-09T18:05:00.000000000",
          "2017-11-09T18:10:00.000000000",
          "2017-11-09T18:15:00.000000000",
          "2017-11-09T18:20:00.000000000",
          "2017-11-09T18:25:00.000000000",
          "2018-02-08T16:05:00.000000000",
          "2018-02-08T16:10:00.000000000",
          "2018-02-08T16:15:00.000000000",
          "2018-02-08T16:20:00.000000000",
          "2018-02-08T16:25:00.000000000",
          "2018-02-08T16:30:00.000000000",
          "2018-02-08T16:35:00.000000000",
          "2018-02-08T16:40:00.000000000",
          "2018-02-08T16:45:00.000000000",
          "2018-02-08T16:50:00.000000000",
          "2018-02-08T16:55:00.000000000",
          "2018-02-08T17:00:00.000000000",
          "2018-02-08T17:05:00.000000000",
          "2018-02-08T17:10:00.000000000",
          "2018-02-08T17:15:00.000000000",
          "2018-02-08T17:20:00.000000000",
          "2018-02-08T17:25:00.000000000",
          "2018-02-08T17:30:00.000000000",
          "2018-02-08T17:35:00.000000000",
          "2018-02-08T17:40:00.000000000",
          "2018-02-08T17:45:00.000000000",
          "2018-02-08T17:50:00.000000000",
          "2018-02-08T17:55:00.000000000",
          "2018-02-08T18:00:00.000000000",
          "2018-02-08T18:05:00.000000000",
          "2018-02-08T18:10:00.000000000",
          "2018-02-08T18:15:00.000000000",
          "2018-02-08T18:20:00.000000000",
          "2018-02-08T18:25:00.000000000",
          "2018-05-10T16:05:00.000000000",
          "2018-05-10T16:10:00.000000000",
          "2018-05-10T16:15:00.000000000",
          "2018-05-10T16:20:00.000000000",
          "2018-05-10T16:25:00.000000000",
          "2018-05-10T16:30:00.000000000",
          "2018-05-10T16:35:00.000000000",
          "2018-05-10T16:40:00.000000000",
          "2018-05-10T16:45:00.000000000",
          "2018-05-10T16:50:00.000000000",
          "2018-05-10T16:55:00.000000000",
          "2018-05-10T17:00:00.000000000",
          "2018-05-10T17:05:00.000000000",
          "2018-05-10T17:10:00.000000000",
          "2018-05-10T17:15:00.000000000",
          "2018-05-10T17:20:00.000000000",
          "2018-05-10T17:25:00.000000000",
          "2018-05-10T17:30:00.000000000",
          "2018-05-10T17:35:00.000000000",
          "2018-05-10T17:40:00.000000000",
          "2018-05-10T17:45:00.000000000",
          "2018-05-10T17:50:00.000000000",
          "2018-05-10T17:55:00.000000000",
          "2018-05-10T18:00:00.000000000",
          "2018-05-10T18:05:00.000000000",
          "2018-05-10T18:10:00.000000000",
          "2018-05-10T18:15:00.000000000",
          "2018-05-10T18:20:00.000000000",
          "2018-05-10T18:25:00.000000000",
          "2018-05-10T18:30:00.000000000",
          "2018-05-10T18:35:00.000000000",
          "2018-05-10T18:40:00.000000000",
          "2018-05-10T18:45:00.000000000",
          "2018-05-10T18:50:00.000000000",
          "2018-05-10T18:55:00.000000000",
          "2018-08-16T16:05:00.000000000",
          "2018-08-16T16:10:00.000000000",
          "2018-08-16T16:15:00.000000000",
          "2018-08-16T16:20:00.000000000",
          "2018-08-16T16:25:00.000000000",
          "2018-08-16T16:30:00.000000000",
          "2018-08-16T16:35:00.000000000",
          "2018-08-16T16:40:00.000000000",
          "2018-08-16T16:45:00.000000000",
          "2018-08-16T16:50:00.000000000",
          "2018-08-16T16:55:00.000000000",
          "2018-08-16T17:00:00.000000000",
          "2018-08-16T17:05:00.000000000",
          "2018-08-16T17:10:00.000000000",
          "2018-08-16T17:15:00.000000000",
          "2018-08-16T17:20:00.000000000",
          "2018-08-16T17:25:00.000000000",
          "2018-08-16T17:30:00.000000000",
          "2018-08-16T17:35:00.000000000",
          "2018-08-16T17:40:00.000000000",
          "2018-08-16T17:45:00.000000000",
          "2018-08-16T17:50:00.000000000",
          "2018-08-16T17:55:00.000000000",
          "2018-08-16T18:00:00.000000000",
          "2018-08-16T18:05:00.000000000",
          "2018-08-16T18:10:00.000000000",
          "2018-08-16T18:15:00.000000000",
          "2018-08-16T18:20:00.000000000",
          "2018-08-16T18:25:00.000000000",
          "2018-08-16T18:30:00.000000000",
          "2018-08-16T18:35:00.000000000",
          "2018-08-16T18:40:00.000000000",
          "2018-08-16T18:45:00.000000000",
          "2018-08-16T18:50:00.000000000",
          "2018-08-16T18:55:00.000000000",
          "2018-11-15T16:05:00.000000000",
          "2018-11-15T16:10:00.000000000",
          "2018-11-15T16:15:00.000000000",
          "2018-11-15T16:20:00.000000000",
          "2018-11-15T16:25:00.000000000",
          "2018-11-15T16:30:00.000000000",
          "2018-11-15T16:35:00.000000000",
          "2018-11-15T16:40:00.000000000",
          "2018-11-15T16:45:00.000000000",
          "2018-11-15T16:50:00.000000000",
          "2018-11-15T16:55:00.000000000",
          "2018-11-15T17:00:00.000000000",
          "2018-11-15T17:05:00.000000000",
          "2018-11-15T17:10:00.000000000",
          "2018-11-15T17:15:00.000000000",
          "2018-11-15T17:20:00.000000000",
          "2018-11-15T17:25:00.000000000",
          "2018-11-15T17:30:00.000000000",
          "2018-11-15T17:35:00.000000000",
          "2018-11-15T17:40:00.000000000",
          "2018-11-15T17:45:00.000000000",
          "2018-11-15T17:50:00.000000000",
          "2018-11-15T17:55:00.000000000",
          "2018-11-15T18:00:00.000000000",
          "2018-11-15T18:05:00.000000000",
          "2018-11-15T18:10:00.000000000",
          "2018-11-15T18:15:00.000000000",
          "2018-11-15T18:20:00.000000000",
          "2018-11-15T18:25:00.000000000",
          "2019-02-14T16:05:00.000000000",
          "2019-02-14T16:10:00.000000000",
          "2019-02-14T16:15:00.000000000",
          "2019-02-14T16:20:00.000000000",
          "2019-02-14T16:25:00.000000000",
          "2019-02-14T16:30:00.000000000",
          "2019-02-14T16:35:00.000000000",
          "2019-02-14T16:40:00.000000000",
          "2019-02-14T16:45:00.000000000",
          "2019-02-14T16:50:00.000000000",
          "2019-02-14T16:55:00.000000000",
          "2019-02-14T17:00:00.000000000",
          "2019-02-14T17:05:00.000000000",
          "2019-02-14T17:10:00.000000000",
          "2019-02-14T17:15:00.000000000",
          "2019-02-14T17:20:00.000000000",
          "2019-02-14T17:25:00.000000000",
          "2019-02-14T17:30:00.000000000",
          "2019-02-14T17:35:00.000000000",
          "2019-02-14T17:40:00.000000000",
          "2019-02-14T17:45:00.000000000",
          "2019-02-14T17:50:00.000000000",
          "2019-02-14T17:55:00.000000000",
          "2019-02-14T18:00:00.000000000",
          "2019-02-14T18:05:00.000000000",
          "2019-02-14T18:10:00.000000000",
          "2019-02-14T18:15:00.000000000",
          "2019-02-14T18:20:00.000000000",
          "2019-02-14T18:25:00.000000000",
          "2019-05-16T16:05:00.000000000",
          "2019-05-16T16:10:00.000000000",
          "2019-05-16T16:15:00.000000000",
          "2019-05-16T16:20:00.000000000",
          "2019-05-16T16:25:00.000000000",
          "2019-05-16T16:30:00.000000000",
          "2019-05-16T16:35:00.000000000",
          "2019-05-16T16:40:00.000000000",
          "2019-05-16T16:45:00.000000000",
          "2019-05-16T16:50:00.000000000",
          "2019-05-16T16:55:00.000000000",
          "2019-05-16T17:00:00.000000000",
          "2019-05-16T17:05:00.000000000",
          "2019-05-16T17:10:00.000000000",
          "2019-05-16T17:15:00.000000000",
          "2019-05-16T17:20:00.000000000",
          "2019-05-16T17:25:00.000000000",
          "2019-05-16T17:30:00.000000000",
          "2019-05-16T17:35:00.000000000",
          "2019-05-16T17:40:00.000000000",
          "2019-05-16T17:45:00.000000000",
          "2019-05-16T17:50:00.000000000",
          "2019-05-16T17:55:00.000000000",
          "2019-05-16T18:00:00.000000000",
          "2019-05-16T18:05:00.000000000",
          "2019-05-16T18:10:00.000000000",
          "2019-05-16T18:15:00.000000000",
          "2019-05-16T18:20:00.000000000",
          "2019-05-16T18:25:00.000000000",
          "2019-05-16T18:30:00.000000000",
          "2019-05-16T18:35:00.000000000",
          "2019-05-16T18:40:00.000000000",
          "2019-05-16T18:45:00.000000000",
          "2019-05-16T18:50:00.000000000",
          "2019-05-16T18:55:00.000000000",
          "2019-08-15T16:05:00.000000000",
          "2019-08-15T16:10:00.000000000",
          "2019-08-15T16:15:00.000000000",
          "2019-08-15T16:20:00.000000000",
          "2019-08-15T16:25:00.000000000",
          "2019-08-15T16:30:00.000000000",
          "2019-08-15T16:35:00.000000000",
          "2019-08-15T16:40:00.000000000",
          "2019-08-15T16:45:00.000000000",
          "2019-08-15T16:50:00.000000000",
          "2019-08-15T16:55:00.000000000",
          "2019-08-15T17:00:00.000000000",
          "2019-08-15T17:05:00.000000000",
          "2019-08-15T17:10:00.000000000",
          "2019-08-15T17:15:00.000000000",
          "2019-08-15T17:20:00.000000000",
          "2019-08-15T17:25:00.000000000",
          "2019-08-15T17:30:00.000000000",
          "2019-08-15T17:35:00.000000000",
          "2019-08-15T17:40:00.000000000",
          "2019-08-15T17:45:00.000000000",
          "2019-08-15T17:50:00.000000000",
          "2019-08-15T17:55:00.000000000",
          "2019-08-15T18:00:00.000000000",
          "2019-08-15T18:05:00.000000000",
          "2019-08-15T18:10:00.000000000",
          "2019-08-15T18:15:00.000000000",
          "2019-08-15T18:20:00.000000000",
          "2019-08-15T18:25:00.000000000",
          "2019-08-15T18:30:00.000000000",
          "2019-08-15T18:35:00.000000000",
          "2019-08-15T18:40:00.000000000",
          "2019-08-15T18:45:00.000000000",
          "2019-08-15T18:50:00.000000000",
          "2019-08-15T18:55:00.000000000",
          "2019-11-14T16:05:00.000000000",
          "2019-11-14T16:10:00.000000000",
          "2019-11-14T16:15:00.000000000",
          "2019-11-14T16:20:00.000000000",
          "2019-11-14T16:25:00.000000000",
          "2019-11-14T16:30:00.000000000",
          "2019-11-14T16:35:00.000000000",
          "2019-11-14T16:40:00.000000000",
          "2019-11-14T16:45:00.000000000",
          "2019-11-14T16:50:00.000000000",
          "2019-11-14T16:55:00.000000000",
          "2019-11-14T17:00:00.000000000",
          "2019-11-14T17:05:00.000000000",
          "2019-11-14T17:10:00.000000000",
          "2019-11-14T17:15:00.000000000",
          "2019-11-14T17:20:00.000000000",
          "2019-11-14T17:25:00.000000000",
          "2019-11-14T17:30:00.000000000",
          "2019-11-14T17:35:00.000000000",
          "2019-11-14T17:40:00.000000000",
          "2019-11-14T17:45:00.000000000",
          "2019-11-14T17:50:00.000000000",
          "2019-11-14T17:55:00.000000000",
          "2019-11-14T18:00:00.000000000",
          "2019-11-14T18:05:00.000000000",
          "2019-11-14T18:10:00.000000000",
          "2019-11-14T18:15:00.000000000",
          "2019-11-14T18:20:00.000000000",
          "2019-11-14T18:25:00.000000000",
          "2020-02-13T16:05:00.000000000",
          "2020-02-13T16:10:00.000000000",
          "2020-02-13T16:15:00.000000000",
          "2020-02-13T16:20:00.000000000",
          "2020-02-13T16:25:00.000000000",
          "2020-02-13T16:30:00.000000000",
          "2020-02-13T16:35:00.000000000",
          "2020-02-13T16:40:00.000000000",
          "2020-02-13T16:45:00.000000000",
          "2020-02-13T16:50:00.000000000",
          "2020-02-13T16:55:00.000000000",
          "2020-02-13T17:00:00.000000000",
          "2020-02-13T17:05:00.000000000",
          "2020-02-13T17:10:00.000000000",
          "2020-02-13T17:15:00.000000000",
          "2020-02-13T17:20:00.000000000",
          "2020-02-13T17:25:00.000000000",
          "2020-02-13T17:30:00.000000000",
          "2020-02-13T17:35:00.000000000",
          "2020-02-13T17:40:00.000000000",
          "2020-02-13T17:45:00.000000000",
          "2020-02-13T17:50:00.000000000",
          "2020-02-13T17:55:00.000000000",
          "2020-02-13T18:00:00.000000000",
          "2020-02-13T18:05:00.000000000",
          "2020-02-13T18:10:00.000000000",
          "2020-02-13T18:15:00.000000000",
          "2020-02-13T18:20:00.000000000",
          "2020-02-13T18:25:00.000000000",
          "2020-05-21T16:05:00.000000000",
          "2020-05-21T16:10:00.000000000",
          "2020-05-21T16:15:00.000000000",
          "2020-05-21T16:20:00.000000000",
          "2020-05-21T16:25:00.000000000",
          "2020-05-21T16:30:00.000000000",
          "2020-05-21T16:35:00.000000000",
          "2020-05-21T16:40:00.000000000",
          "2020-05-21T16:45:00.000000000",
          "2020-05-21T16:50:00.000000000",
          "2020-05-21T16:55:00.000000000",
          "2020-05-21T17:00:00.000000000",
          "2020-05-21T17:05:00.000000000",
          "2020-05-21T17:10:00.000000000",
          "2020-05-21T17:15:00.000000000",
          "2020-05-21T17:20:00.000000000",
          "2020-05-21T17:25:00.000000000",
          "2020-05-21T17:30:00.000000000",
          "2020-05-21T17:35:00.000000000",
          "2020-05-21T17:40:00.000000000",
          "2020-05-21T17:45:00.000000000",
          "2020-05-21T17:50:00.000000000",
          "2020-05-21T17:55:00.000000000",
          "2020-05-21T18:00:00.000000000",
          "2020-05-21T18:05:00.000000000",
          "2020-05-21T18:10:00.000000000",
          "2020-05-21T18:15:00.000000000",
          "2020-05-21T18:20:00.000000000",
          "2020-05-21T18:25:00.000000000",
          "2020-05-21T18:30:00.000000000",
          "2020-05-21T18:35:00.000000000",
          "2020-05-21T18:40:00.000000000",
          "2020-05-21T18:45:00.000000000",
          "2020-05-21T18:50:00.000000000",
          "2020-05-21T18:55:00.000000000",
          "2020-08-19T16:05:00.000000000",
          "2020-08-19T16:10:00.000000000",
          "2020-08-19T16:15:00.000000000",
          "2020-08-19T16:20:00.000000000",
          "2020-08-19T16:25:00.000000000",
          "2020-08-19T16:30:00.000000000",
          "2020-08-19T16:35:00.000000000",
          "2020-08-19T16:40:00.000000000",
          "2020-08-19T16:45:00.000000000",
          "2020-08-19T16:50:00.000000000",
          "2020-08-19T16:55:00.000000000",
          "2020-08-19T17:00:00.000000000",
          "2020-08-19T17:05:00.000000000",
          "2020-08-19T17:10:00.000000000",
          "2020-08-19T17:15:00.000000000",
          "2020-08-19T17:20:00.000000000",
          "2020-08-19T17:25:00.000000000",
          "2020-08-19T17:30:00.000000000",
          "2020-08-19T17:35:00.000000000",
          "2020-08-19T17:40:00.000000000",
          "2020-08-19T17:45:00.000000000",
          "2020-08-19T17:50:00.000000000",
          "2020-08-19T17:55:00.000000000",
          "2020-08-19T18:00:00.000000000",
          "2020-08-19T18:05:00.000000000",
          "2020-08-19T18:10:00.000000000",
          "2020-08-19T18:15:00.000000000",
          "2020-08-19T18:20:00.000000000",
          "2020-08-19T18:25:00.000000000",
          "2020-08-19T18:30:00.000000000",
          "2020-08-19T18:35:00.000000000",
          "2020-08-19T18:40:00.000000000",
          "2020-08-19T18:45:00.000000000",
          "2020-08-19T18:50:00.000000000",
          "2020-08-19T18:55:00.000000000",
          "2020-11-18T16:05:00.000000000",
          "2020-11-18T16:10:00.000000000",
          "2020-11-18T16:15:00.000000000",
          "2020-11-18T16:20:00.000000000",
          "2020-11-18T16:25:00.000000000",
          "2020-11-18T16:30:00.000000000",
          "2020-11-18T16:35:00.000000000",
          "2020-11-18T16:40:00.000000000",
          "2020-11-18T16:45:00.000000000",
          "2020-11-18T16:50:00.000000000",
          "2020-11-18T16:55:00.000000000",
          "2020-11-18T17:00:00.000000000",
          "2020-11-18T17:05:00.000000000",
          "2020-11-18T17:10:00.000000000",
          "2020-11-18T17:15:00.000000000",
          "2020-11-18T17:20:00.000000000",
          "2020-11-18T17:25:00.000000000",
          "2020-11-18T17:30:00.000000000",
          "2020-11-18T17:35:00.000000000",
          "2020-11-18T17:40:00.000000000",
          "2020-11-18T17:45:00.000000000",
          "2020-11-18T17:50:00.000000000",
          "2020-11-18T17:55:00.000000000",
          "2020-11-18T18:00:00.000000000",
          "2020-11-18T18:05:00.000000000",
          "2020-11-18T18:10:00.000000000",
          "2020-11-18T18:15:00.000000000",
          "2020-11-18T18:20:00.000000000",
          "2020-11-18T18:25:00.000000000",
          "2021-02-24T16:05:00.000000000",
          "2021-02-24T16:10:00.000000000",
          "2021-02-24T16:15:00.000000000",
          "2021-02-24T16:20:00.000000000",
          "2021-02-24T16:25:00.000000000",
          "2021-02-24T16:30:00.000000000",
          "2021-02-24T16:35:00.000000000",
          "2021-02-24T16:40:00.000000000",
          "2021-02-24T16:45:00.000000000",
          "2021-02-24T16:50:00.000000000",
          "2021-02-24T16:55:00.000000000",
          "2021-02-24T17:00:00.000000000",
          "2021-02-24T17:05:00.000000000",
          "2021-02-24T17:10:00.000000000",
          "2021-02-24T17:15:00.000000000",
          "2021-02-24T17:20:00.000000000",
          "2021-02-24T17:25:00.000000000",
          "2021-02-24T17:30:00.000000000",
          "2021-02-24T17:35:00.000000000",
          "2021-02-24T17:40:00.000000000",
          "2021-02-24T17:45:00.000000000",
          "2021-02-24T17:50:00.000000000",
          "2021-02-24T17:55:00.000000000",
          "2021-02-24T18:00:00.000000000",
          "2021-02-24T18:05:00.000000000",
          "2021-02-24T18:10:00.000000000",
          "2021-02-24T18:15:00.000000000",
          "2021-02-24T18:20:00.000000000",
          "2021-02-24T18:25:00.000000000",
          "2021-05-26T16:05:00.000000000",
          "2021-05-26T16:10:00.000000000",
          "2021-05-26T16:15:00.000000000",
          "2021-05-26T16:20:00.000000000",
          "2021-05-26T16:25:00.000000000",
          "2021-05-26T16:30:00.000000000",
          "2021-05-26T16:35:00.000000000",
          "2021-05-26T16:40:00.000000000",
          "2021-05-26T16:45:00.000000000",
          "2021-05-26T16:50:00.000000000",
          "2021-05-26T16:55:00.000000000",
          "2021-05-26T17:00:00.000000000",
          "2021-05-26T17:05:00.000000000",
          "2021-05-26T17:10:00.000000000",
          "2021-05-26T17:15:00.000000000",
          "2021-05-26T17:20:00.000000000",
          "2021-05-26T17:25:00.000000000",
          "2021-05-26T17:30:00.000000000",
          "2021-05-26T17:35:00.000000000",
          "2021-05-26T17:40:00.000000000",
          "2021-05-26T17:45:00.000000000",
          "2021-05-26T17:50:00.000000000",
          "2021-05-26T17:55:00.000000000",
          "2021-05-26T18:00:00.000000000",
          "2021-05-26T18:05:00.000000000",
          "2021-05-26T18:10:00.000000000",
          "2021-05-26T18:15:00.000000000",
          "2021-05-26T18:20:00.000000000",
          "2021-05-26T18:25:00.000000000",
          "2021-05-26T18:30:00.000000000",
          "2021-05-26T18:35:00.000000000",
          "2021-05-26T18:40:00.000000000",
          "2021-05-26T18:45:00.000000000",
          "2021-05-26T18:50:00.000000000",
          "2021-05-26T18:55:00.000000000",
          "2021-08-18T16:05:00.000000000",
          "2021-08-18T16:10:00.000000000",
          "2021-08-18T16:15:00.000000000",
          "2021-08-18T16:20:00.000000000",
          "2021-08-18T16:25:00.000000000",
          "2021-08-18T16:30:00.000000000",
          "2021-08-18T16:35:00.000000000",
          "2021-08-18T16:40:00.000000000",
          "2021-08-18T16:45:00.000000000",
          "2021-08-18T16:50:00.000000000",
          "2021-08-18T16:55:00.000000000",
          "2021-08-18T17:00:00.000000000",
          "2021-08-18T17:05:00.000000000",
          "2021-08-18T17:10:00.000000000",
          "2021-08-18T17:15:00.000000000",
          "2021-08-18T17:20:00.000000000",
          "2021-08-18T17:25:00.000000000",
          "2021-08-18T17:30:00.000000000",
          "2021-08-18T17:35:00.000000000",
          "2021-08-18T17:40:00.000000000",
          "2021-08-18T17:45:00.000000000",
          "2021-08-18T17:50:00.000000000",
          "2021-08-18T17:55:00.000000000",
          "2021-08-18T18:00:00.000000000",
          "2021-08-18T18:05:00.000000000",
          "2021-08-18T18:10:00.000000000",
          "2021-08-18T18:15:00.000000000",
          "2021-08-18T18:20:00.000000000",
          "2021-08-18T18:25:00.000000000",
          "2021-08-18T18:30:00.000000000",
          "2021-08-18T18:35:00.000000000",
          "2021-08-18T18:40:00.000000000",
          "2021-08-18T18:45:00.000000000",
          "2021-08-18T18:50:00.000000000",
          "2021-08-18T18:55:00.000000000",
          "2021-11-17T16:05:00.000000000",
          "2021-11-17T16:10:00.000000000",
          "2021-11-17T16:15:00.000000000",
          "2021-11-17T16:20:00.000000000",
          "2021-11-17T16:25:00.000000000",
          "2021-11-17T16:30:00.000000000",
          "2021-11-17T16:35:00.000000000",
          "2021-11-17T16:40:00.000000000",
          "2021-11-17T16:45:00.000000000",
          "2021-11-17T16:50:00.000000000",
          "2021-11-17T16:55:00.000000000",
          "2021-11-17T17:00:00.000000000",
          "2021-11-17T17:05:00.000000000",
          "2021-11-17T17:10:00.000000000",
          "2021-11-17T17:15:00.000000000",
          "2021-11-17T17:20:00.000000000",
          "2021-11-17T17:25:00.000000000",
          "2021-11-17T17:30:00.000000000",
          "2021-11-17T17:35:00.000000000",
          "2021-11-17T17:40:00.000000000",
          "2021-11-17T17:45:00.000000000",
          "2021-11-17T17:50:00.000000000",
          "2021-11-17T17:55:00.000000000",
          "2021-11-17T18:00:00.000000000",
          "2021-11-17T18:05:00.000000000",
          "2021-11-17T18:10:00.000000000",
          "2021-11-17T18:15:00.000000000",
          "2021-11-17T18:20:00.000000000",
          "2021-11-17T18:25:00.000000000",
          "2022-02-16T16:05:00.000000000",
          "2022-02-16T16:10:00.000000000",
          "2022-02-16T16:15:00.000000000",
          "2022-02-16T16:20:00.000000000",
          "2022-02-16T16:25:00.000000000",
          "2022-02-16T16:30:00.000000000",
          "2022-02-16T16:35:00.000000000",
          "2022-02-16T16:40:00.000000000",
          "2022-02-16T16:45:00.000000000",
          "2022-02-16T16:50:00.000000000",
          "2022-02-16T16:55:00.000000000",
          "2022-02-16T17:00:00.000000000",
          "2022-02-16T17:05:00.000000000",
          "2022-02-16T17:10:00.000000000",
          "2022-02-16T17:15:00.000000000",
          "2022-02-16T17:20:00.000000000",
          "2022-02-16T17:25:00.000000000",
          "2022-02-16T17:30:00.000000000",
          "2022-02-16T17:35:00.000000000",
          "2022-02-16T17:40:00.000000000",
          "2022-02-16T17:45:00.000000000",
          "2022-02-16T17:50:00.000000000",
          "2022-02-16T17:55:00.000000000",
          "2022-02-16T18:00:00.000000000",
          "2022-02-16T18:05:00.000000000",
          "2022-02-16T18:10:00.000000000",
          "2022-02-16T18:15:00.000000000",
          "2022-02-16T18:20:00.000000000",
          "2022-02-16T18:25:00.000000000",
          "2022-05-25T16:05:00.000000000",
          "2022-05-25T16:10:00.000000000",
          "2022-05-25T16:15:00.000000000",
          "2022-05-25T16:20:00.000000000",
          "2022-05-25T16:25:00.000000000",
          "2022-05-25T16:30:00.000000000",
          "2022-05-25T16:35:00.000000000",
          "2022-05-25T16:40:00.000000000",
          "2022-05-25T16:45:00.000000000",
          "2022-05-25T16:50:00.000000000",
          "2022-05-25T16:55:00.000000000",
          "2022-05-25T17:00:00.000000000",
          "2022-05-25T17:05:00.000000000",
          "2022-05-25T17:10:00.000000000",
          "2022-05-25T17:15:00.000000000",
          "2022-05-25T17:20:00.000000000",
          "2022-05-25T17:25:00.000000000",
          "2022-05-25T17:30:00.000000000",
          "2022-05-25T17:35:00.000000000",
          "2022-05-25T17:40:00.000000000",
          "2022-05-25T17:45:00.000000000",
          "2022-05-25T17:50:00.000000000",
          "2022-05-25T17:55:00.000000000",
          "2022-05-25T18:00:00.000000000",
          "2022-05-25T18:05:00.000000000",
          "2022-05-25T18:10:00.000000000",
          "2022-05-25T18:15:00.000000000",
          "2022-05-25T18:20:00.000000000",
          "2022-05-25T18:25:00.000000000",
          "2022-05-25T18:30:00.000000000",
          "2022-05-25T18:35:00.000000000",
          "2022-05-25T18:40:00.000000000",
          "2022-05-25T18:45:00.000000000",
          "2022-05-25T18:50:00.000000000",
          "2022-05-25T18:55:00.000000000",
          "2022-08-24T16:05:00.000000000",
          "2022-08-24T16:10:00.000000000",
          "2022-08-24T16:15:00.000000000",
          "2022-08-24T16:20:00.000000000",
          "2022-08-24T16:25:00.000000000",
          "2022-08-24T16:30:00.000000000",
          "2022-08-24T16:35:00.000000000",
          "2022-08-24T16:40:00.000000000",
          "2022-08-24T16:45:00.000000000",
          "2022-08-24T16:50:00.000000000",
          "2022-08-24T16:55:00.000000000",
          "2022-08-24T17:00:00.000000000",
          "2022-08-24T17:05:00.000000000",
          "2022-08-24T17:10:00.000000000",
          "2022-08-24T17:15:00.000000000",
          "2022-08-24T17:20:00.000000000",
          "2022-08-24T17:25:00.000000000",
          "2022-08-24T17:30:00.000000000",
          "2022-08-24T17:35:00.000000000",
          "2022-08-24T17:40:00.000000000",
          "2022-08-24T17:45:00.000000000",
          "2022-08-24T17:50:00.000000000",
          "2022-08-24T17:55:00.000000000",
          "2022-08-24T18:00:00.000000000",
          "2022-08-24T18:05:00.000000000",
          "2022-08-24T18:10:00.000000000",
          "2022-08-24T18:15:00.000000000",
          "2022-08-24T18:20:00.000000000",
          "2022-08-24T18:25:00.000000000",
          "2022-08-24T18:30:00.000000000",
          "2022-08-24T18:35:00.000000000",
          "2022-08-24T18:40:00.000000000",
          "2022-08-24T18:45:00.000000000",
          "2022-08-24T18:50:00.000000000",
          "2022-08-24T18:55:00.000000000",
          "2022-11-16T16:05:00.000000000",
          "2022-11-16T16:10:00.000000000",
          "2022-11-16T16:15:00.000000000",
          "2022-11-16T16:20:00.000000000",
          "2022-11-16T16:25:00.000000000",
          "2022-11-16T16:30:00.000000000",
          "2022-11-16T16:35:00.000000000",
          "2022-11-16T16:40:00.000000000",
          "2022-11-16T16:45:00.000000000",
          "2022-11-16T16:50:00.000000000",
          "2022-11-16T16:55:00.000000000",
          "2022-11-16T17:00:00.000000000",
          "2022-11-16T17:05:00.000000000",
          "2022-11-16T17:10:00.000000000",
          "2022-11-16T17:15:00.000000000",
          "2022-11-16T17:20:00.000000000",
          "2022-11-16T17:25:00.000000000",
          "2022-11-16T17:30:00.000000000",
          "2022-11-16T17:35:00.000000000",
          "2022-11-16T17:40:00.000000000",
          "2022-11-16T17:45:00.000000000",
          "2022-11-16T17:50:00.000000000",
          "2022-11-16T17:55:00.000000000",
          "2022-11-16T18:00:00.000000000",
          "2022-11-16T18:05:00.000000000",
          "2022-11-16T18:10:00.000000000",
          "2022-11-16T18:15:00.000000000",
          "2022-11-16T18:20:00.000000000",
          "2022-11-16T18:25:00.000000000",
          "2023-02-22T16:05:00.000000000",
          "2023-02-22T16:10:00.000000000",
          "2023-02-22T16:15:00.000000000",
          "2023-02-22T16:20:00.000000000",
          "2023-02-22T16:25:00.000000000",
          "2023-02-22T16:30:00.000000000",
          "2023-02-22T16:35:00.000000000",
          "2023-02-22T16:40:00.000000000",
          "2023-02-22T16:45:00.000000000",
          "2023-02-22T16:50:00.000000000",
          "2023-02-22T16:55:00.000000000",
          "2023-02-22T17:00:00.000000000",
          "2023-02-22T17:05:00.000000000",
          "2023-02-22T17:10:00.000000000",
          "2023-02-22T17:15:00.000000000",
          "2023-02-22T17:20:00.000000000",
          "2023-02-22T17:25:00.000000000",
          "2023-02-22T17:30:00.000000000",
          "2023-02-22T17:35:00.000000000",
          "2023-02-22T17:40:00.000000000",
          "2023-02-22T17:45:00.000000000",
          "2023-02-22T17:50:00.000000000",
          "2023-02-22T17:55:00.000000000",
          "2023-02-22T18:00:00.000000000",
          "2023-02-22T18:05:00.000000000",
          "2023-02-22T18:10:00.000000000",
          "2023-02-22T18:15:00.000000000",
          "2023-02-22T18:20:00.000000000",
          "2023-02-22T18:25:00.000000000",
          "2023-05-24T16:05:00.000000000",
          "2023-05-24T16:10:00.000000000",
          "2023-05-24T16:15:00.000000000",
          "2023-05-24T16:20:00.000000000",
          "2023-05-24T16:25:00.000000000",
          "2023-05-24T16:30:00.000000000",
          "2023-05-24T16:35:00.000000000",
          "2023-05-24T16:40:00.000000000",
          "2023-05-24T16:45:00.000000000",
          "2023-05-24T16:50:00.000000000",
          "2023-05-24T16:55:00.000000000",
          "2023-05-24T17:00:00.000000000",
          "2023-05-24T17:05:00.000000000",
          "2023-05-24T17:10:00.000000000",
          "2023-05-24T17:15:00.000000000",
          "2023-05-24T17:20:00.000000000",
          "2023-05-24T17:25:00.000000000",
          "2023-05-24T17:30:00.000000000",
          "2023-05-24T17:35:00.000000000",
          "2023-05-24T17:40:00.000000000",
          "2023-05-24T17:45:00.000000000",
          "2023-05-24T17:50:00.000000000",
          "2023-05-24T17:55:00.000000000",
          "2023-05-24T18:00:00.000000000",
          "2023-05-24T18:05:00.000000000",
          "2023-05-24T18:10:00.000000000",
          "2023-05-24T18:15:00.000000000",
          "2023-05-24T18:20:00.000000000",
          "2023-05-24T18:25:00.000000000",
          "2023-05-24T18:30:00.000000000",
          "2023-05-24T18:35:00.000000000",
          "2023-05-24T18:40:00.000000000",
          "2023-05-24T18:45:00.000000000",
          "2023-05-24T18:50:00.000000000",
          "2023-05-24T18:55:00.000000000",
          "2023-08-23T16:05:00.000000000",
          "2023-08-23T16:10:00.000000000",
          "2023-08-23T16:15:00.000000000",
          "2023-08-23T16:20:00.000000000",
          "2023-08-23T16:25:00.000000000",
          "2023-08-23T16:30:00.000000000",
          "2023-08-23T16:35:00.000000000",
          "2023-08-23T16:40:00.000000000",
          "2023-08-23T16:45:00.000000000",
          "2023-08-23T16:50:00.000000000",
          "2023-08-23T16:55:00.000000000",
          "2023-08-23T17:00:00.000000000",
          "2023-08-23T17:05:00.000000000",
          "2023-08-23T17:10:00.000000000",
          "2023-08-23T17:15:00.000000000",
          "2023-08-23T17:20:00.000000000",
          "2023-08-23T17:25:00.000000000",
          "2023-08-23T17:30:00.000000000",
          "2023-08-23T17:35:00.000000000",
          "2023-08-23T17:40:00.000000000",
          "2023-08-23T17:45:00.000000000",
          "2023-08-23T17:50:00.000000000",
          "2023-08-23T17:55:00.000000000",
          "2023-08-23T18:00:00.000000000",
          "2023-08-23T18:05:00.000000000",
          "2023-08-23T18:10:00.000000000",
          "2023-08-23T18:15:00.000000000",
          "2023-08-23T18:20:00.000000000",
          "2023-08-23T18:25:00.000000000",
          "2023-08-23T18:30:00.000000000",
          "2023-08-23T18:35:00.000000000",
          "2023-08-23T18:40:00.000000000",
          "2023-08-23T18:45:00.000000000",
          "2023-08-23T18:50:00.000000000",
          "2023-08-23T18:55:00.000000000",
          "2023-11-21T16:05:00.000000000",
          "2023-11-21T16:10:00.000000000",
          "2023-11-21T16:15:00.000000000",
          "2023-11-21T16:20:00.000000000",
          "2023-11-21T16:25:00.000000000",
          "2023-11-21T16:30:00.000000000",
          "2023-11-21T16:35:00.000000000",
          "2023-11-21T16:40:00.000000000",
          "2023-11-21T16:45:00.000000000",
          "2023-11-21T16:50:00.000000000",
          "2023-11-21T16:55:00.000000000",
          "2023-11-21T17:00:00.000000000",
          "2023-11-21T17:05:00.000000000",
          "2023-11-21T17:10:00.000000000",
          "2023-11-21T17:15:00.000000000",
          "2023-11-21T17:20:00.000000000",
          "2023-11-21T17:25:00.000000000",
          "2023-11-21T17:30:00.000000000",
          "2023-11-21T17:35:00.000000000",
          "2023-11-21T17:40:00.000000000",
          "2023-11-21T17:45:00.000000000",
          "2023-11-21T17:50:00.000000000",
          "2023-11-21T17:55:00.000000000",
          "2023-11-21T18:00:00.000000000",
          "2023-11-21T18:05:00.000000000",
          "2023-11-21T18:10:00.000000000",
          "2023-11-21T18:15:00.000000000",
          "2023-11-21T18:20:00.000000000",
          "2023-11-21T18:25:00.000000000",
          "2024-02-21T16:05:00.000000000",
          "2024-02-21T16:10:00.000000000",
          "2024-02-21T16:15:00.000000000",
          "2024-02-21T16:20:00.000000000",
          "2024-02-21T16:25:00.000000000",
          "2024-02-21T16:30:00.000000000",
          "2024-02-21T16:35:00.000000000",
          "2024-02-21T16:40:00.000000000",
          "2024-02-21T16:45:00.000000000",
          "2024-02-21T16:50:00.000000000",
          "2024-02-21T16:55:00.000000000",
          "2024-02-21T17:00:00.000000000",
          "2024-02-21T17:05:00.000000000",
          "2024-02-21T17:10:00.000000000",
          "2024-02-21T17:15:00.000000000",
          "2024-02-21T17:20:00.000000000",
          "2024-02-21T17:25:00.000000000",
          "2024-02-21T17:30:00.000000000",
          "2024-02-21T17:35:00.000000000",
          "2024-02-21T17:40:00.000000000",
          "2024-02-21T17:45:00.000000000",
          "2024-02-21T17:50:00.000000000",
          "2024-02-21T17:55:00.000000000",
          "2024-02-21T18:00:00.000000000",
          "2024-02-21T18:05:00.000000000",
          "2024-02-21T18:10:00.000000000",
          "2024-02-21T18:15:00.000000000",
          "2024-02-21T18:20:00.000000000",
          "2024-02-21T18:25:00.000000000",
          "2024-05-22T16:05:00.000000000",
          "2024-05-22T16:10:00.000000000",
          "2024-05-22T16:15:00.000000000",
          "2024-05-22T16:20:00.000000000",
          "2024-05-22T16:25:00.000000000",
          "2024-05-22T16:30:00.000000000",
          "2024-05-22T16:35:00.000000000",
          "2024-05-22T16:40:00.000000000",
          "2024-05-22T16:45:00.000000000",
          "2024-05-22T16:50:00.000000000",
          "2024-05-22T16:55:00.000000000",
          "2024-05-22T17:00:00.000000000",
          "2024-05-22T17:05:00.000000000",
          "2024-05-22T17:10:00.000000000",
          "2024-05-22T17:15:00.000000000",
          "2024-05-22T17:20:00.000000000",
          "2024-05-22T17:25:00.000000000",
          "2024-05-22T17:30:00.000000000",
          "2024-05-22T17:35:00.000000000",
          "2024-05-22T17:40:00.000000000",
          "2024-05-22T17:45:00.000000000",
          "2024-05-22T17:50:00.000000000",
          "2024-05-22T17:55:00.000000000",
          "2024-05-22T18:00:00.000000000",
          "2024-05-22T18:05:00.000000000",
          "2024-05-22T18:10:00.000000000",
          "2024-05-22T18:15:00.000000000",
          "2024-05-22T18:20:00.000000000",
          "2024-05-22T18:25:00.000000000",
          "2024-05-22T18:30:00.000000000",
          "2024-05-22T18:35:00.000000000",
          "2024-05-22T18:40:00.000000000",
          "2024-05-22T18:45:00.000000000",
          "2024-05-22T18:50:00.000000000",
          "2024-05-22T18:55:00.000000000",
          "2024-08-28T16:05:00.000000000",
          "2024-08-28T16:10:00.000000000",
          "2024-08-28T16:15:00.000000000",
          "2024-08-28T16:20:00.000000000",
          "2024-08-28T16:25:00.000000000",
          "2024-08-28T16:30:00.000000000",
          "2024-08-28T16:35:00.000000000",
          "2024-08-28T16:40:00.000000000",
          "2024-08-28T16:45:00.000000000",
          "2024-08-28T16:50:00.000000000",
          "2024-08-28T16:55:00.000000000",
          "2024-08-28T17:00:00.000000000",
          "2024-08-28T17:05:00.000000000",
          "2024-08-28T17:10:00.000000000",
          "2024-08-28T17:15:00.000000000",
          "2024-08-28T17:20:00.000000000",
          "2024-08-28T17:25:00.000000000",
          "2024-08-28T17:30:00.000000000",
          "2024-08-28T17:35:00.000000000",
          "2024-08-28T17:40:00.000000000",
          "2024-08-28T17:45:00.000000000",
          "2024-08-28T17:50:00.000000000",
          "2024-08-28T17:55:00.000000000",
          "2024-08-28T18:00:00.000000000",
          "2024-08-28T18:05:00.000000000",
          "2024-08-28T18:10:00.000000000",
          "2024-08-28T18:15:00.000000000",
          "2024-08-28T18:20:00.000000000",
          "2024-08-28T18:25:00.000000000",
          "2024-08-28T18:30:00.000000000",
          "2024-08-28T18:35:00.000000000",
          "2024-08-28T18:40:00.000000000",
          "2024-08-28T18:45:00.000000000",
          "2024-08-28T18:50:00.000000000",
          "2024-08-28T18:55:00.000000000",
          "2024-11-20T16:05:00.000000000",
          "2024-11-20T16:10:00.000000000",
          "2024-11-20T16:15:00.000000000",
          "2024-11-20T16:20:00.000000000",
          "2024-11-20T16:25:00.000000000",
          "2024-11-20T16:30:00.000000000",
          "2024-11-20T16:35:00.000000000",
          "2024-11-20T16:40:00.000000000",
          "2024-11-20T16:45:00.000000000",
          "2024-11-20T16:50:00.000000000",
          "2024-11-20T16:55:00.000000000",
          "2024-11-20T17:00:00.000000000",
          "2024-11-20T17:05:00.000000000",
          "2024-11-20T17:10:00.000000000",
          "2024-11-20T17:15:00.000000000",
          "2024-11-20T17:20:00.000000000",
          "2024-11-20T17:25:00.000000000",
          "2024-11-20T17:30:00.000000000",
          "2024-11-20T17:35:00.000000000",
          "2024-11-20T17:40:00.000000000",
          "2024-11-20T17:45:00.000000000",
          "2024-11-20T17:50:00.000000000",
          "2024-11-20T17:55:00.000000000",
          "2024-11-20T18:00:00.000000000",
          "2024-11-20T18:05:00.000000000",
          "2024-11-20T18:10:00.000000000",
          "2024-11-20T18:15:00.000000000",
          "2024-11-20T18:20:00.000000000",
          "2024-11-20T18:25:00.000000000",
          "2025-02-26T16:05:00.000000000",
          "2025-02-26T16:10:00.000000000",
          "2025-02-26T16:15:00.000000000",
          "2025-02-26T16:20:00.000000000",
          "2025-02-26T16:25:00.000000000",
          "2025-02-26T16:30:00.000000000",
          "2025-02-26T16:35:00.000000000",
          "2025-02-26T16:40:00.000000000",
          "2025-02-26T16:45:00.000000000",
          "2025-02-26T16:50:00.000000000",
          "2025-02-26T16:55:00.000000000",
          "2025-02-26T17:00:00.000000000",
          "2025-02-26T17:05:00.000000000",
          "2025-02-26T17:10:00.000000000",
          "2025-02-26T17:15:00.000000000",
          "2025-02-26T17:20:00.000000000",
          "2025-02-26T17:25:00.000000000",
          "2025-02-26T17:30:00.000000000",
          "2025-02-26T17:35:00.000000000",
          "2025-02-26T17:40:00.000000000",
          "2025-02-26T17:45:00.000000000",
          "2025-02-26T17:50:00.000000000",
          "2025-02-26T17:55:00.000000000",
          "2025-02-26T18:00:00.000000000",
          "2025-02-26T18:05:00.000000000",
          "2025-02-26T18:10:00.000000000",
          "2025-02-26T18:15:00.000000000",
          "2025-02-26T18:20:00.000000000",
          "2025-02-26T18:25:00.000000000"
         ],
         "xaxis": "x",
         "y": {
          "bdata": "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",
          "dtype": "f8"
         },
         "yaxis": "y"
        }
       ],
       "layout": {
        "legend": {
         "tracegroupgap": 0
        },
        "template": {
         "data": {
          "bar": [
           {
            "error_x": {
             "color": "#2a3f5f"
            },
            "error_y": {
             "color": "#2a3f5f"
            },
            "marker": {
             "line": {
              "color": "#E5ECF6",
              "width": 0.5
             },
             "pattern": {
              "fillmode": "overlay",
              "size": 10,
              "solidity": 0.2
             }
            },
            "type": "bar"
           }
          ],
          "barpolar": [
           {
            "marker": {
             "line": {
              "color": "#E5ECF6",
              "width": 0.5
             },
             "pattern": {
              "fillmode": "overlay",
              "size": 10,
              "solidity": 0.2
             }
            },
            "type": "barpolar"
           }
          ],
          "carpet": [
           {
            "aaxis": {
             "endlinecolor": "#2a3f5f",
             "gridcolor": "white",
             "linecolor": "white",
             "minorgridcolor": "white",
             "startlinecolor": "#2a3f5f"
            },
            "baxis": {
             "endlinecolor": "#2a3f5f",
             "gridcolor": "white",
             "linecolor": "white",
             "minorgridcolor": "white",
             "startlinecolor": "#2a3f5f"
            },
            "type": "carpet"
           }
          ],
          "choropleth": [
           {
            "colorbar": {
             "outlinewidth": 0,
             "ticks": ""
            },
            "type": "choropleth"
           }
          ],
          "contour": [
           {
            "colorbar": {
             "outlinewidth": 0,
             "ticks": ""
            },
            "colorscale": [
             [
              0,
              "#0d0887"
             ],
             [
              0.1111111111111111,
              "#46039f"
             ],
             [
              0.2222222222222222,
              "#7201a8"
             ],
             [
              0.3333333333333333,
              "#9c179e"
             ],
             [
              0.4444444444444444,
              "#bd3786"
             ],
             [
              0.5555555555555556,
              "#d8576b"
             ],
             [
              0.6666666666666666,
              "#ed7953"
             ],
             [
              0.7777777777777778,
              "#fb9f3a"
             ],
             [
              0.8888888888888888,
              "#fdca26"
             ],
             [
              1,
              "#f0f921"
             ]
            ],
            "type": "contour"
           }
          ],
          "contourcarpet": [
           {
            "colorbar": {
             "outlinewidth": 0,
             "ticks": ""
            },
            "type": "contourcarpet"
           }
          ],
          "heatmap": [
           {
            "colorbar": {
             "outlinewidth": 0,
             "ticks": ""
            },
            "colorscale": [
             [
              0,
              "#0d0887"
             ],
             [
              0.1111111111111111,
              "#46039f"
             ],
             [
              0.2222222222222222,
              "#7201a8"
             ],
             [
              0.3333333333333333,
              "#9c179e"
             ],
             [
              0.4444444444444444,
              "#bd3786"
             ],
             [
              0.5555555555555556,
              "#d8576b"
             ],
             [
              0.6666666666666666,
              "#ed7953"
             ],
             [
              0.7777777777777778,
              "#fb9f3a"
             ],
             [
              0.8888888888888888,
              "#fdca26"
             ],
             [
              1,
              "#f0f921"
             ]
            ],
            "type": "heatmap"
           }
          ],
          "histogram": [
           {
            "marker": {
             "pattern": {
              "fillmode": "overlay",
              "size": 10,
              "solidity": 0.2
             }
            },
            "type": "histogram"
           }
          ],
          "histogram2d": [
           {
            "colorbar": {
             "outlinewidth": 0,
             "ticks": ""
            },
            "colorscale": [
             [
              0,
              "#0d0887"
             ],
             [
              0.1111111111111111,
              "#46039f"
             ],
             [
              0.2222222222222222,
              "#7201a8"
             ],
             [
              0.3333333333333333,
              "#9c179e"
             ],
             [
              0.4444444444444444,
              "#bd3786"
             ],
             [
              0.5555555555555556,
              "#d8576b"
             ],
             [
              0.6666666666666666,
              "#ed7953"
             ],
             [
              0.7777777777777778,
              "#fb9f3a"
             ],
             [
              0.8888888888888888,
              "#fdca26"
             ],
             [
              1,
              "#f0f921"
             ]
            ],
            "type": "histogram2d"
           }
          ],
          "histogram2dcontour": [
           {
            "colorbar": {
             "outlinewidth": 0,
             "ticks": ""
            },
            "colorscale": [
             [
              0,
              "#0d0887"
             ],
             [
              0.1111111111111111,
              "#46039f"
             ],
             [
              0.2222222222222222,
              "#7201a8"
             ],
             [
              0.3333333333333333,
              "#9c179e"
             ],
             [
              0.4444444444444444,
              "#bd3786"
             ],
             [
              0.5555555555555556,
              "#d8576b"
             ],
             [
              0.6666666666666666,
              "#ed7953"
             ],
             [
              0.7777777777777778,
              "#fb9f3a"
             ],
             [
              0.8888888888888888,
              "#fdca26"
             ],
             [
              1,
              "#f0f921"
             ]
            ],
            "type": "histogram2dcontour"
           }
          ],
          "mesh3d": [
           {
            "colorbar": {
             "outlinewidth": 0,
             "ticks": ""
            },
            "type": "mesh3d"
           }
          ],
          "parcoords": [
           {
            "line": {
             "colorbar": {
              "outlinewidth": 0,
              "ticks": ""
             }
            },
            "type": "parcoords"
           }
          ],
          "pie": [
           {
            "automargin": true,
            "type": "pie"
           }
          ],
          "scatter": [
           {
            "fillpattern": {
             "fillmode": "overlay",
             "size": 10,
             "solidity": 0.2
            },
            "type": "scatter"
           }
          ],
          "scatter3d": [
           {
            "line": {
             "colorbar": {
              "outlinewidth": 0,
              "ticks": ""
             }
            },
            "marker": {
             "colorbar": {
              "outlinewidth": 0,
              "ticks": ""
             }
            },
            "type": "scatter3d"
           }
          ],
          "scattercarpet": [
           {
            "marker": {
             "colorbar": {
              "outlinewidth": 0,
              "ticks": ""
             }
            },
            "type": "scattercarpet"
           }
          ],
          "scattergeo": [
           {
            "marker": {
             "colorbar": {
              "outlinewidth": 0,
              "ticks": ""
             }
            },
            "type": "scattergeo"
           }
          ],
          "scattergl": [
           {
            "marker": {
             "colorbar": {
              "outlinewidth": 0,
              "ticks": ""
             }
            },
            "type": "scattergl"
           }
          ],
          "scattermap": [
           {
            "marker": {
             "colorbar": {
              "outlinewidth": 0,
              "ticks": ""
             }
            },
            "type": "scattermap"
           }
          ],
          "scattermapbox": [
           {
            "marker": {
             "colorbar": {
              "outlinewidth": 0,
              "ticks": ""
             }
            },
            "type": "scattermapbox"
           }
          ],
          "scatterpolar": [
           {
            "marker": {
             "colorbar": {
              "outlinewidth": 0,
              "ticks": ""
             }
            },
            "type": "scatterpolar"
           }
          ],
          "scatterpolargl": [
           {
            "marker": {
             "colorbar": {
              "outlinewidth": 0,
              "ticks": ""
             }
            },
            "type": "scatterpolargl"
           }
          ],
          "scatterternary": [
           {
            "marker": {
             "colorbar": {
              "outlinewidth": 0,
              "ticks": ""
             }
            },
            "type": "scatterternary"
           }
          ],
          "surface": [
           {
            "colorbar": {
             "outlinewidth": 0,
             "ticks": ""
            },
            "colorscale": [
             [
              0,
              "#0d0887"
             ],
             [
              0.1111111111111111,
              "#46039f"
             ],
             [
              0.2222222222222222,
              "#7201a8"
             ],
             [
              0.3333333333333333,
              "#9c179e"
             ],
             [
              0.4444444444444444,
              "#bd3786"
             ],
             [
              0.5555555555555556,
              "#d8576b"
             ],
             [
              0.6666666666666666,
              "#ed7953"
             ],
             [
              0.7777777777777778,
              "#fb9f3a"
             ],
             [
              0.8888888888888888,
              "#fdca26"
             ],
             [
              1,
              "#f0f921"
             ]
            ],
            "type": "surface"
           }
          ],
          "table": [
           {
            "cells": {
             "fill": {
              "color": "#EBF0F8"
             },
             "line": {
              "color": "white"
             }
            },
            "header": {
             "fill": {
              "color": "#C8D4E3"
             },
             "line": {
              "color": "white"
             }
            },
            "type": "table"
           }
          ]
         },
         "layout": {
          "annotationdefaults": {
           "arrowcolor": "#2a3f5f",
           "arrowhead": 0,
           "arrowwidth": 1
          },
          "autotypenumbers": "strict",
          "coloraxis": {
           "colorbar": {
            "outlinewidth": 0,
            "ticks": ""
           }
          },
          "colorscale": {
           "diverging": [
            [
             0,
             "#8e0152"
            ],
            [
             0.1,
             "#c51b7d"
            ],
            [
             0.2,
             "#de77ae"
            ],
            [
             0.3,
             "#f1b6da"
            ],
            [
             0.4,
             "#fde0ef"
            ],
            [
             0.5,
             "#f7f7f7"
            ],
            [
             0.6,
             "#e6f5d0"
            ],
            [
             0.7,
             "#b8e186"
            ],
            [
             0.8,
             "#7fbc41"
            ],
            [
             0.9,
             "#4d9221"
            ],
            [
             1,
             "#276419"
            ]
           ],
           "sequential": [
            [
             0,
             "#0d0887"
            ],
            [
             0.1111111111111111,
             "#46039f"
            ],
            [
             0.2222222222222222,
             "#7201a8"
            ],
            [
             0.3333333333333333,
             "#9c179e"
            ],
            [
             0.4444444444444444,
             "#bd3786"
            ],
            [
             0.5555555555555556,
             "#d8576b"
            ],
            [
             0.6666666666666666,
             "#ed7953"
            ],
            [
             0.7777777777777778,
             "#fb9f3a"
            ],
            [
             0.8888888888888888,
             "#fdca26"
            ],
            [
             1,
             "#f0f921"
            ]
           ],
           "sequentialminus": [
            [
             0,
             "#0d0887"
            ],
            [
             0.1111111111111111,
             "#46039f"
            ],
            [
             0.2222222222222222,
             "#7201a8"
            ],
            [
             0.3333333333333333,
             "#9c179e"
            ],
            [
             0.4444444444444444,
             "#bd3786"
            ],
            [
             0.5555555555555556,
             "#d8576b"
            ],
            [
             0.6666666666666666,
             "#ed7953"
            ],
            [
             0.7777777777777778,
             "#fb9f3a"
            ],
            [
             0.8888888888888888,
             "#fdca26"
            ],
            [
             1,
             "#f0f921"
            ]
           ]
          },
          "colorway": [
           "#636efa",
           "#EF553B",
           "#00cc96",
           "#ab63fa",
           "#FFA15A",
           "#19d3f3",
           "#FF6692",
           "#B6E880",
           "#FF97FF",
           "#FECB52"
          ],
          "font": {
           "color": "#2a3f5f"
          },
          "geo": {
           "bgcolor": "white",
           "lakecolor": "white",
           "landcolor": "#E5ECF6",
           "showlakes": true,
           "showland": true,
           "subunitcolor": "white"
          },
          "hoverlabel": {
           "align": "left"
          },
          "hovermode": "closest",
          "mapbox": {
           "style": "light"
          },
          "paper_bgcolor": "white",
          "plot_bgcolor": "#E5ECF6",
          "polar": {
           "angularaxis": {
            "gridcolor": "white",
            "linecolor": "white",
            "ticks": ""
           },
           "bgcolor": "#E5ECF6",
           "radialaxis": {
            "gridcolor": "white",
            "linecolor": "white",
            "ticks": ""
           }
          },
          "scene": {
           "xaxis": {
            "backgroundcolor": "#E5ECF6",
            "gridcolor": "white",
            "gridwidth": 2,
            "linecolor": "white",
            "showbackground": true,
            "ticks": "",
            "zerolinecolor": "white"
           },
           "yaxis": {
            "backgroundcolor": "#E5ECF6",
            "gridcolor": "white",
            "gridwidth": 2,
            "linecolor": "white",
            "showbackground": true,
            "ticks": "",
            "zerolinecolor": "white"
           },
           "zaxis": {
            "backgroundcolor": "#E5ECF6",
            "gridcolor": "white",
            "gridwidth": 2,
            "linecolor": "white",
            "showbackground": true,
            "ticks": "",
            "zerolinecolor": "white"
           }
          },
          "shapedefaults": {
           "line": {
            "color": "#2a3f5f"
           }
          },
          "ternary": {
           "aaxis": {
            "gridcolor": "white",
            "linecolor": "white",
            "ticks": ""
           },
           "baxis": {
            "gridcolor": "white",
            "linecolor": "white",
            "ticks": ""
           },
           "bgcolor": "#E5ECF6",
           "caxis": {
            "gridcolor": "white",
            "linecolor": "white",
            "ticks": ""
           }
          },
          "title": {
           "x": 0.05
          },
          "xaxis": {
           "automargin": true,
           "gridcolor": "white",
           "linecolor": "white",
           "ticks": "",
           "title": {
            "standoff": 15
           },
           "zerolinecolor": "white",
           "zerolinewidth": 2
          },
          "yaxis": {
           "automargin": true,
           "gridcolor": "white",
           "linecolor": "white",
           "ticks": "",
           "title": {
            "standoff": 15
           },
           "zerolinecolor": "white",
           "zerolinewidth": 2
          }
         }
        },
        "title": {
         "text": "Drawdown (%)"
        },
        "xaxis": {
         "anchor": "y",
         "domain": [
          0,
          1
         ],
         "title": {
          "text": "Time"
         }
        },
        "yaxis": {
         "anchor": "x",
         "domain": [
          0,
          1
         ],
         "title": {
          "text": "Drawdown"
         }
        }
       }
      }
     },
     "metadata": {},
     "output_type": "display_data"
    },
    {
     "name": "stdout",
     "output_type": "stream",
     "text": [
      "All equity curve results saved to c:\\Users\\athabit\\Desktop\\misc\\bhuv\\PEAD_Regression\\backtest\\NVDA_equity_curve_20250321_185143\n"
     ]
    }
   ],
   "source": [
    "import pandas as pd\n",
    "import plotly.express as px\n",
    "import os\n",
    "import datetime\n",
    "import sys\n",
    "import subprocess\n",
    "\n",
    "# Try to install kaleido if it's not already installed\n",
    "try:\n",
    "    import kaleido\n",
    "    has_kaleido = True\n",
    "except ImportError:\n",
    "    has_kaleido = False\n",
    "    print(\"Kaleido package not found. Attempting to install...\")\n",
    "    try:\n",
    "        subprocess.check_call([sys.executable, \"-m\", \"pip\", \"install\", \"kaleido\"])\n",
    "        has_kaleido = True\n",
    "        print(\"Kaleido installed successfully!\")\n",
    "    except Exception as e:\n",
    "        print(f\"Could not install kaleido: {e}\")\n",
    "        print(\"Will continue without image export capability\")\n",
    "\n",
    "# Function to create a results directory\n",
    "def create_results_dir(base_path=None):\n",
    "    \"\"\"\n",
    "    Creates a directory for saving results based on current timestamp\n",
    "    Returns the path to the created directory\n",
    "    \"\"\"\n",
    "    # If no base path provided, use the directory where the notebook is located\n",
    "    if base_path is None:\n",
    "        base_path = os.path.dirname(os.path.abspath('Backtest.ipynb'))\n",
    "    \n",
    "    # Create a timestamp-based folder name\n",
    "    timestamp = datetime.datetime.now().strftime(\"%Y%m%d_%H%M%S\")\n",
    "    results_dir = os.path.join(base_path, f\"{selected}_equity_curve_{timestamp}\")\n",
    "    \n",
    "    # Create the directory if it doesn't exist\n",
    "    if not os.path.exists(results_dir):\n",
    "        os.makedirs(results_dir)\n",
    "        \n",
    "    return results_dir\n",
    "\n",
    "# Create results directory\n",
    "results_dir = create_results_dir()\n",
    "print(f\"Equity curve results will be saved to: {results_dir}\")\n",
    "\n",
    "portfolio_value = thestrat.portfolio_value\n",
    "\n",
    "# Calculate cumulative returns over time\n",
    "initial_cash = cerebro.broker.startingcash\n",
    "cumulative_returns = [(value / initial_cash - 1) * 100 for value in portfolio_value]  # In percentage\n",
    "time_index = price_df.index\n",
    "\n",
    "# Create a DataFrame for cumulative returns\n",
    "returns_df = pd.DataFrame({\n",
    "    'Time': time_index,  # Use the index of price_df\n",
    "    'Cumulative Return (%)': cumulative_returns\n",
    "})\n",
    "\n",
    "# Save equity curve data to CSV\n",
    "returns_df.to_csv(os.path.join(results_dir, f\"{selected}_equity_curve_data.csv\"), index=False)\n",
    "print(f\"Equity curve data saved to CSV\")\n",
    "\n",
    "# Plot equity curve\n",
    "fig = px.line(returns_df, x='Time', y='Cumulative Return (%)', title='Equity Curve')\n",
    "fig.write_html(os.path.join(results_dir, f\"{selected}_equity_curve.html\"))\n",
    "if has_kaleido:\n",
    "    try:\n",
    "        fig.write_image(os.path.join(results_dir, f\"{selected}_equity_curve.png\"))\n",
    "    except Exception as e:\n",
    "        print(f\"Warning: Could not save image: {e}\")\n",
    "fig.show()\n",
    "\n",
    "# Calculate additional metrics\n",
    "# Monthly returns\n",
    "if len(returns_df) > 30:  # Ensure we have enough data\n",
    "    returns_df['Month'] = returns_df['Time'].dt.to_period('M')\n",
    "    monthly_returns = returns_df.groupby('Month').last()['Cumulative Return (%)'].pct_change() * 100\n",
    "    monthly_returns_df = pd.DataFrame(monthly_returns).reset_index()\n",
    "    monthly_returns_df.columns = ['Month', 'Monthly Return (%)']\n",
    "    \n",
    "    # Convert Period to string for better compatibility\n",
    "    monthly_returns_df['Month'] = monthly_returns_df['Month'].astype(str)\n",
    "    \n",
    "    # Save monthly returns to CSV\n",
    "    monthly_returns_df.to_csv(os.path.join(results_dir, f\"{selected}_monthly_returns.csv\"), index=False)\n",
    "    \n",
    "    # Plot monthly returns\n",
    "    if len(monthly_returns_df) > 1:  # Ensure we have at least 2 months of data\n",
    "        fig_monthly = px.bar(monthly_returns_df, x='Month', y='Monthly Return (%)', \n",
    "                             title='Monthly Returns')\n",
    "        fig_monthly.write_html(os.path.join(results_dir, f\"{selected}_monthly_returns.html\"))\n",
    "        if has_kaleido:\n",
    "            try:\n",
    "                fig_monthly.write_image(os.path.join(results_dir, f\"{selected}_monthly_returns.png\"))\n",
    "            except Exception as e:\n",
    "                print(f\"Warning: Could not save monthly returns image: {e}\")\n",
    "        fig_monthly.show()\n",
    "\n",
    "# Calculate drawdown\n",
    "if len(returns_df) > 0:\n",
    "    returns_df['Peak'] = returns_df['Cumulative Return (%)'].cummax()\n",
    "    returns_df['Drawdown'] = returns_df['Cumulative Return (%)'] - returns_df['Peak']\n",
    "    \n",
    "    # Save drawdown data\n",
    "    drawdown_df = returns_df[['Time', 'Drawdown']]\n",
    "    drawdown_df.to_csv(os.path.join(results_dir, f\"{selected}_drawdown_data.csv\"), index=False)\n",
    "    \n",
    "    # Plot drawdown\n",
    "    fig_drawdown = px.line(returns_df, x='Time', y='Drawdown', title='Drawdown (%)')\n",
    "    fig_drawdown.write_html(os.path.join(results_dir, \"drawdown.html\"))\n",
    "    if has_kaleido:\n",
    "        try:\n",
    "            fig_drawdown.write_image(os.path.join(results_dir, f\"{selected}_drawdown.png\"))\n",
    "        except Exception as e:\n",
    "            print(f\"Warning: Could not save drawdown image: {e}\")\n",
    "    fig_drawdown.show()\n",
    "\n",
    "# Calculate summary metrics\n",
    "max_return = max(cumulative_returns) if cumulative_returns else 0\n",
    "min_return = min(cumulative_returns) if cumulative_returns else 0\n",
    "max_drawdown = returns_df['Drawdown'].min() if 'Drawdown' in returns_df.columns else 0\n",
    "final_return = cumulative_returns[-1] if cumulative_returns else 0\n",
    "\n",
    "# Create a summary text file\n",
    "with open(os.path.join(results_dir, f\"{selected}_equity_curve_summary.txt\"), \"w\") as f:\n",
    "    f.write(f\"Equity Curve Analysis Summary\\n\")\n",
    "    f.write(f\"===========================\\n\\n\")\n",
    "    f.write(f\"Generated on: {datetime.datetime.now().strftime('%Y-%m-%d %H:%M:%S')}\\n\\n\")\n",
    "    f.write(f\"Initial Investment: ${initial_cash:.2f}\\n\")\n",
    "    f.write(f\"Final Value: ${portfolio_value[-1]:.2f}\\n\")\n",
    "    f.write(f\"Final Return: {final_return:.2f}%\\n\")\n",
    "    f.write(f\"Maximum Return: {max_return:.2f}%\\n\")\n",
    "    f.write(f\"Maximum Drawdown: {max_drawdown:.2f}%\\n\")\n",
    "    f.write(f\"Trading Period: {len(cumulative_returns)} days\\n\")\n",
    "\n",
    "print(f\"All equity curve results saved to {results_dir}\")"
   ]
  },
  {
   "cell_type": "code",
   "execution_count": null,
   "metadata": {},
   "outputs": [
    {
     "data": {
      "application/vnd.plotly.v1+json": {
       "config": {
        "plotlyServerURL": "https://plot.ly"
       },
       "data": [
        {
         "hovertemplate": "Time=%{x}<br>Cumulative Return (%)=%{y}<extra></extra>",
         "legendgroup": "",
         "line": {
          "color": "#636efa",
          "dash": "solid"
         },
         "marker": {
          "symbol": "circle"
         },
         "mode": "lines",
         "name": "",
         "showlegend": false,
         "type": "scattergl",
         "x": [
          "2010-08-12T16:05:00.000000000",
          "2010-08-12T16:10:00.000000000",
          "2010-08-12T16:15:00.000000000",
          "2010-08-12T16:20:00.000000000",
          "2010-08-12T16:25:00.000000000",
          "2010-08-12T16:30:00.000000000",
          "2010-08-12T16:35:00.000000000",
          "2010-08-12T16:40:00.000000000",
          "2010-08-12T16:45:00.000000000",
          "2010-08-12T16:50:00.000000000",
          "2010-08-12T16:55:00.000000000",
          "2010-08-12T17:00:00.000000000",
          "2010-08-12T17:05:00.000000000",
          "2010-08-12T17:10:00.000000000",
          "2010-08-12T17:15:00.000000000",
          "2010-08-12T17:20:00.000000000",
          "2010-08-12T17:25:00.000000000",
          "2010-08-12T17:30:00.000000000",
          "2010-08-12T17:35:00.000000000",
          "2010-08-12T17:40:00.000000000",
          "2010-08-12T17:45:00.000000000",
          "2010-08-12T17:50:00.000000000",
          "2010-08-12T17:55:00.000000000",
          "2010-08-12T18:00:00.000000000",
          "2010-08-12T18:05:00.000000000",
          "2010-08-12T18:10:00.000000000",
          "2010-08-12T18:15:00.000000000",
          "2010-08-12T18:20:00.000000000",
          "2010-08-12T18:25:00.000000000",
          "2010-08-12T18:30:00.000000000",
          "2010-08-12T18:35:00.000000000",
          "2010-08-12T18:40:00.000000000",
          "2010-08-12T18:45:00.000000000",
          "2010-08-12T18:50:00.000000000",
          "2010-08-12T18:55:00.000000000",
          "2010-11-11T16:05:00.000000000",
          "2010-11-11T16:10:00.000000000",
          "2010-11-11T16:15:00.000000000",
          "2010-11-11T16:20:00.000000000",
          "2010-11-11T16:25:00.000000000",
          "2010-11-11T16:30:00.000000000",
          "2010-11-11T16:35:00.000000000",
          "2010-11-11T16:40:00.000000000",
          "2010-11-11T16:45:00.000000000",
          "2010-11-11T16:50:00.000000000",
          "2010-11-11T16:55:00.000000000",
          "2010-11-11T17:00:00.000000000",
          "2010-11-11T17:05:00.000000000",
          "2010-11-11T17:10:00.000000000",
          "2010-11-11T17:15:00.000000000",
          "2010-11-11T17:20:00.000000000",
          "2010-11-11T17:25:00.000000000",
          "2010-11-11T17:30:00.000000000",
          "2010-11-11T17:35:00.000000000",
          "2010-11-11T17:40:00.000000000",
          "2010-11-11T17:45:00.000000000",
          "2010-11-11T17:50:00.000000000",
          "2010-11-11T17:55:00.000000000",
          "2010-11-11T18:00:00.000000000",
          "2010-11-11T18:05:00.000000000",
          "2010-11-11T18:10:00.000000000",
          "2010-11-11T18:15:00.000000000",
          "2010-11-11T18:20:00.000000000",
          "2010-11-11T18:25:00.000000000",
          "2011-02-16T16:05:00.000000000",
          "2011-02-16T16:10:00.000000000",
          "2011-02-16T16:15:00.000000000",
          "2011-02-16T16:20:00.000000000",
          "2011-02-16T16:25:00.000000000",
          "2011-02-16T16:30:00.000000000",
          "2011-02-16T16:35:00.000000000",
          "2011-02-16T16:40:00.000000000",
          "2011-02-16T16:45:00.000000000",
          "2011-02-16T16:50:00.000000000",
          "2011-02-16T16:55:00.000000000",
          "2011-02-16T17:00:00.000000000",
          "2011-02-16T17:05:00.000000000",
          "2011-02-16T17:10:00.000000000",
          "2011-02-16T17:15:00.000000000",
          "2011-02-16T17:20:00.000000000",
          "2011-02-16T17:25:00.000000000",
          "2011-02-16T17:30:00.000000000",
          "2011-02-16T17:35:00.000000000",
          "2011-02-16T17:40:00.000000000",
          "2011-02-16T17:45:00.000000000",
          "2011-02-16T17:50:00.000000000",
          "2011-02-16T17:55:00.000000000",
          "2011-02-16T18:00:00.000000000",
          "2011-02-16T18:05:00.000000000",
          "2011-02-16T18:10:00.000000000",
          "2011-02-16T18:15:00.000000000",
          "2011-02-16T18:20:00.000000000",
          "2011-02-16T18:25:00.000000000",
          "2011-05-12T16:05:00.000000000",
          "2011-05-12T16:10:00.000000000",
          "2011-05-12T16:15:00.000000000",
          "2011-05-12T16:20:00.000000000",
          "2011-05-12T16:25:00.000000000",
          "2011-05-12T16:30:00.000000000",
          "2011-05-12T16:35:00.000000000",
          "2011-05-12T16:40:00.000000000",
          "2011-05-12T16:45:00.000000000",
          "2011-05-12T16:50:00.000000000",
          "2011-05-12T16:55:00.000000000",
          "2011-05-12T17:00:00.000000000",
          "2011-05-12T17:05:00.000000000",
          "2011-05-12T17:10:00.000000000",
          "2011-05-12T17:15:00.000000000",
          "2011-05-12T17:20:00.000000000",
          "2011-05-12T17:25:00.000000000",
          "2011-05-12T17:30:00.000000000",
          "2011-05-12T17:35:00.000000000",
          "2011-05-12T17:40:00.000000000",
          "2011-05-12T17:45:00.000000000",
          "2011-05-12T17:50:00.000000000",
          "2011-05-12T17:55:00.000000000",
          "2011-05-12T18:00:00.000000000",
          "2011-05-12T18:05:00.000000000",
          "2011-05-12T18:10:00.000000000",
          "2011-05-12T18:15:00.000000000",
          "2011-05-12T18:20:00.000000000",
          "2011-05-12T18:25:00.000000000",
          "2011-05-12T18:30:00.000000000",
          "2011-05-12T18:35:00.000000000",
          "2011-05-12T18:40:00.000000000",
          "2011-05-12T18:45:00.000000000",
          "2011-05-12T18:50:00.000000000",
          "2011-05-12T18:55:00.000000000",
          "2011-08-11T16:05:00.000000000",
          "2011-08-11T16:10:00.000000000",
          "2011-08-11T16:15:00.000000000",
          "2011-08-11T16:20:00.000000000",
          "2011-08-11T16:25:00.000000000",
          "2011-08-11T16:30:00.000000000",
          "2011-08-11T16:35:00.000000000",
          "2011-08-11T16:40:00.000000000",
          "2011-08-11T16:45:00.000000000",
          "2011-08-11T16:50:00.000000000",
          "2011-08-11T16:55:00.000000000",
          "2011-08-11T17:00:00.000000000",
          "2011-08-11T17:05:00.000000000",
          "2011-08-11T17:10:00.000000000",
          "2011-08-11T17:15:00.000000000",
          "2011-08-11T17:20:00.000000000",
          "2011-08-11T17:25:00.000000000",
          "2011-08-11T17:30:00.000000000",
          "2011-08-11T17:35:00.000000000",
          "2011-08-11T17:40:00.000000000",
          "2011-08-11T17:45:00.000000000",
          "2011-08-11T17:50:00.000000000",
          "2011-08-11T17:55:00.000000000",
          "2011-08-11T18:00:00.000000000",
          "2011-08-11T18:05:00.000000000",
          "2011-08-11T18:10:00.000000000",
          "2011-08-11T18:15:00.000000000",
          "2011-08-11T18:20:00.000000000",
          "2011-08-11T18:25:00.000000000",
          "2011-08-11T18:30:00.000000000",
          "2011-08-11T18:35:00.000000000",
          "2011-08-11T18:40:00.000000000",
          "2011-08-11T18:45:00.000000000",
          "2011-08-11T18:50:00.000000000",
          "2011-08-11T18:55:00.000000000",
          "2011-11-10T16:05:00.000000000",
          "2011-11-10T16:10:00.000000000",
          "2011-11-10T16:15:00.000000000",
          "2011-11-10T16:20:00.000000000",
          "2011-11-10T16:25:00.000000000",
          "2011-11-10T16:30:00.000000000",
          "2011-11-10T16:35:00.000000000",
          "2011-11-10T16:40:00.000000000",
          "2011-11-10T16:45:00.000000000",
          "2011-11-10T16:50:00.000000000",
          "2011-11-10T16:55:00.000000000",
          "2011-11-10T17:00:00.000000000",
          "2011-11-10T17:05:00.000000000",
          "2011-11-10T17:10:00.000000000",
          "2011-11-10T17:15:00.000000000",
          "2011-11-10T17:20:00.000000000",
          "2011-11-10T17:25:00.000000000",
          "2011-11-10T17:30:00.000000000",
          "2011-11-10T17:35:00.000000000",
          "2011-11-10T17:40:00.000000000",
          "2011-11-10T17:45:00.000000000",
          "2011-11-10T17:50:00.000000000",
          "2011-11-10T17:55:00.000000000",
          "2011-11-10T18:00:00.000000000",
          "2011-11-10T18:05:00.000000000",
          "2011-11-10T18:10:00.000000000",
          "2011-11-10T18:15:00.000000000",
          "2011-11-10T18:20:00.000000000",
          "2011-11-10T18:25:00.000000000",
          "2012-02-15T16:05:00.000000000",
          "2012-02-15T16:10:00.000000000",
          "2012-02-15T16:15:00.000000000",
          "2012-02-15T16:20:00.000000000",
          "2012-02-15T16:25:00.000000000",
          "2012-02-15T16:30:00.000000000",
          "2012-02-15T16:35:00.000000000",
          "2012-02-15T16:40:00.000000000",
          "2012-02-15T16:45:00.000000000",
          "2012-02-15T16:50:00.000000000",
          "2012-02-15T16:55:00.000000000",
          "2012-02-15T17:00:00.000000000",
          "2012-02-15T17:05:00.000000000",
          "2012-02-15T17:10:00.000000000",
          "2012-02-15T17:15:00.000000000",
          "2012-02-15T17:20:00.000000000",
          "2012-02-15T17:25:00.000000000",
          "2012-02-15T17:30:00.000000000",
          "2012-02-15T17:35:00.000000000",
          "2012-02-15T17:40:00.000000000",
          "2012-02-15T17:45:00.000000000",
          "2012-02-15T17:50:00.000000000",
          "2012-02-15T17:55:00.000000000",
          "2012-02-15T18:00:00.000000000",
          "2012-02-15T18:05:00.000000000",
          "2012-02-15T18:10:00.000000000",
          "2012-02-15T18:15:00.000000000",
          "2012-02-15T18:20:00.000000000",
          "2012-02-15T18:25:00.000000000",
          "2012-05-11T16:05:00.000000000",
          "2012-05-11T16:10:00.000000000",
          "2012-05-11T16:15:00.000000000",
          "2012-05-11T16:20:00.000000000",
          "2012-05-11T16:25:00.000000000",
          "2012-05-11T16:30:00.000000000",
          "2012-05-11T16:35:00.000000000",
          "2012-05-11T16:40:00.000000000",
          "2012-05-11T16:45:00.000000000",
          "2012-05-11T16:50:00.000000000",
          "2012-05-11T16:55:00.000000000",
          "2012-05-11T17:00:00.000000000",
          "2012-05-11T17:05:00.000000000",
          "2012-05-11T17:10:00.000000000",
          "2012-05-11T17:15:00.000000000",
          "2012-05-11T17:20:00.000000000",
          "2012-05-11T17:25:00.000000000",
          "2012-05-11T17:30:00.000000000",
          "2012-05-11T17:35:00.000000000",
          "2012-05-11T17:40:00.000000000",
          "2012-05-11T17:45:00.000000000",
          "2012-05-11T17:50:00.000000000",
          "2012-05-11T17:55:00.000000000",
          "2012-05-11T18:00:00.000000000",
          "2012-05-11T18:05:00.000000000",
          "2012-05-11T18:10:00.000000000",
          "2012-05-11T18:15:00.000000000",
          "2012-05-11T18:20:00.000000000",
          "2012-05-11T18:25:00.000000000",
          "2012-05-11T18:30:00.000000000",
          "2012-05-11T18:35:00.000000000",
          "2012-05-11T18:40:00.000000000",
          "2012-05-11T18:45:00.000000000",
          "2012-05-11T18:50:00.000000000",
          "2012-05-11T18:55:00.000000000",
          "2012-08-09T16:05:00.000000000",
          "2012-08-09T16:10:00.000000000",
          "2012-08-09T16:15:00.000000000",
          "2012-08-09T16:20:00.000000000",
          "2012-08-09T16:25:00.000000000",
          "2012-08-09T16:30:00.000000000",
          "2012-08-09T16:35:00.000000000",
          "2012-08-09T16:40:00.000000000",
          "2012-08-09T16:45:00.000000000",
          "2012-08-09T16:50:00.000000000",
          "2012-08-09T16:55:00.000000000",
          "2012-08-09T17:00:00.000000000",
          "2012-08-09T17:05:00.000000000",
          "2012-08-09T17:10:00.000000000",
          "2012-08-09T17:15:00.000000000",
          "2012-08-09T17:20:00.000000000",
          "2012-08-09T17:25:00.000000000",
          "2012-08-09T17:30:00.000000000",
          "2012-08-09T17:35:00.000000000",
          "2012-08-09T17:40:00.000000000",
          "2012-08-09T17:45:00.000000000",
          "2012-08-09T17:50:00.000000000",
          "2012-08-09T17:55:00.000000000",
          "2012-08-09T18:00:00.000000000",
          "2012-08-09T18:05:00.000000000",
          "2012-08-09T18:10:00.000000000",
          "2012-08-09T18:15:00.000000000",
          "2012-08-09T18:20:00.000000000",
          "2012-08-09T18:25:00.000000000",
          "2012-08-09T18:30:00.000000000",
          "2012-08-09T18:35:00.000000000",
          "2012-08-09T18:40:00.000000000",
          "2012-08-09T18:45:00.000000000",
          "2012-08-09T18:50:00.000000000",
          "2012-08-09T18:55:00.000000000",
          "2012-11-08T16:05:00.000000000",
          "2012-11-08T16:10:00.000000000",
          "2012-11-08T16:15:00.000000000",
          "2012-11-08T16:20:00.000000000",
          "2012-11-08T16:25:00.000000000",
          "2012-11-08T16:30:00.000000000",
          "2012-11-08T16:35:00.000000000",
          "2012-11-08T16:40:00.000000000",
          "2012-11-08T16:45:00.000000000",
          "2012-11-08T16:50:00.000000000",
          "2012-11-08T16:55:00.000000000",
          "2012-11-08T17:00:00.000000000",
          "2012-11-08T17:05:00.000000000",
          "2012-11-08T17:10:00.000000000",
          "2012-11-08T17:15:00.000000000",
          "2012-11-08T17:20:00.000000000",
          "2012-11-08T17:25:00.000000000",
          "2012-11-08T17:30:00.000000000",
          "2012-11-08T17:35:00.000000000",
          "2012-11-08T17:40:00.000000000",
          "2012-11-08T17:45:00.000000000",
          "2012-11-08T17:50:00.000000000",
          "2012-11-08T17:55:00.000000000",
          "2012-11-08T18:00:00.000000000",
          "2012-11-08T18:05:00.000000000",
          "2012-11-08T18:10:00.000000000",
          "2012-11-08T18:15:00.000000000",
          "2012-11-08T18:20:00.000000000",
          "2012-11-08T18:25:00.000000000",
          "2013-02-13T16:05:00.000000000",
          "2013-02-13T16:10:00.000000000",
          "2013-02-13T16:15:00.000000000",
          "2013-02-13T16:20:00.000000000",
          "2013-02-13T16:25:00.000000000",
          "2013-02-13T16:30:00.000000000",
          "2013-02-13T16:35:00.000000000",
          "2013-02-13T16:40:00.000000000",
          "2013-02-13T16:45:00.000000000",
          "2013-02-13T16:50:00.000000000",
          "2013-02-13T16:55:00.000000000",
          "2013-02-13T17:00:00.000000000",
          "2013-02-13T17:05:00.000000000",
          "2013-02-13T17:10:00.000000000",
          "2013-02-13T17:15:00.000000000",
          "2013-02-13T17:20:00.000000000",
          "2013-02-13T17:25:00.000000000",
          "2013-02-13T17:30:00.000000000",
          "2013-02-13T17:35:00.000000000",
          "2013-02-13T17:40:00.000000000",
          "2013-02-13T17:45:00.000000000",
          "2013-02-13T17:50:00.000000000",
          "2013-02-13T17:55:00.000000000",
          "2013-02-13T18:00:00.000000000",
          "2013-02-13T18:05:00.000000000",
          "2013-02-13T18:10:00.000000000",
          "2013-02-13T18:15:00.000000000",
          "2013-02-13T18:20:00.000000000",
          "2013-02-13T18:25:00.000000000",
          "2013-05-09T16:05:00.000000000",
          "2013-05-09T16:10:00.000000000",
          "2013-05-09T16:15:00.000000000",
          "2013-05-09T16:20:00.000000000",
          "2013-05-09T16:25:00.000000000",
          "2013-05-09T16:30:00.000000000",
          "2013-05-09T16:35:00.000000000",
          "2013-05-09T16:40:00.000000000",
          "2013-05-09T16:45:00.000000000",
          "2013-05-09T16:50:00.000000000",
          "2013-05-09T16:55:00.000000000",
          "2013-05-09T17:00:00.000000000",
          "2013-05-09T17:05:00.000000000",
          "2013-05-09T17:10:00.000000000",
          "2013-05-09T17:15:00.000000000",
          "2013-05-09T17:20:00.000000000",
          "2013-05-09T17:25:00.000000000",
          "2013-05-09T17:30:00.000000000",
          "2013-05-09T17:35:00.000000000",
          "2013-05-09T17:40:00.000000000",
          "2013-05-09T17:45:00.000000000",
          "2013-05-09T17:50:00.000000000",
          "2013-05-09T17:55:00.000000000",
          "2013-05-09T18:00:00.000000000",
          "2013-05-09T18:05:00.000000000",
          "2013-05-09T18:10:00.000000000",
          "2013-05-09T18:15:00.000000000",
          "2013-05-09T18:20:00.000000000",
          "2013-05-09T18:25:00.000000000",
          "2013-05-09T18:30:00.000000000",
          "2013-05-09T18:35:00.000000000",
          "2013-05-09T18:40:00.000000000",
          "2013-05-09T18:45:00.000000000",
          "2013-05-09T18:50:00.000000000",
          "2013-05-09T18:55:00.000000000",
          "2013-08-08T16:05:00.000000000",
          "2013-08-08T16:10:00.000000000",
          "2013-08-08T16:15:00.000000000",
          "2013-08-08T16:20:00.000000000",
          "2013-08-08T16:25:00.000000000",
          "2013-08-08T16:30:00.000000000",
          "2013-08-08T16:35:00.000000000",
          "2013-08-08T16:40:00.000000000",
          "2013-08-08T16:45:00.000000000",
          "2013-08-08T16:50:00.000000000",
          "2013-08-08T16:55:00.000000000",
          "2013-08-08T17:00:00.000000000",
          "2013-08-08T17:05:00.000000000",
          "2013-08-08T17:10:00.000000000",
          "2013-08-08T17:15:00.000000000",
          "2013-08-08T17:20:00.000000000",
          "2013-08-08T17:25:00.000000000",
          "2013-08-08T17:30:00.000000000",
          "2013-08-08T17:35:00.000000000",
          "2013-08-08T17:40:00.000000000",
          "2013-08-08T17:45:00.000000000",
          "2013-08-08T17:50:00.000000000",
          "2013-08-08T17:55:00.000000000",
          "2013-08-08T18:00:00.000000000",
          "2013-08-08T18:05:00.000000000",
          "2013-08-08T18:10:00.000000000",
          "2013-08-08T18:15:00.000000000",
          "2013-08-08T18:20:00.000000000",
          "2013-08-08T18:25:00.000000000",
          "2013-08-08T18:30:00.000000000",
          "2013-08-08T18:35:00.000000000",
          "2013-08-08T18:40:00.000000000",
          "2013-08-08T18:45:00.000000000",
          "2013-08-08T18:50:00.000000000",
          "2013-08-08T18:55:00.000000000",
          "2013-11-07T16:05:00.000000000",
          "2013-11-07T16:10:00.000000000",
          "2013-11-07T16:15:00.000000000",
          "2013-11-07T16:20:00.000000000",
          "2013-11-07T16:25:00.000000000",
          "2013-11-07T16:30:00.000000000",
          "2013-11-07T16:35:00.000000000",
          "2013-11-07T16:40:00.000000000",
          "2013-11-07T16:45:00.000000000",
          "2013-11-07T16:50:00.000000000",
          "2013-11-07T16:55:00.000000000",
          "2013-11-07T17:00:00.000000000",
          "2013-11-07T17:05:00.000000000",
          "2013-11-07T17:10:00.000000000",
          "2013-11-07T17:15:00.000000000",
          "2013-11-07T17:20:00.000000000",
          "2013-11-07T17:25:00.000000000",
          "2013-11-07T17:30:00.000000000",
          "2013-11-07T17:35:00.000000000",
          "2013-11-07T17:40:00.000000000",
          "2013-11-07T17:45:00.000000000",
          "2013-11-07T17:50:00.000000000",
          "2013-11-07T17:55:00.000000000",
          "2013-11-07T18:00:00.000000000",
          "2013-11-07T18:05:00.000000000",
          "2013-11-07T18:10:00.000000000",
          "2013-11-07T18:15:00.000000000",
          "2013-11-07T18:20:00.000000000",
          "2013-11-07T18:25:00.000000000",
          "2014-02-12T16:05:00.000000000",
          "2014-02-12T16:10:00.000000000",
          "2014-02-12T16:15:00.000000000",
          "2014-02-12T16:20:00.000000000",
          "2014-02-12T16:25:00.000000000",
          "2014-02-12T16:30:00.000000000",
          "2014-02-12T16:35:00.000000000",
          "2014-02-12T16:40:00.000000000",
          "2014-02-12T16:45:00.000000000",
          "2014-02-12T16:50:00.000000000",
          "2014-02-12T16:55:00.000000000",
          "2014-02-12T17:00:00.000000000",
          "2014-02-12T17:05:00.000000000",
          "2014-02-12T17:10:00.000000000",
          "2014-02-12T17:15:00.000000000",
          "2014-02-12T17:20:00.000000000",
          "2014-02-12T17:25:00.000000000",
          "2014-02-12T17:30:00.000000000",
          "2014-02-12T17:35:00.000000000",
          "2014-02-12T17:40:00.000000000",
          "2014-02-12T17:45:00.000000000",
          "2014-02-12T17:50:00.000000000",
          "2014-02-12T17:55:00.000000000",
          "2014-02-12T18:00:00.000000000",
          "2014-02-12T18:05:00.000000000",
          "2014-02-12T18:10:00.000000000",
          "2014-02-12T18:15:00.000000000",
          "2014-02-12T18:20:00.000000000",
          "2014-02-12T18:25:00.000000000",
          "2014-05-06T16:05:00.000000000",
          "2014-05-06T16:10:00.000000000",
          "2014-05-06T16:15:00.000000000",
          "2014-05-06T16:20:00.000000000",
          "2014-05-06T16:25:00.000000000",
          "2014-05-06T16:30:00.000000000",
          "2014-05-06T16:35:00.000000000",
          "2014-05-06T16:40:00.000000000",
          "2014-05-06T16:45:00.000000000",
          "2014-05-06T16:50:00.000000000",
          "2014-05-06T16:55:00.000000000",
          "2014-05-06T17:00:00.000000000",
          "2014-05-06T17:05:00.000000000",
          "2014-05-06T17:10:00.000000000",
          "2014-05-06T17:15:00.000000000",
          "2014-05-06T17:20:00.000000000",
          "2014-05-06T17:25:00.000000000",
          "2014-05-06T17:30:00.000000000",
          "2014-05-06T17:35:00.000000000",
          "2014-05-06T17:40:00.000000000",
          "2014-05-06T17:45:00.000000000",
          "2014-05-06T17:50:00.000000000",
          "2014-05-06T17:55:00.000000000",
          "2014-05-06T18:00:00.000000000",
          "2014-05-06T18:05:00.000000000",
          "2014-05-06T18:10:00.000000000",
          "2014-05-06T18:15:00.000000000",
          "2014-05-06T18:20:00.000000000",
          "2014-05-06T18:25:00.000000000",
          "2014-05-06T18:30:00.000000000",
          "2014-05-06T18:35:00.000000000",
          "2014-05-06T18:40:00.000000000",
          "2014-05-06T18:45:00.000000000",
          "2014-05-06T18:50:00.000000000",
          "2014-05-06T18:55:00.000000000",
          "2014-08-07T16:05:00.000000000",
          "2014-08-07T16:10:00.000000000",
          "2014-08-07T16:15:00.000000000",
          "2014-08-07T16:20:00.000000000",
          "2014-08-07T16:25:00.000000000",
          "2014-08-07T16:30:00.000000000",
          "2014-08-07T16:35:00.000000000",
          "2014-08-07T16:40:00.000000000",
          "2014-08-07T16:45:00.000000000",
          "2014-08-07T16:50:00.000000000",
          "2014-08-07T16:55:00.000000000",
          "2014-08-07T17:00:00.000000000",
          "2014-08-07T17:05:00.000000000",
          "2014-08-07T17:10:00.000000000",
          "2014-08-07T17:15:00.000000000",
          "2014-08-07T17:20:00.000000000",
          "2014-08-07T17:25:00.000000000",
          "2014-08-07T17:30:00.000000000",
          "2014-08-07T17:35:00.000000000",
          "2014-08-07T17:40:00.000000000",
          "2014-08-07T17:45:00.000000000",
          "2014-08-07T17:50:00.000000000",
          "2014-08-07T17:55:00.000000000",
          "2014-08-07T18:00:00.000000000",
          "2014-08-07T18:05:00.000000000",
          "2014-08-07T18:10:00.000000000",
          "2014-08-07T18:15:00.000000000",
          "2014-08-07T18:20:00.000000000",
          "2014-08-07T18:25:00.000000000",
          "2014-08-07T18:30:00.000000000",
          "2014-08-07T18:35:00.000000000",
          "2014-08-07T18:40:00.000000000",
          "2014-08-07T18:45:00.000000000",
          "2014-08-07T18:50:00.000000000",
          "2014-08-07T18:55:00.000000000",
          "2014-11-06T16:05:00.000000000",
          "2014-11-06T16:10:00.000000000",
          "2014-11-06T16:15:00.000000000",
          "2014-11-06T16:20:00.000000000",
          "2014-11-06T16:25:00.000000000",
          "2014-11-06T16:30:00.000000000",
          "2014-11-06T16:35:00.000000000",
          "2014-11-06T16:40:00.000000000",
          "2014-11-06T16:45:00.000000000",
          "2014-11-06T16:50:00.000000000",
          "2014-11-06T16:55:00.000000000",
          "2014-11-06T17:00:00.000000000",
          "2014-11-06T17:05:00.000000000",
          "2014-11-06T17:10:00.000000000",
          "2014-11-06T17:15:00.000000000",
          "2014-11-06T17:20:00.000000000",
          "2014-11-06T17:25:00.000000000",
          "2014-11-06T17:30:00.000000000",
          "2014-11-06T17:35:00.000000000",
          "2014-11-06T17:40:00.000000000",
          "2014-11-06T17:45:00.000000000",
          "2014-11-06T17:50:00.000000000",
          "2014-11-06T17:55:00.000000000",
          "2014-11-06T18:00:00.000000000",
          "2014-11-06T18:05:00.000000000",
          "2014-11-06T18:10:00.000000000",
          "2014-11-06T18:15:00.000000000",
          "2014-11-06T18:20:00.000000000",
          "2014-11-06T18:25:00.000000000",
          "2015-02-11T16:05:00.000000000",
          "2015-02-11T16:10:00.000000000",
          "2015-02-11T16:15:00.000000000",
          "2015-02-11T16:20:00.000000000",
          "2015-02-11T16:25:00.000000000",
          "2015-02-11T16:30:00.000000000",
          "2015-02-11T16:35:00.000000000",
          "2015-02-11T16:40:00.000000000",
          "2015-02-11T16:45:00.000000000",
          "2015-02-11T16:50:00.000000000",
          "2015-02-11T16:55:00.000000000",
          "2015-02-11T17:00:00.000000000",
          "2015-02-11T17:05:00.000000000",
          "2015-02-11T17:10:00.000000000",
          "2015-02-11T17:15:00.000000000",
          "2015-02-11T17:20:00.000000000",
          "2015-02-11T17:25:00.000000000",
          "2015-02-11T17:30:00.000000000",
          "2015-02-11T17:35:00.000000000",
          "2015-02-11T17:40:00.000000000",
          "2015-02-11T17:45:00.000000000",
          "2015-02-11T17:50:00.000000000",
          "2015-02-11T17:55:00.000000000",
          "2015-02-11T18:00:00.000000000",
          "2015-02-11T18:05:00.000000000",
          "2015-02-11T18:10:00.000000000",
          "2015-02-11T18:15:00.000000000",
          "2015-02-11T18:20:00.000000000",
          "2015-02-11T18:25:00.000000000",
          "2015-05-07T16:05:00.000000000",
          "2015-05-07T16:10:00.000000000",
          "2015-05-07T16:15:00.000000000",
          "2015-05-07T16:20:00.000000000",
          "2015-05-07T16:25:00.000000000",
          "2015-05-07T16:30:00.000000000",
          "2015-05-07T16:35:00.000000000",
          "2015-05-07T16:40:00.000000000",
          "2015-05-07T16:45:00.000000000",
          "2015-05-07T16:50:00.000000000",
          "2015-05-07T16:55:00.000000000",
          "2015-05-07T17:00:00.000000000",
          "2015-05-07T17:05:00.000000000",
          "2015-05-07T17:10:00.000000000",
          "2015-05-07T17:15:00.000000000",
          "2015-05-07T17:20:00.000000000",
          "2015-05-07T17:25:00.000000000",
          "2015-05-07T17:30:00.000000000",
          "2015-05-07T17:35:00.000000000",
          "2015-05-07T17:40:00.000000000",
          "2015-05-07T17:45:00.000000000",
          "2015-05-07T17:50:00.000000000",
          "2015-05-07T17:55:00.000000000",
          "2015-05-07T18:00:00.000000000",
          "2015-05-07T18:05:00.000000000",
          "2015-05-07T18:10:00.000000000",
          "2015-05-07T18:15:00.000000000",
          "2015-05-07T18:20:00.000000000",
          "2015-05-07T18:25:00.000000000",
          "2015-05-07T18:30:00.000000000",
          "2015-05-07T18:35:00.000000000",
          "2015-05-07T18:40:00.000000000",
          "2015-05-07T18:45:00.000000000",
          "2015-05-07T18:50:00.000000000",
          "2015-05-07T18:55:00.000000000",
          "2015-08-06T16:05:00.000000000",
          "2015-08-06T16:10:00.000000000",
          "2015-08-06T16:15:00.000000000",
          "2015-08-06T16:20:00.000000000",
          "2015-08-06T16:25:00.000000000",
          "2015-08-06T16:30:00.000000000",
          "2015-08-06T16:35:00.000000000",
          "2015-08-06T16:40:00.000000000",
          "2015-08-06T16:45:00.000000000",
          "2015-08-06T16:50:00.000000000",
          "2015-08-06T16:55:00.000000000",
          "2015-08-06T17:00:00.000000000",
          "2015-08-06T17:05:00.000000000",
          "2015-08-06T17:10:00.000000000",
          "2015-08-06T17:15:00.000000000",
          "2015-08-06T17:20:00.000000000",
          "2015-08-06T17:25:00.000000000",
          "2015-08-06T17:30:00.000000000",
          "2015-08-06T17:35:00.000000000",
          "2015-08-06T17:40:00.000000000",
          "2015-08-06T17:45:00.000000000",
          "2015-08-06T17:50:00.000000000",
          "2015-08-06T17:55:00.000000000",
          "2015-08-06T18:00:00.000000000",
          "2015-08-06T18:05:00.000000000",
          "2015-08-06T18:10:00.000000000",
          "2015-08-06T18:15:00.000000000",
          "2015-08-06T18:20:00.000000000",
          "2015-08-06T18:25:00.000000000",
          "2015-08-06T18:30:00.000000000",
          "2015-08-06T18:35:00.000000000",
          "2015-08-06T18:40:00.000000000",
          "2015-08-06T18:45:00.000000000",
          "2015-08-06T18:50:00.000000000",
          "2015-08-06T18:55:00.000000000",
          "2015-11-05T16:05:00.000000000",
          "2015-11-05T16:10:00.000000000",
          "2015-11-05T16:15:00.000000000",
          "2015-11-05T16:20:00.000000000",
          "2015-11-05T16:25:00.000000000",
          "2015-11-05T16:30:00.000000000",
          "2015-11-05T16:35:00.000000000",
          "2015-11-05T16:40:00.000000000",
          "2015-11-05T16:45:00.000000000",
          "2015-11-05T16:50:00.000000000",
          "2015-11-05T16:55:00.000000000",
          "2015-11-05T17:00:00.000000000",
          "2015-11-05T17:05:00.000000000",
          "2015-11-05T17:10:00.000000000",
          "2015-11-05T17:15:00.000000000",
          "2015-11-05T17:20:00.000000000",
          "2015-11-05T17:25:00.000000000",
          "2015-11-05T17:30:00.000000000",
          "2015-11-05T17:35:00.000000000",
          "2015-11-05T17:40:00.000000000",
          "2015-11-05T17:45:00.000000000",
          "2015-11-05T17:50:00.000000000",
          "2015-11-05T17:55:00.000000000",
          "2015-11-05T18:00:00.000000000",
          "2015-11-05T18:05:00.000000000",
          "2015-11-05T18:10:00.000000000",
          "2015-11-05T18:15:00.000000000",
          "2015-11-05T18:20:00.000000000",
          "2015-11-05T18:25:00.000000000",
          "2016-02-17T16:05:00.000000000",
          "2016-02-17T16:10:00.000000000",
          "2016-02-17T16:15:00.000000000",
          "2016-02-17T16:20:00.000000000",
          "2016-02-17T16:25:00.000000000",
          "2016-02-17T16:30:00.000000000",
          "2016-02-17T16:35:00.000000000",
          "2016-02-17T16:40:00.000000000",
          "2016-02-17T16:45:00.000000000",
          "2016-02-17T16:50:00.000000000",
          "2016-02-17T16:55:00.000000000",
          "2016-02-17T17:00:00.000000000",
          "2016-02-17T17:05:00.000000000",
          "2016-02-17T17:10:00.000000000",
          "2016-02-17T17:15:00.000000000",
          "2016-02-17T17:20:00.000000000",
          "2016-02-17T17:25:00.000000000",
          "2016-02-17T17:30:00.000000000",
          "2016-02-17T17:35:00.000000000",
          "2016-02-17T17:40:00.000000000",
          "2016-02-17T17:45:00.000000000",
          "2016-02-17T17:50:00.000000000",
          "2016-02-17T17:55:00.000000000",
          "2016-02-17T18:00:00.000000000",
          "2016-02-17T18:05:00.000000000",
          "2016-02-17T18:10:00.000000000",
          "2016-02-17T18:15:00.000000000",
          "2016-02-17T18:20:00.000000000",
          "2016-02-17T18:25:00.000000000",
          "2016-05-12T16:05:00.000000000",
          "2016-05-12T16:10:00.000000000",
          "2016-05-12T16:15:00.000000000",
          "2016-05-12T16:20:00.000000000",
          "2016-05-12T16:25:00.000000000",
          "2016-05-12T16:30:00.000000000",
          "2016-05-12T16:35:00.000000000",
          "2016-05-12T16:40:00.000000000",
          "2016-05-12T16:45:00.000000000",
          "2016-05-12T16:50:00.000000000",
          "2016-05-12T16:55:00.000000000",
          "2016-05-12T17:00:00.000000000",
          "2016-05-12T17:05:00.000000000",
          "2016-05-12T17:10:00.000000000",
          "2016-05-12T17:15:00.000000000",
          "2016-05-12T17:20:00.000000000",
          "2016-05-12T17:25:00.000000000",
          "2016-05-12T17:30:00.000000000",
          "2016-05-12T17:35:00.000000000",
          "2016-05-12T17:40:00.000000000",
          "2016-05-12T17:45:00.000000000",
          "2016-05-12T17:50:00.000000000",
          "2016-05-12T17:55:00.000000000",
          "2016-05-12T18:00:00.000000000",
          "2016-05-12T18:05:00.000000000",
          "2016-05-12T18:10:00.000000000",
          "2016-05-12T18:15:00.000000000",
          "2016-05-12T18:20:00.000000000",
          "2016-05-12T18:25:00.000000000",
          "2016-05-12T18:30:00.000000000",
          "2016-05-12T18:35:00.000000000",
          "2016-05-12T18:40:00.000000000",
          "2016-05-12T18:45:00.000000000",
          "2016-05-12T18:50:00.000000000",
          "2016-05-12T18:55:00.000000000",
          "2016-08-11T16:05:00.000000000",
          "2016-08-11T16:10:00.000000000",
          "2016-08-11T16:15:00.000000000",
          "2016-08-11T16:20:00.000000000",
          "2016-08-11T16:25:00.000000000",
          "2016-08-11T16:30:00.000000000",
          "2016-08-11T16:35:00.000000000",
          "2016-08-11T16:40:00.000000000",
          "2016-08-11T16:45:00.000000000",
          "2016-08-11T16:50:00.000000000",
          "2016-08-11T16:55:00.000000000",
          "2016-08-11T17:00:00.000000000",
          "2016-08-11T17:05:00.000000000",
          "2016-08-11T17:10:00.000000000",
          "2016-08-11T17:15:00.000000000",
          "2016-08-11T17:20:00.000000000",
          "2016-08-11T17:25:00.000000000",
          "2016-08-11T17:30:00.000000000",
          "2016-08-11T17:35:00.000000000",
          "2016-08-11T17:40:00.000000000",
          "2016-08-11T17:45:00.000000000",
          "2016-08-11T17:50:00.000000000",
          "2016-08-11T17:55:00.000000000",
          "2016-08-11T18:00:00.000000000",
          "2016-08-11T18:05:00.000000000",
          "2016-08-11T18:10:00.000000000",
          "2016-08-11T18:15:00.000000000",
          "2016-08-11T18:20:00.000000000",
          "2016-08-11T18:25:00.000000000",
          "2016-08-11T18:30:00.000000000",
          "2016-08-11T18:35:00.000000000",
          "2016-08-11T18:40:00.000000000",
          "2016-08-11T18:45:00.000000000",
          "2016-08-11T18:50:00.000000000",
          "2016-08-11T18:55:00.000000000",
          "2016-11-10T16:05:00.000000000",
          "2016-11-10T16:10:00.000000000",
          "2016-11-10T16:15:00.000000000",
          "2016-11-10T16:20:00.000000000",
          "2016-11-10T16:25:00.000000000",
          "2016-11-10T16:30:00.000000000",
          "2016-11-10T16:35:00.000000000",
          "2016-11-10T16:40:00.000000000",
          "2016-11-10T16:45:00.000000000",
          "2016-11-10T16:50:00.000000000",
          "2016-11-10T16:55:00.000000000",
          "2016-11-10T17:00:00.000000000",
          "2016-11-10T17:05:00.000000000",
          "2016-11-10T17:10:00.000000000",
          "2016-11-10T17:15:00.000000000",
          "2016-11-10T17:20:00.000000000",
          "2016-11-10T17:25:00.000000000",
          "2016-11-10T17:30:00.000000000",
          "2016-11-10T17:35:00.000000000",
          "2016-11-10T17:40:00.000000000",
          "2016-11-10T17:45:00.000000000",
          "2016-11-10T17:50:00.000000000",
          "2016-11-10T17:55:00.000000000",
          "2016-11-10T18:00:00.000000000",
          "2016-11-10T18:05:00.000000000",
          "2016-11-10T18:10:00.000000000",
          "2016-11-10T18:15:00.000000000",
          "2016-11-10T18:20:00.000000000",
          "2016-11-10T18:25:00.000000000",
          "2017-02-09T16:05:00.000000000",
          "2017-02-09T16:10:00.000000000",
          "2017-02-09T16:15:00.000000000",
          "2017-02-09T16:20:00.000000000",
          "2017-02-09T16:25:00.000000000",
          "2017-02-09T16:30:00.000000000",
          "2017-02-09T16:35:00.000000000",
          "2017-02-09T16:40:00.000000000",
          "2017-02-09T16:45:00.000000000",
          "2017-02-09T16:50:00.000000000",
          "2017-02-09T16:55:00.000000000",
          "2017-02-09T17:00:00.000000000",
          "2017-02-09T17:05:00.000000000",
          "2017-02-09T17:10:00.000000000",
          "2017-02-09T17:15:00.000000000",
          "2017-02-09T17:20:00.000000000",
          "2017-02-09T17:25:00.000000000",
          "2017-02-09T17:30:00.000000000",
          "2017-02-09T17:35:00.000000000",
          "2017-02-09T17:40:00.000000000",
          "2017-02-09T17:45:00.000000000",
          "2017-02-09T17:50:00.000000000",
          "2017-02-09T17:55:00.000000000",
          "2017-02-09T18:00:00.000000000",
          "2017-02-09T18:05:00.000000000",
          "2017-02-09T18:10:00.000000000",
          "2017-02-09T18:15:00.000000000",
          "2017-02-09T18:20:00.000000000",
          "2017-02-09T18:25:00.000000000",
          "2017-05-09T16:05:00.000000000",
          "2017-05-09T16:10:00.000000000",
          "2017-05-09T16:15:00.000000000",
          "2017-05-09T16:20:00.000000000",
          "2017-05-09T16:25:00.000000000",
          "2017-05-09T16:30:00.000000000",
          "2017-05-09T16:35:00.000000000",
          "2017-05-09T16:40:00.000000000",
          "2017-05-09T16:45:00.000000000",
          "2017-05-09T16:50:00.000000000",
          "2017-05-09T16:55:00.000000000",
          "2017-05-09T17:00:00.000000000",
          "2017-05-09T17:05:00.000000000",
          "2017-05-09T17:10:00.000000000",
          "2017-05-09T17:15:00.000000000",
          "2017-05-09T17:20:00.000000000",
          "2017-05-09T17:25:00.000000000",
          "2017-05-09T17:30:00.000000000",
          "2017-05-09T17:35:00.000000000",
          "2017-05-09T17:40:00.000000000",
          "2017-05-09T17:45:00.000000000",
          "2017-05-09T17:50:00.000000000",
          "2017-05-09T17:55:00.000000000",
          "2017-05-09T18:00:00.000000000",
          "2017-05-09T18:05:00.000000000",
          "2017-05-09T18:10:00.000000000",
          "2017-05-09T18:15:00.000000000",
          "2017-05-09T18:20:00.000000000",
          "2017-05-09T18:25:00.000000000",
          "2017-05-09T18:30:00.000000000",
          "2017-05-09T18:35:00.000000000",
          "2017-05-09T18:40:00.000000000",
          "2017-05-09T18:45:00.000000000",
          "2017-05-09T18:50:00.000000000",
          "2017-05-09T18:55:00.000000000",
          "2017-08-10T16:05:00.000000000",
          "2017-08-10T16:10:00.000000000",
          "2017-08-10T16:15:00.000000000",
          "2017-08-10T16:20:00.000000000",
          "2017-08-10T16:25:00.000000000",
          "2017-08-10T16:30:00.000000000",
          "2017-08-10T16:35:00.000000000",
          "2017-08-10T16:40:00.000000000",
          "2017-08-10T16:45:00.000000000",
          "2017-08-10T16:50:00.000000000",
          "2017-08-10T16:55:00.000000000",
          "2017-08-10T17:00:00.000000000",
          "2017-08-10T17:05:00.000000000",
          "2017-08-10T17:10:00.000000000",
          "2017-08-10T17:15:00.000000000",
          "2017-08-10T17:20:00.000000000",
          "2017-08-10T17:25:00.000000000",
          "2017-08-10T17:30:00.000000000",
          "2017-08-10T17:35:00.000000000",
          "2017-08-10T17:40:00.000000000",
          "2017-08-10T17:45:00.000000000",
          "2017-08-10T17:50:00.000000000",
          "2017-08-10T17:55:00.000000000",
          "2017-08-10T18:00:00.000000000",
          "2017-08-10T18:05:00.000000000",
          "2017-08-10T18:10:00.000000000",
          "2017-08-10T18:15:00.000000000",
          "2017-08-10T18:20:00.000000000",
          "2017-08-10T18:25:00.000000000",
          "2017-08-10T18:30:00.000000000",
          "2017-08-10T18:35:00.000000000",
          "2017-08-10T18:40:00.000000000",
          "2017-08-10T18:45:00.000000000",
          "2017-08-10T18:50:00.000000000",
          "2017-08-10T18:55:00.000000000",
          "2017-11-09T16:05:00.000000000",
          "2017-11-09T16:10:00.000000000",
          "2017-11-09T16:15:00.000000000",
          "2017-11-09T16:20:00.000000000",
          "2017-11-09T16:25:00.000000000",
          "2017-11-09T16:30:00.000000000",
          "2017-11-09T16:35:00.000000000",
          "2017-11-09T16:40:00.000000000",
          "2017-11-09T16:45:00.000000000",
          "2017-11-09T16:50:00.000000000",
          "2017-11-09T16:55:00.000000000",
          "2017-11-09T17:00:00.000000000",
          "2017-11-09T17:05:00.000000000",
          "2017-11-09T17:10:00.000000000",
          "2017-11-09T17:15:00.000000000",
          "2017-11-09T17:20:00.000000000",
          "2017-11-09T17:25:00.000000000",
          "2017-11-09T17:30:00.000000000",
          "2017-11-09T17:35:00.000000000",
          "2017-11-09T17:40:00.000000000",
          "2017-11-09T17:45:00.000000000",
          "2017-11-09T17:50:00.000000000",
          "2017-11-09T17:55:00.000000000",
          "2017-11-09T18:00:00.000000000",
          "2017-11-09T18:05:00.000000000",
          "2017-11-09T18:10:00.000000000",
          "2017-11-09T18:15:00.000000000",
          "2017-11-09T18:20:00.000000000",
          "2017-11-09T18:25:00.000000000",
          "2018-02-08T16:05:00.000000000",
          "2018-02-08T16:10:00.000000000",
          "2018-02-08T16:15:00.000000000",
          "2018-02-08T16:20:00.000000000",
          "2018-02-08T16:25:00.000000000",
          "2018-02-08T16:30:00.000000000",
          "2018-02-08T16:35:00.000000000",
          "2018-02-08T16:40:00.000000000",
          "2018-02-08T16:45:00.000000000",
          "2018-02-08T16:50:00.000000000",
          "2018-02-08T16:55:00.000000000",
          "2018-02-08T17:00:00.000000000",
          "2018-02-08T17:05:00.000000000",
          "2018-02-08T17:10:00.000000000",
          "2018-02-08T17:15:00.000000000",
          "2018-02-08T17:20:00.000000000",
          "2018-02-08T17:25:00.000000000",
          "2018-02-08T17:30:00.000000000",
          "2018-02-08T17:35:00.000000000",
          "2018-02-08T17:40:00.000000000",
          "2018-02-08T17:45:00.000000000",
          "2018-02-08T17:50:00.000000000",
          "2018-02-08T17:55:00.000000000",
          "2018-02-08T18:00:00.000000000",
          "2018-02-08T18:05:00.000000000",
          "2018-02-08T18:10:00.000000000",
          "2018-02-08T18:15:00.000000000",
          "2018-02-08T18:20:00.000000000",
          "2018-02-08T18:25:00.000000000",
          "2018-05-10T16:05:00.000000000",
          "2018-05-10T16:10:00.000000000",
          "2018-05-10T16:15:00.000000000",
          "2018-05-10T16:20:00.000000000",
          "2018-05-10T16:25:00.000000000",
          "2018-05-10T16:30:00.000000000",
          "2018-05-10T16:35:00.000000000",
          "2018-05-10T16:40:00.000000000",
          "2018-05-10T16:45:00.000000000",
          "2018-05-10T16:50:00.000000000",
          "2018-05-10T16:55:00.000000000",
          "2018-05-10T17:00:00.000000000",
          "2018-05-10T17:05:00.000000000",
          "2018-05-10T17:10:00.000000000",
          "2018-05-10T17:15:00.000000000",
          "2018-05-10T17:20:00.000000000",
          "2018-05-10T17:25:00.000000000",
          "2018-05-10T17:30:00.000000000",
          "2018-05-10T17:35:00.000000000",
          "2018-05-10T17:40:00.000000000",
          "2018-05-10T17:45:00.000000000",
          "2018-05-10T17:50:00.000000000",
          "2018-05-10T17:55:00.000000000",
          "2018-05-10T18:00:00.000000000",
          "2018-05-10T18:05:00.000000000",
          "2018-05-10T18:10:00.000000000",
          "2018-05-10T18:15:00.000000000",
          "2018-05-10T18:20:00.000000000",
          "2018-05-10T18:25:00.000000000",
          "2018-05-10T18:30:00.000000000",
          "2018-05-10T18:35:00.000000000",
          "2018-05-10T18:40:00.000000000",
          "2018-05-10T18:45:00.000000000",
          "2018-05-10T18:50:00.000000000",
          "2018-05-10T18:55:00.000000000",
          "2018-08-16T16:05:00.000000000",
          "2018-08-16T16:10:00.000000000",
          "2018-08-16T16:15:00.000000000",
          "2018-08-16T16:20:00.000000000",
          "2018-08-16T16:25:00.000000000",
          "2018-08-16T16:30:00.000000000",
          "2018-08-16T16:35:00.000000000",
          "2018-08-16T16:40:00.000000000",
          "2018-08-16T16:45:00.000000000",
          "2018-08-16T16:50:00.000000000",
          "2018-08-16T16:55:00.000000000",
          "2018-08-16T17:00:00.000000000",
          "2018-08-16T17:05:00.000000000",
          "2018-08-16T17:10:00.000000000",
          "2018-08-16T17:15:00.000000000",
          "2018-08-16T17:20:00.000000000",
          "2018-08-16T17:25:00.000000000",
          "2018-08-16T17:30:00.000000000",
          "2018-08-16T17:35:00.000000000",
          "2018-08-16T17:40:00.000000000",
          "2018-08-16T17:45:00.000000000",
          "2018-08-16T17:50:00.000000000",
          "2018-08-16T17:55:00.000000000",
          "2018-08-16T18:00:00.000000000",
          "2018-08-16T18:05:00.000000000",
          "2018-08-16T18:10:00.000000000",
          "2018-08-16T18:15:00.000000000",
          "2018-08-16T18:20:00.000000000",
          "2018-08-16T18:25:00.000000000",
          "2018-08-16T18:30:00.000000000",
          "2018-08-16T18:35:00.000000000",
          "2018-08-16T18:40:00.000000000",
          "2018-08-16T18:45:00.000000000",
          "2018-08-16T18:50:00.000000000",
          "2018-08-16T18:55:00.000000000",
          "2018-11-15T16:05:00.000000000",
          "2018-11-15T16:10:00.000000000",
          "2018-11-15T16:15:00.000000000",
          "2018-11-15T16:20:00.000000000",
          "2018-11-15T16:25:00.000000000",
          "2018-11-15T16:30:00.000000000",
          "2018-11-15T16:35:00.000000000",
          "2018-11-15T16:40:00.000000000",
          "2018-11-15T16:45:00.000000000",
          "2018-11-15T16:50:00.000000000",
          "2018-11-15T16:55:00.000000000",
          "2018-11-15T17:00:00.000000000",
          "2018-11-15T17:05:00.000000000",
          "2018-11-15T17:10:00.000000000",
          "2018-11-15T17:15:00.000000000",
          "2018-11-15T17:20:00.000000000",
          "2018-11-15T17:25:00.000000000",
          "2018-11-15T17:30:00.000000000",
          "2018-11-15T17:35:00.000000000",
          "2018-11-15T17:40:00.000000000",
          "2018-11-15T17:45:00.000000000",
          "2018-11-15T17:50:00.000000000",
          "2018-11-15T17:55:00.000000000",
          "2018-11-15T18:00:00.000000000",
          "2018-11-15T18:05:00.000000000",
          "2018-11-15T18:10:00.000000000",
          "2018-11-15T18:15:00.000000000",
          "2018-11-15T18:20:00.000000000",
          "2018-11-15T18:25:00.000000000",
          "2019-02-14T16:05:00.000000000",
          "2019-02-14T16:10:00.000000000",
          "2019-02-14T16:15:00.000000000",
          "2019-02-14T16:20:00.000000000",
          "2019-02-14T16:25:00.000000000",
          "2019-02-14T16:30:00.000000000",
          "2019-02-14T16:35:00.000000000",
          "2019-02-14T16:40:00.000000000",
          "2019-02-14T16:45:00.000000000",
          "2019-02-14T16:50:00.000000000",
          "2019-02-14T16:55:00.000000000",
          "2019-02-14T17:00:00.000000000",
          "2019-02-14T17:05:00.000000000",
          "2019-02-14T17:10:00.000000000",
          "2019-02-14T17:15:00.000000000",
          "2019-02-14T17:20:00.000000000",
          "2019-02-14T17:25:00.000000000",
          "2019-02-14T17:30:00.000000000",
          "2019-02-14T17:35:00.000000000",
          "2019-02-14T17:40:00.000000000",
          "2019-02-14T17:45:00.000000000",
          "2019-02-14T17:50:00.000000000",
          "2019-02-14T17:55:00.000000000",
          "2019-02-14T18:00:00.000000000",
          "2019-02-14T18:05:00.000000000",
          "2019-02-14T18:10:00.000000000",
          "2019-02-14T18:15:00.000000000",
          "2019-02-14T18:20:00.000000000",
          "2019-02-14T18:25:00.000000000",
          "2019-05-16T16:05:00.000000000",
          "2019-05-16T16:10:00.000000000",
          "2019-05-16T16:15:00.000000000",
          "2019-05-16T16:20:00.000000000",
          "2019-05-16T16:25:00.000000000",
          "2019-05-16T16:30:00.000000000",
          "2019-05-16T16:35:00.000000000",
          "2019-05-16T16:40:00.000000000",
          "2019-05-16T16:45:00.000000000",
          "2019-05-16T16:50:00.000000000",
          "2019-05-16T16:55:00.000000000",
          "2019-05-16T17:00:00.000000000",
          "2019-05-16T17:05:00.000000000",
          "2019-05-16T17:10:00.000000000",
          "2019-05-16T17:15:00.000000000",
          "2019-05-16T17:20:00.000000000",
          "2019-05-16T17:25:00.000000000",
          "2019-05-16T17:30:00.000000000",
          "2019-05-16T17:35:00.000000000",
          "2019-05-16T17:40:00.000000000",
          "2019-05-16T17:45:00.000000000",
          "2019-05-16T17:50:00.000000000",
          "2019-05-16T17:55:00.000000000",
          "2019-05-16T18:00:00.000000000",
          "2019-05-16T18:05:00.000000000",
          "2019-05-16T18:10:00.000000000",
          "2019-05-16T18:15:00.000000000",
          "2019-05-16T18:20:00.000000000",
          "2019-05-16T18:25:00.000000000",
          "2019-05-16T18:30:00.000000000",
          "2019-05-16T18:35:00.000000000",
          "2019-05-16T18:40:00.000000000",
          "2019-05-16T18:45:00.000000000",
          "2019-05-16T18:50:00.000000000",
          "2019-05-16T18:55:00.000000000",
          "2019-08-15T16:05:00.000000000",
          "2019-08-15T16:10:00.000000000",
          "2019-08-15T16:15:00.000000000",
          "2019-08-15T16:20:00.000000000",
          "2019-08-15T16:25:00.000000000",
          "2019-08-15T16:30:00.000000000",
          "2019-08-15T16:35:00.000000000",
          "2019-08-15T16:40:00.000000000",
          "2019-08-15T16:45:00.000000000",
          "2019-08-15T16:50:00.000000000",
          "2019-08-15T16:55:00.000000000",
          "2019-08-15T17:00:00.000000000",
          "2019-08-15T17:05:00.000000000",
          "2019-08-15T17:10:00.000000000",
          "2019-08-15T17:15:00.000000000",
          "2019-08-15T17:20:00.000000000",
          "2019-08-15T17:25:00.000000000",
          "2019-08-15T17:30:00.000000000",
          "2019-08-15T17:35:00.000000000",
          "2019-08-15T17:40:00.000000000",
          "2019-08-15T17:45:00.000000000",
          "2019-08-15T17:50:00.000000000",
          "2019-08-15T17:55:00.000000000",
          "2019-08-15T18:00:00.000000000",
          "2019-08-15T18:05:00.000000000",
          "2019-08-15T18:10:00.000000000",
          "2019-08-15T18:15:00.000000000",
          "2019-08-15T18:20:00.000000000",
          "2019-08-15T18:25:00.000000000",
          "2019-08-15T18:30:00.000000000",
          "2019-08-15T18:35:00.000000000",
          "2019-08-15T18:40:00.000000000",
          "2019-08-15T18:45:00.000000000",
          "2019-08-15T18:50:00.000000000",
          "2019-08-15T18:55:00.000000000",
          "2019-11-14T16:05:00.000000000",
          "2019-11-14T16:10:00.000000000",
          "2019-11-14T16:15:00.000000000",
          "2019-11-14T16:20:00.000000000",
          "2019-11-14T16:25:00.000000000",
          "2019-11-14T16:30:00.000000000",
          "2019-11-14T16:35:00.000000000",
          "2019-11-14T16:40:00.000000000",
          "2019-11-14T16:45:00.000000000",
          "2019-11-14T16:50:00.000000000",
          "2019-11-14T16:55:00.000000000",
          "2019-11-14T17:00:00.000000000",
          "2019-11-14T17:05:00.000000000",
          "2019-11-14T17:10:00.000000000",
          "2019-11-14T17:15:00.000000000",
          "2019-11-14T17:20:00.000000000",
          "2019-11-14T17:25:00.000000000",
          "2019-11-14T17:30:00.000000000",
          "2019-11-14T17:35:00.000000000",
          "2019-11-14T17:40:00.000000000",
          "2019-11-14T17:45:00.000000000",
          "2019-11-14T17:50:00.000000000",
          "2019-11-14T17:55:00.000000000",
          "2019-11-14T18:00:00.000000000",
          "2019-11-14T18:05:00.000000000",
          "2019-11-14T18:10:00.000000000",
          "2019-11-14T18:15:00.000000000",
          "2019-11-14T18:20:00.000000000",
          "2019-11-14T18:25:00.000000000",
          "2020-02-13T16:05:00.000000000",
          "2020-02-13T16:10:00.000000000",
          "2020-02-13T16:15:00.000000000",
          "2020-02-13T16:20:00.000000000",
          "2020-02-13T16:25:00.000000000",
          "2020-02-13T16:30:00.000000000",
          "2020-02-13T16:35:00.000000000",
          "2020-02-13T16:40:00.000000000",
          "2020-02-13T16:45:00.000000000",
          "2020-02-13T16:50:00.000000000",
          "2020-02-13T16:55:00.000000000",
          "2020-02-13T17:00:00.000000000",
          "2020-02-13T17:05:00.000000000",
          "2020-02-13T17:10:00.000000000",
          "2020-02-13T17:15:00.000000000",
          "2020-02-13T17:20:00.000000000",
          "2020-02-13T17:25:00.000000000",
          "2020-02-13T17:30:00.000000000",
          "2020-02-13T17:35:00.000000000",
          "2020-02-13T17:40:00.000000000",
          "2020-02-13T17:45:00.000000000",
          "2020-02-13T17:50:00.000000000",
          "2020-02-13T17:55:00.000000000",
          "2020-02-13T18:00:00.000000000",
          "2020-02-13T18:05:00.000000000",
          "2020-02-13T18:10:00.000000000",
          "2020-02-13T18:15:00.000000000",
          "2020-02-13T18:20:00.000000000",
          "2020-02-13T18:25:00.000000000",
          "2020-05-21T16:05:00.000000000",
          "2020-05-21T16:10:00.000000000",
          "2020-05-21T16:15:00.000000000",
          "2020-05-21T16:20:00.000000000",
          "2020-05-21T16:25:00.000000000",
          "2020-05-21T16:30:00.000000000",
          "2020-05-21T16:35:00.000000000",
          "2020-05-21T16:40:00.000000000",
          "2020-05-21T16:45:00.000000000",
          "2020-05-21T16:50:00.000000000",
          "2020-05-21T16:55:00.000000000",
          "2020-05-21T17:00:00.000000000",
          "2020-05-21T17:05:00.000000000",
          "2020-05-21T17:10:00.000000000",
          "2020-05-21T17:15:00.000000000",
          "2020-05-21T17:20:00.000000000",
          "2020-05-21T17:25:00.000000000",
          "2020-05-21T17:30:00.000000000",
          "2020-05-21T17:35:00.000000000",
          "2020-05-21T17:40:00.000000000",
          "2020-05-21T17:45:00.000000000",
          "2020-05-21T17:50:00.000000000",
          "2020-05-21T17:55:00.000000000",
          "2020-05-21T18:00:00.000000000",
          "2020-05-21T18:05:00.000000000",
          "2020-05-21T18:10:00.000000000",
          "2020-05-21T18:15:00.000000000",
          "2020-05-21T18:20:00.000000000",
          "2020-05-21T18:25:00.000000000",
          "2020-05-21T18:30:00.000000000",
          "2020-05-21T18:35:00.000000000",
          "2020-05-21T18:40:00.000000000",
          "2020-05-21T18:45:00.000000000",
          "2020-05-21T18:50:00.000000000",
          "2020-05-21T18:55:00.000000000",
          "2020-08-19T16:05:00.000000000",
          "2020-08-19T16:10:00.000000000",
          "2020-08-19T16:15:00.000000000",
          "2020-08-19T16:20:00.000000000",
          "2020-08-19T16:25:00.000000000",
          "2020-08-19T16:30:00.000000000",
          "2020-08-19T16:35:00.000000000",
          "2020-08-19T16:40:00.000000000",
          "2020-08-19T16:45:00.000000000",
          "2020-08-19T16:50:00.000000000",
          "2020-08-19T16:55:00.000000000",
          "2020-08-19T17:00:00.000000000",
          "2020-08-19T17:05:00.000000000",
          "2020-08-19T17:10:00.000000000",
          "2020-08-19T17:15:00.000000000",
          "2020-08-19T17:20:00.000000000",
          "2020-08-19T17:25:00.000000000",
          "2020-08-19T17:30:00.000000000",
          "2020-08-19T17:35:00.000000000",
          "2020-08-19T17:40:00.000000000",
          "2020-08-19T17:45:00.000000000",
          "2020-08-19T17:50:00.000000000",
          "2020-08-19T17:55:00.000000000",
          "2020-08-19T18:00:00.000000000",
          "2020-08-19T18:05:00.000000000",
          "2020-08-19T18:10:00.000000000",
          "2020-08-19T18:15:00.000000000",
          "2020-08-19T18:20:00.000000000",
          "2020-08-19T18:25:00.000000000",
          "2020-08-19T18:30:00.000000000",
          "2020-08-19T18:35:00.000000000",
          "2020-08-19T18:40:00.000000000",
          "2020-08-19T18:45:00.000000000",
          "2020-08-19T18:50:00.000000000",
          "2020-08-19T18:55:00.000000000",
          "2020-11-18T16:05:00.000000000",
          "2020-11-18T16:10:00.000000000",
          "2020-11-18T16:15:00.000000000",
          "2020-11-18T16:20:00.000000000",
          "2020-11-18T16:25:00.000000000",
          "2020-11-18T16:30:00.000000000",
          "2020-11-18T16:35:00.000000000",
          "2020-11-18T16:40:00.000000000",
          "2020-11-18T16:45:00.000000000",
          "2020-11-18T16:50:00.000000000",
          "2020-11-18T16:55:00.000000000",
          "2020-11-18T17:00:00.000000000",
          "2020-11-18T17:05:00.000000000",
          "2020-11-18T17:10:00.000000000",
          "2020-11-18T17:15:00.000000000",
          "2020-11-18T17:20:00.000000000",
          "2020-11-18T17:25:00.000000000",
          "2020-11-18T17:30:00.000000000",
          "2020-11-18T17:35:00.000000000",
          "2020-11-18T17:40:00.000000000",
          "2020-11-18T17:45:00.000000000",
          "2020-11-18T17:50:00.000000000",
          "2020-11-18T17:55:00.000000000",
          "2020-11-18T18:00:00.000000000",
          "2020-11-18T18:05:00.000000000",
          "2020-11-18T18:10:00.000000000",
          "2020-11-18T18:15:00.000000000",
          "2020-11-18T18:20:00.000000000",
          "2020-11-18T18:25:00.000000000",
          "2021-02-24T16:05:00.000000000",
          "2021-02-24T16:10:00.000000000",
          "2021-02-24T16:15:00.000000000",
          "2021-02-24T16:20:00.000000000",
          "2021-02-24T16:25:00.000000000",
          "2021-02-24T16:30:00.000000000",
          "2021-02-24T16:35:00.000000000",
          "2021-02-24T16:40:00.000000000",
          "2021-02-24T16:45:00.000000000",
          "2021-02-24T16:50:00.000000000",
          "2021-02-24T16:55:00.000000000",
          "2021-02-24T17:00:00.000000000",
          "2021-02-24T17:05:00.000000000",
          "2021-02-24T17:10:00.000000000",
          "2021-02-24T17:15:00.000000000",
          "2021-02-24T17:20:00.000000000",
          "2021-02-24T17:25:00.000000000",
          "2021-02-24T17:30:00.000000000",
          "2021-02-24T17:35:00.000000000",
          "2021-02-24T17:40:00.000000000",
          "2021-02-24T17:45:00.000000000",
          "2021-02-24T17:50:00.000000000",
          "2021-02-24T17:55:00.000000000",
          "2021-02-24T18:00:00.000000000",
          "2021-02-24T18:05:00.000000000",
          "2021-02-24T18:10:00.000000000",
          "2021-02-24T18:15:00.000000000",
          "2021-02-24T18:20:00.000000000",
          "2021-02-24T18:25:00.000000000",
          "2021-05-26T16:05:00.000000000",
          "2021-05-26T16:10:00.000000000",
          "2021-05-26T16:15:00.000000000",
          "2021-05-26T16:20:00.000000000",
          "2021-05-26T16:25:00.000000000",
          "2021-05-26T16:30:00.000000000",
          "2021-05-26T16:35:00.000000000",
          "2021-05-26T16:40:00.000000000",
          "2021-05-26T16:45:00.000000000",
          "2021-05-26T16:50:00.000000000",
          "2021-05-26T16:55:00.000000000",
          "2021-05-26T17:00:00.000000000",
          "2021-05-26T17:05:00.000000000",
          "2021-05-26T17:10:00.000000000",
          "2021-05-26T17:15:00.000000000",
          "2021-05-26T17:20:00.000000000",
          "2021-05-26T17:25:00.000000000",
          "2021-05-26T17:30:00.000000000",
          "2021-05-26T17:35:00.000000000",
          "2021-05-26T17:40:00.000000000",
          "2021-05-26T17:45:00.000000000",
          "2021-05-26T17:50:00.000000000",
          "2021-05-26T17:55:00.000000000",
          "2021-05-26T18:00:00.000000000",
          "2021-05-26T18:05:00.000000000",
          "2021-05-26T18:10:00.000000000",
          "2021-05-26T18:15:00.000000000",
          "2021-05-26T18:20:00.000000000",
          "2021-05-26T18:25:00.000000000",
          "2021-05-26T18:30:00.000000000",
          "2021-05-26T18:35:00.000000000",
          "2021-05-26T18:40:00.000000000",
          "2021-05-26T18:45:00.000000000",
          "2021-05-26T18:50:00.000000000",
          "2021-05-26T18:55:00.000000000",
          "2021-08-18T16:05:00.000000000",
          "2021-08-18T16:10:00.000000000",
          "2021-08-18T16:15:00.000000000",
          "2021-08-18T16:20:00.000000000",
          "2021-08-18T16:25:00.000000000",
          "2021-08-18T16:30:00.000000000",
          "2021-08-18T16:35:00.000000000",
          "2021-08-18T16:40:00.000000000",
          "2021-08-18T16:45:00.000000000",
          "2021-08-18T16:50:00.000000000",
          "2021-08-18T16:55:00.000000000",
          "2021-08-18T17:00:00.000000000",
          "2021-08-18T17:05:00.000000000",
          "2021-08-18T17:10:00.000000000",
          "2021-08-18T17:15:00.000000000",
          "2021-08-18T17:20:00.000000000",
          "2021-08-18T17:25:00.000000000",
          "2021-08-18T17:30:00.000000000",
          "2021-08-18T17:35:00.000000000",
          "2021-08-18T17:40:00.000000000",
          "2021-08-18T17:45:00.000000000",
          "2021-08-18T17:50:00.000000000",
          "2021-08-18T17:55:00.000000000",
          "2021-08-18T18:00:00.000000000",
          "2021-08-18T18:05:00.000000000",
          "2021-08-18T18:10:00.000000000",
          "2021-08-18T18:15:00.000000000",
          "2021-08-18T18:20:00.000000000",
          "2021-08-18T18:25:00.000000000",
          "2021-08-18T18:30:00.000000000",
          "2021-08-18T18:35:00.000000000",
          "2021-08-18T18:40:00.000000000",
          "2021-08-18T18:45:00.000000000",
          "2021-08-18T18:50:00.000000000",
          "2021-08-18T18:55:00.000000000",
          "2021-11-17T16:05:00.000000000",
          "2021-11-17T16:10:00.000000000",
          "2021-11-17T16:15:00.000000000",
          "2021-11-17T16:20:00.000000000",
          "2021-11-17T16:25:00.000000000",
          "2021-11-17T16:30:00.000000000",
          "2021-11-17T16:35:00.000000000",
          "2021-11-17T16:40:00.000000000",
          "2021-11-17T16:45:00.000000000",
          "2021-11-17T16:50:00.000000000",
          "2021-11-17T16:55:00.000000000",
          "2021-11-17T17:00:00.000000000",
          "2021-11-17T17:05:00.000000000",
          "2021-11-17T17:10:00.000000000",
          "2021-11-17T17:15:00.000000000",
          "2021-11-17T17:20:00.000000000",
          "2021-11-17T17:25:00.000000000",
          "2021-11-17T17:30:00.000000000",
          "2021-11-17T17:35:00.000000000",
          "2021-11-17T17:40:00.000000000",
          "2021-11-17T17:45:00.000000000",
          "2021-11-17T17:50:00.000000000",
          "2021-11-17T17:55:00.000000000",
          "2021-11-17T18:00:00.000000000",
          "2021-11-17T18:05:00.000000000",
          "2021-11-17T18:10:00.000000000",
          "2021-11-17T18:15:00.000000000",
          "2021-11-17T18:20:00.000000000",
          "2021-11-17T18:25:00.000000000",
          "2022-02-16T16:05:00.000000000",
          "2022-02-16T16:10:00.000000000",
          "2022-02-16T16:15:00.000000000",
          "2022-02-16T16:20:00.000000000",
          "2022-02-16T16:25:00.000000000",
          "2022-02-16T16:30:00.000000000",
          "2022-02-16T16:35:00.000000000",
          "2022-02-16T16:40:00.000000000",
          "2022-02-16T16:45:00.000000000",
          "2022-02-16T16:50:00.000000000",
          "2022-02-16T16:55:00.000000000",
          "2022-02-16T17:00:00.000000000",
          "2022-02-16T17:05:00.000000000",
          "2022-02-16T17:10:00.000000000",
          "2022-02-16T17:15:00.000000000",
          "2022-02-16T17:20:00.000000000",
          "2022-02-16T17:25:00.000000000",
          "2022-02-16T17:30:00.000000000",
          "2022-02-16T17:35:00.000000000",
          "2022-02-16T17:40:00.000000000",
          "2022-02-16T17:45:00.000000000",
          "2022-02-16T17:50:00.000000000",
          "2022-02-16T17:55:00.000000000",
          "2022-02-16T18:00:00.000000000",
          "2022-02-16T18:05:00.000000000",
          "2022-02-16T18:10:00.000000000",
          "2022-02-16T18:15:00.000000000",
          "2022-02-16T18:20:00.000000000",
          "2022-02-16T18:25:00.000000000",
          "2022-05-25T16:05:00.000000000",
          "2022-05-25T16:10:00.000000000",
          "2022-05-25T16:15:00.000000000",
          "2022-05-25T16:20:00.000000000",
          "2022-05-25T16:25:00.000000000",
          "2022-05-25T16:30:00.000000000",
          "2022-05-25T16:35:00.000000000",
          "2022-05-25T16:40:00.000000000",
          "2022-05-25T16:45:00.000000000",
          "2022-05-25T16:50:00.000000000",
          "2022-05-25T16:55:00.000000000",
          "2022-05-25T17:00:00.000000000",
          "2022-05-25T17:05:00.000000000",
          "2022-05-25T17:10:00.000000000",
          "2022-05-25T17:15:00.000000000",
          "2022-05-25T17:20:00.000000000",
          "2022-05-25T17:25:00.000000000",
          "2022-05-25T17:30:00.000000000",
          "2022-05-25T17:35:00.000000000",
          "2022-05-25T17:40:00.000000000",
          "2022-05-25T17:45:00.000000000",
          "2022-05-25T17:50:00.000000000",
          "2022-05-25T17:55:00.000000000",
          "2022-05-25T18:00:00.000000000",
          "2022-05-25T18:05:00.000000000",
          "2022-05-25T18:10:00.000000000",
          "2022-05-25T18:15:00.000000000",
          "2022-05-25T18:20:00.000000000",
          "2022-05-25T18:25:00.000000000",
          "2022-05-25T18:30:00.000000000",
          "2022-05-25T18:35:00.000000000",
          "2022-05-25T18:40:00.000000000",
          "2022-05-25T18:45:00.000000000",
          "2022-05-25T18:50:00.000000000",
          "2022-05-25T18:55:00.000000000",
          "2022-08-24T16:05:00.000000000",
          "2022-08-24T16:10:00.000000000",
          "2022-08-24T16:15:00.000000000",
          "2022-08-24T16:20:00.000000000",
          "2022-08-24T16:25:00.000000000",
          "2022-08-24T16:30:00.000000000",
          "2022-08-24T16:35:00.000000000",
          "2022-08-24T16:40:00.000000000",
          "2022-08-24T16:45:00.000000000",
          "2022-08-24T16:50:00.000000000",
          "2022-08-24T16:55:00.000000000",
          "2022-08-24T17:00:00.000000000",
          "2022-08-24T17:05:00.000000000",
          "2022-08-24T17:10:00.000000000",
          "2022-08-24T17:15:00.000000000",
          "2022-08-24T17:20:00.000000000",
          "2022-08-24T17:25:00.000000000",
          "2022-08-24T17:30:00.000000000",
          "2022-08-24T17:35:00.000000000",
          "2022-08-24T17:40:00.000000000",
          "2022-08-24T17:45:00.000000000",
          "2022-08-24T17:50:00.000000000",
          "2022-08-24T17:55:00.000000000",
          "2022-08-24T18:00:00.000000000",
          "2022-08-24T18:05:00.000000000",
          "2022-08-24T18:10:00.000000000",
          "2022-08-24T18:15:00.000000000",
          "2022-08-24T18:20:00.000000000",
          "2022-08-24T18:25:00.000000000",
          "2022-08-24T18:30:00.000000000",
          "2022-08-24T18:35:00.000000000",
          "2022-08-24T18:40:00.000000000",
          "2022-08-24T18:45:00.000000000",
          "2022-08-24T18:50:00.000000000",
          "2022-08-24T18:55:00.000000000",
          "2022-11-16T16:05:00.000000000",
          "2022-11-16T16:10:00.000000000",
          "2022-11-16T16:15:00.000000000",
          "2022-11-16T16:20:00.000000000",
          "2022-11-16T16:25:00.000000000",
          "2022-11-16T16:30:00.000000000",
          "2022-11-16T16:35:00.000000000",
          "2022-11-16T16:40:00.000000000",
          "2022-11-16T16:45:00.000000000",
          "2022-11-16T16:50:00.000000000",
          "2022-11-16T16:55:00.000000000",
          "2022-11-16T17:00:00.000000000",
          "2022-11-16T17:05:00.000000000",
          "2022-11-16T17:10:00.000000000",
          "2022-11-16T17:15:00.000000000",
          "2022-11-16T17:20:00.000000000",
          "2022-11-16T17:25:00.000000000",
          "2022-11-16T17:30:00.000000000",
          "2022-11-16T17:35:00.000000000",
          "2022-11-16T17:40:00.000000000",
          "2022-11-16T17:45:00.000000000",
          "2022-11-16T17:50:00.000000000",
          "2022-11-16T17:55:00.000000000",
          "2022-11-16T18:00:00.000000000",
          "2022-11-16T18:05:00.000000000",
          "2022-11-16T18:10:00.000000000",
          "2022-11-16T18:15:00.000000000",
          "2022-11-16T18:20:00.000000000",
          "2022-11-16T18:25:00.000000000",
          "2023-02-22T16:05:00.000000000",
          "2023-02-22T16:10:00.000000000",
          "2023-02-22T16:15:00.000000000",
          "2023-02-22T16:20:00.000000000",
          "2023-02-22T16:25:00.000000000",
          "2023-02-22T16:30:00.000000000",
          "2023-02-22T16:35:00.000000000",
          "2023-02-22T16:40:00.000000000",
          "2023-02-22T16:45:00.000000000",
          "2023-02-22T16:50:00.000000000",
          "2023-02-22T16:55:00.000000000",
          "2023-02-22T17:00:00.000000000",
          "2023-02-22T17:05:00.000000000",
          "2023-02-22T17:10:00.000000000",
          "2023-02-22T17:15:00.000000000",
          "2023-02-22T17:20:00.000000000",
          "2023-02-22T17:25:00.000000000",
          "2023-02-22T17:30:00.000000000",
          "2023-02-22T17:35:00.000000000",
          "2023-02-22T17:40:00.000000000",
          "2023-02-22T17:45:00.000000000",
          "2023-02-22T17:50:00.000000000",
          "2023-02-22T17:55:00.000000000",
          "2023-02-22T18:00:00.000000000",
          "2023-02-22T18:05:00.000000000",
          "2023-02-22T18:10:00.000000000",
          "2023-02-22T18:15:00.000000000",
          "2023-02-22T18:20:00.000000000",
          "2023-02-22T18:25:00.000000000",
          "2023-05-24T16:05:00.000000000",
          "2023-05-24T16:10:00.000000000",
          "2023-05-24T16:15:00.000000000",
          "2023-05-24T16:20:00.000000000",
          "2023-05-24T16:25:00.000000000",
          "2023-05-24T16:30:00.000000000",
          "2023-05-24T16:35:00.000000000",
          "2023-05-24T16:40:00.000000000",
          "2023-05-24T16:45:00.000000000",
          "2023-05-24T16:50:00.000000000",
          "2023-05-24T16:55:00.000000000",
          "2023-05-24T17:00:00.000000000",
          "2023-05-24T17:05:00.000000000",
          "2023-05-24T17:10:00.000000000",
          "2023-05-24T17:15:00.000000000",
          "2023-05-24T17:20:00.000000000",
          "2023-05-24T17:25:00.000000000",
          "2023-05-24T17:30:00.000000000",
          "2023-05-24T17:35:00.000000000",
          "2023-05-24T17:40:00.000000000",
          "2023-05-24T17:45:00.000000000",
          "2023-05-24T17:50:00.000000000",
          "2023-05-24T17:55:00.000000000",
          "2023-05-24T18:00:00.000000000",
          "2023-05-24T18:05:00.000000000",
          "2023-05-24T18:10:00.000000000",
          "2023-05-24T18:15:00.000000000",
          "2023-05-24T18:20:00.000000000",
          "2023-05-24T18:25:00.000000000",
          "2023-05-24T18:30:00.000000000",
          "2023-05-24T18:35:00.000000000",
          "2023-05-24T18:40:00.000000000",
          "2023-05-24T18:45:00.000000000",
          "2023-05-24T18:50:00.000000000",
          "2023-05-24T18:55:00.000000000",
          "2023-08-23T16:05:00.000000000",
          "2023-08-23T16:10:00.000000000",
          "2023-08-23T16:15:00.000000000",
          "2023-08-23T16:20:00.000000000",
          "2023-08-23T16:25:00.000000000",
          "2023-08-23T16:30:00.000000000",
          "2023-08-23T16:35:00.000000000",
          "2023-08-23T16:40:00.000000000",
          "2023-08-23T16:45:00.000000000",
          "2023-08-23T16:50:00.000000000",
          "2023-08-23T16:55:00.000000000",
          "2023-08-23T17:00:00.000000000",
          "2023-08-23T17:05:00.000000000",
          "2023-08-23T17:10:00.000000000",
          "2023-08-23T17:15:00.000000000",
          "2023-08-23T17:20:00.000000000",
          "2023-08-23T17:25:00.000000000",
          "2023-08-23T17:30:00.000000000",
          "2023-08-23T17:35:00.000000000",
          "2023-08-23T17:40:00.000000000",
          "2023-08-23T17:45:00.000000000",
          "2023-08-23T17:50:00.000000000",
          "2023-08-23T17:55:00.000000000",
          "2023-08-23T18:00:00.000000000",
          "2023-08-23T18:05:00.000000000",
          "2023-08-23T18:10:00.000000000",
          "2023-08-23T18:15:00.000000000",
          "2023-08-23T18:20:00.000000000",
          "2023-08-23T18:25:00.000000000",
          "2023-08-23T18:30:00.000000000",
          "2023-08-23T18:35:00.000000000",
          "2023-08-23T18:40:00.000000000",
          "2023-08-23T18:45:00.000000000",
          "2023-08-23T18:50:00.000000000",
          "2023-08-23T18:55:00.000000000",
          "2023-11-21T16:05:00.000000000",
          "2023-11-21T16:10:00.000000000",
          "2023-11-21T16:15:00.000000000",
          "2023-11-21T16:20:00.000000000",
          "2023-11-21T16:25:00.000000000",
          "2023-11-21T16:30:00.000000000",
          "2023-11-21T16:35:00.000000000",
          "2023-11-21T16:40:00.000000000",
          "2023-11-21T16:45:00.000000000",
          "2023-11-21T16:50:00.000000000",
          "2023-11-21T16:55:00.000000000",
          "2023-11-21T17:00:00.000000000",
          "2023-11-21T17:05:00.000000000",
          "2023-11-21T17:10:00.000000000",
          "2023-11-21T17:15:00.000000000",
          "2023-11-21T17:20:00.000000000",
          "2023-11-21T17:25:00.000000000",
          "2023-11-21T17:30:00.000000000",
          "2023-11-21T17:35:00.000000000",
          "2023-11-21T17:40:00.000000000",
          "2023-11-21T17:45:00.000000000",
          "2023-11-21T17:50:00.000000000",
          "2023-11-21T17:55:00.000000000",
          "2023-11-21T18:00:00.000000000",
          "2023-11-21T18:05:00.000000000",
          "2023-11-21T18:10:00.000000000",
          "2023-11-21T18:15:00.000000000",
          "2023-11-21T18:20:00.000000000",
          "2023-11-21T18:25:00.000000000",
          "2024-02-21T16:05:00.000000000",
          "2024-02-21T16:10:00.000000000",
          "2024-02-21T16:15:00.000000000",
          "2024-02-21T16:20:00.000000000",
          "2024-02-21T16:25:00.000000000",
          "2024-02-21T16:30:00.000000000",
          "2024-02-21T16:35:00.000000000",
          "2024-02-21T16:40:00.000000000",
          "2024-02-21T16:45:00.000000000",
          "2024-02-21T16:50:00.000000000",
          "2024-02-21T16:55:00.000000000",
          "2024-02-21T17:00:00.000000000",
          "2024-02-21T17:05:00.000000000",
          "2024-02-21T17:10:00.000000000",
          "2024-02-21T17:15:00.000000000",
          "2024-02-21T17:20:00.000000000",
          "2024-02-21T17:25:00.000000000",
          "2024-02-21T17:30:00.000000000",
          "2024-02-21T17:35:00.000000000",
          "2024-02-21T17:40:00.000000000",
          "2024-02-21T17:45:00.000000000",
          "2024-02-21T17:50:00.000000000",
          "2024-02-21T17:55:00.000000000",
          "2024-02-21T18:00:00.000000000",
          "2024-02-21T18:05:00.000000000",
          "2024-02-21T18:10:00.000000000",
          "2024-02-21T18:15:00.000000000",
          "2024-02-21T18:20:00.000000000",
          "2024-02-21T18:25:00.000000000",
          "2024-05-22T16:05:00.000000000",
          "2024-05-22T16:10:00.000000000",
          "2024-05-22T16:15:00.000000000",
          "2024-05-22T16:20:00.000000000",
          "2024-05-22T16:25:00.000000000",
          "2024-05-22T16:30:00.000000000",
          "2024-05-22T16:35:00.000000000",
          "2024-05-22T16:40:00.000000000",
          "2024-05-22T16:45:00.000000000",
          "2024-05-22T16:50:00.000000000",
          "2024-05-22T16:55:00.000000000",
          "2024-05-22T17:00:00.000000000",
          "2024-05-22T17:05:00.000000000",
          "2024-05-22T17:10:00.000000000",
          "2024-05-22T17:15:00.000000000",
          "2024-05-22T17:20:00.000000000",
          "2024-05-22T17:25:00.000000000",
          "2024-05-22T17:30:00.000000000",
          "2024-05-22T17:35:00.000000000",
          "2024-05-22T17:40:00.000000000",
          "2024-05-22T17:45:00.000000000",
          "2024-05-22T17:50:00.000000000",
          "2024-05-22T17:55:00.000000000",
          "2024-05-22T18:00:00.000000000",
          "2024-05-22T18:05:00.000000000",
          "2024-05-22T18:10:00.000000000",
          "2024-05-22T18:15:00.000000000",
          "2024-05-22T18:20:00.000000000",
          "2024-05-22T18:25:00.000000000",
          "2024-05-22T18:30:00.000000000",
          "2024-05-22T18:35:00.000000000",
          "2024-05-22T18:40:00.000000000",
          "2024-05-22T18:45:00.000000000",
          "2024-05-22T18:50:00.000000000",
          "2024-05-22T18:55:00.000000000",
          "2024-08-28T16:05:00.000000000",
          "2024-08-28T16:10:00.000000000",
          "2024-08-28T16:15:00.000000000",
          "2024-08-28T16:20:00.000000000",
          "2024-08-28T16:25:00.000000000",
          "2024-08-28T16:30:00.000000000",
          "2024-08-28T16:35:00.000000000",
          "2024-08-28T16:40:00.000000000",
          "2024-08-28T16:45:00.000000000",
          "2024-08-28T16:50:00.000000000",
          "2024-08-28T16:55:00.000000000",
          "2024-08-28T17:00:00.000000000",
          "2024-08-28T17:05:00.000000000",
          "2024-08-28T17:10:00.000000000",
          "2024-08-28T17:15:00.000000000",
          "2024-08-28T17:20:00.000000000",
          "2024-08-28T17:25:00.000000000",
          "2024-08-28T17:30:00.000000000",
          "2024-08-28T17:35:00.000000000",
          "2024-08-28T17:40:00.000000000",
          "2024-08-28T17:45:00.000000000",
          "2024-08-28T17:50:00.000000000",
          "2024-08-28T17:55:00.000000000",
          "2024-08-28T18:00:00.000000000",
          "2024-08-28T18:05:00.000000000",
          "2024-08-28T18:10:00.000000000",
          "2024-08-28T18:15:00.000000000",
          "2024-08-28T18:20:00.000000000",
          "2024-08-28T18:25:00.000000000",
          "2024-08-28T18:30:00.000000000",
          "2024-08-28T18:35:00.000000000",
          "2024-08-28T18:40:00.000000000",
          "2024-08-28T18:45:00.000000000",
          "2024-08-28T18:50:00.000000000",
          "2024-08-28T18:55:00.000000000",
          "2024-11-20T16:05:00.000000000",
          "2024-11-20T16:10:00.000000000",
          "2024-11-20T16:15:00.000000000",
          "2024-11-20T16:20:00.000000000",
          "2024-11-20T16:25:00.000000000",
          "2024-11-20T16:30:00.000000000",
          "2024-11-20T16:35:00.000000000",
          "2024-11-20T16:40:00.000000000",
          "2024-11-20T16:45:00.000000000",
          "2024-11-20T16:50:00.000000000",
          "2024-11-20T16:55:00.000000000",
          "2024-11-20T17:00:00.000000000",
          "2024-11-20T17:05:00.000000000",
          "2024-11-20T17:10:00.000000000",
          "2024-11-20T17:15:00.000000000",
          "2024-11-20T17:20:00.000000000",
          "2024-11-20T17:25:00.000000000",
          "2024-11-20T17:30:00.000000000",
          "2024-11-20T17:35:00.000000000",
          "2024-11-20T17:40:00.000000000",
          "2024-11-20T17:45:00.000000000",
          "2024-11-20T17:50:00.000000000",
          "2024-11-20T17:55:00.000000000",
          "2024-11-20T18:00:00.000000000",
          "2024-11-20T18:05:00.000000000",
          "2024-11-20T18:10:00.000000000",
          "2024-11-20T18:15:00.000000000",
          "2024-11-20T18:20:00.000000000",
          "2024-11-20T18:25:00.000000000",
          "2025-02-26T16:05:00.000000000",
          "2025-02-26T16:10:00.000000000",
          "2025-02-26T16:15:00.000000000",
          "2025-02-26T16:20:00.000000000",
          "2025-02-26T16:25:00.000000000",
          "2025-02-26T16:30:00.000000000",
          "2025-02-26T16:35:00.000000000",
          "2025-02-26T16:40:00.000000000",
          "2025-02-26T16:45:00.000000000",
          "2025-02-26T16:50:00.000000000",
          "2025-02-26T16:55:00.000000000",
          "2025-02-26T17:00:00.000000000",
          "2025-02-26T17:05:00.000000000",
          "2025-02-26T17:10:00.000000000",
          "2025-02-26T17:15:00.000000000",
          "2025-02-26T17:20:00.000000000",
          "2025-02-26T17:25:00.000000000",
          "2025-02-26T17:30:00.000000000",
          "2025-02-26T17:35:00.000000000",
          "2025-02-26T17:40:00.000000000",
          "2025-02-26T17:45:00.000000000",
          "2025-02-26T17:50:00.000000000",
          "2025-02-26T17:55:00.000000000",
          "2025-02-26T18:00:00.000000000",
          "2025-02-26T18:05:00.000000000",
          "2025-02-26T18:10:00.000000000",
          "2025-02-26T18:15:00.000000000",
          "2025-02-26T18:20:00.000000000",
          "2025-02-26T18:25:00.000000000"
         ],
         "xaxis": "x",
         "y": {
          "bdata": "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",
          "dtype": "f8"
         },
         "yaxis": "y"
        }
       ],
       "layout": {
        "legend": {
         "tracegroupgap": 0
        },
        "template": {
         "data": {
          "bar": [
           {
            "error_x": {
             "color": "#2a3f5f"
            },
            "error_y": {
             "color": "#2a3f5f"
            },
            "marker": {
             "line": {
              "color": "#E5ECF6",
              "width": 0.5
             },
             "pattern": {
              "fillmode": "overlay",
              "size": 10,
              "solidity": 0.2
             }
            },
            "type": "bar"
           }
          ],
          "barpolar": [
           {
            "marker": {
             "line": {
              "color": "#E5ECF6",
              "width": 0.5
             },
             "pattern": {
              "fillmode": "overlay",
              "size": 10,
              "solidity": 0.2
             }
            },
            "type": "barpolar"
           }
          ],
          "carpet": [
           {
            "aaxis": {
             "endlinecolor": "#2a3f5f",
             "gridcolor": "white",
             "linecolor": "white",
             "minorgridcolor": "white",
             "startlinecolor": "#2a3f5f"
            },
            "baxis": {
             "endlinecolor": "#2a3f5f",
             "gridcolor": "white",
             "linecolor": "white",
             "minorgridcolor": "white",
             "startlinecolor": "#2a3f5f"
            },
            "type": "carpet"
           }
          ],
          "choropleth": [
           {
            "colorbar": {
             "outlinewidth": 0,
             "ticks": ""
            },
            "type": "choropleth"
           }
          ],
          "contour": [
           {
            "colorbar": {
             "outlinewidth": 0,
             "ticks": ""
            },
            "colorscale": [
             [
              0,
              "#0d0887"
             ],
             [
              0.1111111111111111,
              "#46039f"
             ],
             [
              0.2222222222222222,
              "#7201a8"
             ],
             [
              0.3333333333333333,
              "#9c179e"
             ],
             [
              0.4444444444444444,
              "#bd3786"
             ],
             [
              0.5555555555555556,
              "#d8576b"
             ],
             [
              0.6666666666666666,
              "#ed7953"
             ],
             [
              0.7777777777777778,
              "#fb9f3a"
             ],
             [
              0.8888888888888888,
              "#fdca26"
             ],
             [
              1,
              "#f0f921"
             ]
            ],
            "type": "contour"
           }
          ],
          "contourcarpet": [
           {
            "colorbar": {
             "outlinewidth": 0,
             "ticks": ""
            },
            "type": "contourcarpet"
           }
          ],
          "heatmap": [
           {
            "colorbar": {
             "outlinewidth": 0,
             "ticks": ""
            },
            "colorscale": [
             [
              0,
              "#0d0887"
             ],
             [
              0.1111111111111111,
              "#46039f"
             ],
             [
              0.2222222222222222,
              "#7201a8"
             ],
             [
              0.3333333333333333,
              "#9c179e"
             ],
             [
              0.4444444444444444,
              "#bd3786"
             ],
             [
              0.5555555555555556,
              "#d8576b"
             ],
             [
              0.6666666666666666,
              "#ed7953"
             ],
             [
              0.7777777777777778,
              "#fb9f3a"
             ],
             [
              0.8888888888888888,
              "#fdca26"
             ],
             [
              1,
              "#f0f921"
             ]
            ],
            "type": "heatmap"
           }
          ],
          "histogram": [
           {
            "marker": {
             "pattern": {
              "fillmode": "overlay",
              "size": 10,
              "solidity": 0.2
             }
            },
            "type": "histogram"
           }
          ],
          "histogram2d": [
           {
            "colorbar": {
             "outlinewidth": 0,
             "ticks": ""
            },
            "colorscale": [
             [
              0,
              "#0d0887"
             ],
             [
              0.1111111111111111,
              "#46039f"
             ],
             [
              0.2222222222222222,
              "#7201a8"
             ],
             [
              0.3333333333333333,
              "#9c179e"
             ],
             [
              0.4444444444444444,
              "#bd3786"
             ],
             [
              0.5555555555555556,
              "#d8576b"
             ],
             [
              0.6666666666666666,
              "#ed7953"
             ],
             [
              0.7777777777777778,
              "#fb9f3a"
             ],
             [
              0.8888888888888888,
              "#fdca26"
             ],
             [
              1,
              "#f0f921"
             ]
            ],
            "type": "histogram2d"
           }
          ],
          "histogram2dcontour": [
           {
            "colorbar": {
             "outlinewidth": 0,
             "ticks": ""
            },
            "colorscale": [
             [
              0,
              "#0d0887"
             ],
             [
              0.1111111111111111,
              "#46039f"
             ],
             [
              0.2222222222222222,
              "#7201a8"
             ],
             [
              0.3333333333333333,
              "#9c179e"
             ],
             [
              0.4444444444444444,
              "#bd3786"
             ],
             [
              0.5555555555555556,
              "#d8576b"
             ],
             [
              0.6666666666666666,
              "#ed7953"
             ],
             [
              0.7777777777777778,
              "#fb9f3a"
             ],
             [
              0.8888888888888888,
              "#fdca26"
             ],
             [
              1,
              "#f0f921"
             ]
            ],
            "type": "histogram2dcontour"
           }
          ],
          "mesh3d": [
           {
            "colorbar": {
             "outlinewidth": 0,
             "ticks": ""
            },
            "type": "mesh3d"
           }
          ],
          "parcoords": [
           {
            "line": {
             "colorbar": {
              "outlinewidth": 0,
              "ticks": ""
             }
            },
            "type": "parcoords"
           }
          ],
          "pie": [
           {
            "automargin": true,
            "type": "pie"
           }
          ],
          "scatter": [
           {
            "fillpattern": {
             "fillmode": "overlay",
             "size": 10,
             "solidity": 0.2
            },
            "type": "scatter"
           }
          ],
          "scatter3d": [
           {
            "line": {
             "colorbar": {
              "outlinewidth": 0,
              "ticks": ""
             }
            },
            "marker": {
             "colorbar": {
              "outlinewidth": 0,
              "ticks": ""
             }
            },
            "type": "scatter3d"
           }
          ],
          "scattercarpet": [
           {
            "marker": {
             "colorbar": {
              "outlinewidth": 0,
              "ticks": ""
             }
            },
            "type": "scattercarpet"
           }
          ],
          "scattergeo": [
           {
            "marker": {
             "colorbar": {
              "outlinewidth": 0,
              "ticks": ""
             }
            },
            "type": "scattergeo"
           }
          ],
          "scattergl": [
           {
            "marker": {
             "colorbar": {
              "outlinewidth": 0,
              "ticks": ""
             }
            },
            "type": "scattergl"
           }
          ],
          "scattermap": [
           {
            "marker": {
             "colorbar": {
              "outlinewidth": 0,
              "ticks": ""
             }
            },
            "type": "scattermap"
           }
          ],
          "scattermapbox": [
           {
            "marker": {
             "colorbar": {
              "outlinewidth": 0,
              "ticks": ""
             }
            },
            "type": "scattermapbox"
           }
          ],
          "scatterpolar": [
           {
            "marker": {
             "colorbar": {
              "outlinewidth": 0,
              "ticks": ""
             }
            },
            "type": "scatterpolar"
           }
          ],
          "scatterpolargl": [
           {
            "marker": {
             "colorbar": {
              "outlinewidth": 0,
              "ticks": ""
             }
            },
            "type": "scatterpolargl"
           }
          ],
          "scatterternary": [
           {
            "marker": {
             "colorbar": {
              "outlinewidth": 0,
              "ticks": ""
             }
            },
            "type": "scatterternary"
           }
          ],
          "surface": [
           {
            "colorbar": {
             "outlinewidth": 0,
             "ticks": ""
            },
            "colorscale": [
             [
              0,
              "#0d0887"
             ],
             [
              0.1111111111111111,
              "#46039f"
             ],
             [
              0.2222222222222222,
              "#7201a8"
             ],
             [
              0.3333333333333333,
              "#9c179e"
             ],
             [
              0.4444444444444444,
              "#bd3786"
             ],
             [
              0.5555555555555556,
              "#d8576b"
             ],
             [
              0.6666666666666666,
              "#ed7953"
             ],
             [
              0.7777777777777778,
              "#fb9f3a"
             ],
             [
              0.8888888888888888,
              "#fdca26"
             ],
             [
              1,
              "#f0f921"
             ]
            ],
            "type": "surface"
           }
          ],
          "table": [
           {
            "cells": {
             "fill": {
              "color": "#EBF0F8"
             },
             "line": {
              "color": "white"
             }
            },
            "header": {
             "fill": {
              "color": "#C8D4E3"
             },
             "line": {
              "color": "white"
             }
            },
            "type": "table"
           }
          ]
         },
         "layout": {
          "annotationdefaults": {
           "arrowcolor": "#2a3f5f",
           "arrowhead": 0,
           "arrowwidth": 1
          },
          "autotypenumbers": "strict",
          "coloraxis": {
           "colorbar": {
            "outlinewidth": 0,
            "ticks": ""
           }
          },
          "colorscale": {
           "diverging": [
            [
             0,
             "#8e0152"
            ],
            [
             0.1,
             "#c51b7d"
            ],
            [
             0.2,
             "#de77ae"
            ],
            [
             0.3,
             "#f1b6da"
            ],
            [
             0.4,
             "#fde0ef"
            ],
            [
             0.5,
             "#f7f7f7"
            ],
            [
             0.6,
             "#e6f5d0"
            ],
            [
             0.7,
             "#b8e186"
            ],
            [
             0.8,
             "#7fbc41"
            ],
            [
             0.9,
             "#4d9221"
            ],
            [
             1,
             "#276419"
            ]
           ],
           "sequential": [
            [
             0,
             "#0d0887"
            ],
            [
             0.1111111111111111,
             "#46039f"
            ],
            [
             0.2222222222222222,
             "#7201a8"
            ],
            [
             0.3333333333333333,
             "#9c179e"
            ],
            [
             0.4444444444444444,
             "#bd3786"
            ],
            [
             0.5555555555555556,
             "#d8576b"
            ],
            [
             0.6666666666666666,
             "#ed7953"
            ],
            [
             0.7777777777777778,
             "#fb9f3a"
            ],
            [
             0.8888888888888888,
             "#fdca26"
            ],
            [
             1,
             "#f0f921"
            ]
           ],
           "sequentialminus": [
            [
             0,
             "#0d0887"
            ],
            [
             0.1111111111111111,
             "#46039f"
            ],
            [
             0.2222222222222222,
             "#7201a8"
            ],
            [
             0.3333333333333333,
             "#9c179e"
            ],
            [
             0.4444444444444444,
             "#bd3786"
            ],
            [
             0.5555555555555556,
             "#d8576b"
            ],
            [
             0.6666666666666666,
             "#ed7953"
            ],
            [
             0.7777777777777778,
             "#fb9f3a"
            ],
            [
             0.8888888888888888,
             "#fdca26"
            ],
            [
             1,
             "#f0f921"
            ]
           ]
          },
          "colorway": [
           "#636efa",
           "#EF553B",
           "#00cc96",
           "#ab63fa",
           "#FFA15A",
           "#19d3f3",
           "#FF6692",
           "#B6E880",
           "#FF97FF",
           "#FECB52"
          ],
          "font": {
           "color": "#2a3f5f"
          },
          "geo": {
           "bgcolor": "white",
           "lakecolor": "white",
           "landcolor": "#E5ECF6",
           "showlakes": true,
           "showland": true,
           "subunitcolor": "white"
          },
          "hoverlabel": {
           "align": "left"
          },
          "hovermode": "closest",
          "mapbox": {
           "style": "light"
          },
          "paper_bgcolor": "white",
          "plot_bgcolor": "#E5ECF6",
          "polar": {
           "angularaxis": {
            "gridcolor": "white",
            "linecolor": "white",
            "ticks": ""
           },
           "bgcolor": "#E5ECF6",
           "radialaxis": {
            "gridcolor": "white",
            "linecolor": "white",
            "ticks": ""
           }
          },
          "scene": {
           "xaxis": {
            "backgroundcolor": "#E5ECF6",
            "gridcolor": "white",
            "gridwidth": 2,
            "linecolor": "white",
            "showbackground": true,
            "ticks": "",
            "zerolinecolor": "white"
           },
           "yaxis": {
            "backgroundcolor": "#E5ECF6",
            "gridcolor": "white",
            "gridwidth": 2,
            "linecolor": "white",
            "showbackground": true,
            "ticks": "",
            "zerolinecolor": "white"
           },
           "zaxis": {
            "backgroundcolor": "#E5ECF6",
            "gridcolor": "white",
            "gridwidth": 2,
            "linecolor": "white",
            "showbackground": true,
            "ticks": "",
            "zerolinecolor": "white"
           }
          },
          "shapedefaults": {
           "line": {
            "color": "#2a3f5f"
           }
          },
          "ternary": {
           "aaxis": {
            "gridcolor": "white",
            "linecolor": "white",
            "ticks": ""
           },
           "baxis": {
            "gridcolor": "white",
            "linecolor": "white",
            "ticks": ""
           },
           "bgcolor": "#E5ECF6",
           "caxis": {
            "gridcolor": "white",
            "linecolor": "white",
            "ticks": ""
           }
          },
          "title": {
           "x": 0.05
          },
          "xaxis": {
           "automargin": true,
           "gridcolor": "white",
           "linecolor": "white",
           "ticks": "",
           "title": {
            "standoff": 15
           },
           "zerolinecolor": "white",
           "zerolinewidth": 2
          },
          "yaxis": {
           "automargin": true,
           "gridcolor": "white",
           "linecolor": "white",
           "ticks": "",
           "title": {
            "standoff": 15
           },
           "zerolinecolor": "white",
           "zerolinewidth": 2
          }
         }
        },
        "title": {
         "text": "Equity Curve"
        },
        "xaxis": {
         "anchor": "y",
         "domain": [
          0,
          1
         ],
         "title": {
          "text": "Time"
         }
        },
        "yaxis": {
         "anchor": "x",
         "domain": [
          0,
          1
         ],
         "title": {
          "text": "Cumulative Return (%)"
         }
        }
       }
      }
     },
     "metadata": {},
     "output_type": "display_data"
    }
   ],
   "source": [
    "portfolio_value = thestrat.portfolio_value\n",
    "\n",
    "# Calculate cumulative returns over time\n",
    "initial_cash = cerebro.broker.startingcash\n",
    "cumulative_returns = [(value / initial_cash - 1) * 100 for value in portfolio_value]  # In percentage\n",
    "time_index = price_df.index\n",
    "# Create a DataFrame for cumulative returns\n",
    "returns_df = pd.DataFrame({\n",
    "    'Time': time_index,  # Use the index of price_df\n",
    "    'Cumulative Return (%)': cumulative_returns\n",
    "})\n",
    "\n",
    "# Plot equity curve\n",
    "fig = px.line(returns_df, x='Time', y='Cumulative Return (%)', title='Equity Curve')\n",
    "fig.show()\n"
   ]
  },
  {
   "cell_type": "code",
   "execution_count": null,
   "metadata": {},
   "outputs": [
    {
     "data": {
      "application/vnd.plotly.v1+json": {
       "config": {
        "plotlyServerURL": "https://plot.ly"
       },
       "data": [
        {
         "hovertemplate": "Time=%{x}<br>Drawdown (%)=%{y}<extra></extra>",
         "legendgroup": "",
         "line": {
          "color": "#636efa",
          "dash": "solid"
         },
         "marker": {
          "symbol": "circle"
         },
         "mode": "lines",
         "name": "",
         "showlegend": false,
         "type": "scattergl",
         "x": [
          "2010-08-12T16:05:00.000000000",
          "2010-08-12T16:10:00.000000000",
          "2010-08-12T16:15:00.000000000",
          "2010-08-12T16:20:00.000000000",
          "2010-08-12T16:25:00.000000000",
          "2010-08-12T16:30:00.000000000",
          "2010-08-12T16:35:00.000000000",
          "2010-08-12T16:40:00.000000000",
          "2010-08-12T16:45:00.000000000",
          "2010-08-12T16:50:00.000000000",
          "2010-08-12T16:55:00.000000000",
          "2010-08-12T17:00:00.000000000",
          "2010-08-12T17:05:00.000000000",
          "2010-08-12T17:10:00.000000000",
          "2010-08-12T17:15:00.000000000",
          "2010-08-12T17:20:00.000000000",
          "2010-08-12T17:25:00.000000000",
          "2010-08-12T17:30:00.000000000",
          "2010-08-12T17:35:00.000000000",
          "2010-08-12T17:40:00.000000000",
          "2010-08-12T17:45:00.000000000",
          "2010-08-12T17:50:00.000000000",
          "2010-08-12T17:55:00.000000000",
          "2010-08-12T18:00:00.000000000",
          "2010-08-12T18:05:00.000000000",
          "2010-08-12T18:10:00.000000000",
          "2010-08-12T18:15:00.000000000",
          "2010-08-12T18:20:00.000000000",
          "2010-08-12T18:25:00.000000000",
          "2010-08-12T18:30:00.000000000",
          "2010-08-12T18:35:00.000000000",
          "2010-08-12T18:40:00.000000000",
          "2010-08-12T18:45:00.000000000",
          "2010-08-12T18:50:00.000000000",
          "2010-08-12T18:55:00.000000000",
          "2010-11-11T16:05:00.000000000",
          "2010-11-11T16:10:00.000000000",
          "2010-11-11T16:15:00.000000000",
          "2010-11-11T16:20:00.000000000",
          "2010-11-11T16:25:00.000000000",
          "2010-11-11T16:30:00.000000000",
          "2010-11-11T16:35:00.000000000",
          "2010-11-11T16:40:00.000000000",
          "2010-11-11T16:45:00.000000000",
          "2010-11-11T16:50:00.000000000",
          "2010-11-11T16:55:00.000000000",
          "2010-11-11T17:00:00.000000000",
          "2010-11-11T17:05:00.000000000",
          "2010-11-11T17:10:00.000000000",
          "2010-11-11T17:15:00.000000000",
          "2010-11-11T17:20:00.000000000",
          "2010-11-11T17:25:00.000000000",
          "2010-11-11T17:30:00.000000000",
          "2010-11-11T17:35:00.000000000",
          "2010-11-11T17:40:00.000000000",
          "2010-11-11T17:45:00.000000000",
          "2010-11-11T17:50:00.000000000",
          "2010-11-11T17:55:00.000000000",
          "2010-11-11T18:00:00.000000000",
          "2010-11-11T18:05:00.000000000",
          "2010-11-11T18:10:00.000000000",
          "2010-11-11T18:15:00.000000000",
          "2010-11-11T18:20:00.000000000",
          "2010-11-11T18:25:00.000000000",
          "2011-02-16T16:05:00.000000000",
          "2011-02-16T16:10:00.000000000",
          "2011-02-16T16:15:00.000000000",
          "2011-02-16T16:20:00.000000000",
          "2011-02-16T16:25:00.000000000",
          "2011-02-16T16:30:00.000000000",
          "2011-02-16T16:35:00.000000000",
          "2011-02-16T16:40:00.000000000",
          "2011-02-16T16:45:00.000000000",
          "2011-02-16T16:50:00.000000000",
          "2011-02-16T16:55:00.000000000",
          "2011-02-16T17:00:00.000000000",
          "2011-02-16T17:05:00.000000000",
          "2011-02-16T17:10:00.000000000",
          "2011-02-16T17:15:00.000000000",
          "2011-02-16T17:20:00.000000000",
          "2011-02-16T17:25:00.000000000",
          "2011-02-16T17:30:00.000000000",
          "2011-02-16T17:35:00.000000000",
          "2011-02-16T17:40:00.000000000",
          "2011-02-16T17:45:00.000000000",
          "2011-02-16T17:50:00.000000000",
          "2011-02-16T17:55:00.000000000",
          "2011-02-16T18:00:00.000000000",
          "2011-02-16T18:05:00.000000000",
          "2011-02-16T18:10:00.000000000",
          "2011-02-16T18:15:00.000000000",
          "2011-02-16T18:20:00.000000000",
          "2011-02-16T18:25:00.000000000",
          "2011-05-12T16:05:00.000000000",
          "2011-05-12T16:10:00.000000000",
          "2011-05-12T16:15:00.000000000",
          "2011-05-12T16:20:00.000000000",
          "2011-05-12T16:25:00.000000000",
          "2011-05-12T16:30:00.000000000",
          "2011-05-12T16:35:00.000000000",
          "2011-05-12T16:40:00.000000000",
          "2011-05-12T16:45:00.000000000",
          "2011-05-12T16:50:00.000000000",
          "2011-05-12T16:55:00.000000000",
          "2011-05-12T17:00:00.000000000",
          "2011-05-12T17:05:00.000000000",
          "2011-05-12T17:10:00.000000000",
          "2011-05-12T17:15:00.000000000",
          "2011-05-12T17:20:00.000000000",
          "2011-05-12T17:25:00.000000000",
          "2011-05-12T17:30:00.000000000",
          "2011-05-12T17:35:00.000000000",
          "2011-05-12T17:40:00.000000000",
          "2011-05-12T17:45:00.000000000",
          "2011-05-12T17:50:00.000000000",
          "2011-05-12T17:55:00.000000000",
          "2011-05-12T18:00:00.000000000",
          "2011-05-12T18:05:00.000000000",
          "2011-05-12T18:10:00.000000000",
          "2011-05-12T18:15:00.000000000",
          "2011-05-12T18:20:00.000000000",
          "2011-05-12T18:25:00.000000000",
          "2011-05-12T18:30:00.000000000",
          "2011-05-12T18:35:00.000000000",
          "2011-05-12T18:40:00.000000000",
          "2011-05-12T18:45:00.000000000",
          "2011-05-12T18:50:00.000000000",
          "2011-05-12T18:55:00.000000000",
          "2011-08-11T16:05:00.000000000",
          "2011-08-11T16:10:00.000000000",
          "2011-08-11T16:15:00.000000000",
          "2011-08-11T16:20:00.000000000",
          "2011-08-11T16:25:00.000000000",
          "2011-08-11T16:30:00.000000000",
          "2011-08-11T16:35:00.000000000",
          "2011-08-11T16:40:00.000000000",
          "2011-08-11T16:45:00.000000000",
          "2011-08-11T16:50:00.000000000",
          "2011-08-11T16:55:00.000000000",
          "2011-08-11T17:00:00.000000000",
          "2011-08-11T17:05:00.000000000",
          "2011-08-11T17:10:00.000000000",
          "2011-08-11T17:15:00.000000000",
          "2011-08-11T17:20:00.000000000",
          "2011-08-11T17:25:00.000000000",
          "2011-08-11T17:30:00.000000000",
          "2011-08-11T17:35:00.000000000",
          "2011-08-11T17:40:00.000000000",
          "2011-08-11T17:45:00.000000000",
          "2011-08-11T17:50:00.000000000",
          "2011-08-11T17:55:00.000000000",
          "2011-08-11T18:00:00.000000000",
          "2011-08-11T18:05:00.000000000",
          "2011-08-11T18:10:00.000000000",
          "2011-08-11T18:15:00.000000000",
          "2011-08-11T18:20:00.000000000",
          "2011-08-11T18:25:00.000000000",
          "2011-08-11T18:30:00.000000000",
          "2011-08-11T18:35:00.000000000",
          "2011-08-11T18:40:00.000000000",
          "2011-08-11T18:45:00.000000000",
          "2011-08-11T18:50:00.000000000",
          "2011-08-11T18:55:00.000000000",
          "2011-11-10T16:05:00.000000000",
          "2011-11-10T16:10:00.000000000",
          "2011-11-10T16:15:00.000000000",
          "2011-11-10T16:20:00.000000000",
          "2011-11-10T16:25:00.000000000",
          "2011-11-10T16:30:00.000000000",
          "2011-11-10T16:35:00.000000000",
          "2011-11-10T16:40:00.000000000",
          "2011-11-10T16:45:00.000000000",
          "2011-11-10T16:50:00.000000000",
          "2011-11-10T16:55:00.000000000",
          "2011-11-10T17:00:00.000000000",
          "2011-11-10T17:05:00.000000000",
          "2011-11-10T17:10:00.000000000",
          "2011-11-10T17:15:00.000000000",
          "2011-11-10T17:20:00.000000000",
          "2011-11-10T17:25:00.000000000",
          "2011-11-10T17:30:00.000000000",
          "2011-11-10T17:35:00.000000000",
          "2011-11-10T17:40:00.000000000",
          "2011-11-10T17:45:00.000000000",
          "2011-11-10T17:50:00.000000000",
          "2011-11-10T17:55:00.000000000",
          "2011-11-10T18:00:00.000000000",
          "2011-11-10T18:05:00.000000000",
          "2011-11-10T18:10:00.000000000",
          "2011-11-10T18:15:00.000000000",
          "2011-11-10T18:20:00.000000000",
          "2011-11-10T18:25:00.000000000",
          "2012-02-15T16:05:00.000000000",
          "2012-02-15T16:10:00.000000000",
          "2012-02-15T16:15:00.000000000",
          "2012-02-15T16:20:00.000000000",
          "2012-02-15T16:25:00.000000000",
          "2012-02-15T16:30:00.000000000",
          "2012-02-15T16:35:00.000000000",
          "2012-02-15T16:40:00.000000000",
          "2012-02-15T16:45:00.000000000",
          "2012-02-15T16:50:00.000000000",
          "2012-02-15T16:55:00.000000000",
          "2012-02-15T17:00:00.000000000",
          "2012-02-15T17:05:00.000000000",
          "2012-02-15T17:10:00.000000000",
          "2012-02-15T17:15:00.000000000",
          "2012-02-15T17:20:00.000000000",
          "2012-02-15T17:25:00.000000000",
          "2012-02-15T17:30:00.000000000",
          "2012-02-15T17:35:00.000000000",
          "2012-02-15T17:40:00.000000000",
          "2012-02-15T17:45:00.000000000",
          "2012-02-15T17:50:00.000000000",
          "2012-02-15T17:55:00.000000000",
          "2012-02-15T18:00:00.000000000",
          "2012-02-15T18:05:00.000000000",
          "2012-02-15T18:10:00.000000000",
          "2012-02-15T18:15:00.000000000",
          "2012-02-15T18:20:00.000000000",
          "2012-02-15T18:25:00.000000000",
          "2012-05-11T16:05:00.000000000",
          "2012-05-11T16:10:00.000000000",
          "2012-05-11T16:15:00.000000000",
          "2012-05-11T16:20:00.000000000",
          "2012-05-11T16:25:00.000000000",
          "2012-05-11T16:30:00.000000000",
          "2012-05-11T16:35:00.000000000",
          "2012-05-11T16:40:00.000000000",
          "2012-05-11T16:45:00.000000000",
          "2012-05-11T16:50:00.000000000",
          "2012-05-11T16:55:00.000000000",
          "2012-05-11T17:00:00.000000000",
          "2012-05-11T17:05:00.000000000",
          "2012-05-11T17:10:00.000000000",
          "2012-05-11T17:15:00.000000000",
          "2012-05-11T17:20:00.000000000",
          "2012-05-11T17:25:00.000000000",
          "2012-05-11T17:30:00.000000000",
          "2012-05-11T17:35:00.000000000",
          "2012-05-11T17:40:00.000000000",
          "2012-05-11T17:45:00.000000000",
          "2012-05-11T17:50:00.000000000",
          "2012-05-11T17:55:00.000000000",
          "2012-05-11T18:00:00.000000000",
          "2012-05-11T18:05:00.000000000",
          "2012-05-11T18:10:00.000000000",
          "2012-05-11T18:15:00.000000000",
          "2012-05-11T18:20:00.000000000",
          "2012-05-11T18:25:00.000000000",
          "2012-05-11T18:30:00.000000000",
          "2012-05-11T18:35:00.000000000",
          "2012-05-11T18:40:00.000000000",
          "2012-05-11T18:45:00.000000000",
          "2012-05-11T18:50:00.000000000",
          "2012-05-11T18:55:00.000000000",
          "2012-08-09T16:05:00.000000000",
          "2012-08-09T16:10:00.000000000",
          "2012-08-09T16:15:00.000000000",
          "2012-08-09T16:20:00.000000000",
          "2012-08-09T16:25:00.000000000",
          "2012-08-09T16:30:00.000000000",
          "2012-08-09T16:35:00.000000000",
          "2012-08-09T16:40:00.000000000",
          "2012-08-09T16:45:00.000000000",
          "2012-08-09T16:50:00.000000000",
          "2012-08-09T16:55:00.000000000",
          "2012-08-09T17:00:00.000000000",
          "2012-08-09T17:05:00.000000000",
          "2012-08-09T17:10:00.000000000",
          "2012-08-09T17:15:00.000000000",
          "2012-08-09T17:20:00.000000000",
          "2012-08-09T17:25:00.000000000",
          "2012-08-09T17:30:00.000000000",
          "2012-08-09T17:35:00.000000000",
          "2012-08-09T17:40:00.000000000",
          "2012-08-09T17:45:00.000000000",
          "2012-08-09T17:50:00.000000000",
          "2012-08-09T17:55:00.000000000",
          "2012-08-09T18:00:00.000000000",
          "2012-08-09T18:05:00.000000000",
          "2012-08-09T18:10:00.000000000",
          "2012-08-09T18:15:00.000000000",
          "2012-08-09T18:20:00.000000000",
          "2012-08-09T18:25:00.000000000",
          "2012-08-09T18:30:00.000000000",
          "2012-08-09T18:35:00.000000000",
          "2012-08-09T18:40:00.000000000",
          "2012-08-09T18:45:00.000000000",
          "2012-08-09T18:50:00.000000000",
          "2012-08-09T18:55:00.000000000",
          "2012-11-08T16:05:00.000000000",
          "2012-11-08T16:10:00.000000000",
          "2012-11-08T16:15:00.000000000",
          "2012-11-08T16:20:00.000000000",
          "2012-11-08T16:25:00.000000000",
          "2012-11-08T16:30:00.000000000",
          "2012-11-08T16:35:00.000000000",
          "2012-11-08T16:40:00.000000000",
          "2012-11-08T16:45:00.000000000",
          "2012-11-08T16:50:00.000000000",
          "2012-11-08T16:55:00.000000000",
          "2012-11-08T17:00:00.000000000",
          "2012-11-08T17:05:00.000000000",
          "2012-11-08T17:10:00.000000000",
          "2012-11-08T17:15:00.000000000",
          "2012-11-08T17:20:00.000000000",
          "2012-11-08T17:25:00.000000000",
          "2012-11-08T17:30:00.000000000",
          "2012-11-08T17:35:00.000000000",
          "2012-11-08T17:40:00.000000000",
          "2012-11-08T17:45:00.000000000",
          "2012-11-08T17:50:00.000000000",
          "2012-11-08T17:55:00.000000000",
          "2012-11-08T18:00:00.000000000",
          "2012-11-08T18:05:00.000000000",
          "2012-11-08T18:10:00.000000000",
          "2012-11-08T18:15:00.000000000",
          "2012-11-08T18:20:00.000000000",
          "2012-11-08T18:25:00.000000000",
          "2013-02-13T16:05:00.000000000",
          "2013-02-13T16:10:00.000000000",
          "2013-02-13T16:15:00.000000000",
          "2013-02-13T16:20:00.000000000",
          "2013-02-13T16:25:00.000000000",
          "2013-02-13T16:30:00.000000000",
          "2013-02-13T16:35:00.000000000",
          "2013-02-13T16:40:00.000000000",
          "2013-02-13T16:45:00.000000000",
          "2013-02-13T16:50:00.000000000",
          "2013-02-13T16:55:00.000000000",
          "2013-02-13T17:00:00.000000000",
          "2013-02-13T17:05:00.000000000",
          "2013-02-13T17:10:00.000000000",
          "2013-02-13T17:15:00.000000000",
          "2013-02-13T17:20:00.000000000",
          "2013-02-13T17:25:00.000000000",
          "2013-02-13T17:30:00.000000000",
          "2013-02-13T17:35:00.000000000",
          "2013-02-13T17:40:00.000000000",
          "2013-02-13T17:45:00.000000000",
          "2013-02-13T17:50:00.000000000",
          "2013-02-13T17:55:00.000000000",
          "2013-02-13T18:00:00.000000000",
          "2013-02-13T18:05:00.000000000",
          "2013-02-13T18:10:00.000000000",
          "2013-02-13T18:15:00.000000000",
          "2013-02-13T18:20:00.000000000",
          "2013-02-13T18:25:00.000000000",
          "2013-05-09T16:05:00.000000000",
          "2013-05-09T16:10:00.000000000",
          "2013-05-09T16:15:00.000000000",
          "2013-05-09T16:20:00.000000000",
          "2013-05-09T16:25:00.000000000",
          "2013-05-09T16:30:00.000000000",
          "2013-05-09T16:35:00.000000000",
          "2013-05-09T16:40:00.000000000",
          "2013-05-09T16:45:00.000000000",
          "2013-05-09T16:50:00.000000000",
          "2013-05-09T16:55:00.000000000",
          "2013-05-09T17:00:00.000000000",
          "2013-05-09T17:05:00.000000000",
          "2013-05-09T17:10:00.000000000",
          "2013-05-09T17:15:00.000000000",
          "2013-05-09T17:20:00.000000000",
          "2013-05-09T17:25:00.000000000",
          "2013-05-09T17:30:00.000000000",
          "2013-05-09T17:35:00.000000000",
          "2013-05-09T17:40:00.000000000",
          "2013-05-09T17:45:00.000000000",
          "2013-05-09T17:50:00.000000000",
          "2013-05-09T17:55:00.000000000",
          "2013-05-09T18:00:00.000000000",
          "2013-05-09T18:05:00.000000000",
          "2013-05-09T18:10:00.000000000",
          "2013-05-09T18:15:00.000000000",
          "2013-05-09T18:20:00.000000000",
          "2013-05-09T18:25:00.000000000",
          "2013-05-09T18:30:00.000000000",
          "2013-05-09T18:35:00.000000000",
          "2013-05-09T18:40:00.000000000",
          "2013-05-09T18:45:00.000000000",
          "2013-05-09T18:50:00.000000000",
          "2013-05-09T18:55:00.000000000",
          "2013-08-08T16:05:00.000000000",
          "2013-08-08T16:10:00.000000000",
          "2013-08-08T16:15:00.000000000",
          "2013-08-08T16:20:00.000000000",
          "2013-08-08T16:25:00.000000000",
          "2013-08-08T16:30:00.000000000",
          "2013-08-08T16:35:00.000000000",
          "2013-08-08T16:40:00.000000000",
          "2013-08-08T16:45:00.000000000",
          "2013-08-08T16:50:00.000000000",
          "2013-08-08T16:55:00.000000000",
          "2013-08-08T17:00:00.000000000",
          "2013-08-08T17:05:00.000000000",
          "2013-08-08T17:10:00.000000000",
          "2013-08-08T17:15:00.000000000",
          "2013-08-08T17:20:00.000000000",
          "2013-08-08T17:25:00.000000000",
          "2013-08-08T17:30:00.000000000",
          "2013-08-08T17:35:00.000000000",
          "2013-08-08T17:40:00.000000000",
          "2013-08-08T17:45:00.000000000",
          "2013-08-08T17:50:00.000000000",
          "2013-08-08T17:55:00.000000000",
          "2013-08-08T18:00:00.000000000",
          "2013-08-08T18:05:00.000000000",
          "2013-08-08T18:10:00.000000000",
          "2013-08-08T18:15:00.000000000",
          "2013-08-08T18:20:00.000000000",
          "2013-08-08T18:25:00.000000000",
          "2013-08-08T18:30:00.000000000",
          "2013-08-08T18:35:00.000000000",
          "2013-08-08T18:40:00.000000000",
          "2013-08-08T18:45:00.000000000",
          "2013-08-08T18:50:00.000000000",
          "2013-08-08T18:55:00.000000000",
          "2013-11-07T16:05:00.000000000",
          "2013-11-07T16:10:00.000000000",
          "2013-11-07T16:15:00.000000000",
          "2013-11-07T16:20:00.000000000",
          "2013-11-07T16:25:00.000000000",
          "2013-11-07T16:30:00.000000000",
          "2013-11-07T16:35:00.000000000",
          "2013-11-07T16:40:00.000000000",
          "2013-11-07T16:45:00.000000000",
          "2013-11-07T16:50:00.000000000",
          "2013-11-07T16:55:00.000000000",
          "2013-11-07T17:00:00.000000000",
          "2013-11-07T17:05:00.000000000",
          "2013-11-07T17:10:00.000000000",
          "2013-11-07T17:15:00.000000000",
          "2013-11-07T17:20:00.000000000",
          "2013-11-07T17:25:00.000000000",
          "2013-11-07T17:30:00.000000000",
          "2013-11-07T17:35:00.000000000",
          "2013-11-07T17:40:00.000000000",
          "2013-11-07T17:45:00.000000000",
          "2013-11-07T17:50:00.000000000",
          "2013-11-07T17:55:00.000000000",
          "2013-11-07T18:00:00.000000000",
          "2013-11-07T18:05:00.000000000",
          "2013-11-07T18:10:00.000000000",
          "2013-11-07T18:15:00.000000000",
          "2013-11-07T18:20:00.000000000",
          "2013-11-07T18:25:00.000000000",
          "2014-02-12T16:05:00.000000000",
          "2014-02-12T16:10:00.000000000",
          "2014-02-12T16:15:00.000000000",
          "2014-02-12T16:20:00.000000000",
          "2014-02-12T16:25:00.000000000",
          "2014-02-12T16:30:00.000000000",
          "2014-02-12T16:35:00.000000000",
          "2014-02-12T16:40:00.000000000",
          "2014-02-12T16:45:00.000000000",
          "2014-02-12T16:50:00.000000000",
          "2014-02-12T16:55:00.000000000",
          "2014-02-12T17:00:00.000000000",
          "2014-02-12T17:05:00.000000000",
          "2014-02-12T17:10:00.000000000",
          "2014-02-12T17:15:00.000000000",
          "2014-02-12T17:20:00.000000000",
          "2014-02-12T17:25:00.000000000",
          "2014-02-12T17:30:00.000000000",
          "2014-02-12T17:35:00.000000000",
          "2014-02-12T17:40:00.000000000",
          "2014-02-12T17:45:00.000000000",
          "2014-02-12T17:50:00.000000000",
          "2014-02-12T17:55:00.000000000",
          "2014-02-12T18:00:00.000000000",
          "2014-02-12T18:05:00.000000000",
          "2014-02-12T18:10:00.000000000",
          "2014-02-12T18:15:00.000000000",
          "2014-02-12T18:20:00.000000000",
          "2014-02-12T18:25:00.000000000",
          "2014-05-06T16:05:00.000000000",
          "2014-05-06T16:10:00.000000000",
          "2014-05-06T16:15:00.000000000",
          "2014-05-06T16:20:00.000000000",
          "2014-05-06T16:25:00.000000000",
          "2014-05-06T16:30:00.000000000",
          "2014-05-06T16:35:00.000000000",
          "2014-05-06T16:40:00.000000000",
          "2014-05-06T16:45:00.000000000",
          "2014-05-06T16:50:00.000000000",
          "2014-05-06T16:55:00.000000000",
          "2014-05-06T17:00:00.000000000",
          "2014-05-06T17:05:00.000000000",
          "2014-05-06T17:10:00.000000000",
          "2014-05-06T17:15:00.000000000",
          "2014-05-06T17:20:00.000000000",
          "2014-05-06T17:25:00.000000000",
          "2014-05-06T17:30:00.000000000",
          "2014-05-06T17:35:00.000000000",
          "2014-05-06T17:40:00.000000000",
          "2014-05-06T17:45:00.000000000",
          "2014-05-06T17:50:00.000000000",
          "2014-05-06T17:55:00.000000000",
          "2014-05-06T18:00:00.000000000",
          "2014-05-06T18:05:00.000000000",
          "2014-05-06T18:10:00.000000000",
          "2014-05-06T18:15:00.000000000",
          "2014-05-06T18:20:00.000000000",
          "2014-05-06T18:25:00.000000000",
          "2014-05-06T18:30:00.000000000",
          "2014-05-06T18:35:00.000000000",
          "2014-05-06T18:40:00.000000000",
          "2014-05-06T18:45:00.000000000",
          "2014-05-06T18:50:00.000000000",
          "2014-05-06T18:55:00.000000000",
          "2014-08-07T16:05:00.000000000",
          "2014-08-07T16:10:00.000000000",
          "2014-08-07T16:15:00.000000000",
          "2014-08-07T16:20:00.000000000",
          "2014-08-07T16:25:00.000000000",
          "2014-08-07T16:30:00.000000000",
          "2014-08-07T16:35:00.000000000",
          "2014-08-07T16:40:00.000000000",
          "2014-08-07T16:45:00.000000000",
          "2014-08-07T16:50:00.000000000",
          "2014-08-07T16:55:00.000000000",
          "2014-08-07T17:00:00.000000000",
          "2014-08-07T17:05:00.000000000",
          "2014-08-07T17:10:00.000000000",
          "2014-08-07T17:15:00.000000000",
          "2014-08-07T17:20:00.000000000",
          "2014-08-07T17:25:00.000000000",
          "2014-08-07T17:30:00.000000000",
          "2014-08-07T17:35:00.000000000",
          "2014-08-07T17:40:00.000000000",
          "2014-08-07T17:45:00.000000000",
          "2014-08-07T17:50:00.000000000",
          "2014-08-07T17:55:00.000000000",
          "2014-08-07T18:00:00.000000000",
          "2014-08-07T18:05:00.000000000",
          "2014-08-07T18:10:00.000000000",
          "2014-08-07T18:15:00.000000000",
          "2014-08-07T18:20:00.000000000",
          "2014-08-07T18:25:00.000000000",
          "2014-08-07T18:30:00.000000000",
          "2014-08-07T18:35:00.000000000",
          "2014-08-07T18:40:00.000000000",
          "2014-08-07T18:45:00.000000000",
          "2014-08-07T18:50:00.000000000",
          "2014-08-07T18:55:00.000000000",
          "2014-11-06T16:05:00.000000000",
          "2014-11-06T16:10:00.000000000",
          "2014-11-06T16:15:00.000000000",
          "2014-11-06T16:20:00.000000000",
          "2014-11-06T16:25:00.000000000",
          "2014-11-06T16:30:00.000000000",
          "2014-11-06T16:35:00.000000000",
          "2014-11-06T16:40:00.000000000",
          "2014-11-06T16:45:00.000000000",
          "2014-11-06T16:50:00.000000000",
          "2014-11-06T16:55:00.000000000",
          "2014-11-06T17:00:00.000000000",
          "2014-11-06T17:05:00.000000000",
          "2014-11-06T17:10:00.000000000",
          "2014-11-06T17:15:00.000000000",
          "2014-11-06T17:20:00.000000000",
          "2014-11-06T17:25:00.000000000",
          "2014-11-06T17:30:00.000000000",
          "2014-11-06T17:35:00.000000000",
          "2014-11-06T17:40:00.000000000",
          "2014-11-06T17:45:00.000000000",
          "2014-11-06T17:50:00.000000000",
          "2014-11-06T17:55:00.000000000",
          "2014-11-06T18:00:00.000000000",
          "2014-11-06T18:05:00.000000000",
          "2014-11-06T18:10:00.000000000",
          "2014-11-06T18:15:00.000000000",
          "2014-11-06T18:20:00.000000000",
          "2014-11-06T18:25:00.000000000",
          "2015-02-11T16:05:00.000000000",
          "2015-02-11T16:10:00.000000000",
          "2015-02-11T16:15:00.000000000",
          "2015-02-11T16:20:00.000000000",
          "2015-02-11T16:25:00.000000000",
          "2015-02-11T16:30:00.000000000",
          "2015-02-11T16:35:00.000000000",
          "2015-02-11T16:40:00.000000000",
          "2015-02-11T16:45:00.000000000",
          "2015-02-11T16:50:00.000000000",
          "2015-02-11T16:55:00.000000000",
          "2015-02-11T17:00:00.000000000",
          "2015-02-11T17:05:00.000000000",
          "2015-02-11T17:10:00.000000000",
          "2015-02-11T17:15:00.000000000",
          "2015-02-11T17:20:00.000000000",
          "2015-02-11T17:25:00.000000000",
          "2015-02-11T17:30:00.000000000",
          "2015-02-11T17:35:00.000000000",
          "2015-02-11T17:40:00.000000000",
          "2015-02-11T17:45:00.000000000",
          "2015-02-11T17:50:00.000000000",
          "2015-02-11T17:55:00.000000000",
          "2015-02-11T18:00:00.000000000",
          "2015-02-11T18:05:00.000000000",
          "2015-02-11T18:10:00.000000000",
          "2015-02-11T18:15:00.000000000",
          "2015-02-11T18:20:00.000000000",
          "2015-02-11T18:25:00.000000000",
          "2015-05-07T16:05:00.000000000",
          "2015-05-07T16:10:00.000000000",
          "2015-05-07T16:15:00.000000000",
          "2015-05-07T16:20:00.000000000",
          "2015-05-07T16:25:00.000000000",
          "2015-05-07T16:30:00.000000000",
          "2015-05-07T16:35:00.000000000",
          "2015-05-07T16:40:00.000000000",
          "2015-05-07T16:45:00.000000000",
          "2015-05-07T16:50:00.000000000",
          "2015-05-07T16:55:00.000000000",
          "2015-05-07T17:00:00.000000000",
          "2015-05-07T17:05:00.000000000",
          "2015-05-07T17:10:00.000000000",
          "2015-05-07T17:15:00.000000000",
          "2015-05-07T17:20:00.000000000",
          "2015-05-07T17:25:00.000000000",
          "2015-05-07T17:30:00.000000000",
          "2015-05-07T17:35:00.000000000",
          "2015-05-07T17:40:00.000000000",
          "2015-05-07T17:45:00.000000000",
          "2015-05-07T17:50:00.000000000",
          "2015-05-07T17:55:00.000000000",
          "2015-05-07T18:00:00.000000000",
          "2015-05-07T18:05:00.000000000",
          "2015-05-07T18:10:00.000000000",
          "2015-05-07T18:15:00.000000000",
          "2015-05-07T18:20:00.000000000",
          "2015-05-07T18:25:00.000000000",
          "2015-05-07T18:30:00.000000000",
          "2015-05-07T18:35:00.000000000",
          "2015-05-07T18:40:00.000000000",
          "2015-05-07T18:45:00.000000000",
          "2015-05-07T18:50:00.000000000",
          "2015-05-07T18:55:00.000000000",
          "2015-08-06T16:05:00.000000000",
          "2015-08-06T16:10:00.000000000",
          "2015-08-06T16:15:00.000000000",
          "2015-08-06T16:20:00.000000000",
          "2015-08-06T16:25:00.000000000",
          "2015-08-06T16:30:00.000000000",
          "2015-08-06T16:35:00.000000000",
          "2015-08-06T16:40:00.000000000",
          "2015-08-06T16:45:00.000000000",
          "2015-08-06T16:50:00.000000000",
          "2015-08-06T16:55:00.000000000",
          "2015-08-06T17:00:00.000000000",
          "2015-08-06T17:05:00.000000000",
          "2015-08-06T17:10:00.000000000",
          "2015-08-06T17:15:00.000000000",
          "2015-08-06T17:20:00.000000000",
          "2015-08-06T17:25:00.000000000",
          "2015-08-06T17:30:00.000000000",
          "2015-08-06T17:35:00.000000000",
          "2015-08-06T17:40:00.000000000",
          "2015-08-06T17:45:00.000000000",
          "2015-08-06T17:50:00.000000000",
          "2015-08-06T17:55:00.000000000",
          "2015-08-06T18:00:00.000000000",
          "2015-08-06T18:05:00.000000000",
          "2015-08-06T18:10:00.000000000",
          "2015-08-06T18:15:00.000000000",
          "2015-08-06T18:20:00.000000000",
          "2015-08-06T18:25:00.000000000",
          "2015-08-06T18:30:00.000000000",
          "2015-08-06T18:35:00.000000000",
          "2015-08-06T18:40:00.000000000",
          "2015-08-06T18:45:00.000000000",
          "2015-08-06T18:50:00.000000000",
          "2015-08-06T18:55:00.000000000",
          "2015-11-05T16:05:00.000000000",
          "2015-11-05T16:10:00.000000000",
          "2015-11-05T16:15:00.000000000",
          "2015-11-05T16:20:00.000000000",
          "2015-11-05T16:25:00.000000000",
          "2015-11-05T16:30:00.000000000",
          "2015-11-05T16:35:00.000000000",
          "2015-11-05T16:40:00.000000000",
          "2015-11-05T16:45:00.000000000",
          "2015-11-05T16:50:00.000000000",
          "2015-11-05T16:55:00.000000000",
          "2015-11-05T17:00:00.000000000",
          "2015-11-05T17:05:00.000000000",
          "2015-11-05T17:10:00.000000000",
          "2015-11-05T17:15:00.000000000",
          "2015-11-05T17:20:00.000000000",
          "2015-11-05T17:25:00.000000000",
          "2015-11-05T17:30:00.000000000",
          "2015-11-05T17:35:00.000000000",
          "2015-11-05T17:40:00.000000000",
          "2015-11-05T17:45:00.000000000",
          "2015-11-05T17:50:00.000000000",
          "2015-11-05T17:55:00.000000000",
          "2015-11-05T18:00:00.000000000",
          "2015-11-05T18:05:00.000000000",
          "2015-11-05T18:10:00.000000000",
          "2015-11-05T18:15:00.000000000",
          "2015-11-05T18:20:00.000000000",
          "2015-11-05T18:25:00.000000000",
          "2016-02-17T16:05:00.000000000",
          "2016-02-17T16:10:00.000000000",
          "2016-02-17T16:15:00.000000000",
          "2016-02-17T16:20:00.000000000",
          "2016-02-17T16:25:00.000000000",
          "2016-02-17T16:30:00.000000000",
          "2016-02-17T16:35:00.000000000",
          "2016-02-17T16:40:00.000000000",
          "2016-02-17T16:45:00.000000000",
          "2016-02-17T16:50:00.000000000",
          "2016-02-17T16:55:00.000000000",
          "2016-02-17T17:00:00.000000000",
          "2016-02-17T17:05:00.000000000",
          "2016-02-17T17:10:00.000000000",
          "2016-02-17T17:15:00.000000000",
          "2016-02-17T17:20:00.000000000",
          "2016-02-17T17:25:00.000000000",
          "2016-02-17T17:30:00.000000000",
          "2016-02-17T17:35:00.000000000",
          "2016-02-17T17:40:00.000000000",
          "2016-02-17T17:45:00.000000000",
          "2016-02-17T17:50:00.000000000",
          "2016-02-17T17:55:00.000000000",
          "2016-02-17T18:00:00.000000000",
          "2016-02-17T18:05:00.000000000",
          "2016-02-17T18:10:00.000000000",
          "2016-02-17T18:15:00.000000000",
          "2016-02-17T18:20:00.000000000",
          "2016-02-17T18:25:00.000000000",
          "2016-05-12T16:05:00.000000000",
          "2016-05-12T16:10:00.000000000",
          "2016-05-12T16:15:00.000000000",
          "2016-05-12T16:20:00.000000000",
          "2016-05-12T16:25:00.000000000",
          "2016-05-12T16:30:00.000000000",
          "2016-05-12T16:35:00.000000000",
          "2016-05-12T16:40:00.000000000",
          "2016-05-12T16:45:00.000000000",
          "2016-05-12T16:50:00.000000000",
          "2016-05-12T16:55:00.000000000",
          "2016-05-12T17:00:00.000000000",
          "2016-05-12T17:05:00.000000000",
          "2016-05-12T17:10:00.000000000",
          "2016-05-12T17:15:00.000000000",
          "2016-05-12T17:20:00.000000000",
          "2016-05-12T17:25:00.000000000",
          "2016-05-12T17:30:00.000000000",
          "2016-05-12T17:35:00.000000000",
          "2016-05-12T17:40:00.000000000",
          "2016-05-12T17:45:00.000000000",
          "2016-05-12T17:50:00.000000000",
          "2016-05-12T17:55:00.000000000",
          "2016-05-12T18:00:00.000000000",
          "2016-05-12T18:05:00.000000000",
          "2016-05-12T18:10:00.000000000",
          "2016-05-12T18:15:00.000000000",
          "2016-05-12T18:20:00.000000000",
          "2016-05-12T18:25:00.000000000",
          "2016-05-12T18:30:00.000000000",
          "2016-05-12T18:35:00.000000000",
          "2016-05-12T18:40:00.000000000",
          "2016-05-12T18:45:00.000000000",
          "2016-05-12T18:50:00.000000000",
          "2016-05-12T18:55:00.000000000",
          "2016-08-11T16:05:00.000000000",
          "2016-08-11T16:10:00.000000000",
          "2016-08-11T16:15:00.000000000",
          "2016-08-11T16:20:00.000000000",
          "2016-08-11T16:25:00.000000000",
          "2016-08-11T16:30:00.000000000",
          "2016-08-11T16:35:00.000000000",
          "2016-08-11T16:40:00.000000000",
          "2016-08-11T16:45:00.000000000",
          "2016-08-11T16:50:00.000000000",
          "2016-08-11T16:55:00.000000000",
          "2016-08-11T17:00:00.000000000",
          "2016-08-11T17:05:00.000000000",
          "2016-08-11T17:10:00.000000000",
          "2016-08-11T17:15:00.000000000",
          "2016-08-11T17:20:00.000000000",
          "2016-08-11T17:25:00.000000000",
          "2016-08-11T17:30:00.000000000",
          "2016-08-11T17:35:00.000000000",
          "2016-08-11T17:40:00.000000000",
          "2016-08-11T17:45:00.000000000",
          "2016-08-11T17:50:00.000000000",
          "2016-08-11T17:55:00.000000000",
          "2016-08-11T18:00:00.000000000",
          "2016-08-11T18:05:00.000000000",
          "2016-08-11T18:10:00.000000000",
          "2016-08-11T18:15:00.000000000",
          "2016-08-11T18:20:00.000000000",
          "2016-08-11T18:25:00.000000000",
          "2016-08-11T18:30:00.000000000",
          "2016-08-11T18:35:00.000000000",
          "2016-08-11T18:40:00.000000000",
          "2016-08-11T18:45:00.000000000",
          "2016-08-11T18:50:00.000000000",
          "2016-08-11T18:55:00.000000000",
          "2016-11-10T16:05:00.000000000",
          "2016-11-10T16:10:00.000000000",
          "2016-11-10T16:15:00.000000000",
          "2016-11-10T16:20:00.000000000",
          "2016-11-10T16:25:00.000000000",
          "2016-11-10T16:30:00.000000000",
          "2016-11-10T16:35:00.000000000",
          "2016-11-10T16:40:00.000000000",
          "2016-11-10T16:45:00.000000000",
          "2016-11-10T16:50:00.000000000",
          "2016-11-10T16:55:00.000000000",
          "2016-11-10T17:00:00.000000000",
          "2016-11-10T17:05:00.000000000",
          "2016-11-10T17:10:00.000000000",
          "2016-11-10T17:15:00.000000000",
          "2016-11-10T17:20:00.000000000",
          "2016-11-10T17:25:00.000000000",
          "2016-11-10T17:30:00.000000000",
          "2016-11-10T17:35:00.000000000",
          "2016-11-10T17:40:00.000000000",
          "2016-11-10T17:45:00.000000000",
          "2016-11-10T17:50:00.000000000",
          "2016-11-10T17:55:00.000000000",
          "2016-11-10T18:00:00.000000000",
          "2016-11-10T18:05:00.000000000",
          "2016-11-10T18:10:00.000000000",
          "2016-11-10T18:15:00.000000000",
          "2016-11-10T18:20:00.000000000",
          "2016-11-10T18:25:00.000000000",
          "2017-02-09T16:05:00.000000000",
          "2017-02-09T16:10:00.000000000",
          "2017-02-09T16:15:00.000000000",
          "2017-02-09T16:20:00.000000000",
          "2017-02-09T16:25:00.000000000",
          "2017-02-09T16:30:00.000000000",
          "2017-02-09T16:35:00.000000000",
          "2017-02-09T16:40:00.000000000",
          "2017-02-09T16:45:00.000000000",
          "2017-02-09T16:50:00.000000000",
          "2017-02-09T16:55:00.000000000",
          "2017-02-09T17:00:00.000000000",
          "2017-02-09T17:05:00.000000000",
          "2017-02-09T17:10:00.000000000",
          "2017-02-09T17:15:00.000000000",
          "2017-02-09T17:20:00.000000000",
          "2017-02-09T17:25:00.000000000",
          "2017-02-09T17:30:00.000000000",
          "2017-02-09T17:35:00.000000000",
          "2017-02-09T17:40:00.000000000",
          "2017-02-09T17:45:00.000000000",
          "2017-02-09T17:50:00.000000000",
          "2017-02-09T17:55:00.000000000",
          "2017-02-09T18:00:00.000000000",
          "2017-02-09T18:05:00.000000000",
          "2017-02-09T18:10:00.000000000",
          "2017-02-09T18:15:00.000000000",
          "2017-02-09T18:20:00.000000000",
          "2017-02-09T18:25:00.000000000",
          "2017-05-09T16:05:00.000000000",
          "2017-05-09T16:10:00.000000000",
          "2017-05-09T16:15:00.000000000",
          "2017-05-09T16:20:00.000000000",
          "2017-05-09T16:25:00.000000000",
          "2017-05-09T16:30:00.000000000",
          "2017-05-09T16:35:00.000000000",
          "2017-05-09T16:40:00.000000000",
          "2017-05-09T16:45:00.000000000",
          "2017-05-09T16:50:00.000000000",
          "2017-05-09T16:55:00.000000000",
          "2017-05-09T17:00:00.000000000",
          "2017-05-09T17:05:00.000000000",
          "2017-05-09T17:10:00.000000000",
          "2017-05-09T17:15:00.000000000",
          "2017-05-09T17:20:00.000000000",
          "2017-05-09T17:25:00.000000000",
          "2017-05-09T17:30:00.000000000",
          "2017-05-09T17:35:00.000000000",
          "2017-05-09T17:40:00.000000000",
          "2017-05-09T17:45:00.000000000",
          "2017-05-09T17:50:00.000000000",
          "2017-05-09T17:55:00.000000000",
          "2017-05-09T18:00:00.000000000",
          "2017-05-09T18:05:00.000000000",
          "2017-05-09T18:10:00.000000000",
          "2017-05-09T18:15:00.000000000",
          "2017-05-09T18:20:00.000000000",
          "2017-05-09T18:25:00.000000000",
          "2017-05-09T18:30:00.000000000",
          "2017-05-09T18:35:00.000000000",
          "2017-05-09T18:40:00.000000000",
          "2017-05-09T18:45:00.000000000",
          "2017-05-09T18:50:00.000000000",
          "2017-05-09T18:55:00.000000000",
          "2017-08-10T16:05:00.000000000",
          "2017-08-10T16:10:00.000000000",
          "2017-08-10T16:15:00.000000000",
          "2017-08-10T16:20:00.000000000",
          "2017-08-10T16:25:00.000000000",
          "2017-08-10T16:30:00.000000000",
          "2017-08-10T16:35:00.000000000",
          "2017-08-10T16:40:00.000000000",
          "2017-08-10T16:45:00.000000000",
          "2017-08-10T16:50:00.000000000",
          "2017-08-10T16:55:00.000000000",
          "2017-08-10T17:00:00.000000000",
          "2017-08-10T17:05:00.000000000",
          "2017-08-10T17:10:00.000000000",
          "2017-08-10T17:15:00.000000000",
          "2017-08-10T17:20:00.000000000",
          "2017-08-10T17:25:00.000000000",
          "2017-08-10T17:30:00.000000000",
          "2017-08-10T17:35:00.000000000",
          "2017-08-10T17:40:00.000000000",
          "2017-08-10T17:45:00.000000000",
          "2017-08-10T17:50:00.000000000",
          "2017-08-10T17:55:00.000000000",
          "2017-08-10T18:00:00.000000000",
          "2017-08-10T18:05:00.000000000",
          "2017-08-10T18:10:00.000000000",
          "2017-08-10T18:15:00.000000000",
          "2017-08-10T18:20:00.000000000",
          "2017-08-10T18:25:00.000000000",
          "2017-08-10T18:30:00.000000000",
          "2017-08-10T18:35:00.000000000",
          "2017-08-10T18:40:00.000000000",
          "2017-08-10T18:45:00.000000000",
          "2017-08-10T18:50:00.000000000",
          "2017-08-10T18:55:00.000000000",
          "2017-11-09T16:05:00.000000000",
          "2017-11-09T16:10:00.000000000",
          "2017-11-09T16:15:00.000000000",
          "2017-11-09T16:20:00.000000000",
          "2017-11-09T16:25:00.000000000",
          "2017-11-09T16:30:00.000000000",
          "2017-11-09T16:35:00.000000000",
          "2017-11-09T16:40:00.000000000",
          "2017-11-09T16:45:00.000000000",
          "2017-11-09T16:50:00.000000000",
          "2017-11-09T16:55:00.000000000",
          "2017-11-09T17:00:00.000000000",
          "2017-11-09T17:05:00.000000000",
          "2017-11-09T17:10:00.000000000",
          "2017-11-09T17:15:00.000000000",
          "2017-11-09T17:20:00.000000000",
          "2017-11-09T17:25:00.000000000",
          "2017-11-09T17:30:00.000000000",
          "2017-11-09T17:35:00.000000000",
          "2017-11-09T17:40:00.000000000",
          "2017-11-09T17:45:00.000000000",
          "2017-11-09T17:50:00.000000000",
          "2017-11-09T17:55:00.000000000",
          "2017-11-09T18:00:00.000000000",
          "2017-11-09T18:05:00.000000000",
          "2017-11-09T18:10:00.000000000",
          "2017-11-09T18:15:00.000000000",
          "2017-11-09T18:20:00.000000000",
          "2017-11-09T18:25:00.000000000",
          "2018-02-08T16:05:00.000000000",
          "2018-02-08T16:10:00.000000000",
          "2018-02-08T16:15:00.000000000",
          "2018-02-08T16:20:00.000000000",
          "2018-02-08T16:25:00.000000000",
          "2018-02-08T16:30:00.000000000",
          "2018-02-08T16:35:00.000000000",
          "2018-02-08T16:40:00.000000000",
          "2018-02-08T16:45:00.000000000",
          "2018-02-08T16:50:00.000000000",
          "2018-02-08T16:55:00.000000000",
          "2018-02-08T17:00:00.000000000",
          "2018-02-08T17:05:00.000000000",
          "2018-02-08T17:10:00.000000000",
          "2018-02-08T17:15:00.000000000",
          "2018-02-08T17:20:00.000000000",
          "2018-02-08T17:25:00.000000000",
          "2018-02-08T17:30:00.000000000",
          "2018-02-08T17:35:00.000000000",
          "2018-02-08T17:40:00.000000000",
          "2018-02-08T17:45:00.000000000",
          "2018-02-08T17:50:00.000000000",
          "2018-02-08T17:55:00.000000000",
          "2018-02-08T18:00:00.000000000",
          "2018-02-08T18:05:00.000000000",
          "2018-02-08T18:10:00.000000000",
          "2018-02-08T18:15:00.000000000",
          "2018-02-08T18:20:00.000000000",
          "2018-02-08T18:25:00.000000000",
          "2018-05-10T16:05:00.000000000",
          "2018-05-10T16:10:00.000000000",
          "2018-05-10T16:15:00.000000000",
          "2018-05-10T16:20:00.000000000",
          "2018-05-10T16:25:00.000000000",
          "2018-05-10T16:30:00.000000000",
          "2018-05-10T16:35:00.000000000",
          "2018-05-10T16:40:00.000000000",
          "2018-05-10T16:45:00.000000000",
          "2018-05-10T16:50:00.000000000",
          "2018-05-10T16:55:00.000000000",
          "2018-05-10T17:00:00.000000000",
          "2018-05-10T17:05:00.000000000",
          "2018-05-10T17:10:00.000000000",
          "2018-05-10T17:15:00.000000000",
          "2018-05-10T17:20:00.000000000",
          "2018-05-10T17:25:00.000000000",
          "2018-05-10T17:30:00.000000000",
          "2018-05-10T17:35:00.000000000",
          "2018-05-10T17:40:00.000000000",
          "2018-05-10T17:45:00.000000000",
          "2018-05-10T17:50:00.000000000",
          "2018-05-10T17:55:00.000000000",
          "2018-05-10T18:00:00.000000000",
          "2018-05-10T18:05:00.000000000",
          "2018-05-10T18:10:00.000000000",
          "2018-05-10T18:15:00.000000000",
          "2018-05-10T18:20:00.000000000",
          "2018-05-10T18:25:00.000000000",
          "2018-05-10T18:30:00.000000000",
          "2018-05-10T18:35:00.000000000",
          "2018-05-10T18:40:00.000000000",
          "2018-05-10T18:45:00.000000000",
          "2018-05-10T18:50:00.000000000",
          "2018-05-10T18:55:00.000000000",
          "2018-08-16T16:05:00.000000000",
          "2018-08-16T16:10:00.000000000",
          "2018-08-16T16:15:00.000000000",
          "2018-08-16T16:20:00.000000000",
          "2018-08-16T16:25:00.000000000",
          "2018-08-16T16:30:00.000000000",
          "2018-08-16T16:35:00.000000000",
          "2018-08-16T16:40:00.000000000",
          "2018-08-16T16:45:00.000000000",
          "2018-08-16T16:50:00.000000000",
          "2018-08-16T16:55:00.000000000",
          "2018-08-16T17:00:00.000000000",
          "2018-08-16T17:05:00.000000000",
          "2018-08-16T17:10:00.000000000",
          "2018-08-16T17:15:00.000000000",
          "2018-08-16T17:20:00.000000000",
          "2018-08-16T17:25:00.000000000",
          "2018-08-16T17:30:00.000000000",
          "2018-08-16T17:35:00.000000000",
          "2018-08-16T17:40:00.000000000",
          "2018-08-16T17:45:00.000000000",
          "2018-08-16T17:50:00.000000000",
          "2018-08-16T17:55:00.000000000",
          "2018-08-16T18:00:00.000000000",
          "2018-08-16T18:05:00.000000000",
          "2018-08-16T18:10:00.000000000",
          "2018-08-16T18:15:00.000000000",
          "2018-08-16T18:20:00.000000000",
          "2018-08-16T18:25:00.000000000",
          "2018-08-16T18:30:00.000000000",
          "2018-08-16T18:35:00.000000000",
          "2018-08-16T18:40:00.000000000",
          "2018-08-16T18:45:00.000000000",
          "2018-08-16T18:50:00.000000000",
          "2018-08-16T18:55:00.000000000",
          "2018-11-15T16:05:00.000000000",
          "2018-11-15T16:10:00.000000000",
          "2018-11-15T16:15:00.000000000",
          "2018-11-15T16:20:00.000000000",
          "2018-11-15T16:25:00.000000000",
          "2018-11-15T16:30:00.000000000",
          "2018-11-15T16:35:00.000000000",
          "2018-11-15T16:40:00.000000000",
          "2018-11-15T16:45:00.000000000",
          "2018-11-15T16:50:00.000000000",
          "2018-11-15T16:55:00.000000000",
          "2018-11-15T17:00:00.000000000",
          "2018-11-15T17:05:00.000000000",
          "2018-11-15T17:10:00.000000000",
          "2018-11-15T17:15:00.000000000",
          "2018-11-15T17:20:00.000000000",
          "2018-11-15T17:25:00.000000000",
          "2018-11-15T17:30:00.000000000",
          "2018-11-15T17:35:00.000000000",
          "2018-11-15T17:40:00.000000000",
          "2018-11-15T17:45:00.000000000",
          "2018-11-15T17:50:00.000000000",
          "2018-11-15T17:55:00.000000000",
          "2018-11-15T18:00:00.000000000",
          "2018-11-15T18:05:00.000000000",
          "2018-11-15T18:10:00.000000000",
          "2018-11-15T18:15:00.000000000",
          "2018-11-15T18:20:00.000000000",
          "2018-11-15T18:25:00.000000000",
          "2019-02-14T16:05:00.000000000",
          "2019-02-14T16:10:00.000000000",
          "2019-02-14T16:15:00.000000000",
          "2019-02-14T16:20:00.000000000",
          "2019-02-14T16:25:00.000000000",
          "2019-02-14T16:30:00.000000000",
          "2019-02-14T16:35:00.000000000",
          "2019-02-14T16:40:00.000000000",
          "2019-02-14T16:45:00.000000000",
          "2019-02-14T16:50:00.000000000",
          "2019-02-14T16:55:00.000000000",
          "2019-02-14T17:00:00.000000000",
          "2019-02-14T17:05:00.000000000",
          "2019-02-14T17:10:00.000000000",
          "2019-02-14T17:15:00.000000000",
          "2019-02-14T17:20:00.000000000",
          "2019-02-14T17:25:00.000000000",
          "2019-02-14T17:30:00.000000000",
          "2019-02-14T17:35:00.000000000",
          "2019-02-14T17:40:00.000000000",
          "2019-02-14T17:45:00.000000000",
          "2019-02-14T17:50:00.000000000",
          "2019-02-14T17:55:00.000000000",
          "2019-02-14T18:00:00.000000000",
          "2019-02-14T18:05:00.000000000",
          "2019-02-14T18:10:00.000000000",
          "2019-02-14T18:15:00.000000000",
          "2019-02-14T18:20:00.000000000",
          "2019-02-14T18:25:00.000000000",
          "2019-05-16T16:05:00.000000000",
          "2019-05-16T16:10:00.000000000",
          "2019-05-16T16:15:00.000000000",
          "2019-05-16T16:20:00.000000000",
          "2019-05-16T16:25:00.000000000",
          "2019-05-16T16:30:00.000000000",
          "2019-05-16T16:35:00.000000000",
          "2019-05-16T16:40:00.000000000",
          "2019-05-16T16:45:00.000000000",
          "2019-05-16T16:50:00.000000000",
          "2019-05-16T16:55:00.000000000",
          "2019-05-16T17:00:00.000000000",
          "2019-05-16T17:05:00.000000000",
          "2019-05-16T17:10:00.000000000",
          "2019-05-16T17:15:00.000000000",
          "2019-05-16T17:20:00.000000000",
          "2019-05-16T17:25:00.000000000",
          "2019-05-16T17:30:00.000000000",
          "2019-05-16T17:35:00.000000000",
          "2019-05-16T17:40:00.000000000",
          "2019-05-16T17:45:00.000000000",
          "2019-05-16T17:50:00.000000000",
          "2019-05-16T17:55:00.000000000",
          "2019-05-16T18:00:00.000000000",
          "2019-05-16T18:05:00.000000000",
          "2019-05-16T18:10:00.000000000",
          "2019-05-16T18:15:00.000000000",
          "2019-05-16T18:20:00.000000000",
          "2019-05-16T18:25:00.000000000",
          "2019-05-16T18:30:00.000000000",
          "2019-05-16T18:35:00.000000000",
          "2019-05-16T18:40:00.000000000",
          "2019-05-16T18:45:00.000000000",
          "2019-05-16T18:50:00.000000000",
          "2019-05-16T18:55:00.000000000",
          "2019-08-15T16:05:00.000000000",
          "2019-08-15T16:10:00.000000000",
          "2019-08-15T16:15:00.000000000",
          "2019-08-15T16:20:00.000000000",
          "2019-08-15T16:25:00.000000000",
          "2019-08-15T16:30:00.000000000",
          "2019-08-15T16:35:00.000000000",
          "2019-08-15T16:40:00.000000000",
          "2019-08-15T16:45:00.000000000",
          "2019-08-15T16:50:00.000000000",
          "2019-08-15T16:55:00.000000000",
          "2019-08-15T17:00:00.000000000",
          "2019-08-15T17:05:00.000000000",
          "2019-08-15T17:10:00.000000000",
          "2019-08-15T17:15:00.000000000",
          "2019-08-15T17:20:00.000000000",
          "2019-08-15T17:25:00.000000000",
          "2019-08-15T17:30:00.000000000",
          "2019-08-15T17:35:00.000000000",
          "2019-08-15T17:40:00.000000000",
          "2019-08-15T17:45:00.000000000",
          "2019-08-15T17:50:00.000000000",
          "2019-08-15T17:55:00.000000000",
          "2019-08-15T18:00:00.000000000",
          "2019-08-15T18:05:00.000000000",
          "2019-08-15T18:10:00.000000000",
          "2019-08-15T18:15:00.000000000",
          "2019-08-15T18:20:00.000000000",
          "2019-08-15T18:25:00.000000000",
          "2019-08-15T18:30:00.000000000",
          "2019-08-15T18:35:00.000000000",
          "2019-08-15T18:40:00.000000000",
          "2019-08-15T18:45:00.000000000",
          "2019-08-15T18:50:00.000000000",
          "2019-08-15T18:55:00.000000000",
          "2019-11-14T16:05:00.000000000",
          "2019-11-14T16:10:00.000000000",
          "2019-11-14T16:15:00.000000000",
          "2019-11-14T16:20:00.000000000",
          "2019-11-14T16:25:00.000000000",
          "2019-11-14T16:30:00.000000000",
          "2019-11-14T16:35:00.000000000",
          "2019-11-14T16:40:00.000000000",
          "2019-11-14T16:45:00.000000000",
          "2019-11-14T16:50:00.000000000",
          "2019-11-14T16:55:00.000000000",
          "2019-11-14T17:00:00.000000000",
          "2019-11-14T17:05:00.000000000",
          "2019-11-14T17:10:00.000000000",
          "2019-11-14T17:15:00.000000000",
          "2019-11-14T17:20:00.000000000",
          "2019-11-14T17:25:00.000000000",
          "2019-11-14T17:30:00.000000000",
          "2019-11-14T17:35:00.000000000",
          "2019-11-14T17:40:00.000000000",
          "2019-11-14T17:45:00.000000000",
          "2019-11-14T17:50:00.000000000",
          "2019-11-14T17:55:00.000000000",
          "2019-11-14T18:00:00.000000000",
          "2019-11-14T18:05:00.000000000",
          "2019-11-14T18:10:00.000000000",
          "2019-11-14T18:15:00.000000000",
          "2019-11-14T18:20:00.000000000",
          "2019-11-14T18:25:00.000000000",
          "2020-02-13T16:05:00.000000000",
          "2020-02-13T16:10:00.000000000",
          "2020-02-13T16:15:00.000000000",
          "2020-02-13T16:20:00.000000000",
          "2020-02-13T16:25:00.000000000",
          "2020-02-13T16:30:00.000000000",
          "2020-02-13T16:35:00.000000000",
          "2020-02-13T16:40:00.000000000",
          "2020-02-13T16:45:00.000000000",
          "2020-02-13T16:50:00.000000000",
          "2020-02-13T16:55:00.000000000",
          "2020-02-13T17:00:00.000000000",
          "2020-02-13T17:05:00.000000000",
          "2020-02-13T17:10:00.000000000",
          "2020-02-13T17:15:00.000000000",
          "2020-02-13T17:20:00.000000000",
          "2020-02-13T17:25:00.000000000",
          "2020-02-13T17:30:00.000000000",
          "2020-02-13T17:35:00.000000000",
          "2020-02-13T17:40:00.000000000",
          "2020-02-13T17:45:00.000000000",
          "2020-02-13T17:50:00.000000000",
          "2020-02-13T17:55:00.000000000",
          "2020-02-13T18:00:00.000000000",
          "2020-02-13T18:05:00.000000000",
          "2020-02-13T18:10:00.000000000",
          "2020-02-13T18:15:00.000000000",
          "2020-02-13T18:20:00.000000000",
          "2020-02-13T18:25:00.000000000",
          "2020-05-21T16:05:00.000000000",
          "2020-05-21T16:10:00.000000000",
          "2020-05-21T16:15:00.000000000",
          "2020-05-21T16:20:00.000000000",
          "2020-05-21T16:25:00.000000000",
          "2020-05-21T16:30:00.000000000",
          "2020-05-21T16:35:00.000000000",
          "2020-05-21T16:40:00.000000000",
          "2020-05-21T16:45:00.000000000",
          "2020-05-21T16:50:00.000000000",
          "2020-05-21T16:55:00.000000000",
          "2020-05-21T17:00:00.000000000",
          "2020-05-21T17:05:00.000000000",
          "2020-05-21T17:10:00.000000000",
          "2020-05-21T17:15:00.000000000",
          "2020-05-21T17:20:00.000000000",
          "2020-05-21T17:25:00.000000000",
          "2020-05-21T17:30:00.000000000",
          "2020-05-21T17:35:00.000000000",
          "2020-05-21T17:40:00.000000000",
          "2020-05-21T17:45:00.000000000",
          "2020-05-21T17:50:00.000000000",
          "2020-05-21T17:55:00.000000000",
          "2020-05-21T18:00:00.000000000",
          "2020-05-21T18:05:00.000000000",
          "2020-05-21T18:10:00.000000000",
          "2020-05-21T18:15:00.000000000",
          "2020-05-21T18:20:00.000000000",
          "2020-05-21T18:25:00.000000000",
          "2020-05-21T18:30:00.000000000",
          "2020-05-21T18:35:00.000000000",
          "2020-05-21T18:40:00.000000000",
          "2020-05-21T18:45:00.000000000",
          "2020-05-21T18:50:00.000000000",
          "2020-05-21T18:55:00.000000000",
          "2020-08-19T16:05:00.000000000",
          "2020-08-19T16:10:00.000000000",
          "2020-08-19T16:15:00.000000000",
          "2020-08-19T16:20:00.000000000",
          "2020-08-19T16:25:00.000000000",
          "2020-08-19T16:30:00.000000000",
          "2020-08-19T16:35:00.000000000",
          "2020-08-19T16:40:00.000000000",
          "2020-08-19T16:45:00.000000000",
          "2020-08-19T16:50:00.000000000",
          "2020-08-19T16:55:00.000000000",
          "2020-08-19T17:00:00.000000000",
          "2020-08-19T17:05:00.000000000",
          "2020-08-19T17:10:00.000000000",
          "2020-08-19T17:15:00.000000000",
          "2020-08-19T17:20:00.000000000",
          "2020-08-19T17:25:00.000000000",
          "2020-08-19T17:30:00.000000000",
          "2020-08-19T17:35:00.000000000",
          "2020-08-19T17:40:00.000000000",
          "2020-08-19T17:45:00.000000000",
          "2020-08-19T17:50:00.000000000",
          "2020-08-19T17:55:00.000000000",
          "2020-08-19T18:00:00.000000000",
          "2020-08-19T18:05:00.000000000",
          "2020-08-19T18:10:00.000000000",
          "2020-08-19T18:15:00.000000000",
          "2020-08-19T18:20:00.000000000",
          "2020-08-19T18:25:00.000000000",
          "2020-08-19T18:30:00.000000000",
          "2020-08-19T18:35:00.000000000",
          "2020-08-19T18:40:00.000000000",
          "2020-08-19T18:45:00.000000000",
          "2020-08-19T18:50:00.000000000",
          "2020-08-19T18:55:00.000000000",
          "2020-11-18T16:05:00.000000000",
          "2020-11-18T16:10:00.000000000",
          "2020-11-18T16:15:00.000000000",
          "2020-11-18T16:20:00.000000000",
          "2020-11-18T16:25:00.000000000",
          "2020-11-18T16:30:00.000000000",
          "2020-11-18T16:35:00.000000000",
          "2020-11-18T16:40:00.000000000",
          "2020-11-18T16:45:00.000000000",
          "2020-11-18T16:50:00.000000000",
          "2020-11-18T16:55:00.000000000",
          "2020-11-18T17:00:00.000000000",
          "2020-11-18T17:05:00.000000000",
          "2020-11-18T17:10:00.000000000",
          "2020-11-18T17:15:00.000000000",
          "2020-11-18T17:20:00.000000000",
          "2020-11-18T17:25:00.000000000",
          "2020-11-18T17:30:00.000000000",
          "2020-11-18T17:35:00.000000000",
          "2020-11-18T17:40:00.000000000",
          "2020-11-18T17:45:00.000000000",
          "2020-11-18T17:50:00.000000000",
          "2020-11-18T17:55:00.000000000",
          "2020-11-18T18:00:00.000000000",
          "2020-11-18T18:05:00.000000000",
          "2020-11-18T18:10:00.000000000",
          "2020-11-18T18:15:00.000000000",
          "2020-11-18T18:20:00.000000000",
          "2020-11-18T18:25:00.000000000",
          "2021-02-24T16:05:00.000000000",
          "2021-02-24T16:10:00.000000000",
          "2021-02-24T16:15:00.000000000",
          "2021-02-24T16:20:00.000000000",
          "2021-02-24T16:25:00.000000000",
          "2021-02-24T16:30:00.000000000",
          "2021-02-24T16:35:00.000000000",
          "2021-02-24T16:40:00.000000000",
          "2021-02-24T16:45:00.000000000",
          "2021-02-24T16:50:00.000000000",
          "2021-02-24T16:55:00.000000000",
          "2021-02-24T17:00:00.000000000",
          "2021-02-24T17:05:00.000000000",
          "2021-02-24T17:10:00.000000000",
          "2021-02-24T17:15:00.000000000",
          "2021-02-24T17:20:00.000000000",
          "2021-02-24T17:25:00.000000000",
          "2021-02-24T17:30:00.000000000",
          "2021-02-24T17:35:00.000000000",
          "2021-02-24T17:40:00.000000000",
          "2021-02-24T17:45:00.000000000",
          "2021-02-24T17:50:00.000000000",
          "2021-02-24T17:55:00.000000000",
          "2021-02-24T18:00:00.000000000",
          "2021-02-24T18:05:00.000000000",
          "2021-02-24T18:10:00.000000000",
          "2021-02-24T18:15:00.000000000",
          "2021-02-24T18:20:00.000000000",
          "2021-02-24T18:25:00.000000000",
          "2021-05-26T16:05:00.000000000",
          "2021-05-26T16:10:00.000000000",
          "2021-05-26T16:15:00.000000000",
          "2021-05-26T16:20:00.000000000",
          "2021-05-26T16:25:00.000000000",
          "2021-05-26T16:30:00.000000000",
          "2021-05-26T16:35:00.000000000",
          "2021-05-26T16:40:00.000000000",
          "2021-05-26T16:45:00.000000000",
          "2021-05-26T16:50:00.000000000",
          "2021-05-26T16:55:00.000000000",
          "2021-05-26T17:00:00.000000000",
          "2021-05-26T17:05:00.000000000",
          "2021-05-26T17:10:00.000000000",
          "2021-05-26T17:15:00.000000000",
          "2021-05-26T17:20:00.000000000",
          "2021-05-26T17:25:00.000000000",
          "2021-05-26T17:30:00.000000000",
          "2021-05-26T17:35:00.000000000",
          "2021-05-26T17:40:00.000000000",
          "2021-05-26T17:45:00.000000000",
          "2021-05-26T17:50:00.000000000",
          "2021-05-26T17:55:00.000000000",
          "2021-05-26T18:00:00.000000000",
          "2021-05-26T18:05:00.000000000",
          "2021-05-26T18:10:00.000000000",
          "2021-05-26T18:15:00.000000000",
          "2021-05-26T18:20:00.000000000",
          "2021-05-26T18:25:00.000000000",
          "2021-05-26T18:30:00.000000000",
          "2021-05-26T18:35:00.000000000",
          "2021-05-26T18:40:00.000000000",
          "2021-05-26T18:45:00.000000000",
          "2021-05-26T18:50:00.000000000",
          "2021-05-26T18:55:00.000000000",
          "2021-08-18T16:05:00.000000000",
          "2021-08-18T16:10:00.000000000",
          "2021-08-18T16:15:00.000000000",
          "2021-08-18T16:20:00.000000000",
          "2021-08-18T16:25:00.000000000",
          "2021-08-18T16:30:00.000000000",
          "2021-08-18T16:35:00.000000000",
          "2021-08-18T16:40:00.000000000",
          "2021-08-18T16:45:00.000000000",
          "2021-08-18T16:50:00.000000000",
          "2021-08-18T16:55:00.000000000",
          "2021-08-18T17:00:00.000000000",
          "2021-08-18T17:05:00.000000000",
          "2021-08-18T17:10:00.000000000",
          "2021-08-18T17:15:00.000000000",
          "2021-08-18T17:20:00.000000000",
          "2021-08-18T17:25:00.000000000",
          "2021-08-18T17:30:00.000000000",
          "2021-08-18T17:35:00.000000000",
          "2021-08-18T17:40:00.000000000",
          "2021-08-18T17:45:00.000000000",
          "2021-08-18T17:50:00.000000000",
          "2021-08-18T17:55:00.000000000",
          "2021-08-18T18:00:00.000000000",
          "2021-08-18T18:05:00.000000000",
          "2021-08-18T18:10:00.000000000",
          "2021-08-18T18:15:00.000000000",
          "2021-08-18T18:20:00.000000000",
          "2021-08-18T18:25:00.000000000",
          "2021-08-18T18:30:00.000000000",
          "2021-08-18T18:35:00.000000000",
          "2021-08-18T18:40:00.000000000",
          "2021-08-18T18:45:00.000000000",
          "2021-08-18T18:50:00.000000000",
          "2021-08-18T18:55:00.000000000",
          "2021-11-17T16:05:00.000000000",
          "2021-11-17T16:10:00.000000000",
          "2021-11-17T16:15:00.000000000",
          "2021-11-17T16:20:00.000000000",
          "2021-11-17T16:25:00.000000000",
          "2021-11-17T16:30:00.000000000",
          "2021-11-17T16:35:00.000000000",
          "2021-11-17T16:40:00.000000000",
          "2021-11-17T16:45:00.000000000",
          "2021-11-17T16:50:00.000000000",
          "2021-11-17T16:55:00.000000000",
          "2021-11-17T17:00:00.000000000",
          "2021-11-17T17:05:00.000000000",
          "2021-11-17T17:10:00.000000000",
          "2021-11-17T17:15:00.000000000",
          "2021-11-17T17:20:00.000000000",
          "2021-11-17T17:25:00.000000000",
          "2021-11-17T17:30:00.000000000",
          "2021-11-17T17:35:00.000000000",
          "2021-11-17T17:40:00.000000000",
          "2021-11-17T17:45:00.000000000",
          "2021-11-17T17:50:00.000000000",
          "2021-11-17T17:55:00.000000000",
          "2021-11-17T18:00:00.000000000",
          "2021-11-17T18:05:00.000000000",
          "2021-11-17T18:10:00.000000000",
          "2021-11-17T18:15:00.000000000",
          "2021-11-17T18:20:00.000000000",
          "2021-11-17T18:25:00.000000000",
          "2022-02-16T16:05:00.000000000",
          "2022-02-16T16:10:00.000000000",
          "2022-02-16T16:15:00.000000000",
          "2022-02-16T16:20:00.000000000",
          "2022-02-16T16:25:00.000000000",
          "2022-02-16T16:30:00.000000000",
          "2022-02-16T16:35:00.000000000",
          "2022-02-16T16:40:00.000000000",
          "2022-02-16T16:45:00.000000000",
          "2022-02-16T16:50:00.000000000",
          "2022-02-16T16:55:00.000000000",
          "2022-02-16T17:00:00.000000000",
          "2022-02-16T17:05:00.000000000",
          "2022-02-16T17:10:00.000000000",
          "2022-02-16T17:15:00.000000000",
          "2022-02-16T17:20:00.000000000",
          "2022-02-16T17:25:00.000000000",
          "2022-02-16T17:30:00.000000000",
          "2022-02-16T17:35:00.000000000",
          "2022-02-16T17:40:00.000000000",
          "2022-02-16T17:45:00.000000000",
          "2022-02-16T17:50:00.000000000",
          "2022-02-16T17:55:00.000000000",
          "2022-02-16T18:00:00.000000000",
          "2022-02-16T18:05:00.000000000",
          "2022-02-16T18:10:00.000000000",
          "2022-02-16T18:15:00.000000000",
          "2022-02-16T18:20:00.000000000",
          "2022-02-16T18:25:00.000000000",
          "2022-05-25T16:05:00.000000000",
          "2022-05-25T16:10:00.000000000",
          "2022-05-25T16:15:00.000000000",
          "2022-05-25T16:20:00.000000000",
          "2022-05-25T16:25:00.000000000",
          "2022-05-25T16:30:00.000000000",
          "2022-05-25T16:35:00.000000000",
          "2022-05-25T16:40:00.000000000",
          "2022-05-25T16:45:00.000000000",
          "2022-05-25T16:50:00.000000000",
          "2022-05-25T16:55:00.000000000",
          "2022-05-25T17:00:00.000000000",
          "2022-05-25T17:05:00.000000000",
          "2022-05-25T17:10:00.000000000",
          "2022-05-25T17:15:00.000000000",
          "2022-05-25T17:20:00.000000000",
          "2022-05-25T17:25:00.000000000",
          "2022-05-25T17:30:00.000000000",
          "2022-05-25T17:35:00.000000000",
          "2022-05-25T17:40:00.000000000",
          "2022-05-25T17:45:00.000000000",
          "2022-05-25T17:50:00.000000000",
          "2022-05-25T17:55:00.000000000",
          "2022-05-25T18:00:00.000000000",
          "2022-05-25T18:05:00.000000000",
          "2022-05-25T18:10:00.000000000",
          "2022-05-25T18:15:00.000000000",
          "2022-05-25T18:20:00.000000000",
          "2022-05-25T18:25:00.000000000",
          "2022-05-25T18:30:00.000000000",
          "2022-05-25T18:35:00.000000000",
          "2022-05-25T18:40:00.000000000",
          "2022-05-25T18:45:00.000000000",
          "2022-05-25T18:50:00.000000000",
          "2022-05-25T18:55:00.000000000",
          "2022-08-24T16:05:00.000000000",
          "2022-08-24T16:10:00.000000000",
          "2022-08-24T16:15:00.000000000",
          "2022-08-24T16:20:00.000000000",
          "2022-08-24T16:25:00.000000000",
          "2022-08-24T16:30:00.000000000",
          "2022-08-24T16:35:00.000000000",
          "2022-08-24T16:40:00.000000000",
          "2022-08-24T16:45:00.000000000",
          "2022-08-24T16:50:00.000000000",
          "2022-08-24T16:55:00.000000000",
          "2022-08-24T17:00:00.000000000",
          "2022-08-24T17:05:00.000000000",
          "2022-08-24T17:10:00.000000000",
          "2022-08-24T17:15:00.000000000",
          "2022-08-24T17:20:00.000000000",
          "2022-08-24T17:25:00.000000000",
          "2022-08-24T17:30:00.000000000",
          "2022-08-24T17:35:00.000000000",
          "2022-08-24T17:40:00.000000000",
          "2022-08-24T17:45:00.000000000",
          "2022-08-24T17:50:00.000000000",
          "2022-08-24T17:55:00.000000000",
          "2022-08-24T18:00:00.000000000",
          "2022-08-24T18:05:00.000000000",
          "2022-08-24T18:10:00.000000000",
          "2022-08-24T18:15:00.000000000",
          "2022-08-24T18:20:00.000000000",
          "2022-08-24T18:25:00.000000000",
          "2022-08-24T18:30:00.000000000",
          "2022-08-24T18:35:00.000000000",
          "2022-08-24T18:40:00.000000000",
          "2022-08-24T18:45:00.000000000",
          "2022-08-24T18:50:00.000000000",
          "2022-08-24T18:55:00.000000000",
          "2022-11-16T16:05:00.000000000",
          "2022-11-16T16:10:00.000000000",
          "2022-11-16T16:15:00.000000000",
          "2022-11-16T16:20:00.000000000",
          "2022-11-16T16:25:00.000000000",
          "2022-11-16T16:30:00.000000000",
          "2022-11-16T16:35:00.000000000",
          "2022-11-16T16:40:00.000000000",
          "2022-11-16T16:45:00.000000000",
          "2022-11-16T16:50:00.000000000",
          "2022-11-16T16:55:00.000000000",
          "2022-11-16T17:00:00.000000000",
          "2022-11-16T17:05:00.000000000",
          "2022-11-16T17:10:00.000000000",
          "2022-11-16T17:15:00.000000000",
          "2022-11-16T17:20:00.000000000",
          "2022-11-16T17:25:00.000000000",
          "2022-11-16T17:30:00.000000000",
          "2022-11-16T17:35:00.000000000",
          "2022-11-16T17:40:00.000000000",
          "2022-11-16T17:45:00.000000000",
          "2022-11-16T17:50:00.000000000",
          "2022-11-16T17:55:00.000000000",
          "2022-11-16T18:00:00.000000000",
          "2022-11-16T18:05:00.000000000",
          "2022-11-16T18:10:00.000000000",
          "2022-11-16T18:15:00.000000000",
          "2022-11-16T18:20:00.000000000",
          "2022-11-16T18:25:00.000000000",
          "2023-02-22T16:05:00.000000000",
          "2023-02-22T16:10:00.000000000",
          "2023-02-22T16:15:00.000000000",
          "2023-02-22T16:20:00.000000000",
          "2023-02-22T16:25:00.000000000",
          "2023-02-22T16:30:00.000000000",
          "2023-02-22T16:35:00.000000000",
          "2023-02-22T16:40:00.000000000",
          "2023-02-22T16:45:00.000000000",
          "2023-02-22T16:50:00.000000000",
          "2023-02-22T16:55:00.000000000",
          "2023-02-22T17:00:00.000000000",
          "2023-02-22T17:05:00.000000000",
          "2023-02-22T17:10:00.000000000",
          "2023-02-22T17:15:00.000000000",
          "2023-02-22T17:20:00.000000000",
          "2023-02-22T17:25:00.000000000",
          "2023-02-22T17:30:00.000000000",
          "2023-02-22T17:35:00.000000000",
          "2023-02-22T17:40:00.000000000",
          "2023-02-22T17:45:00.000000000",
          "2023-02-22T17:50:00.000000000",
          "2023-02-22T17:55:00.000000000",
          "2023-02-22T18:00:00.000000000",
          "2023-02-22T18:05:00.000000000",
          "2023-02-22T18:10:00.000000000",
          "2023-02-22T18:15:00.000000000",
          "2023-02-22T18:20:00.000000000",
          "2023-02-22T18:25:00.000000000",
          "2023-05-24T16:05:00.000000000",
          "2023-05-24T16:10:00.000000000",
          "2023-05-24T16:15:00.000000000",
          "2023-05-24T16:20:00.000000000",
          "2023-05-24T16:25:00.000000000",
          "2023-05-24T16:30:00.000000000",
          "2023-05-24T16:35:00.000000000",
          "2023-05-24T16:40:00.000000000",
          "2023-05-24T16:45:00.000000000",
          "2023-05-24T16:50:00.000000000",
          "2023-05-24T16:55:00.000000000",
          "2023-05-24T17:00:00.000000000",
          "2023-05-24T17:05:00.000000000",
          "2023-05-24T17:10:00.000000000",
          "2023-05-24T17:15:00.000000000",
          "2023-05-24T17:20:00.000000000",
          "2023-05-24T17:25:00.000000000",
          "2023-05-24T17:30:00.000000000",
          "2023-05-24T17:35:00.000000000",
          "2023-05-24T17:40:00.000000000",
          "2023-05-24T17:45:00.000000000",
          "2023-05-24T17:50:00.000000000",
          "2023-05-24T17:55:00.000000000",
          "2023-05-24T18:00:00.000000000",
          "2023-05-24T18:05:00.000000000",
          "2023-05-24T18:10:00.000000000",
          "2023-05-24T18:15:00.000000000",
          "2023-05-24T18:20:00.000000000",
          "2023-05-24T18:25:00.000000000",
          "2023-05-24T18:30:00.000000000",
          "2023-05-24T18:35:00.000000000",
          "2023-05-24T18:40:00.000000000",
          "2023-05-24T18:45:00.000000000",
          "2023-05-24T18:50:00.000000000",
          "2023-05-24T18:55:00.000000000",
          "2023-08-23T16:05:00.000000000",
          "2023-08-23T16:10:00.000000000",
          "2023-08-23T16:15:00.000000000",
          "2023-08-23T16:20:00.000000000",
          "2023-08-23T16:25:00.000000000",
          "2023-08-23T16:30:00.000000000",
          "2023-08-23T16:35:00.000000000",
          "2023-08-23T16:40:00.000000000",
          "2023-08-23T16:45:00.000000000",
          "2023-08-23T16:50:00.000000000",
          "2023-08-23T16:55:00.000000000",
          "2023-08-23T17:00:00.000000000",
          "2023-08-23T17:05:00.000000000",
          "2023-08-23T17:10:00.000000000",
          "2023-08-23T17:15:00.000000000",
          "2023-08-23T17:20:00.000000000",
          "2023-08-23T17:25:00.000000000",
          "2023-08-23T17:30:00.000000000",
          "2023-08-23T17:35:00.000000000",
          "2023-08-23T17:40:00.000000000",
          "2023-08-23T17:45:00.000000000",
          "2023-08-23T17:50:00.000000000",
          "2023-08-23T17:55:00.000000000",
          "2023-08-23T18:00:00.000000000",
          "2023-08-23T18:05:00.000000000",
          "2023-08-23T18:10:00.000000000",
          "2023-08-23T18:15:00.000000000",
          "2023-08-23T18:20:00.000000000",
          "2023-08-23T18:25:00.000000000",
          "2023-08-23T18:30:00.000000000",
          "2023-08-23T18:35:00.000000000",
          "2023-08-23T18:40:00.000000000",
          "2023-08-23T18:45:00.000000000",
          "2023-08-23T18:50:00.000000000",
          "2023-08-23T18:55:00.000000000",
          "2023-11-21T16:05:00.000000000",
          "2023-11-21T16:10:00.000000000",
          "2023-11-21T16:15:00.000000000",
          "2023-11-21T16:20:00.000000000",
          "2023-11-21T16:25:00.000000000",
          "2023-11-21T16:30:00.000000000",
          "2023-11-21T16:35:00.000000000",
          "2023-11-21T16:40:00.000000000",
          "2023-11-21T16:45:00.000000000",
          "2023-11-21T16:50:00.000000000",
          "2023-11-21T16:55:00.000000000",
          "2023-11-21T17:00:00.000000000",
          "2023-11-21T17:05:00.000000000",
          "2023-11-21T17:10:00.000000000",
          "2023-11-21T17:15:00.000000000",
          "2023-11-21T17:20:00.000000000",
          "2023-11-21T17:25:00.000000000",
          "2023-11-21T17:30:00.000000000",
          "2023-11-21T17:35:00.000000000",
          "2023-11-21T17:40:00.000000000",
          "2023-11-21T17:45:00.000000000",
          "2023-11-21T17:50:00.000000000",
          "2023-11-21T17:55:00.000000000",
          "2023-11-21T18:00:00.000000000",
          "2023-11-21T18:05:00.000000000",
          "2023-11-21T18:10:00.000000000",
          "2023-11-21T18:15:00.000000000",
          "2023-11-21T18:20:00.000000000",
          "2023-11-21T18:25:00.000000000",
          "2024-02-21T16:05:00.000000000",
          "2024-02-21T16:10:00.000000000",
          "2024-02-21T16:15:00.000000000",
          "2024-02-21T16:20:00.000000000",
          "2024-02-21T16:25:00.000000000",
          "2024-02-21T16:30:00.000000000",
          "2024-02-21T16:35:00.000000000",
          "2024-02-21T16:40:00.000000000",
          "2024-02-21T16:45:00.000000000",
          "2024-02-21T16:50:00.000000000",
          "2024-02-21T16:55:00.000000000",
          "2024-02-21T17:00:00.000000000",
          "2024-02-21T17:05:00.000000000",
          "2024-02-21T17:10:00.000000000",
          "2024-02-21T17:15:00.000000000",
          "2024-02-21T17:20:00.000000000",
          "2024-02-21T17:25:00.000000000",
          "2024-02-21T17:30:00.000000000",
          "2024-02-21T17:35:00.000000000",
          "2024-02-21T17:40:00.000000000",
          "2024-02-21T17:45:00.000000000",
          "2024-02-21T17:50:00.000000000",
          "2024-02-21T17:55:00.000000000",
          "2024-02-21T18:00:00.000000000",
          "2024-02-21T18:05:00.000000000",
          "2024-02-21T18:10:00.000000000",
          "2024-02-21T18:15:00.000000000",
          "2024-02-21T18:20:00.000000000",
          "2024-02-21T18:25:00.000000000",
          "2024-05-22T16:05:00.000000000",
          "2024-05-22T16:10:00.000000000",
          "2024-05-22T16:15:00.000000000",
          "2024-05-22T16:20:00.000000000",
          "2024-05-22T16:25:00.000000000",
          "2024-05-22T16:30:00.000000000",
          "2024-05-22T16:35:00.000000000",
          "2024-05-22T16:40:00.000000000",
          "2024-05-22T16:45:00.000000000",
          "2024-05-22T16:50:00.000000000",
          "2024-05-22T16:55:00.000000000",
          "2024-05-22T17:00:00.000000000",
          "2024-05-22T17:05:00.000000000",
          "2024-05-22T17:10:00.000000000",
          "2024-05-22T17:15:00.000000000",
          "2024-05-22T17:20:00.000000000",
          "2024-05-22T17:25:00.000000000",
          "2024-05-22T17:30:00.000000000",
          "2024-05-22T17:35:00.000000000",
          "2024-05-22T17:40:00.000000000",
          "2024-05-22T17:45:00.000000000",
          "2024-05-22T17:50:00.000000000",
          "2024-05-22T17:55:00.000000000",
          "2024-05-22T18:00:00.000000000",
          "2024-05-22T18:05:00.000000000",
          "2024-05-22T18:10:00.000000000",
          "2024-05-22T18:15:00.000000000",
          "2024-05-22T18:20:00.000000000",
          "2024-05-22T18:25:00.000000000",
          "2024-05-22T18:30:00.000000000",
          "2024-05-22T18:35:00.000000000",
          "2024-05-22T18:40:00.000000000",
          "2024-05-22T18:45:00.000000000",
          "2024-05-22T18:50:00.000000000",
          "2024-05-22T18:55:00.000000000",
          "2024-08-28T16:05:00.000000000",
          "2024-08-28T16:10:00.000000000",
          "2024-08-28T16:15:00.000000000",
          "2024-08-28T16:20:00.000000000",
          "2024-08-28T16:25:00.000000000",
          "2024-08-28T16:30:00.000000000",
          "2024-08-28T16:35:00.000000000",
          "2024-08-28T16:40:00.000000000",
          "2024-08-28T16:45:00.000000000",
          "2024-08-28T16:50:00.000000000",
          "2024-08-28T16:55:00.000000000",
          "2024-08-28T17:00:00.000000000",
          "2024-08-28T17:05:00.000000000",
          "2024-08-28T17:10:00.000000000",
          "2024-08-28T17:15:00.000000000",
          "2024-08-28T17:20:00.000000000",
          "2024-08-28T17:25:00.000000000",
          "2024-08-28T17:30:00.000000000",
          "2024-08-28T17:35:00.000000000",
          "2024-08-28T17:40:00.000000000",
          "2024-08-28T17:45:00.000000000",
          "2024-08-28T17:50:00.000000000",
          "2024-08-28T17:55:00.000000000",
          "2024-08-28T18:00:00.000000000",
          "2024-08-28T18:05:00.000000000",
          "2024-08-28T18:10:00.000000000",
          "2024-08-28T18:15:00.000000000",
          "2024-08-28T18:20:00.000000000",
          "2024-08-28T18:25:00.000000000",
          "2024-08-28T18:30:00.000000000",
          "2024-08-28T18:35:00.000000000",
          "2024-08-28T18:40:00.000000000",
          "2024-08-28T18:45:00.000000000",
          "2024-08-28T18:50:00.000000000",
          "2024-08-28T18:55:00.000000000",
          "2024-11-20T16:05:00.000000000",
          "2024-11-20T16:10:00.000000000",
          "2024-11-20T16:15:00.000000000",
          "2024-11-20T16:20:00.000000000",
          "2024-11-20T16:25:00.000000000",
          "2024-11-20T16:30:00.000000000",
          "2024-11-20T16:35:00.000000000",
          "2024-11-20T16:40:00.000000000",
          "2024-11-20T16:45:00.000000000",
          "2024-11-20T16:50:00.000000000",
          "2024-11-20T16:55:00.000000000",
          "2024-11-20T17:00:00.000000000",
          "2024-11-20T17:05:00.000000000",
          "2024-11-20T17:10:00.000000000",
          "2024-11-20T17:15:00.000000000",
          "2024-11-20T17:20:00.000000000",
          "2024-11-20T17:25:00.000000000",
          "2024-11-20T17:30:00.000000000",
          "2024-11-20T17:35:00.000000000",
          "2024-11-20T17:40:00.000000000",
          "2024-11-20T17:45:00.000000000",
          "2024-11-20T17:50:00.000000000",
          "2024-11-20T17:55:00.000000000",
          "2024-11-20T18:00:00.000000000",
          "2024-11-20T18:05:00.000000000",
          "2024-11-20T18:10:00.000000000",
          "2024-11-20T18:15:00.000000000",
          "2024-11-20T18:20:00.000000000",
          "2024-11-20T18:25:00.000000000",
          "2025-02-26T16:05:00.000000000",
          "2025-02-26T16:10:00.000000000",
          "2025-02-26T16:15:00.000000000",
          "2025-02-26T16:20:00.000000000",
          "2025-02-26T16:25:00.000000000",
          "2025-02-26T16:30:00.000000000",
          "2025-02-26T16:35:00.000000000",
          "2025-02-26T16:40:00.000000000",
          "2025-02-26T16:45:00.000000000",
          "2025-02-26T16:50:00.000000000",
          "2025-02-26T16:55:00.000000000",
          "2025-02-26T17:00:00.000000000",
          "2025-02-26T17:05:00.000000000",
          "2025-02-26T17:10:00.000000000",
          "2025-02-26T17:15:00.000000000",
          "2025-02-26T17:20:00.000000000",
          "2025-02-26T17:25:00.000000000",
          "2025-02-26T17:30:00.000000000",
          "2025-02-26T17:35:00.000000000",
          "2025-02-26T17:40:00.000000000",
          "2025-02-26T17:45:00.000000000",
          "2025-02-26T17:50:00.000000000",
          "2025-02-26T17:55:00.000000000",
          "2025-02-26T18:00:00.000000000",
          "2025-02-26T18:05:00.000000000",
          "2025-02-26T18:10:00.000000000",
          "2025-02-26T18:15:00.000000000",
          "2025-02-26T18:20:00.000000000",
          "2025-02-26T18:25:00.000000000"
         ],
         "xaxis": "x",
         "y": {
          "bdata": "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",
          "dtype": "f8"
         },
         "yaxis": "y"
        }
       ],
       "layout": {
        "legend": {
         "tracegroupgap": 0
        },
        "template": {
         "data": {
          "bar": [
           {
            "error_x": {
             "color": "#2a3f5f"
            },
            "error_y": {
             "color": "#2a3f5f"
            },
            "marker": {
             "line": {
              "color": "#E5ECF6",
              "width": 0.5
             },
             "pattern": {
              "fillmode": "overlay",
              "size": 10,
              "solidity": 0.2
             }
            },
            "type": "bar"
           }
          ],
          "barpolar": [
           {
            "marker": {
             "line": {
              "color": "#E5ECF6",
              "width": 0.5
             },
             "pattern": {
              "fillmode": "overlay",
              "size": 10,
              "solidity": 0.2
             }
            },
            "type": "barpolar"
           }
          ],
          "carpet": [
           {
            "aaxis": {
             "endlinecolor": "#2a3f5f",
             "gridcolor": "white",
             "linecolor": "white",
             "minorgridcolor": "white",
             "startlinecolor": "#2a3f5f"
            },
            "baxis": {
             "endlinecolor": "#2a3f5f",
             "gridcolor": "white",
             "linecolor": "white",
             "minorgridcolor": "white",
             "startlinecolor": "#2a3f5f"
            },
            "type": "carpet"
           }
          ],
          "choropleth": [
           {
            "colorbar": {
             "outlinewidth": 0,
             "ticks": ""
            },
            "type": "choropleth"
           }
          ],
          "contour": [
           {
            "colorbar": {
             "outlinewidth": 0,
             "ticks": ""
            },
            "colorscale": [
             [
              0,
              "#0d0887"
             ],
             [
              0.1111111111111111,
              "#46039f"
             ],
             [
              0.2222222222222222,
              "#7201a8"
             ],
             [
              0.3333333333333333,
              "#9c179e"
             ],
             [
              0.4444444444444444,
              "#bd3786"
             ],
             [
              0.5555555555555556,
              "#d8576b"
             ],
             [
              0.6666666666666666,
              "#ed7953"
             ],
             [
              0.7777777777777778,
              "#fb9f3a"
             ],
             [
              0.8888888888888888,
              "#fdca26"
             ],
             [
              1,
              "#f0f921"
             ]
            ],
            "type": "contour"
           }
          ],
          "contourcarpet": [
           {
            "colorbar": {
             "outlinewidth": 0,
             "ticks": ""
            },
            "type": "contourcarpet"
           }
          ],
          "heatmap": [
           {
            "colorbar": {
             "outlinewidth": 0,
             "ticks": ""
            },
            "colorscale": [
             [
              0,
              "#0d0887"
             ],
             [
              0.1111111111111111,
              "#46039f"
             ],
             [
              0.2222222222222222,
              "#7201a8"
             ],
             [
              0.3333333333333333,
              "#9c179e"
             ],
             [
              0.4444444444444444,
              "#bd3786"
             ],
             [
              0.5555555555555556,
              "#d8576b"
             ],
             [
              0.6666666666666666,
              "#ed7953"
             ],
             [
              0.7777777777777778,
              "#fb9f3a"
             ],
             [
              0.8888888888888888,
              "#fdca26"
             ],
             [
              1,
              "#f0f921"
             ]
            ],
            "type": "heatmap"
           }
          ],
          "histogram": [
           {
            "marker": {
             "pattern": {
              "fillmode": "overlay",
              "size": 10,
              "solidity": 0.2
             }
            },
            "type": "histogram"
           }
          ],
          "histogram2d": [
           {
            "colorbar": {
             "outlinewidth": 0,
             "ticks": ""
            },
            "colorscale": [
             [
              0,
              "#0d0887"
             ],
             [
              0.1111111111111111,
              "#46039f"
             ],
             [
              0.2222222222222222,
              "#7201a8"
             ],
             [
              0.3333333333333333,
              "#9c179e"
             ],
             [
              0.4444444444444444,
              "#bd3786"
             ],
             [
              0.5555555555555556,
              "#d8576b"
             ],
             [
              0.6666666666666666,
              "#ed7953"
             ],
             [
              0.7777777777777778,
              "#fb9f3a"
             ],
             [
              0.8888888888888888,
              "#fdca26"
             ],
             [
              1,
              "#f0f921"
             ]
            ],
            "type": "histogram2d"
           }
          ],
          "histogram2dcontour": [
           {
            "colorbar": {
             "outlinewidth": 0,
             "ticks": ""
            },
            "colorscale": [
             [
              0,
              "#0d0887"
             ],
             [
              0.1111111111111111,
              "#46039f"
             ],
             [
              0.2222222222222222,
              "#7201a8"
             ],
             [
              0.3333333333333333,
              "#9c179e"
             ],
             [
              0.4444444444444444,
              "#bd3786"
             ],
             [
              0.5555555555555556,
              "#d8576b"
             ],
             [
              0.6666666666666666,
              "#ed7953"
             ],
             [
              0.7777777777777778,
              "#fb9f3a"
             ],
             [
              0.8888888888888888,
              "#fdca26"
             ],
             [
              1,
              "#f0f921"
             ]
            ],
            "type": "histogram2dcontour"
           }
          ],
          "mesh3d": [
           {
            "colorbar": {
             "outlinewidth": 0,
             "ticks": ""
            },
            "type": "mesh3d"
           }
          ],
          "parcoords": [
           {
            "line": {
             "colorbar": {
              "outlinewidth": 0,
              "ticks": ""
             }
            },
            "type": "parcoords"
           }
          ],
          "pie": [
           {
            "automargin": true,
            "type": "pie"
           }
          ],
          "scatter": [
           {
            "fillpattern": {
             "fillmode": "overlay",
             "size": 10,
             "solidity": 0.2
            },
            "type": "scatter"
           }
          ],
          "scatter3d": [
           {
            "line": {
             "colorbar": {
              "outlinewidth": 0,
              "ticks": ""
             }
            },
            "marker": {
             "colorbar": {
              "outlinewidth": 0,
              "ticks": ""
             }
            },
            "type": "scatter3d"
           }
          ],
          "scattercarpet": [
           {
            "marker": {
             "colorbar": {
              "outlinewidth": 0,
              "ticks": ""
             }
            },
            "type": "scattercarpet"
           }
          ],
          "scattergeo": [
           {
            "marker": {
             "colorbar": {
              "outlinewidth": 0,
              "ticks": ""
             }
            },
            "type": "scattergeo"
           }
          ],
          "scattergl": [
           {
            "marker": {
             "colorbar": {
              "outlinewidth": 0,
              "ticks": ""
             }
            },
            "type": "scattergl"
           }
          ],
          "scattermap": [
           {
            "marker": {
             "colorbar": {
              "outlinewidth": 0,
              "ticks": ""
             }
            },
            "type": "scattermap"
           }
          ],
          "scattermapbox": [
           {
            "marker": {
             "colorbar": {
              "outlinewidth": 0,
              "ticks": ""
             }
            },
            "type": "scattermapbox"
           }
          ],
          "scatterpolar": [
           {
            "marker": {
             "colorbar": {
              "outlinewidth": 0,
              "ticks": ""
             }
            },
            "type": "scatterpolar"
           }
          ],
          "scatterpolargl": [
           {
            "marker": {
             "colorbar": {
              "outlinewidth": 0,
              "ticks": ""
             }
            },
            "type": "scatterpolargl"
           }
          ],
          "scatterternary": [
           {
            "marker": {
             "colorbar": {
              "outlinewidth": 0,
              "ticks": ""
             }
            },
            "type": "scatterternary"
           }
          ],
          "surface": [
           {
            "colorbar": {
             "outlinewidth": 0,
             "ticks": ""
            },
            "colorscale": [
             [
              0,
              "#0d0887"
             ],
             [
              0.1111111111111111,
              "#46039f"
             ],
             [
              0.2222222222222222,
              "#7201a8"
             ],
             [
              0.3333333333333333,
              "#9c179e"
             ],
             [
              0.4444444444444444,
              "#bd3786"
             ],
             [
              0.5555555555555556,
              "#d8576b"
             ],
             [
              0.6666666666666666,
              "#ed7953"
             ],
             [
              0.7777777777777778,
              "#fb9f3a"
             ],
             [
              0.8888888888888888,
              "#fdca26"
             ],
             [
              1,
              "#f0f921"
             ]
            ],
            "type": "surface"
           }
          ],
          "table": [
           {
            "cells": {
             "fill": {
              "color": "#EBF0F8"
             },
             "line": {
              "color": "white"
             }
            },
            "header": {
             "fill": {
              "color": "#C8D4E3"
             },
             "line": {
              "color": "white"
             }
            },
            "type": "table"
           }
          ]
         },
         "layout": {
          "annotationdefaults": {
           "arrowcolor": "#2a3f5f",
           "arrowhead": 0,
           "arrowwidth": 1
          },
          "autotypenumbers": "strict",
          "coloraxis": {
           "colorbar": {
            "outlinewidth": 0,
            "ticks": ""
           }
          },
          "colorscale": {
           "diverging": [
            [
             0,
             "#8e0152"
            ],
            [
             0.1,
             "#c51b7d"
            ],
            [
             0.2,
             "#de77ae"
            ],
            [
             0.3,
             "#f1b6da"
            ],
            [
             0.4,
             "#fde0ef"
            ],
            [
             0.5,
             "#f7f7f7"
            ],
            [
             0.6,
             "#e6f5d0"
            ],
            [
             0.7,
             "#b8e186"
            ],
            [
             0.8,
             "#7fbc41"
            ],
            [
             0.9,
             "#4d9221"
            ],
            [
             1,
             "#276419"
            ]
           ],
           "sequential": [
            [
             0,
             "#0d0887"
            ],
            [
             0.1111111111111111,
             "#46039f"
            ],
            [
             0.2222222222222222,
             "#7201a8"
            ],
            [
             0.3333333333333333,
             "#9c179e"
            ],
            [
             0.4444444444444444,
             "#bd3786"
            ],
            [
             0.5555555555555556,
             "#d8576b"
            ],
            [
             0.6666666666666666,
             "#ed7953"
            ],
            [
             0.7777777777777778,
             "#fb9f3a"
            ],
            [
             0.8888888888888888,
             "#fdca26"
            ],
            [
             1,
             "#f0f921"
            ]
           ],
           "sequentialminus": [
            [
             0,
             "#0d0887"
            ],
            [
             0.1111111111111111,
             "#46039f"
            ],
            [
             0.2222222222222222,
             "#7201a8"
            ],
            [
             0.3333333333333333,
             "#9c179e"
            ],
            [
             0.4444444444444444,
             "#bd3786"
            ],
            [
             0.5555555555555556,
             "#d8576b"
            ],
            [
             0.6666666666666666,
             "#ed7953"
            ],
            [
             0.7777777777777778,
             "#fb9f3a"
            ],
            [
             0.8888888888888888,
             "#fdca26"
            ],
            [
             1,
             "#f0f921"
            ]
           ]
          },
          "colorway": [
           "#636efa",
           "#EF553B",
           "#00cc96",
           "#ab63fa",
           "#FFA15A",
           "#19d3f3",
           "#FF6692",
           "#B6E880",
           "#FF97FF",
           "#FECB52"
          ],
          "font": {
           "color": "#2a3f5f"
          },
          "geo": {
           "bgcolor": "white",
           "lakecolor": "white",
           "landcolor": "#E5ECF6",
           "showlakes": true,
           "showland": true,
           "subunitcolor": "white"
          },
          "hoverlabel": {
           "align": "left"
          },
          "hovermode": "closest",
          "mapbox": {
           "style": "light"
          },
          "paper_bgcolor": "white",
          "plot_bgcolor": "#E5ECF6",
          "polar": {
           "angularaxis": {
            "gridcolor": "white",
            "linecolor": "white",
            "ticks": ""
           },
           "bgcolor": "#E5ECF6",
           "radialaxis": {
            "gridcolor": "white",
            "linecolor": "white",
            "ticks": ""
           }
          },
          "scene": {
           "xaxis": {
            "backgroundcolor": "#E5ECF6",
            "gridcolor": "white",
            "gridwidth": 2,
            "linecolor": "white",
            "showbackground": true,
            "ticks": "",
            "zerolinecolor": "white"
           },
           "yaxis": {
            "backgroundcolor": "#E5ECF6",
            "gridcolor": "white",
            "gridwidth": 2,
            "linecolor": "white",
            "showbackground": true,
            "ticks": "",
            "zerolinecolor": "white"
           },
           "zaxis": {
            "backgroundcolor": "#E5ECF6",
            "gridcolor": "white",
            "gridwidth": 2,
            "linecolor": "white",
            "showbackground": true,
            "ticks": "",
            "zerolinecolor": "white"
           }
          },
          "shapedefaults": {
           "line": {
            "color": "#2a3f5f"
           }
          },
          "ternary": {
           "aaxis": {
            "gridcolor": "white",
            "linecolor": "white",
            "ticks": ""
           },
           "baxis": {
            "gridcolor": "white",
            "linecolor": "white",
            "ticks": ""
           },
           "bgcolor": "#E5ECF6",
           "caxis": {
            "gridcolor": "white",
            "linecolor": "white",
            "ticks": ""
           }
          },
          "title": {
           "x": 0.05
          },
          "xaxis": {
           "automargin": true,
           "gridcolor": "white",
           "linecolor": "white",
           "ticks": "",
           "title": {
            "standoff": 15
           },
           "zerolinecolor": "white",
           "zerolinewidth": 2
          },
          "yaxis": {
           "automargin": true,
           "gridcolor": "white",
           "linecolor": "white",
           "ticks": "",
           "title": {
            "standoff": 15
           },
           "zerolinecolor": "white",
           "zerolinewidth": 2
          }
         }
        },
        "title": {
         "text": "Drawdown Over Time"
        },
        "xaxis": {
         "anchor": "y",
         "domain": [
          0,
          1
         ],
         "title": {
          "text": "Time"
         }
        },
        "yaxis": {
         "anchor": "x",
         "domain": [
          0,
          1
         ],
         "title": {
          "text": "Drawdown (%)"
         }
        }
       }
      }
     },
     "metadata": {},
     "output_type": "display_data"
    }
   ],
   "source": [
    "peak_value = 0\n",
    "drawdown = []\n",
    "for value in portfolio_value:\n",
    "    if value > peak_value:\n",
    "        peak_value = value\n",
    "    current_drawdown = (peak_value - value) / peak_value * 100  # Drawdown in percentage\n",
    "    drawdown.append(current_drawdown)\n",
    "\n",
    "# Create a DataFrame for drawdown\n",
    "drawdown_df = pd.DataFrame({\n",
    "    'Time': time_index,  # Use the index of price_df\n",
    "    'Drawdown (%)': drawdown\n",
    "})\n",
    "\n",
    "# Plot drawdown curve\n",
    "fig = px.line(drawdown_df, x='Time', y='Drawdown (%)', title='Drawdown Over Time')\n",
    "fig.show()"
   ]
  },
  {
   "cell_type": "code",
   "execution_count": null,
   "metadata": {},
   "outputs": [
    {
     "ename": "AttributeError",
     "evalue": "'Lines_LineSeries_LineIterator_DataAccessor_Strateg' object has no attribute 'trade_details'",
     "output_type": "error",
     "traceback": [
      "\u001b[1;31m---------------------------------------------------------------------------\u001b[0m",
      "\u001b[1;31mAttributeError\u001b[0m                            Traceback (most recent call last)",
      "Cell \u001b[1;32mIn[247], line 2\u001b[0m\n\u001b[0;32m      1\u001b[0m \u001b[38;5;28;01mimport\u001b[39;00m \u001b[38;5;21;01mplotly\u001b[39;00m\u001b[38;5;21;01m.\u001b[39;00m\u001b[38;5;21;01mgraph_objects\u001b[39;00m \u001b[38;5;28;01mas\u001b[39;00m \u001b[38;5;21;01mgo\u001b[39;00m\n\u001b[1;32m----> 2\u001b[0m trade_details \u001b[38;5;241m=\u001b[39m \u001b[43mthestrat\u001b[49m\u001b[38;5;241;43m.\u001b[39;49m\u001b[43mtrade_details\u001b[49m\n\u001b[0;32m      4\u001b[0m \u001b[38;5;66;03m# Convert to a DataFrame\u001b[39;00m\n\u001b[0;32m      5\u001b[0m trades_df \u001b[38;5;241m=\u001b[39m pd\u001b[38;5;241m.\u001b[39mDataFrame(trade_details)\n",
      "File \u001b[1;32m~\\AppData\\Local\\Packages\\PythonSoftwareFoundation.Python.3.11_qbz5n2kfra8p0\\LocalCache\\local-packages\\Python311\\site-packages\\backtrader\\lineseries.py:461\u001b[0m, in \u001b[0;36mLineSeries.__getattr__\u001b[1;34m(self, name)\u001b[0m\n\u001b[0;32m    457\u001b[0m \u001b[38;5;28;01mdef\u001b[39;00m \u001b[38;5;21m__getattr__\u001b[39m(\u001b[38;5;28mself\u001b[39m, name):\n\u001b[0;32m    458\u001b[0m     \u001b[38;5;66;03m# to refer to line by name directly if the attribute was not found\u001b[39;00m\n\u001b[0;32m    459\u001b[0m     \u001b[38;5;66;03m# in this object if we set an attribute in this object it will be\u001b[39;00m\n\u001b[0;32m    460\u001b[0m     \u001b[38;5;66;03m# found before we end up here\u001b[39;00m\n\u001b[1;32m--> 461\u001b[0m     \u001b[38;5;28;01mreturn\u001b[39;00m \u001b[38;5;28mgetattr\u001b[39m(\u001b[38;5;28mself\u001b[39m\u001b[38;5;241m.\u001b[39mlines, name)\n",
      "\u001b[1;31mAttributeError\u001b[0m: 'Lines_LineSeries_LineIterator_DataAccessor_Strateg' object has no attribute 'trade_details'"
     ]
    }
   ],
   "source": [
    "import plotly.graph_objects as go\n",
    "trade_details = thestrat.trade_details\n",
    "\n",
    "# Convert to a DataFrame\n",
    "trades_df = pd.DataFrame(trade_details)\n",
    "\n",
    "import plotly.graph_objects as go\n",
    "\n",
    "# Define a modern color palette\n",
    "header_color = 'rgb(56, 90, 93)'  # Dark teal\n",
    "cell_color = 'rgb(227, 235, 236)'  # Light gray\n",
    "font_color = 'rgb(0, 0, 0)'  # Black\n",
    "border_color = 'rgb(150, 150, 150)'  # Gray\n",
    "\n",
    "# Create an interactive table\n",
    "fig = go.Figure(data=[go.Table(\n",
    "    header=dict(\n",
    "        values=list(trades_df.columns),  # Column headers\n",
    "        fill_color=header_color,         # Header background color\n",
    "        font=dict(color=font_color, size=14, family='Arial'),  # Header font\n",
    "        align='left',                    # Header alignment\n",
    "        line=dict(color=border_color, width=1)  # Header border\n",
    "    ),\n",
    "    cells=dict(\n",
    "        values=[trades_df[col] for col in trades_df.columns],  # Cell values\n",
    "        fill_color=cell_color,           # Cell background color\n",
    "        font=dict(color=font_color, size=12, family='Arial'),  # Cell font\n",
    "        align='left',                    # Cell alignment\n",
    "        line=dict(color=border_color, width=1)  # Cell border\n",
    "    ))\n",
    "])\n",
    "\n",
    "# Update layout for better appearance\n",
    "fig.update_layout(\n",
    "    title={\n",
    "        'text': '<b>Trade Details</b>',  # Bold title\n",
    "        'y': 0.95,  # Title position\n",
    "        'x': 0.5,   # Center the title\n",
    "        'yanchor': 'top',\n",
    "        'font': dict(size=20, family='Arial', color=header_color)  # Title font\n",
    "    },\n",
    "    margin=dict(l=20, r=20, t=60, b=20),  # Add margins\n",
    "    paper_bgcolor='rgb(248, 248, 248)',   # Light gray background\n",
    "    plot_bgcolor='rgb(248, 248, 248)',    # Light gray background\n",
    ")\n",
    "\n",
    "# Show the table\n",
    "fig.show()\n"
   ]
  }
 ],
 "metadata": {
  "kernelspec": {
   "display_name": "base",
   "language": "python",
   "name": "python3"
  },
  "language_info": {
   "codemirror_mode": {
    "name": "ipython",
    "version": 3
   },
   "file_extension": ".py",
   "mimetype": "text/x-python",
   "name": "python",
   "nbconvert_exporter": "python",
   "pygments_lexer": "ipython3",
   "version": "3.12.4"
  }
 },
 "nbformat": 4,
 "nbformat_minor": 2
}
